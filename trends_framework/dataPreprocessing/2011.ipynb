{
 "cells": [
  {
   "cell_type": "code",
   "execution_count": 1,
   "metadata": {
    "ExecuteTime": {
     "end_time": "2021-11-09T19:28:11.239542Z",
     "start_time": "2021-11-09T19:28:08.997214Z"
    }
   },
   "outputs": [],
   "source": [
    "import time\n",
    "import pandas as pd\n",
    "import numpy as np\n",
    "import warnings\n",
    "from collections import Counter\n",
    "warnings.filterwarnings('ignore')\n",
    "from pandas.api.types import is_string_dtype\n",
    "from pandas.api.types import is_numeric_dtype\n",
    "pd.set_option('display.max_columns', None)"
   ]
  },
  {
   "cell_type": "markdown",
   "metadata": {},
   "source": [
    "There are many insignificant features to our work, like codes, PK, FK and out of context. \n",
    "Based on prior works and experience of especialists, will be taken off nonsense features. \n",
    "A study was carried out on the evolution and correspondence of these resources in the ENEM and Census\n",
    "data for the period 2009-2018. See (featuresOrganisaton.xls)"
   ]
  },
  {
   "cell_type": "code",
   "execution_count": 2,
   "metadata": {
    "ExecuteTime": {
     "end_time": "2021-11-09T19:28:11.267514Z",
     "start_time": "2021-11-09T19:28:11.245300Z"
    }
   },
   "outputs": [],
   "source": [
    "classmate = ['ANO_CENSO','PK_COD_ENTIDADE','PK_COD_TURMA', 'FK_COD_MOD_ENSINO', 'FK_COD_ETAPA_ENSINO', 'NUM_MATRICULAS']\n",
    "\n",
    "teacher = ['ANO_CENSO','FK_COD_DOCENTE', 'PK_COD_ENTIDADE','PK_COD_TURMA','ID_ESPECIALIZACAO','ID_MESTRADO','ID_DOUTORADO',\n",
    "          'ID_QUIMICA', 'ID_FISICA', 'ID_MATEMATICA', 'ID_BIOLOGIA', 'ID_ESTUDOS_SOCIAIS', 'ID_LINGUA_LITERAT_PORTUGUESA',\n",
    "           'ID_LINGUA_LITERAT_INGLES', 'ID_LINGUA_LITERAT_ESPANHOL', 'ID_ARTES', 'ID_EDUCACAO_FISICA', 'ID_HISTORIA',\n",
    "          'ID_GEOGRAFIA','ID_FILOSOFIA','FK_COD_AREA_OCDE_1', 'ID_LICENCIATURA_1', 'FK_COD_AREA_OCDE_2',\n",
    "           'ID_LICENCIATURA_2','FK_COD_AREA_OCDE_3', 'ID_LICENCIATURA_3']\n",
    "\n",
    "\n",
    "school = ['ANO_CENSO','PK_COD_ENTIDADE', 'FK_COD_MUNICIPIO','FK_COD_ESTADO','ID_DEPENDENCIA_ADM','ID_AGUA_INEXISTENTE',\n",
    "                  'ID_ESGOTO_INEXISTENTE','ID_ENERGIA_INEXISTENTE',\n",
    "                   'ID_LABORATORIO_INFORMATICA','ID_LABORATORIO_CIENCIAS','ID_SALA_ATENDIMENTO_ESPECIAL',\n",
    "                   'ID_BIBLIOTECA','ID_SALA_LEITURA','ID_SANITARIO_DENTRO_PREDIO',\n",
    "                   'ID_SANITARIO_PNE','NUM_SALAS_UTILIZADAS','ID_EQUIP_TV',\n",
    "                   'ID_EQUIP_DVD','ID_EQUIP_COPIADORA','ID_EQUIP_IMPRESSORA',\n",
    "                   'NUM_COMP_ALUNOS','ID_INTERNET','ID_BANDA_LARGA','NUM_FUNCIONARIOS','ID_ALIMENTACAO', \n",
    "                   'ID_REG_MEDIO_MEDIO','ID_REG_MEDIO_INTEGRADO','ID_REG_MEDIO_NORMAL', 'ID_SALA_PROFESSOR', \n",
    "                   'ID_QUADRA_ESPORTES_COBERTA','ID_QUADRA_ESPORTES_DESCOBERTA','ID_COZINHA','ID_EQUIP_PARABOLICA', 'ID_MOD_ATIV_COMPLEMENTAR']\n",
    "\n",
    "enem1 = ['NU_INSCRICAO','NU_ANO','PK_COD_ENTIDADE','IN_TP_ENSINO','IDADE','TP_SEXO','TP_COR_RACA','ST_CONCLUSAO','NU_NT_CN',\n",
    "        'NU_NT_CH','NU_NT_LC','NU_NT_MT','NU_NOTA_REDACAO','ID_DEPENDENCIA_ADM']\n",
    "\n",
    "enem2 = ['NU_INSCRICAO','Q02','Q03','Q01','Q04']\n",
    "\n",
    "enem= ['NU_ANO','PK_COD_ENTIDADE','IN_TP_ENSINO','IDADE','TP_SEXO','TP_COR_RACA','ST_CONCLUSAO','NU_NT_CN',\n",
    "        'NU_NT_CH','NU_NT_LC','NU_NT_MT','NU_NOTA_REDACAO', 'Q02','Q03','Q01','Q04'\n",
    "]\n",
    "\n",
    "\n"
   ]
  },
  {
   "cell_type": "code",
   "execution_count": 3,
   "metadata": {
    "ExecuteTime": {
     "end_time": "2021-11-09T19:29:19.542202Z",
     "start_time": "2021-11-09T19:28:11.274735Z"
    }
   },
   "outputs": [
    {
     "name": "stdout",
     "output_type": "stream",
     "text": [
      "(5366948, 18)\n"
     ]
    },
    {
     "data": {
      "text/plain": [
       "(31070, 18)"
      ]
     },
     "execution_count": 3,
     "metadata": {},
     "output_type": "execute_result"
    }
   ],
   "source": [
    "#Students of ENEM\n",
    "E1 = pd.read_csv('~/data/enem/2011/DADOS/MICRODADOS_ENEM_2011.csv', usecols = enem1)\n",
    "E2 = pd.read_csv('~/data/enem/2011/DADOS/QUESTIONARIO_ENEM_2011.csv', usecols=enem2)\n",
    "E = pd.merge(E1, E2, on = 'NU_INSCRICAO', how= \"inner\")\n",
    "print(E.shape)\n",
    "E.drop_duplicates('PK_COD_ENTIDADE').shape"
   ]
  },
  {
   "cell_type": "code",
   "execution_count": 4,
   "metadata": {
    "ExecuteTime": {
     "end_time": "2021-11-09T19:29:19.586528Z",
     "start_time": "2021-11-09T19:29:19.549393Z"
    }
   },
   "outputs": [
    {
     "data": {
      "text/plain": [
       "3867717"
      ]
     },
     "execution_count": 4,
     "metadata": {},
     "output_type": "execute_result"
    }
   ],
   "source": [
    "E.PK_COD_ENTIDADE.isnull().sum()"
   ]
  },
  {
   "cell_type": "code",
   "execution_count": 5,
   "metadata": {
    "ExecuteTime": {
     "end_time": "2021-11-09T19:29:22.114538Z",
     "start_time": "2021-11-09T19:29:19.592595Z"
    }
   },
   "outputs": [
    {
     "name": "stdout",
     "output_type": "stream",
     "text": [
      "students at public schools: 1200923\n",
      "public schools: 22274\n"
     ]
    }
   ],
   "source": [
    "#How many public schools (not included federal) are in the databases?\n",
    "mun_est = (E.ID_DEPENDENCIA_ADM==2) |(E.ID_DEPENDENCIA_ADM==3)\n",
    "print('students at public schools:',(mun_est).sum())\n",
    "print('public schools:',(E.drop_duplicates('PK_COD_ENTIDADE')[mun_est]['PK_COD_ENTIDADE'].count()))\n",
    "E.drop('ID_DEPENDENCIA_ADM', axis=1,inplace=True)\n",
    "enem1.remove('ID_DEPENDENCIA_ADM')"
   ]
  },
  {
   "cell_type": "code",
   "execution_count": 6,
   "metadata": {
    "ExecuteTime": {
     "end_time": "2021-11-09T19:29:26.327625Z",
     "start_time": "2021-11-09T19:29:22.119369Z"
    }
   },
   "outputs": [],
   "source": [
    "#School census data\n",
    "CE =    pd.read_csv(\"~/data/censo/2011/DADOS/ESCOLAS.CSV\", sep='|', encoding=\"iso-8859-2\",usecols= school)"
   ]
  },
  {
   "cell_type": "code",
   "execution_count": 7,
   "metadata": {
    "ExecuteTime": {
     "end_time": "2021-11-09T19:32:12.963939Z",
     "start_time": "2021-11-09T19:29:26.332714Z"
    }
   },
   "outputs": [],
   "source": [
    "#Teacher census data by Braazilian mesoregion\n",
    "CD_CO = pd.read_csv(\"~/data/censo/2011/DADOS/DOCENTES_CO.CSV\", sep='|', encoding=\"iso-8859-2\", usecols= teacher)\n",
    "CD_NE = pd.read_csv(\"~/data/censo/2011/DADOS/DOCENTES_NORDESTE.CSV\", sep='|', encoding=\"iso-8859-2\", usecols= teacher)\n",
    "CD_N =  pd.read_csv(\"~/data/censo/2011/DADOS/DOCENTES_NORTE.CSV\", sep='|', encoding=\"iso-8859-2\", usecols= teacher)\n",
    "CD_SE = pd.read_csv(\"~/data/censo/2011/DADOS/DOCENTES_SUDESTE.CSV\", sep='|', encoding=\"iso-8859-2\", usecols= teacher)\n",
    "CD_S =  pd.read_csv(\"~/data/censo/2011/DADOS/DOCENTES_SUL.CSV\", sep='|', encoding=\"iso-8859-2\", usecols= teacher)\n",
    "\n",
    "#All teacher census data\n",
    "CT = pd.concat([CD_CO, CD_NE, CD_N, CD_SE, CD_S])"
   ]
  },
  {
   "cell_type": "code",
   "execution_count": 8,
   "metadata": {
    "ExecuteTime": {
     "end_time": "2021-11-09T19:32:31.653877Z",
     "start_time": "2021-11-09T19:32:12.969860Z"
    }
   },
   "outputs": [],
   "source": [
    "#ClassMate census data\n",
    "CM =  pd.read_csv(\"~/data/censo/2011/DADOS/TURMAS.CSV\", sep='|', encoding=\"iso-8859-2\", usecols = classmate)"
   ]
  },
  {
   "cell_type": "code",
   "execution_count": 9,
   "metadata": {
    "ExecuteTime": {
     "end_time": "2021-11-09T19:32:35.598498Z",
     "start_time": "2021-11-09T19:32:31.663692Z"
    }
   },
   "outputs": [],
   "source": [
    "ENEM = E.copy()\n",
    "C_SCHOOL = CE.copy()\n",
    "C_TEACHER = CT.copy()\n",
    "C_CLASS = CM.copy()"
   ]
  },
  {
   "cell_type": "code",
   "execution_count": 10,
   "metadata": {
    "ExecuteTime": {
     "end_time": "2021-11-09T19:32:36.831664Z",
     "start_time": "2021-11-09T19:32:35.605487Z"
    }
   },
   "outputs": [
    {
     "name": "stdout",
     "output_type": "stream",
     "text": [
      "checking year [2011]\n",
      "checking key float64\n"
     ]
    }
   ],
   "source": [
    "#ordering\n",
    "ENEM = ENEM[enem]\n",
    "\n",
    "newNames = [\n",
    "'CO_ANO',\n",
    "'CO_ESCOLA',\n",
    "'TP_ENSINO',\n",
    "'NU_IDADE',\n",
    "'TP_SEXO',\n",
    "'TP_COR_RACA',\n",
    "'TP_ST_CONCLUSAO',\n",
    "'NU_NOTA_CN',\n",
    "'NU_NOTA_CH',\n",
    "'NU_NOTA_LC',\n",
    "'NU_NOTA_MT',\n",
    "'NU_NOTA_REDACAO',\n",
    "'EDU_PAI',\n",
    "'EDU_MAE',\n",
    "'QT_PESSOAS_CASA',\n",
    "'RENDA_MENSAL'\n",
    "]\n",
    "\n",
    "#Rename\n",
    "ENEM.columns = newNames\n",
    "\n",
    "print('checking year',ENEM.CO_ANO.unique())\n",
    "print('checking key',ENEM.CO_ESCOLA.dtypes)"
   ]
  },
  {
   "cell_type": "code",
   "execution_count": 11,
   "metadata": {
    "ExecuteTime": {
     "end_time": "2021-11-09T19:32:37.083860Z",
     "start_time": "2021-11-09T19:32:36.836565Z"
    }
   },
   "outputs": [
    {
     "name": "stdout",
     "output_type": "stream",
     "text": [
      "Checking year of censo [2011]\n",
      "checking key int64\n"
     ]
    }
   ],
   "source": [
    "C_SCHOOL = C_SCHOOL[school]\n",
    "\n",
    "newNames = ['ANO_CENSO',\n",
    "'CO_ESCOLA',\n",
    " 'CO_MUNICIPIO',\n",
    " 'CO_UF',\n",
    " 'CO_DEPENDENCIA_ADM',\n",
    " 'IN_AGUA_INEXISTENTE',\n",
    " 'IN_ESGOTO_INEXISTENTE',\n",
    " 'IN_ENERGIA_INEXISTENTE',\n",
    " 'IN_LABORATORIO_INFORMATICA',\n",
    " 'IN_LABORATORIO_CIENCIAS',\n",
    " 'IN_SALA_ATENDIMENTO_ESPECIAL',\n",
    " 'IN_BIBLIOTECA',\n",
    " 'IN_SALA_LEITURA',\n",
    " 'IN_BANHEIRO',\n",
    " 'IN_BANHEIRO_PNE',\n",
    " 'QT_SALAS_UTILIZADAS',\n",
    " 'QT_EQUIP_TV',\n",
    " 'QT_EQUIP_DVD',\n",
    " 'QT_EQUIP_COPIADORA',\n",
    " 'QT_EQUIP_IMPRESSORA',\n",
    " 'QT_COMP_ALUNO',\n",
    " 'IN_INTERNET',\n",
    " 'IN_BANDA_LARGA',\n",
    " 'QT_FUNCIONARIOS',\n",
    " 'IN_ALIMENTACAO',\n",
    " 'IN_COMUM_MEDIO_MEDIO',\n",
    " 'IN_COMUM_MEDIO_INTEGRADO',\n",
    " 'IN_COMUM_MEDIO_NORMAL', \n",
    " 'IN_SALA_PROFESSOR', \n",
    " 'IN_QUADRA_ESPORTES_COBERTA',\n",
    " 'IN_QUADRA_ESPORTES_DESCOBERTA',           \n",
    " 'IN_COZINHA',\n",
    " 'IN_EQUIP_PARABOLICA',\n",
    " 'IN_ATIV_COMPLEMENTAR',\n",
    "]\n",
    "\n",
    "#Rename \n",
    "C_SCHOOL.columns =  newNames\n",
    "\n",
    "#Adapting for all years\n",
    "C_SCHOOL.loc[((C_SCHOOL.IN_QUADRA_ESPORTES_COBERTA ==1) | (C_SCHOOL.IN_QUADRA_ESPORTES_DESCOBERTA ==1)), 'IN_QUADRA_ESPORTES'] = 1 \n",
    "C_SCHOOL.drop(['IN_QUADRA_ESPORTES_COBERTA', 'IN_QUADRA_ESPORTES_DESCOBERTA'], inplace= True, axis=1)\n",
    "\n",
    "print('Checking year of censo',C_SCHOOL.ANO_CENSO.unique())\n",
    "C_SCHOOL.drop('ANO_CENSO', axis=1, inplace=True)\n",
    "print('checking key',C_SCHOOL.CO_ESCOLA.dtypes)"
   ]
  },
  {
   "cell_type": "code",
   "execution_count": 12,
   "metadata": {
    "ExecuteTime": {
     "end_time": "2021-11-09T19:32:53.884402Z",
     "start_time": "2021-11-09T19:32:37.088400Z"
    }
   },
   "outputs": [
    {
     "name": "stdout",
     "output_type": "stream",
     "text": [
      "Checking year of censo [2011]\n",
      "checking key int64\n"
     ]
    }
   ],
   "source": [
    "C_TEACHER = C_TEACHER[teacher]\n",
    "\n",
    "# New default column names for all Datasets\n",
    "newNames = [\n",
    "'ANO_CENSO',\n",
    "'CO_PROFESSOR',\n",
    "'CO_ESCOLA',  \n",
    "'CO_TURMA',\n",
    "'IN_ESPECIALIZACAO',\n",
    "'IN_MESTRADO',\n",
    "'IN_DOUTORADO',\n",
    "'ID_QUIMICA',\n",
    "'ID_FISICA',\n",
    "'ID_MATEMATICA',\n",
    "'ID_BIOLOGIA',\n",
    "'ID_SOCIOLOGIA',\n",
    "'ID_LINGUA_LITERAT_PORTUGUESA',\n",
    "'ID_LINGUA_LITERAT_INGLES',\n",
    "'ID_LINGUA_LITERAT_ESPANHOL',\n",
    "'ID_ARTES',\n",
    "'ID_EDUCACAO_FISICA',\n",
    "'ID_HISTORIA',\n",
    "'ID_GEOGRAFIA',\n",
    "'ID_FILOSOFIA',\n",
    "'CO_AREA_OCDE_1', \n",
    "'ID_LICENCIATURA_1', \n",
    "'CO_AREA_OCDE_2',\n",
    "'ID_LICENCIATURA_2',\n",
    "'CO_AREA_OCDE_3',\n",
    "'ID_LICENCIATURA_3'\n",
    "]\n",
    "\n",
    "C_TEACHER.columns = newNames\n",
    "print('Checking year of censo',C_TEACHER.ANO_CENSO.unique())\n",
    "C_TEACHER.drop('ANO_CENSO', axis=1, inplace=True)\n",
    "print('checking key',C_TEACHER.CO_ESCOLA.dtypes)"
   ]
  },
  {
   "cell_type": "code",
   "execution_count": 13,
   "metadata": {
    "ExecuteTime": {
     "end_time": "2021-11-09T19:32:54.099014Z",
     "start_time": "2021-11-09T19:32:53.889070Z"
    }
   },
   "outputs": [
    {
     "name": "stdout",
     "output_type": "stream",
     "text": [
      "Checking year of censo [2011]\n",
      "checking key int64\n"
     ]
    }
   ],
   "source": [
    "C_CLASS = C_CLASS[classmate]\n",
    "\n",
    "newNames = [\n",
    "'ANO_CENSO',    \n",
    "'CO_ESCOLA',\n",
    "'CO_TURMA',  \n",
    "'CO_MOD_ENSINO',\n",
    "'IN_ETAPA_ENSINO',\n",
    "'QT_MATRICULAS'\n",
    "]\n",
    "\n",
    "#Rename \n",
    "C_CLASS.columns =  newNames\n",
    "\n",
    "print('Checking year of censo',C_CLASS.ANO_CENSO.unique())\n",
    "C_CLASS.drop('ANO_CENSO', axis=1, inplace=True)\n",
    "print('checking key',C_CLASS.CO_ESCOLA.dtypes)"
   ]
  },
  {
   "cell_type": "markdown",
   "metadata": {},
   "source": [
    "### Minimum Scope Definition"
   ]
  },
  {
   "cell_type": "markdown",
   "metadata": {},
   "source": [
    "ENEM  - Taking off:\n",
    "* Without School Code\n",
    "* Is not attended in regular schools, \n",
    "*  With scores zero\n",
    "*  between 17 and 19 years old (in order to take only last secodary year students)\n",
    "* Attended in schools with at least 10 students"
   ]
  },
  {
   "cell_type": "code",
   "execution_count": 14,
   "metadata": {
    "ExecuteTime": {
     "end_time": "2021-11-09T19:32:54.737116Z",
     "start_time": "2021-11-09T19:32:54.104379Z"
    }
   },
   "outputs": [],
   "source": [
    "ENEM.dropna(inplace = True, axis=0, subset = ['CO_ESCOLA'])\n"
   ]
  },
  {
   "cell_type": "code",
   "execution_count": 15,
   "metadata": {
    "ExecuteTime": {
     "end_time": "2021-11-09T19:32:54.823501Z",
     "start_time": "2021-11-09T19:32:54.741899Z"
    }
   },
   "outputs": [
    {
     "name": "stdout",
     "output_type": "stream",
     "text": [
      "1.0    1338733\n",
      "2.0     150626\n",
      "4.0       9871\n",
      "Name: TP_ENSINO, dtype: int64\n",
      "1\n"
     ]
    }
   ],
   "source": [
    "#should care about the nulls into scope filter features?\n",
    "print(ENEM['TP_ENSINO'].value_counts())\n",
    "print(ENEM['TP_ENSINO'].isnull().sum())\n",
    "#NO, IT'S LOWER"
   ]
  },
  {
   "cell_type": "code",
   "execution_count": 16,
   "metadata": {
    "ExecuteTime": {
     "end_time": "2021-11-09T19:32:55.297866Z",
     "start_time": "2021-11-09T19:32:54.828627Z"
    }
   },
   "outputs": [
    {
     "name": "stdout",
     "output_type": "stream",
     "text": [
      "drop out 160498 who not attend regular and prof approachs schools\n"
     ]
    }
   ],
   "source": [
    "print('drop out',(ENEM.TP_ENSINO!= 1).sum(), 'who not attend regular and prof approachs schools')\n",
    "ENEM = ENEM.loc[(ENEM.TP_ENSINO== 1)]\n",
    "ENEM.drop('TP_ENSINO', inplace = True, axis =1)\n"
   ]
  },
  {
   "cell_type": "code",
   "execution_count": 17,
   "metadata": {
    "ExecuteTime": {
     "end_time": "2021-11-09T19:32:55.389742Z",
     "start_time": "2021-11-09T19:32:55.303080Z"
    }
   },
   "outputs": [
    {
     "name": "stdout",
     "output_type": "stream",
     "text": [
      "null: NU_NOTA_CN 175344\n",
      "zero: NU_NOTA_CN 0\n",
      "null: NU_NOTA_CH 175344\n",
      "zero: NU_NOTA_CH 0\n",
      "null: NU_NOTA_LC 195994\n",
      "zero: NU_NOTA_LC 0\n",
      "null: NU_NOTA_MT 195994\n",
      "zero: NU_NOTA_MT 0\n",
      "null: NU_NOTA_REDACAO 0\n",
      "zero: NU_NOTA_REDACAO 248438\n"
     ]
    }
   ],
   "source": [
    "fields = (['NU_NOTA_CN', 'NU_NOTA_CH','NU_NOTA_LC','NU_NOTA_MT', 'NU_NOTA_REDACAO'])\n",
    "for i in fields:\n",
    "    print ('null:', i, ENEM[i].isnull().sum())\n",
    "    print ('zero:', i, (ENEM[i]== 0).sum())\n",
    "    \n",
    "    #, \"and\", ENEM.I==0)"
   ]
  },
  {
   "cell_type": "code",
   "execution_count": 18,
   "metadata": {
    "ExecuteTime": {
     "end_time": "2021-11-09T19:32:55.942730Z",
     "start_time": "2021-11-09T19:32:55.394736Z"
    }
   },
   "outputs": [],
   "source": [
    "ENEM.dropna(inplace = True, axis=0, subset=fields)\n",
    "ENEM = ENEM.loc[~(ENEM[fields] == 0).any(axis=1)]"
   ]
  },
  {
   "cell_type": "code",
   "execution_count": 19,
   "metadata": {
    "ExecuteTime": {
     "end_time": "2021-11-09T19:33:22.871853Z",
     "start_time": "2021-11-09T19:32:55.947679Z"
    }
   },
   "outputs": [
    {
     "name": "stdout",
     "output_type": "stream",
     "text": [
      "null 0\n",
      "taking off 135154\n"
     ]
    },
    {
     "data": {
      "text/plain": [
       "17    559498\n",
       "18    304513\n",
       "19     87846\n",
       "Name: NU_IDADE, dtype: int64"
      ]
     },
     "execution_count": 19,
     "metadata": {},
     "output_type": "execute_result"
    }
   ],
   "source": [
    "#ONLY STUDENTS AT  17 -19 YEAR OLD. WE WANT TO GET ONLY REGULAR STUDENTS THAT ARE IN LAST YEAR OF SECONDARY SCHOOL. \n",
    "#THE MICRODADOS HAVE A FIELD TO CONTROL IT. BUT IT IS NOT CONFIDENCE,DUE A TURN OUT TEAACHERS THAT EXTEND ACADEMIC YEAR\n",
    "print('null', ENEM.NU_IDADE.isnull().sum())\n",
    "ENEM.NU_IDADE = ENEM.NU_IDADE.astype('int32')\n",
    "#firts, fill NA with the mean of student school\n",
    "ENEM.NU_IDADE = ENEM.groupby(ENEM['CO_ESCOLA'])['NU_IDADE'].apply(lambda x: x.fillna(round(x.mean())))\n",
    "print('taking off',((ENEM.NU_IDADE <17)|(ENEM.NU_IDADE>19)).sum())\n",
    "ENEM = ENEM.loc[(ENEM.NU_IDADE >16) &  (ENEM.NU_IDADE<20)]\n",
    "ENEM.NU_IDADE.value_counts()"
   ]
  },
  {
   "cell_type": "code",
   "execution_count": 20,
   "metadata": {
    "ExecuteTime": {
     "end_time": "2021-11-09T19:33:23.466038Z",
     "start_time": "2021-11-09T19:33:22.876529Z"
    }
   },
   "outputs": [
    {
     "data": {
      "text/html": [
       "<div>\n",
       "<style scoped>\n",
       "    .dataframe tbody tr th:only-of-type {\n",
       "        vertical-align: middle;\n",
       "    }\n",
       "\n",
       "    .dataframe tbody tr th {\n",
       "        vertical-align: top;\n",
       "    }\n",
       "\n",
       "    .dataframe thead th {\n",
       "        text-align: right;\n",
       "    }\n",
       "</style>\n",
       "<table border=\"1\" class=\"dataframe\">\n",
       "  <thead>\n",
       "    <tr style=\"text-align: right;\">\n",
       "      <th></th>\n",
       "      <th>NU_NOTA_CN</th>\n",
       "      <th>NU_NOTA_CH</th>\n",
       "      <th>NU_NOTA_LC</th>\n",
       "      <th>NU_NOTA_MT</th>\n",
       "      <th>NU_NOTA_REDACAO</th>\n",
       "    </tr>\n",
       "  </thead>\n",
       "  <tbody>\n",
       "    <tr>\n",
       "      <th>count</th>\n",
       "      <td>951857.000000</td>\n",
       "      <td>951857.000000</td>\n",
       "      <td>951857.000000</td>\n",
       "      <td>951857.000000</td>\n",
       "      <td>951857.000000</td>\n",
       "    </tr>\n",
       "    <tr>\n",
       "      <th>mean</th>\n",
       "      <td>472.922855</td>\n",
       "      <td>480.129782</td>\n",
       "      <td>527.131950</td>\n",
       "      <td>531.099226</td>\n",
       "      <td>556.679180</td>\n",
       "    </tr>\n",
       "    <tr>\n",
       "      <th>std</th>\n",
       "      <td>85.790685</td>\n",
       "      <td>80.651046</td>\n",
       "      <td>72.939292</td>\n",
       "      <td>119.239856</td>\n",
       "      <td>142.503534</td>\n",
       "    </tr>\n",
       "    <tr>\n",
       "      <th>min</th>\n",
       "      <td>269.000000</td>\n",
       "      <td>252.900000</td>\n",
       "      <td>301.200000</td>\n",
       "      <td>321.600000</td>\n",
       "      <td>40.000000</td>\n",
       "    </tr>\n",
       "    <tr>\n",
       "      <th>25%</th>\n",
       "      <td>411.200000</td>\n",
       "      <td>422.900000</td>\n",
       "      <td>481.100000</td>\n",
       "      <td>432.500000</td>\n",
       "      <td>460.000000</td>\n",
       "    </tr>\n",
       "    <tr>\n",
       "      <th>50%</th>\n",
       "      <td>469.600000</td>\n",
       "      <td>481.000000</td>\n",
       "      <td>532.600000</td>\n",
       "      <td>520.800000</td>\n",
       "      <td>560.000000</td>\n",
       "    </tr>\n",
       "    <tr>\n",
       "      <th>75%</th>\n",
       "      <td>529.700000</td>\n",
       "      <td>535.700000</td>\n",
       "      <td>577.800000</td>\n",
       "      <td>615.300000</td>\n",
       "      <td>640.000000</td>\n",
       "    </tr>\n",
       "    <tr>\n",
       "      <th>max</th>\n",
       "      <td>867.200000</td>\n",
       "      <td>793.100000</td>\n",
       "      <td>795.500000</td>\n",
       "      <td>953.000000</td>\n",
       "      <td>1000.000000</td>\n",
       "    </tr>\n",
       "  </tbody>\n",
       "</table>\n",
       "</div>"
      ],
      "text/plain": [
       "          NU_NOTA_CN     NU_NOTA_CH     NU_NOTA_LC     NU_NOTA_MT  \\\n",
       "count  951857.000000  951857.000000  951857.000000  951857.000000   \n",
       "mean      472.922855     480.129782     527.131950     531.099226   \n",
       "std        85.790685      80.651046      72.939292     119.239856   \n",
       "min       269.000000     252.900000     301.200000     321.600000   \n",
       "25%       411.200000     422.900000     481.100000     432.500000   \n",
       "50%       469.600000     481.000000     532.600000     520.800000   \n",
       "75%       529.700000     535.700000     577.800000     615.300000   \n",
       "max       867.200000     793.100000     795.500000     953.000000   \n",
       "\n",
       "       NU_NOTA_REDACAO  \n",
       "count    951857.000000  \n",
       "mean        556.679180  \n",
       "std         142.503534  \n",
       "min          40.000000  \n",
       "25%         460.000000  \n",
       "50%         560.000000  \n",
       "75%         640.000000  \n",
       "max        1000.000000  "
      ]
     },
     "execution_count": 20,
     "metadata": {},
     "output_type": "execute_result"
    }
   ],
   "source": [
    "ENEM[fields].describe()"
   ]
  },
  {
   "cell_type": "code",
   "execution_count": 21,
   "metadata": {
    "ExecuteTime": {
     "end_time": "2021-11-09T19:33:23.861350Z",
     "start_time": "2021-11-09T19:33:23.471408Z"
    }
   },
   "outputs": [
    {
     "name": "stdout",
     "output_type": "stream",
     "text": [
      "taking off 30158 students of 6974 schools\n"
     ]
    }
   ],
   "source": [
    "#Only schools with at least 10 students \n",
    "filter = ENEM.loc[ENEM.groupby('CO_ESCOLA')['CO_ESCOLA'].transform('count')<=9]\n",
    "print('taking off',filter.shape[0], 'students of', filter.drop_duplicates('CO_ESCOLA').shape[0], 'schools')\n",
    "ENEM = ENEM.loc[~ENEM.CO_ESCOLA.isin(filter.CO_ESCOLA)]"
   ]
  },
  {
   "cell_type": "markdown",
   "metadata": {},
   "source": [
    "#### Classes - Applying the same filter of ENEM (regular class, last year), since is impossible merge these datasets on student grain. This way, I'm trying to take only classes informations from the same students at ENEM"
   ]
  },
  {
   "cell_type": "code",
   "execution_count": 22,
   "metadata": {
    "ExecuteTime": {
     "end_time": "2021-11-09T19:33:24.053606Z",
     "start_time": "2021-11-09T19:33:23.866104Z"
    }
   },
   "outputs": [
    {
     "data": {
      "text/plain": [
       "74869"
      ]
     },
     "execution_count": 22,
     "metadata": {},
     "output_type": "execute_result"
    }
   ],
   "source": [
    "#Classes on Census \n",
    "#Only regular classes\n",
    "C_CLASS = C_CLASS.loc[C_CLASS['CO_MOD_ENSINO']==1]\n",
    "#Only third year of secondary school\n",
    "step_class = [27,28,32,33,37,38] # \n",
    "C_CLASS = C_CLASS.loc[C_CLASS['IN_ETAPA_ENSINO'].isin(step_class)]\n",
    "C_CLASS.shape[0]"
   ]
  },
  {
   "cell_type": "markdown",
   "metadata": {},
   "source": [
    "### Treatment"
   ]
  },
  {
   "cell_type": "markdown",
   "metadata": {},
   "source": [
    "ENEM"
   ]
  },
  {
   "cell_type": "code",
   "execution_count": 23,
   "metadata": {
    "ExecuteTime": {
     "end_time": "2021-11-09T19:33:24.455600Z",
     "start_time": "2021-11-09T19:33:24.059283Z"
    }
   },
   "outputs": [
    {
     "data": {
      "text/plain": [
       "TP_SEXO            0\n",
       "TP_COR_RACA        0\n",
       "EDU_PAI            0\n",
       "EDU_MAE            0\n",
       "QT_PESSOAS_CASA    0\n",
       "RENDA_MENSAL       0\n",
       "dtype: int64"
      ]
     },
     "execution_count": 23,
     "metadata": {},
     "output_type": "execute_result"
    }
   ],
   "source": [
    "fields = ['TP_SEXO', 'TP_COR_RACA', 'EDU_PAI', 'EDU_MAE','QT_PESSOAS_CASA', 'RENDA_MENSAL']\n",
    "ENEM[fields].isnull().sum()"
   ]
  },
  {
   "cell_type": "code",
   "execution_count": 24,
   "metadata": {
    "ExecuteTime": {
     "end_time": "2021-11-09T19:33:25.267845Z",
     "start_time": "2021-11-09T19:33:24.460374Z"
    }
   },
   "outputs": [
    {
     "name": "stdout",
     "output_type": "stream",
     "text": [
      "TP_SEXO Int64Index([1, 0], dtype='int64')\n",
      "TP_COR_RACA Float64Index([1.0, 3.0, 2.0, 0.0, 4.0, 5.0], dtype='float64')\n",
      "EDU_PAI Index(['E', 'B', 'C', 'G', 'I', 'D', 'F', 'H', 'A'], dtype='object')\n",
      "EDU_MAE Index(['E', 'C', 'B', 'G', 'D', 'H', 'F', 'I', 'A'], dtype='object')\n",
      "QT_PESSOAS_CASA Int64Index([4, 5, 3, 6, 2, 7, 8, 9, 1, 10, 11, 12, 20, 13, 14, 15, 16, 17, 18,\n",
      "            19],\n",
      "           dtype='int64')\n",
      "RENDA_MENSAL Index(['D', 'C', 'B', 'E', 'F', 'G', 'H', 'J', 'I', 'A', 'K'], dtype='object')\n"
     ]
    }
   ],
   "source": [
    "for i in fields:\n",
    "    print(i,ENEM[i].value_counts().index)"
   ]
  },
  {
   "cell_type": "code",
   "execution_count": 25,
   "metadata": {
    "ExecuteTime": {
     "end_time": "2021-11-09T19:33:25.787278Z",
     "start_time": "2021-11-09T19:33:25.272284Z"
    }
   },
   "outputs": [],
   "source": [
    "#Order relation, is better for numeric categories.\n",
    "categorical = ['EDU_PAI', 'EDU_MAE', 'RENDA_MENSAL']\n",
    "for i in categorical:\n",
    "    codes, uniques = pd.factorize(ENEM[i], sort=True)\n",
    "    ENEM[i] = codes\n",
    "    "
   ]
  },
  {
   "cell_type": "code",
   "execution_count": 26,
   "metadata": {
    "ExecuteTime": {
     "end_time": "2021-11-09T19:33:26.564828Z",
     "start_time": "2021-11-09T19:33:25.793277Z"
    }
   },
   "outputs": [],
   "source": [
    "# Paring with default categories\n",
    "\n",
    "ENEM.loc[ENEM['EDU_PAI']==0, 'EDU_PAI_TEMP']=0\n",
    "ENEM.loc[ENEM['EDU_PAI']==1, 'EDU_PAI_TEMP']=1\n",
    "ENEM.loc[ENEM['EDU_PAI']==2, 'EDU_PAI_TEMP']=2\n",
    "ENEM.loc[ENEM['EDU_PAI']==3, 'EDU_PAI_TEMP']=2\n",
    "ENEM.loc[ENEM['EDU_PAI']==4, 'EDU_PAI_TEMP']=3\n",
    "ENEM.loc[ENEM['EDU_PAI']==5, 'EDU_PAI_TEMP']=3\n",
    "ENEM.loc[ENEM['EDU_PAI']==6, 'EDU_PAI_TEMP']=4\n",
    "ENEM.loc[ENEM['EDU_PAI']==7, 'EDU_PAI_TEMP']=5\n",
    "ENEM.loc[ENEM['EDU_PAI']==8, 'EDU_PAI_TEMP']=0\n",
    "\n",
    "\n",
    "ENEM.loc[ENEM['EDU_MAE']==0, 'EDU_MAE_TEMP']=0\n",
    "ENEM.loc[ENEM['EDU_MAE']==1, 'EDU_MAE_TEMP']=1\n",
    "ENEM.loc[ENEM['EDU_MAE']==2, 'EDU_MAE_TEMP']=2\n",
    "ENEM.loc[ENEM['EDU_MAE']==3, 'EDU_MAE_TEMP']=2\n",
    "ENEM.loc[ENEM['EDU_MAE']==4, 'EDU_MAE_TEMP']=3\n",
    "ENEM.loc[ENEM['EDU_MAE']==5, 'EDU_MAE_TEMP']=3\n",
    "ENEM.loc[ENEM['EDU_MAE']==6, 'EDU_MAE_TEMP']=4\n",
    "ENEM.loc[ENEM['EDU_MAE']==7, 'EDU_MAE_TEMP']=5\n",
    "ENEM.loc[ENEM['EDU_MAE']==8, 'EDU_MAE_TEMP']=0\n",
    "\n",
    "\n",
    "ENEM.loc[ENEM['QT_PESSOAS_CASA']==1, 'QT_PESSOAS_CASA_TEMP']=0\n",
    "ENEM.loc[ENEM['QT_PESSOAS_CASA']==2, 'QT_PESSOAS_CASA_TEMP']=1\n",
    "ENEM.loc[ENEM['QT_PESSOAS_CASA']==3, 'QT_PESSOAS_CASA_TEMP']=1\n",
    "ENEM.loc[ENEM['QT_PESSOAS_CASA']==4, 'QT_PESSOAS_CASA_TEMP']=2\n",
    "ENEM.loc[ENEM['QT_PESSOAS_CASA']==5, 'QT_PESSOAS_CASA_TEMP']=2\n",
    "ENEM.loc[ENEM['QT_PESSOAS_CASA']==6, 'QT_PESSOAS_CASA_TEMP']=2\n",
    "ENEM.loc[ENEM['QT_PESSOAS_CASA']==7, 'QT_PESSOAS_CASA_TEMP']=2\n",
    "ENEM.loc[ENEM['QT_PESSOAS_CASA']>7, 'QT_PESSOAS_CASA_TEMP']=3\n",
    "\n",
    "\n",
    "\n",
    "\n",
    "ENEM.loc[ENEM['RENDA_MENSAL']==0, 'RENDA_MENSAL_TEMP']=0\n",
    "ENEM.loc[ENEM['RENDA_MENSAL']==1, 'RENDA_MENSAL_TEMP']=1\n",
    "ENEM.loc[ENEM['RENDA_MENSAL']==2, 'RENDA_MENSAL_TEMP']=2\n",
    "ENEM.loc[ENEM['RENDA_MENSAL']==3, 'RENDA_MENSAL_TEMP']=2\n",
    "ENEM.loc[ENEM['RENDA_MENSAL']==4, 'RENDA_MENSAL_TEMP']=3\n",
    "ENEM.loc[ENEM['RENDA_MENSAL']==5, 'RENDA_MENSAL_TEMP']=4\n",
    "ENEM.loc[ENEM['RENDA_MENSAL']==6, 'RENDA_MENSAL_TEMP']=4\n",
    "ENEM.loc[ENEM['RENDA_MENSAL']>6, 'RENDA_MENSAL_TEMP']=5\n",
    "\n",
    "ENEM.loc[ENEM['TP_SEXO']==1, 'TP_SEXO_TEMP']=0\n",
    "ENEM.loc[ENEM['TP_SEXO']==0, 'TP_SEXO_TEMP']=1\n"
   ]
  },
  {
   "cell_type": "code",
   "execution_count": 27,
   "metadata": {
    "ExecuteTime": {
     "end_time": "2021-11-09T19:33:26.632557Z",
     "start_time": "2021-11-09T19:33:26.579819Z"
    }
   },
   "outputs": [],
   "source": [
    "#back to original columns\n",
    "ENEM['EDU_PAI'] = ENEM['EDU_PAI_TEMP']\n",
    "ENEM['EDU_MAE'] = ENEM['EDU_MAE_TEMP']\n",
    "ENEM['QT_PESSOAS_CASA'] = ENEM['QT_PESSOAS_CASA_TEMP']\n",
    "ENEM['RENDA_MENSAL'] = ENEM['RENDA_MENSAL_TEMP']\n",
    "ENEM['TP_SEXO'] = ENEM['TP_SEXO_TEMP']\n",
    "\n"
   ]
  },
  {
   "cell_type": "code",
   "execution_count": 28,
   "metadata": {
    "ExecuteTime": {
     "end_time": "2021-11-09T19:33:26.910908Z",
     "start_time": "2021-11-09T19:33:26.640023Z"
    }
   },
   "outputs": [],
   "source": [
    "#drop temps\n",
    "\n",
    "ENEM.drop(['EDU_PAI_TEMP', 'EDU_MAE_TEMP', 'QT_PESSOAS_CASA_TEMP','RENDA_MENSAL_TEMP', 'TP_SEXO_TEMP'], axis=1, inplace=True)"
   ]
  },
  {
   "cell_type": "code",
   "execution_count": 29,
   "metadata": {
    "ExecuteTime": {
     "end_time": "2021-11-09T19:33:26.926999Z",
     "start_time": "2021-11-09T19:33:26.916228Z"
    }
   },
   "outputs": [
    {
     "name": "stdout",
     "output_type": "stream",
     "text": [
      "total students considered: 921699\n"
     ]
    }
   ],
   "source": [
    "print('total students considered:',ENEM.shape[0])\n"
   ]
  },
  {
   "cell_type": "markdown",
   "metadata": {},
   "source": [
    "CENSUS - SCHOOL"
   ]
  },
  {
   "cell_type": "code",
   "execution_count": 30,
   "metadata": {
    "ExecuteTime": {
     "end_time": "2021-11-09T19:33:27.517948Z",
     "start_time": "2021-11-09T19:33:26.932130Z"
    }
   },
   "outputs": [
    {
     "data": {
      "text/html": [
       "<div>\n",
       "<style scoped>\n",
       "    .dataframe tbody tr th:only-of-type {\n",
       "        vertical-align: middle;\n",
       "    }\n",
       "\n",
       "    .dataframe tbody tr th {\n",
       "        vertical-align: top;\n",
       "    }\n",
       "\n",
       "    .dataframe thead th {\n",
       "        text-align: right;\n",
       "    }\n",
       "</style>\n",
       "<table border=\"1\" class=\"dataframe\">\n",
       "  <thead>\n",
       "    <tr style=\"text-align: right;\">\n",
       "      <th></th>\n",
       "      <th>CO_ESCOLA</th>\n",
       "      <th>CO_MUNICIPIO</th>\n",
       "      <th>CO_UF</th>\n",
       "      <th>CO_DEPENDENCIA_ADM</th>\n",
       "      <th>IN_AGUA_INEXISTENTE</th>\n",
       "      <th>IN_ESGOTO_INEXISTENTE</th>\n",
       "      <th>IN_ENERGIA_INEXISTENTE</th>\n",
       "      <th>IN_LABORATORIO_INFORMATICA</th>\n",
       "      <th>IN_LABORATORIO_CIENCIAS</th>\n",
       "      <th>IN_SALA_ATENDIMENTO_ESPECIAL</th>\n",
       "      <th>IN_BIBLIOTECA</th>\n",
       "      <th>IN_SALA_LEITURA</th>\n",
       "      <th>IN_BANHEIRO</th>\n",
       "      <th>IN_BANHEIRO_PNE</th>\n",
       "      <th>QT_SALAS_UTILIZADAS</th>\n",
       "      <th>QT_EQUIP_TV</th>\n",
       "      <th>QT_EQUIP_DVD</th>\n",
       "      <th>QT_EQUIP_COPIADORA</th>\n",
       "      <th>QT_EQUIP_IMPRESSORA</th>\n",
       "      <th>QT_COMP_ALUNO</th>\n",
       "      <th>IN_INTERNET</th>\n",
       "      <th>IN_BANDA_LARGA</th>\n",
       "      <th>QT_FUNCIONARIOS</th>\n",
       "      <th>IN_ALIMENTACAO</th>\n",
       "      <th>IN_COMUM_MEDIO_MEDIO</th>\n",
       "      <th>IN_COMUM_MEDIO_INTEGRADO</th>\n",
       "      <th>IN_COMUM_MEDIO_NORMAL</th>\n",
       "      <th>IN_SALA_PROFESSOR</th>\n",
       "      <th>IN_COZINHA</th>\n",
       "      <th>IN_EQUIP_PARABOLICA</th>\n",
       "      <th>IN_ATIV_COMPLEMENTAR</th>\n",
       "      <th>IN_QUADRA_ESPORTES</th>\n",
       "    </tr>\n",
       "  </thead>\n",
       "  <tbody>\n",
       "    <tr>\n",
       "      <th>0</th>\n",
       "      <td>0</td>\n",
       "      <td>0</td>\n",
       "      <td>0</td>\n",
       "      <td>0</td>\n",
       "      <td>0</td>\n",
       "      <td>0</td>\n",
       "      <td>0</td>\n",
       "      <td>0</td>\n",
       "      <td>0</td>\n",
       "      <td>0</td>\n",
       "      <td>0</td>\n",
       "      <td>0</td>\n",
       "      <td>0</td>\n",
       "      <td>0</td>\n",
       "      <td>0</td>\n",
       "      <td>0</td>\n",
       "      <td>0</td>\n",
       "      <td>0</td>\n",
       "      <td>0</td>\n",
       "      <td>988</td>\n",
       "      <td>89</td>\n",
       "      <td>533</td>\n",
       "      <td>0</td>\n",
       "      <td>0</td>\n",
       "      <td>0</td>\n",
       "      <td>0</td>\n",
       "      <td>0</td>\n",
       "      <td>0</td>\n",
       "      <td>0</td>\n",
       "      <td>0</td>\n",
       "      <td>0</td>\n",
       "      <td>4457</td>\n",
       "    </tr>\n",
       "  </tbody>\n",
       "</table>\n",
       "</div>"
      ],
      "text/plain": [
       "   CO_ESCOLA  CO_MUNICIPIO  CO_UF  CO_DEPENDENCIA_ADM  IN_AGUA_INEXISTENTE  \\\n",
       "0          0             0      0                   0                    0   \n",
       "\n",
       "   IN_ESGOTO_INEXISTENTE  IN_ENERGIA_INEXISTENTE  IN_LABORATORIO_INFORMATICA  \\\n",
       "0                      0                       0                           0   \n",
       "\n",
       "   IN_LABORATORIO_CIENCIAS  IN_SALA_ATENDIMENTO_ESPECIAL  IN_BIBLIOTECA  \\\n",
       "0                        0                             0              0   \n",
       "\n",
       "   IN_SALA_LEITURA  IN_BANHEIRO  IN_BANHEIRO_PNE  QT_SALAS_UTILIZADAS  \\\n",
       "0                0            0                0                    0   \n",
       "\n",
       "   QT_EQUIP_TV  QT_EQUIP_DVD  QT_EQUIP_COPIADORA  QT_EQUIP_IMPRESSORA  \\\n",
       "0            0             0                   0                    0   \n",
       "\n",
       "   QT_COMP_ALUNO  IN_INTERNET  IN_BANDA_LARGA  QT_FUNCIONARIOS  \\\n",
       "0            988           89             533                0   \n",
       "\n",
       "   IN_ALIMENTACAO  IN_COMUM_MEDIO_MEDIO  IN_COMUM_MEDIO_INTEGRADO  \\\n",
       "0               0                     0                         0   \n",
       "\n",
       "   IN_COMUM_MEDIO_NORMAL  IN_SALA_PROFESSOR  IN_COZINHA  IN_EQUIP_PARABOLICA  \\\n",
       "0                      0                  0           0                    0   \n",
       "\n",
       "   IN_ATIV_COMPLEMENTAR  IN_QUADRA_ESPORTES  \n",
       "0                     0                4457  "
      ]
     },
     "execution_count": 30,
     "metadata": {},
     "output_type": "execute_result"
    }
   ],
   "source": [
    "#Taking only schools present at ALL DATABASES\n",
    "C_SCHOOL = C_SCHOOL.loc[(C_SCHOOL.CO_ESCOLA.isin(ENEM.CO_ESCOLA)) & (C_SCHOOL.CO_ESCOLA.isin(C_CLASS.CO_ESCOLA)) &\n",
    "                                                        (C_SCHOOL.CO_ESCOLA.isin(C_TEACHER.CO_ESCOLA))]\n",
    "C_SCHOOL.isnull().sum().to_frame().T"
   ]
  },
  {
   "cell_type": "code",
   "execution_count": 31,
   "metadata": {
    "ExecuteTime": {
     "end_time": "2021-11-09T19:33:27.721174Z",
     "start_time": "2021-11-09T19:33:27.523726Z"
    },
    "scrolled": true
   },
   "outputs": [],
   "source": [
    "# IN = Mode\n",
    "# QT - Mean\n",
    "QT = C_SCHOOL.filter(regex=(\"^QT_*\")).columns\n",
    "IN = C_SCHOOL.filter(regex=(\"^IN_*\")).columns\n",
    "\n",
    "for i in IN:\n",
    "    C_SCHOOL[i].fillna(C_SCHOOL[i].mean(), inplace = True)\n",
    "for i in QT:\n",
    "    C_SCHOOL[i].fillna(Counter(C_SCHOOL[i]).most_common()[0][0], inplace = True)\n"
   ]
  },
  {
   "cell_type": "code",
   "execution_count": 32,
   "metadata": {
    "ExecuteTime": {
     "end_time": "2021-11-09T19:33:27.738344Z",
     "start_time": "2021-11-09T19:33:27.726455Z"
    }
   },
   "outputs": [
    {
     "name": "stdout",
     "output_type": "stream",
     "text": [
      "total schools considered: 19590\n"
     ]
    }
   ],
   "source": [
    "print('total schools considered:',C_SCHOOL.shape[0])"
   ]
  },
  {
   "cell_type": "markdown",
   "metadata": {},
   "source": [
    "CENSUS - CLASS"
   ]
  },
  {
   "cell_type": "code",
   "execution_count": 33,
   "metadata": {
    "ExecuteTime": {
     "end_time": "2021-11-09T19:33:27.780490Z",
     "start_time": "2021-11-09T19:33:27.743582Z"
    }
   },
   "outputs": [
    {
     "data": {
      "text/html": [
       "<div>\n",
       "<style scoped>\n",
       "    .dataframe tbody tr th:only-of-type {\n",
       "        vertical-align: middle;\n",
       "    }\n",
       "\n",
       "    .dataframe tbody tr th {\n",
       "        vertical-align: top;\n",
       "    }\n",
       "\n",
       "    .dataframe thead th {\n",
       "        text-align: right;\n",
       "    }\n",
       "</style>\n",
       "<table border=\"1\" class=\"dataframe\">\n",
       "  <thead>\n",
       "    <tr style=\"text-align: right;\">\n",
       "      <th></th>\n",
       "      <th>CO_ESCOLA</th>\n",
       "      <th>CO_TURMA</th>\n",
       "      <th>CO_MOD_ENSINO</th>\n",
       "      <th>IN_ETAPA_ENSINO</th>\n",
       "      <th>QT_MATRICULAS</th>\n",
       "    </tr>\n",
       "  </thead>\n",
       "  <tbody>\n",
       "    <tr>\n",
       "      <th>0</th>\n",
       "      <td>0</td>\n",
       "      <td>0</td>\n",
       "      <td>0</td>\n",
       "      <td>0</td>\n",
       "      <td>0</td>\n",
       "    </tr>\n",
       "  </tbody>\n",
       "</table>\n",
       "</div>"
      ],
      "text/plain": [
       "   CO_ESCOLA  CO_TURMA  CO_MOD_ENSINO  IN_ETAPA_ENSINO  QT_MATRICULAS\n",
       "0          0         0              0                0              0"
      ]
     },
     "execution_count": 33,
     "metadata": {},
     "output_type": "execute_result"
    }
   ],
   "source": [
    "C_CLASS = C_CLASS.loc[(C_CLASS.CO_ESCOLA.isin(C_SCHOOL.CO_ESCOLA))]\n",
    "C_CLASS.isnull().sum().to_frame().T"
   ]
  },
  {
   "cell_type": "markdown",
   "metadata": {
    "ExecuteTime": {
     "end_time": "2020-05-04T14:55:59.997127Z",
     "start_time": "2020-05-04T14:55:59.925792Z"
    }
   },
   "source": [
    "CENSUS - TEACHER"
   ]
  },
  {
   "cell_type": "code",
   "execution_count": 34,
   "metadata": {
    "ExecuteTime": {
     "end_time": "2021-11-09T19:33:33.741106Z",
     "start_time": "2021-11-09T19:33:27.785005Z"
    }
   },
   "outputs": [
    {
     "data": {
      "text/html": [
       "<div>\n",
       "<style scoped>\n",
       "    .dataframe tbody tr th:only-of-type {\n",
       "        vertical-align: middle;\n",
       "    }\n",
       "\n",
       "    .dataframe tbody tr th {\n",
       "        vertical-align: top;\n",
       "    }\n",
       "\n",
       "    .dataframe thead th {\n",
       "        text-align: right;\n",
       "    }\n",
       "</style>\n",
       "<table border=\"1\" class=\"dataframe\">\n",
       "  <thead>\n",
       "    <tr style=\"text-align: right;\">\n",
       "      <th></th>\n",
       "      <th>CO_PROFESSOR</th>\n",
       "      <th>CO_ESCOLA</th>\n",
       "      <th>CO_TURMA</th>\n",
       "      <th>IN_ESPECIALIZACAO</th>\n",
       "      <th>IN_MESTRADO</th>\n",
       "      <th>IN_DOUTORADO</th>\n",
       "      <th>ID_QUIMICA</th>\n",
       "      <th>ID_FISICA</th>\n",
       "      <th>ID_MATEMATICA</th>\n",
       "      <th>ID_BIOLOGIA</th>\n",
       "      <th>ID_SOCIOLOGIA</th>\n",
       "      <th>ID_LINGUA_LITERAT_PORTUGUESA</th>\n",
       "      <th>ID_LINGUA_LITERAT_INGLES</th>\n",
       "      <th>ID_LINGUA_LITERAT_ESPANHOL</th>\n",
       "      <th>ID_ARTES</th>\n",
       "      <th>ID_EDUCACAO_FISICA</th>\n",
       "      <th>ID_HISTORIA</th>\n",
       "      <th>ID_GEOGRAFIA</th>\n",
       "      <th>ID_FILOSOFIA</th>\n",
       "      <th>CO_AREA_OCDE_1</th>\n",
       "      <th>ID_LICENCIATURA_1</th>\n",
       "      <th>CO_AREA_OCDE_2</th>\n",
       "      <th>ID_LICENCIATURA_2</th>\n",
       "      <th>CO_AREA_OCDE_3</th>\n",
       "      <th>ID_LICENCIATURA_3</th>\n",
       "    </tr>\n",
       "  </thead>\n",
       "  <tbody>\n",
       "    <tr>\n",
       "      <th>0</th>\n",
       "      <td>0</td>\n",
       "      <td>0</td>\n",
       "      <td>0</td>\n",
       "      <td>0</td>\n",
       "      <td>0</td>\n",
       "      <td>0</td>\n",
       "      <td>0</td>\n",
       "      <td>0</td>\n",
       "      <td>0</td>\n",
       "      <td>0</td>\n",
       "      <td>0</td>\n",
       "      <td>0</td>\n",
       "      <td>0</td>\n",
       "      <td>0</td>\n",
       "      <td>0</td>\n",
       "      <td>0</td>\n",
       "      <td>0</td>\n",
       "      <td>0</td>\n",
       "      <td>0</td>\n",
       "      <td>64536</td>\n",
       "      <td>64536</td>\n",
       "      <td>738383</td>\n",
       "      <td>738383</td>\n",
       "      <td>782274</td>\n",
       "      <td>782274</td>\n",
       "    </tr>\n",
       "  </tbody>\n",
       "</table>\n",
       "</div>"
      ],
      "text/plain": [
       "   CO_PROFESSOR  CO_ESCOLA  CO_TURMA  IN_ESPECIALIZACAO  IN_MESTRADO  \\\n",
       "0             0          0         0                  0            0   \n",
       "\n",
       "   IN_DOUTORADO  ID_QUIMICA  ID_FISICA  ID_MATEMATICA  ID_BIOLOGIA  \\\n",
       "0             0           0          0              0            0   \n",
       "\n",
       "   ID_SOCIOLOGIA  ID_LINGUA_LITERAT_PORTUGUESA  ID_LINGUA_LITERAT_INGLES  \\\n",
       "0              0                             0                         0   \n",
       "\n",
       "   ID_LINGUA_LITERAT_ESPANHOL  ID_ARTES  ID_EDUCACAO_FISICA  ID_HISTORIA  \\\n",
       "0                           0         0                   0            0   \n",
       "\n",
       "   ID_GEOGRAFIA  ID_FILOSOFIA  CO_AREA_OCDE_1  ID_LICENCIATURA_1  \\\n",
       "0             0             0           64536              64536   \n",
       "\n",
       "   CO_AREA_OCDE_2  ID_LICENCIATURA_2  CO_AREA_OCDE_3  ID_LICENCIATURA_3  \n",
       "0          738383             738383          782274             782274  "
      ]
     },
     "execution_count": 34,
     "metadata": {},
     "output_type": "execute_result"
    }
   ],
   "source": [
    "C_TEACHER = C_TEACHER.drop_duplicates(['CO_PROFESSOR', 'CO_ESCOLA']) # We have multiple teachers for school due classes. It is importante just one record\n",
    "C_TEACHER = C_TEACHER.loc[(C_TEACHER.CO_ESCOLA.isin(C_SCHOOL.CO_ESCOLA))]\n",
    "C_TEACHER.isnull().sum().to_frame().T"
   ]
  },
  {
   "cell_type": "code",
   "execution_count": 35,
   "metadata": {
    "ExecuteTime": {
     "end_time": "2021-11-09T19:33:33.761464Z",
     "start_time": "2021-11-09T19:33:33.746550Z"
    }
   },
   "outputs": [
    {
     "name": "stdout",
     "output_type": "stream",
     "text": [
      "total teachers considered: 786199\n"
     ]
    }
   ],
   "source": [
    "C_TEACHER.fillna({'IN_ESPECIALIZACAO':0, 'IN_MESTRADO':0, 'IN_DOUTORADO':0}, inplace =True)\n",
    "print('total teachers considered:',C_TEACHER.shape[0])"
   ]
  },
  {
   "cell_type": "markdown",
   "metadata": {},
   "source": [
    "### New Features"
   ]
  },
  {
   "cell_type": "markdown",
   "metadata": {},
   "source": [
    "ENEM"
   ]
  },
  {
   "cell_type": "code",
   "execution_count": 36,
   "metadata": {
    "ExecuteTime": {
     "end_time": "2021-11-09T19:33:33.807965Z",
     "start_time": "2021-11-09T19:33:33.766385Z"
    }
   },
   "outputs": [],
   "source": [
    "#Final Media\n",
    "ENEM['NU_NOTA_GERAL'] = (ENEM.NU_NOTA_CN + ENEM.NU_NOTA_CH + ENEM.NU_NOTA_LC + ENEM.NU_NOTA_MT + ENEM.NU_NOTA_REDACAO)/5"
   ]
  },
  {
   "cell_type": "markdown",
   "metadata": {},
   "source": [
    "TEACHER CENSUS"
   ]
  },
  {
   "cell_type": "code",
   "execution_count": 37,
   "metadata": {
    "ExecuteTime": {
     "end_time": "2021-11-09T19:33:34.440610Z",
     "start_time": "2021-11-09T19:33:33.813261Z"
    }
   },
   "outputs": [],
   "source": [
    "C_TEACHER['TITULACAO'] = 0\n",
    "\n",
    "C_TEACHER.loc[(C_TEACHER.IN_ESPECIALIZACAO==0.0) & (C_TEACHER.IN_MESTRADO==0.0)& \n",
    "             (C_TEACHER.IN_DOUTORADO ==0.0), 'TITULACAO'] = 0\n",
    "\n",
    "C_TEACHER.loc[(C_TEACHER.IN_ESPECIALIZACAO==1.0) & (C_TEACHER.IN_MESTRADO==0.0)& \n",
    "             (C_TEACHER.IN_DOUTORADO ==0.0), 'TITULACAO'] = 1\n",
    "\n",
    "C_TEACHER.loc[(C_TEACHER.IN_ESPECIALIZACAO==1.0) & (C_TEACHER.IN_MESTRADO==1.0)& \n",
    "             (C_TEACHER.IN_DOUTORADO ==0.0), 'TITULACAO'] = 2\n",
    "\n",
    "C_TEACHER.loc[(C_TEACHER.IN_ESPECIALIZACAO==0.0) & (C_TEACHER.IN_MESTRADO==1.0)& \n",
    "             (C_TEACHER.IN_DOUTORADO ==0.0), 'TITULACAO'] = 2\n",
    "\n",
    "C_TEACHER.loc[(C_TEACHER.IN_DOUTORADO ==1.0), 'TITULACAO'] = 3\n",
    "\n",
    "#Rebuild level education information as indicator of unique level.\n",
    "C_TEACHER['NU_GRADUACAO'] = 0\n",
    "C_TEACHER['NU_ESPECIALIZACAO'] = 0\n",
    "C_TEACHER['NU_MESTRADO'] = 0\n",
    "C_TEACHER['NU_DOUTORADO'] = 0\n",
    "\n",
    "C_TEACHER.loc[C_TEACHER.TITULACAO == 0, 'NU_GRADUACAO']= 1\n",
    "C_TEACHER.loc[C_TEACHER.TITULACAO == 1, 'NU_ESPECIALIZACAO']= 1\n",
    "C_TEACHER.loc[C_TEACHER.TITULACAO == 2, 'NU_MESTRADO']= 1\n",
    "C_TEACHER.loc[C_TEACHER.TITULACAO == 3, 'NU_DOUTORADO']= 1\n",
    "\n",
    "\n",
    "C_TEACHER['NU_GRADUACAO'] = C_TEACHER.groupby('CO_ESCOLA')['NU_GRADUACAO'].transform(sum)\n",
    "C_TEACHER['NU_ESPECIALIZACAO'] = C_TEACHER.groupby('CO_ESCOLA')['NU_ESPECIALIZACAO'].transform(sum)\n",
    "C_TEACHER['NU_MESTRADO'] = C_TEACHER.groupby('CO_ESCOLA')['NU_MESTRADO'].transform(sum)\n",
    "C_TEACHER['NU_DOUTORADO'] = C_TEACHER.groupby('CO_ESCOLA')['NU_DOUTORADO'].transform(sum)\n",
    "\n",
    "\n",
    "\n",
    "#Calculating weighted indice of teacher education\n",
    "SUM= C_TEACHER.groupby('CO_ESCOLA')['TITULACAO'].transform(sum)\n",
    "COUNT =  C_TEACHER.groupby('CO_ESCOLA')['TITULACAO'].transform('count')\n",
    "C_TEACHER['TITULACAO'] = (SUM)/(COUNT*3)  \n"
   ]
  },
  {
   "cell_type": "code",
   "execution_count": 38,
   "metadata": {
    "ExecuteTime": {
     "end_time": "2021-11-09T19:33:35.114147Z",
     "start_time": "2021-11-09T19:33:34.445410Z"
    }
   },
   "outputs": [],
   "source": [
    "#In order to avoid count duplicates teacher who teachs in both subjects. Since the required training is the same\n",
    "C_TEACHER['ID_LINGUA_ESTRANGEIRA']=0\n",
    "C_TEACHER.loc[((C_TEACHER.ID_LINGUA_LITERAT_ESPANHOL==1)|\n",
    "               (C_TEACHER.ID_LINGUA_LITERAT_INGLES==1)),'ID_LINGUA_ESTRANGEIRA']=1  \n",
    "\n",
    "#In order to avoid count duplicates teacher who teachs in both subjects. Since we consindering as the same subject\n",
    "C_TEACHER['ID_FISIO_SOCIO']=0\n",
    "C_TEACHER.loc[((C_TEACHER.ID_FILOSOFIA==1)|(C_TEACHER.ID_SOCIOLOGIA==1)),'ID_FISIO_SOCIO']=1\n",
    "\n",
    "C_TEACHER['OUTROS'] = 0\n",
    "curr_teaching = ['ID_MATEMATICA', 'ID_FISICA', 'ID_QUIMICA', 'ID_HISTORIA', 'ID_BIOLOGIA', 'ID_GEOGRAFIA', \n",
    "            'ID_LINGUA_LITERAT_PORTUGUESA', 'ID_LINGUA_ESTRANGEIRA','ID_FISIO_SOCIO', 'ID_ARTES', \n",
    "            'ID_EDUCACAO_FISICA', 'OUTROS']\n",
    "\n",
    "#C_TEACHER[curr_teaching].fillna(0, inplace=True)\n",
    "C_TEACHER.loc[(C_TEACHER[curr_teaching]==0).all(axis=1), 'OUTROS'] =1\n",
    "\n",
    "#Take out teacher who do not taught in subjects related of ENEM and secondary education\n",
    "C_TEACHER = C_TEACHER.loc[C_TEACHER.OUTROS==0]\n",
    "##"
   ]
  },
  {
   "cell_type": "code",
   "execution_count": 39,
   "metadata": {
    "ExecuteTime": {
     "end_time": "2021-11-09T19:33:39.265298Z",
     "start_time": "2021-11-09T19:33:35.119507Z"
    }
   },
   "outputs": [],
   "source": [
    "# How many teacher for each knowlodege area?\n",
    "\n",
    "ciencias_humanas = ['ID_HISTORIA', 'ID_GEOGRAFIA','ID_FILOSOFIA', 'ID_SOCIOLOGIA']\n",
    "linguagens_codigos = ['ID_LINGUA_LITERAT_PORTUGUESA', 'ID_LINGUA_LITERAT_ESPANHOL',\n",
    "                      'ID_LINGUA_LITERAT_INGLES', 'ID_ARTES', 'ID_EDUCACAO_FISICA']\n",
    "matematica = ['ID_MATEMATICA']\n",
    "ciencias_natureza = ['ID_FISICA', 'ID_QUIMICA', 'ID_BIOLOGIA']\n",
    "\n",
    "###\n",
    "values = np.sum(C_TEACHER[ciencias_natureza].values == 1,1)\n",
    "C_TEACHER['NU_CIENCIA_NATUREZA'] = [1 if x >= 1 else 0 for x in values]\n",
    "C_TEACHER['NU_CIENCIA_NATUREZA']= C_TEACHER.groupby('CO_ESCOLA')['NU_CIENCIA_NATUREZA'].transform(sum)\n",
    "\n",
    "values = np.sum(C_TEACHER[ciencias_humanas].values == 1,1)\n",
    "C_TEACHER['NU_CIENCIAS_HUMANAS'] = [1 if x >= 1 else 0 for x in values]\n",
    "C_TEACHER['NU_CIENCIAS_HUMANAS']= C_TEACHER.groupby('CO_ESCOLA')['NU_CIENCIAS_HUMANAS'].transform(sum)\n",
    "\n",
    "values = np.sum(C_TEACHER[linguagens_codigos].values == 1,1)\n",
    "C_TEACHER['NU_LINGUAGENS_CODIGOS'] = [1 if x >= 1 else 0 for x in values]\n",
    "C_TEACHER['NU_LINGUAGENS_CODIGOS']= C_TEACHER.groupby('CO_ESCOLA')['NU_LINGUAGENS_CODIGOS'].transform(sum)\n",
    "\n",
    "C_TEACHER['NU_MATEMATICA']= C_TEACHER.groupby('CO_ESCOLA')['ID_MATEMATICA'].transform(sum)\n",
    "\n",
    "#Sum all domain teacher's number\n",
    "C_TEACHER['NU_TEACHERS_DOMAIN'] = C_TEACHER['NU_MATEMATICA']+C_TEACHER['NU_LINGUAGENS_CODIGOS']+C_TEACHER[\n",
    "    'NU_CIENCIAS_HUMANAS']+C_TEACHER['NU_CIENCIA_NATUREZA']\n",
    "\n",
    "#update domain teacher's number normalized\n",
    "C_TEACHER['NU_MATEMATICA']=C_TEACHER['NU_MATEMATICA']/C_TEACHER['NU_TEACHERS_DOMAIN']\n",
    "C_TEACHER['NU_LINGUAGENS_CODIGOS'] = C_TEACHER['NU_LINGUAGENS_CODIGOS']/C_TEACHER['NU_TEACHERS_DOMAIN']\n",
    "C_TEACHER['NU_CIENCIAS_HUMANAS'] = C_TEACHER['NU_CIENCIAS_HUMANAS']/C_TEACHER['NU_TEACHERS_DOMAIN']\n",
    "C_TEACHER['NU_CIENCIA_NATUREZA'] = C_TEACHER['NU_CIENCIA_NATUREZA']/C_TEACHER['NU_TEACHERS_DOMAIN']"
   ]
  },
  {
   "cell_type": "code",
   "execution_count": 40,
   "metadata": {
    "ExecuteTime": {
     "end_time": "2021-11-09T19:33:39.954651Z",
     "start_time": "2021-11-09T19:33:39.270122Z"
    }
   },
   "outputs": [],
   "source": [
    "#Number of different schools that teachers work \n",
    "C_TEACHER['NU_ESCOLAS'] = C_TEACHER.groupby('CO_PROFESSOR')['CO_ESCOLA'].transform('count')\n",
    "C_TEACHER['NU_ESCOLAS'] = C_TEACHER.groupby('CO_ESCOLA')['NU_ESCOLAS'].transform('mean')\n",
    "#Number of licensed teachers\n",
    "C_TEACHER['NU_LICENCIADOS']=C_TEACHER.groupby('CO_ESCOLA')['ID_LICENCIATURA_1'].transform(sum)\n",
    "C_TEACHER['NU_TEACHERS']=C_TEACHER.groupby('CO_ESCOLA')['ID_LICENCIATURA_1'].transform('count')\n",
    "C_TEACHER['NU_LICENCIADOS']=C_TEACHER['NU_LICENCIADOS']/C_TEACHER['NU_TEACHERS']\n",
    "C_TEACHER['NU_LICENCIADOS'].fillna(0, inplace=True)"
   ]
  },
  {
   "cell_type": "code",
   "execution_count": 41,
   "metadata": {
    "ExecuteTime": {
     "end_time": "2021-11-09T19:33:42.329133Z",
     "start_time": "2021-11-09T19:33:39.959773Z"
    }
   },
   "outputs": [],
   "source": [
    "# How about the adequate background rate of teachers\n",
    "FOR_HISTORIA = ['145F11', '225H01']\n",
    "FOR_GEOGRAFIA = ['145F10', '443G04']\n",
    "FOR_FISIO_SOCIO = ['226999','145F08', '312999', '145F24']\n",
    "FOR_ARTES = ['210A01', '146D01']\n",
    "#FOR_CIENCIAS_HUMANAS = [FOR_HISTORIA, FOR_GEOGRAFIA, FOR_FILOS_SOCIO]\n",
    "##\n",
    "FOR_LING_PORTUGUES = ['145F15','145F16', '220P01', '220L03', '220L01']\n",
    "FOR_LING_ESTRANGEIRA = ['145F16','220E01', '220L03', '145F13']\n",
    "FOR_EDUCACAO_FISICA = ['720E01']\n",
    "##\n",
    "FOR_MATEMATICA = ['461M01','145F18']\n",
    "##\n",
    "FOR_BIOLOGIA = ['145F01', '421B02']\n",
    "FOR_QUIMICA = ['442Q01','421B09', '524999', '145F21']\n",
    "FOR_FISICA = ['145F09', '421B01','441F01']\n",
    "#FOR_CIENCIAS_NATUREZA = [biologia, quimica, fisica]\n",
    "###\n",
    "C_TEACHER['FOR_MATEMATICA']=0\n",
    "C_TEACHER['FOR_FISICA']=0\n",
    "C_TEACHER['FOR_QUIMICA']=0\n",
    "C_TEACHER['FOR_HISTORIA']=0\n",
    "C_TEACHER['FOR_BIOLOGIA']=0\n",
    "C_TEACHER['FOR_GEOGRAFIA']=0\n",
    "C_TEACHER['FOR_LING_PORTUGUES']=0\n",
    "C_TEACHER['FOR_LING_ESTRANGEIRA']=0\n",
    "C_TEACHER['FOR_FISIO_SOCIO']=0\n",
    "C_TEACHER['FOR_ARTES']=0\n",
    "C_TEACHER['FOR_EDUCACAO_FISICA']=0\n",
    "\n",
    "### Set 1 for those who teaches and have adequate training for that\n",
    "C_TEACHER.loc[(C_TEACHER.ID_MATEMATICA==1) & ((C_TEACHER.CO_AREA_OCDE_1.isin(FOR_MATEMATICA))|\n",
    "              (C_TEACHER.CO_AREA_OCDE_2.isin(FOR_MATEMATICA))|\n",
    "             (C_TEACHER.CO_AREA_OCDE_3.isin(FOR_MATEMATICA))), 'FOR_MATEMATICA'] = 1\n",
    "\n",
    "C_TEACHER.loc[(C_TEACHER.ID_FISICA==1) & ((C_TEACHER.CO_AREA_OCDE_1.isin(FOR_FISICA))|\n",
    "              (C_TEACHER.CO_AREA_OCDE_2.isin(FOR_FISICA))|\n",
    "             (C_TEACHER.CO_AREA_OCDE_3.isin(FOR_FISICA))), 'FOR_FISICA'] = 1\n",
    "\n",
    "C_TEACHER.loc[(C_TEACHER.ID_QUIMICA==1) & ((C_TEACHER.CO_AREA_OCDE_1.isin(FOR_QUIMICA))|\n",
    "              (C_TEACHER.CO_AREA_OCDE_2.isin(FOR_QUIMICA))|\n",
    "             (C_TEACHER.CO_AREA_OCDE_3.isin(FOR_HISTORIA))), 'FOR_QUIMICA'] = 1\n",
    "\n",
    "C_TEACHER.loc[(C_TEACHER.ID_HISTORIA==1) & ((C_TEACHER.CO_AREA_OCDE_1.isin(FOR_HISTORIA))|\n",
    "              (C_TEACHER.CO_AREA_OCDE_2.isin(FOR_HISTORIA))|\n",
    "             (C_TEACHER.CO_AREA_OCDE_3.isin(FOR_HISTORIA))), 'FOR_HISTORIA'] = 1\n",
    "\n",
    "C_TEACHER.loc[(C_TEACHER.ID_BIOLOGIA==1) & ((C_TEACHER.CO_AREA_OCDE_1.isin(FOR_BIOLOGIA))|\n",
    "              (C_TEACHER.CO_AREA_OCDE_2.isin(FOR_BIOLOGIA))|\n",
    "             (C_TEACHER.CO_AREA_OCDE_3.isin(FOR_BIOLOGIA))), 'FOR_BIOLOGIA'] = 1\n",
    "\n",
    "C_TEACHER.loc[(C_TEACHER.ID_GEOGRAFIA==1) & ((C_TEACHER.CO_AREA_OCDE_1.isin(FOR_GEOGRAFIA))|\n",
    "              (C_TEACHER.CO_AREA_OCDE_2.isin(FOR_GEOGRAFIA))|\n",
    "             (C_TEACHER.CO_AREA_OCDE_3.isin(FOR_GEOGRAFIA))), 'FOR_GEOGRAFIA'] = 1\n",
    "\n",
    "C_TEACHER.loc[(C_TEACHER.ID_LINGUA_LITERAT_PORTUGUESA==1) & ((C_TEACHER.CO_AREA_OCDE_1.isin(FOR_LING_PORTUGUES))|\n",
    "              (C_TEACHER.CO_AREA_OCDE_2.isin(FOR_LING_PORTUGUES))|\n",
    "             (C_TEACHER.CO_AREA_OCDE_3.isin(FOR_LING_PORTUGUES))), 'FOR_LING_PORTUGUES'] = 1\n",
    "\n",
    "C_TEACHER.loc[(C_TEACHER.ID_LINGUA_ESTRANGEIRA==1) & ((C_TEACHER.CO_AREA_OCDE_1.isin(FOR_LING_ESTRANGEIRA))|\n",
    "              (C_TEACHER.CO_AREA_OCDE_2.isin(FOR_LING_ESTRANGEIRA))|\n",
    "             (C_TEACHER.CO_AREA_OCDE_3.isin(FOR_LING_ESTRANGEIRA))), 'FOR_LING_ESTRANGEIRA'] = 1   \n",
    "\n",
    "               \n",
    "C_TEACHER.loc[((C_TEACHER.ID_FILOSOFIA==1)|(C_TEACHER.ID_SOCIOLOGIA==1)) & ((C_TEACHER.CO_AREA_OCDE_1.isin(FOR_FISIO_SOCIO))|\n",
    "              (C_TEACHER.CO_AREA_OCDE_2.isin(FOR_FISIO_SOCIO))|\n",
    "             (C_TEACHER.CO_AREA_OCDE_3.isin(FOR_FISIO_SOCIO))), 'FOR_FISIO_SOCIO'] = 1   \n",
    "                                                   \n",
    "C_TEACHER.loc[(C_TEACHER.ID_ARTES==1) & ((C_TEACHER.CO_AREA_OCDE_1.isin(FOR_ARTES))|\n",
    "              (C_TEACHER.CO_AREA_OCDE_2.isin(FOR_ARTES))|\n",
    "             (C_TEACHER.CO_AREA_OCDE_3.isin(FOR_ARTES))), 'FOR_ARTES'] = 1  \n",
    "\n",
    "C_TEACHER.loc[(C_TEACHER.ID_EDUCACAO_FISICA==1) & ((C_TEACHER.CO_AREA_OCDE_1.isin(FOR_EDUCACAO_FISICA))|\n",
    "              (C_TEACHER.CO_AREA_OCDE_2.isin(FOR_EDUCACAO_FISICA))|\n",
    "             (C_TEACHER.CO_AREA_OCDE_3.isin(FOR_EDUCACAO_FISICA))), 'FOR_EDUCACAO_FISICA'] = 1  "
   ]
  },
  {
   "cell_type": "code",
   "execution_count": 42,
   "metadata": {
    "ExecuteTime": {
     "end_time": "2021-11-09T19:33:44.039304Z",
     "start_time": "2021-11-09T19:33:42.334732Z"
    }
   },
   "outputs": [],
   "source": [
    "#Computing sum of teachers with adequate training for each school\n",
    "adequate_training = ['FOR_MATEMATICA','FOR_FISICA','FOR_QUIMICA','FOR_HISTORIA','FOR_BIOLOGIA','FOR_GEOGRAFIA',\n",
    " 'FOR_LING_PORTUGUES','FOR_LING_ESTRANGEIRA','FOR_FISIO_SOCIO','FOR_ARTES', 'FOR_EDUCACAO_FISICA']\n",
    "\n",
    "for i in adequate_training:\n",
    "    C_TEACHER[i] = C_TEACHER.groupby('CO_ESCOLA')[i].transform(sum)\n",
    "    \n",
    "#Computing sum of current classes taught, whatever if they have training\n",
    "for i in curr_teaching: #defined earlier\n",
    "    C_TEACHER[i] =  C_TEACHER.groupby('CO_ESCOLA')[i].transform(sum) \n",
    "    \n",
    "#School Grain\n",
    "C_TEACHER.drop_duplicates('CO_ESCOLA', inplace = True)"
   ]
  },
  {
   "cell_type": "code",
   "execution_count": 43,
   "metadata": {
    "ExecuteTime": {
     "end_time": "2021-11-09T19:33:44.123266Z",
     "start_time": "2021-11-09T19:33:44.044540Z"
    }
   },
   "outputs": [],
   "source": [
    "# Computing the rate of adequate training ((number of current with adequate training + Number those w/o traininig*0.5)/total) for each area)\n",
    "\n",
    "C_TEACHER['IN_FOR_MAT'] = (C_TEACHER['FOR_MATEMATICA']+ (\n",
    "    (C_TEACHER['ID_MATEMATICA'] - C_TEACHER['FOR_MATEMATICA'])*0.5))/C_TEACHER['ID_MATEMATICA']\n",
    "\n",
    "C_TEACHER['IN_FOR_FIS'] = (C_TEACHER['FOR_FISICA']+ (\n",
    "    (C_TEACHER['ID_FISICA'] - C_TEACHER['FOR_FISICA'])*0.5))/C_TEACHER['ID_FISICA']\n",
    "\n",
    "C_TEACHER['IN_FOR_QUI'] = (C_TEACHER['FOR_QUIMICA']+ (\n",
    "    (C_TEACHER['ID_QUIMICA'] - C_TEACHER['FOR_QUIMICA'])*0.5))/C_TEACHER['ID_QUIMICA']\n",
    "\n",
    "C_TEACHER['IN_FOR_HIST'] = (C_TEACHER['FOR_HISTORIA']+ (\n",
    "    (C_TEACHER['ID_HISTORIA'] - C_TEACHER['FOR_HISTORIA'])*0.5))/C_TEACHER['ID_HISTORIA']\n",
    "\n",
    "C_TEACHER['IN_FOR_BIO'] = (C_TEACHER['FOR_BIOLOGIA']+ (\n",
    "    (C_TEACHER['ID_BIOLOGIA'] - C_TEACHER['FOR_BIOLOGIA'])*0.5))/C_TEACHER['ID_BIOLOGIA']\n",
    "\n",
    "C_TEACHER['IN_FOR_GEO'] = (C_TEACHER['FOR_GEOGRAFIA']+ (\n",
    "    (C_TEACHER['ID_GEOGRAFIA'] - C_TEACHER['FOR_GEOGRAFIA'])*0.5))/C_TEACHER['ID_GEOGRAFIA']\n",
    "\n",
    "C_TEACHER['IN_FOR_PORT'] = (C_TEACHER['FOR_LING_PORTUGUES']+ (\n",
    "    (C_TEACHER['ID_LINGUA_LITERAT_PORTUGUESA'] - C_TEACHER['FOR_LING_PORTUGUES'])*0.5))/C_TEACHER['ID_LINGUA_LITERAT_PORTUGUESA']\n",
    "\n",
    "C_TEACHER['IN_FOR_EST'] = (C_TEACHER['FOR_LING_ESTRANGEIRA']+ (\n",
    "    (C_TEACHER['ID_LINGUA_ESTRANGEIRA'] - C_TEACHER['FOR_LING_ESTRANGEIRA'])*0.5))/C_TEACHER['ID_LINGUA_ESTRANGEIRA']\n",
    "\n",
    "C_TEACHER['IN_FOR_FISIO_SOCIO'] = (C_TEACHER['FOR_FISIO_SOCIO']+ (\n",
    "    (C_TEACHER['ID_FISIO_SOCIO'] - C_TEACHER['FOR_FISIO_SOCIO'])*0.5))/C_TEACHER['ID_FISIO_SOCIO']\n",
    "\n",
    "C_TEACHER['IN_FOR_ARTES'] = (C_TEACHER['FOR_ARTES']+ (\n",
    "    (C_TEACHER['ID_ARTES'] - C_TEACHER['FOR_ARTES'])*0.5))/C_TEACHER['ID_ARTES']\n",
    "\n",
    "C_TEACHER['IN_FOR_ED_FISICA'] = (C_TEACHER['FOR_EDUCACAO_FISICA']+ (\n",
    "    (C_TEACHER['ID_EDUCACAO_FISICA'] - C_TEACHER['FOR_EDUCACAO_FISICA'])*0.5))/C_TEACHER['ID_EDUCACAO_FISICA']"
   ]
  },
  {
   "cell_type": "code",
   "execution_count": 44,
   "metadata": {
    "ExecuteTime": {
     "end_time": "2021-11-09T19:33:44.161811Z",
     "start_time": "2021-11-09T19:33:44.127866Z"
    }
   },
   "outputs": [],
   "source": [
    "#Computing a new index for each school = Teacher Adequate Training\n",
    "COLUMNS = C_TEACHER.filter(regex=(\"^IN_FOR_*\")).columns\n",
    "C_TEACHER.fillna({x:0 for x in COLUMNS}, inplace=True)\n",
    "C_TEACHER['IN_FORM_DOCENTE']=C_TEACHER.filter(regex=(\"^IN_FOR_*\")).sum(axis=1)/11\n",
    "\n",
    "#Drop indices from each subject\n",
    "#C_TEACHER.drop(COLUMNS, axis=1, inplace = True)"
   ]
  },
  {
   "cell_type": "code",
   "execution_count": 45,
   "metadata": {
    "ExecuteTime": {
     "end_time": "2021-11-09T19:33:44.195413Z",
     "start_time": "2021-11-09T19:33:44.167260Z"
    }
   },
   "outputs": [
    {
     "data": {
      "text/plain": [
       "Index(['CO_ESCOLA', 'ID_QUIMICA', 'ID_FISICA', 'ID_MATEMATICA', 'ID_BIOLOGIA',\n",
       "       'ID_SOCIOLOGIA', 'ID_LINGUA_LITERAT_PORTUGUESA',\n",
       "       'ID_LINGUA_LITERAT_INGLES', 'ID_LINGUA_LITERAT_ESPANHOL', 'ID_ARTES',\n",
       "       'ID_EDUCACAO_FISICA', 'ID_HISTORIA', 'ID_GEOGRAFIA', 'ID_FILOSOFIA',\n",
       "       'ID_LICENCIATURA_1', 'ID_LICENCIATURA_2', 'ID_LICENCIATURA_3',\n",
       "       'TITULACAO', 'NU_GRADUACAO', 'NU_ESPECIALIZACAO', 'NU_MESTRADO',\n",
       "       'NU_DOUTORADO', 'ID_LINGUA_ESTRANGEIRA', 'ID_FISIO_SOCIO',\n",
       "       'NU_CIENCIA_NATUREZA', 'NU_CIENCIAS_HUMANAS', 'NU_LINGUAGENS_CODIGOS',\n",
       "       'NU_MATEMATICA', 'NU_TEACHERS_DOMAIN', 'NU_ESCOLAS', 'NU_LICENCIADOS',\n",
       "       'NU_TEACHERS', 'FOR_MATEMATICA', 'FOR_FISICA', 'FOR_QUIMICA',\n",
       "       'FOR_HISTORIA', 'FOR_BIOLOGIA', 'FOR_GEOGRAFIA', 'FOR_LING_PORTUGUES',\n",
       "       'FOR_LING_ESTRANGEIRA', 'FOR_FISIO_SOCIO', 'FOR_ARTES',\n",
       "       'FOR_EDUCACAO_FISICA', 'IN_FOR_MAT', 'IN_FOR_FIS', 'IN_FOR_QUI',\n",
       "       'IN_FOR_HIST', 'IN_FOR_BIO', 'IN_FOR_GEO', 'IN_FOR_PORT', 'IN_FOR_EST',\n",
       "       'IN_FOR_FISIO_SOCIO', 'IN_FOR_ARTES', 'IN_FOR_ED_FISICA',\n",
       "       'IN_FORM_DOCENTE'],\n",
       "      dtype='object')"
      ]
     },
     "execution_count": 45,
     "metadata": {},
     "output_type": "execute_result"
    }
   ],
   "source": [
    "#drop all subjects and others that are no longer needed\n",
    "#C_TEACHER.drop(C_TEACHER.filter(regex=('^ID_*')).columns, axis=1, inplace = True)\n",
    "others = ['CO_PROFESSOR','CO_TURMA', 'CO_AREA_OCDE_1','CO_AREA_OCDE_2', 'CO_AREA_OCDE_3','OUTROS',\n",
    "          'IN_ESPECIALIZACAO', 'IN_MESTRADO', 'IN_DOUTORADO']\n",
    "C_TEACHER.drop(others, axis=1, inplace = True)\n",
    "C_TEACHER.columns"
   ]
  },
  {
   "cell_type": "code",
   "execution_count": 46,
   "metadata": {
    "ExecuteTime": {
     "end_time": "2021-11-09T19:33:44.210738Z",
     "start_time": "2021-11-09T19:33:44.200184Z"
    }
   },
   "outputs": [
    {
     "data": {
      "text/plain": [
       "(19584, 55)"
      ]
     },
     "execution_count": 46,
     "metadata": {},
     "output_type": "execute_result"
    }
   ],
   "source": [
    "C_TEACHER.shape"
   ]
  },
  {
   "cell_type": "code",
   "execution_count": 47,
   "metadata": {
    "ExecuteTime": {
     "end_time": "2021-11-09T19:33:44.266040Z",
     "start_time": "2021-11-09T19:33:44.215596Z"
    }
   },
   "outputs": [],
   "source": [
    "#JUSTS NUMBER OF ENROLLMENTS OF SCHOOLS\n",
    "C_CLASS = C_CLASS[['CO_ESCOLA', 'QT_MATRICULAS']]\n",
    "C_CLASS['QT_MATRICULAS'] = C_CLASS.groupby('CO_ESCOLA').transform('mean')\n",
    "C_CLASS.drop_duplicates('CO_ESCOLA', inplace = True)"
   ]
  },
  {
   "cell_type": "markdown",
   "metadata": {},
   "source": [
    "## ENEM STUDENT GRAIN"
   ]
  },
  {
   "cell_type": "code",
   "execution_count": 48,
   "metadata": {
    "ExecuteTime": {
     "end_time": "2021-11-09T19:33:44.383954Z",
     "start_time": "2021-11-09T19:33:44.271801Z"
    }
   },
   "outputs": [
    {
     "name": "stdout",
     "output_type": "stream",
     "text": [
      "School (19590, 32)\n",
      "Class + School: 19590\n",
      "School + Class + Teacher(taked off subject teachers out of context) (19584, 87)\n"
     ]
    }
   ],
   "source": [
    "# Merging Class and School\n",
    "print('School',C_SCHOOL.shape)\n",
    "CENSO = pd.merge(C_SCHOOL, C_CLASS, on = 'CO_ESCOLA', how = 'inner')\n",
    "print('Class + School:', CENSO.shape[0])\n",
    "# Next, merging with Teacher\n",
    "CENSO = pd.merge(CENSO, C_TEACHER, on = 'CO_ESCOLA', how = 'inner')\n",
    "print('School + Class + Teacher(taked off subject teachers out of context)',CENSO.shape)"
   ]
  },
  {
   "cell_type": "code",
   "execution_count": 49,
   "metadata": {
    "ExecuteTime": {
     "end_time": "2021-11-09T19:36:00.135743Z",
     "start_time": "2021-11-09T19:33:44.389723Z"
    }
   },
   "outputs": [
    {
     "name": "stdout",
     "output_type": "stream",
     "text": [
      "ENEM (921699, 16)\n",
      "FINAL (taked off schools with subject teachers out of context)) (911309, 102)\n"
     ]
    }
   ],
   "source": [
    "#Now, all to Student Grain\n",
    "print('ENEM',ENEM.shape)\n",
    "ENEM_CENSO = pd.merge(ENEM, CENSO, on = 'CO_ESCOLA', how = 'inner')\n",
    "print('FINAL (taked off schools with subject teachers out of context))',ENEM_CENSO.shape)\n",
    "\n",
    "ENEM_CENSO.to_csv('STUDENT.csv')"
   ]
  },
  {
   "cell_type": "code",
   "execution_count": 50,
   "metadata": {
    "ExecuteTime": {
     "end_time": "2021-11-09T19:36:00.525744Z",
     "start_time": "2021-11-09T19:36:00.140705Z"
    }
   },
   "outputs": [
    {
     "data": {
      "text/plain": [
       "CO_ANO                0\n",
       "CO_ESCOLA             0\n",
       "NU_IDADE              0\n",
       "TP_SEXO               0\n",
       "TP_COR_RACA           0\n",
       "                     ..\n",
       "IN_FOR_EST            0\n",
       "IN_FOR_FISIO_SOCIO    0\n",
       "IN_FOR_ARTES          0\n",
       "IN_FOR_ED_FISICA      0\n",
       "IN_FORM_DOCENTE       0\n",
       "Length: 102, dtype: int64"
      ]
     },
     "execution_count": 50,
     "metadata": {},
     "output_type": "execute_result"
    }
   ],
   "source": [
    "ENEM_CENSO.isnull().sum()"
   ]
  },
  {
   "cell_type": "code",
   "execution_count": null,
   "metadata": {},
   "outputs": [],
   "source": []
  }
 ],
 "metadata": {
  "kernelspec": {
   "display_name": "Python 3",
   "language": "python",
   "name": "python3"
  },
  "language_info": {
   "codemirror_mode": {
    "name": "ipython",
    "version": 3
   },
   "file_extension": ".py",
   "mimetype": "text/x-python",
   "name": "python",
   "nbconvert_exporter": "python",
   "pygments_lexer": "ipython3",
   "version": "3.7.6"
  }
 },
 "nbformat": 4,
 "nbformat_minor": 4
}
