{
 "cells": [
  {
   "cell_type": "code",
   "execution_count": 99,
   "metadata": {
    "ExecuteTime": {
     "end_time": "2021-11-09T18:35:52.600960Z",
     "start_time": "2021-11-09T18:35:52.586962Z"
    }
   },
   "outputs": [],
   "source": [
    "import time\n",
    "import pandas as pd\n",
    "import numpy as np\n",
    "import warnings\n",
    "from collections import Counter\n",
    "warnings.filterwarnings('ignore')\n",
    "from pandas.api.types import is_string_dtype\n",
    "from pandas.api.types import is_numeric_dtype\n",
    "pd.set_option('display.max_columns', None)"
   ]
  },
  {
   "cell_type": "markdown",
   "metadata": {},
   "source": [
    "There are many insignificant features to our work, like codes, PK, FK and out of context. \n",
    "Based on prior works and experience of especialists, will be taken off nonsense features. \n",
    "A study was carried out on the evolution and correspondence of these resources in the ENEM and Census\n",
    "data for the period 2009-2018. See (featuresOrganisaton.xls)"
   ]
  },
  {
   "cell_type": "code",
   "execution_count": 100,
   "metadata": {
    "ExecuteTime": {
     "end_time": "2021-11-09T18:35:52.627228Z",
     "start_time": "2021-11-09T18:35:52.608246Z"
    }
   },
   "outputs": [],
   "source": [
    "classmate = ['ANO_CENSO','PK_COD_ENTIDADE','PK_COD_TURMA', 'FK_COD_MOD_ENSINO', 'FK_COD_ETAPA_ENSINO', 'NUM_MATRICULAS']\n",
    "\n",
    "teacher = ['ANO_CENSO','FK_COD_DOCENTE', 'PK_COD_ENTIDADE','PK_COD_TURMA','ID_ESPECIALIZACAO','ID_MESTRADO','ID_DOUTORADO',\n",
    "          'ID_QUIMICA', 'ID_FISICA', 'ID_MATEMATICA', 'ID_BIOLOGIA', 'ID_ESTUDOS_SOCIAIS', 'ID_LINGUA_LITERAT_PORTUGUESA',\n",
    "           'ID_LINGUA_LITERAT_INGLES', 'ID_LINGUA_LITERAT_ESPANHOL', 'ID_ARTES', 'ID_EDUCACAO_FISICA', 'ID_HISTORIA',\n",
    "          'ID_GEOGRAFIA','ID_FILOSOFIA','FK_COD_AREA_OCDE_1', 'ID_LICENCIATURA_1', 'FK_COD_AREA_OCDE_2',\n",
    "           'ID_LICENCIATURA_2','FK_COD_AREA_OCDE_3', 'ID_LICENCIATURA_3']\n",
    "\n",
    "enem = ['NU_ANO','CO_ESCOLA','TP_ENSINO','NU_IDADE','TP_SEXO','TP_COR_RACA','TP_ST_CONCLUSAO','NU_NOTA_CN',\n",
    "        'NU_NOTA_CH','NU_NOTA_LC','NU_NOTA_MT','NU_NOTA_REDACAO','Q02','Q03','Q01','Q04','TP_DEPENDENCIA_ADM_ESC'\n",
    "]\n",
    "\n",
    "school = ['ANO_CENSO','PK_COD_ENTIDADE', 'FK_COD_MUNICIPIO','FK_COD_ESTADO','ID_DEPENDENCIA_ADM','ID_AGUA_INEXISTENTE',\n",
    "                  'ID_ESGOTO_INEXISTENTE','ID_ENERGIA_INEXISTENTE',\n",
    "                   'ID_LABORATORIO_INFORMATICA','ID_LABORATORIO_CIENCIAS','ID_SALA_ATENDIMENTO_ESPECIAL',\n",
    "                   'ID_BIBLIOTECA','ID_SALA_LEITURA','ID_SANITARIO_DENTRO_PREDIO',\n",
    "                   'ID_SANITARIO_PNE','NUM_SALAS_UTILIZADAS','ID_EQUIP_TV',\n",
    "                   'ID_EQUIP_DVD','ID_EQUIP_COPIADORA','ID_EQUIP_IMPRESSORA',\n",
    "                   'NUM_COMP_ALUNOS','ID_INTERNET','ID_BANDA_LARGA','NUM_FUNCIONARIOS','ID_ALIMENTACAO', \n",
    "                   'ID_REG_MEDIO_MEDIO','ID_REG_MEDIO_INTEGRADO','ID_REG_MEDIO_NORMAL', 'ID_SALA_PROFESSOR', \n",
    "                   'ID_QUADRA_ESPORTES','ID_COZINHA','ID_EQUIP_PARABOLICA', 'ID_MOD_ATIV_COMPLEMENTAR']\n"
   ]
  },
  {
   "cell_type": "code",
   "execution_count": 101,
   "metadata": {
    "ExecuteTime": {
     "end_time": "2021-11-09T18:36:58.191791Z",
     "start_time": "2021-11-09T18:35:52.634757Z"
    }
   },
   "outputs": [
    {
     "name": "stdout",
     "output_type": "stream",
     "text": [
      "(4626094, 17)\n"
     ]
    },
    {
     "data": {
      "text/plain": [
       "(32319, 17)"
      ]
     },
     "execution_count": 101,
     "metadata": {},
     "output_type": "execute_result"
    }
   ],
   "source": [
    "#Students of ENEM\n",
    "E = pd.read_csv('~/data/enem/2010/DADOS/MICRODADOS_ENEM_2010.csv', sep=';', usecols = enem)\n",
    "print(E.shape)\n",
    "E.drop_duplicates('CO_ESCOLA').shape"
   ]
  },
  {
   "cell_type": "code",
   "execution_count": 102,
   "metadata": {
    "ExecuteTime": {
     "end_time": "2021-11-09T18:36:59.489885Z",
     "start_time": "2021-11-09T18:36:58.198148Z"
    }
   },
   "outputs": [
    {
     "name": "stdout",
     "output_type": "stream",
     "text": [
      "students at public schools: 1096483\n",
      "public schools: 23262\n"
     ]
    }
   ],
   "source": [
    "#How many public schools (not included federal) are in the databases?\n",
    "mun_est = (E.TP_DEPENDENCIA_ADM_ESC==2) |(E.TP_DEPENDENCIA_ADM_ESC==3)\n",
    "print('students at public schools:',(mun_est).sum())\n",
    "print('public schools:',(E.drop_duplicates('CO_ESCOLA')[mun_est]['CO_ESCOLA'].count()))\n",
    "E.drop('TP_DEPENDENCIA_ADM_ESC', axis=1,inplace=True)\n",
    "enem.remove('TP_DEPENDENCIA_ADM_ESC')"
   ]
  },
  {
   "cell_type": "code",
   "execution_count": 103,
   "metadata": {
    "ExecuteTime": {
     "end_time": "2021-11-09T18:37:02.660890Z",
     "start_time": "2021-11-09T18:36:59.495513Z"
    }
   },
   "outputs": [],
   "source": [
    "#School census data\n",
    "CE =    pd.read_csv(\"~/data/censo/2010/DADOS/ESCOLAS.CSV\", sep='|', encoding=\"iso-8859-2\", usecols = school)"
   ]
  },
  {
   "cell_type": "code",
   "execution_count": 104,
   "metadata": {
    "ExecuteTime": {
     "end_time": "2021-11-09T18:37:15.654990Z",
     "start_time": "2021-11-09T18:37:02.666869Z"
    }
   },
   "outputs": [],
   "source": [
    "#ClassMate census data\n",
    "CM =  pd.read_csv(\"~/data/censo/2010/DADOS/TURMAS.CSV\", sep='|', encoding=\"iso-8859-2\", usecols = classmate)"
   ]
  },
  {
   "cell_type": "code",
   "execution_count": 105,
   "metadata": {
    "ExecuteTime": {
     "end_time": "2021-11-09T18:39:01.838244Z",
     "start_time": "2021-11-09T18:37:15.660531Z"
    }
   },
   "outputs": [],
   "source": [
    "#Teacher census data by Braazilian mesoregion\n",
    "CD_CO = pd.read_csv(\"~/data/censo/2010/DADOS/DOCENTES_CO.CSV\", sep='|', encoding=\"iso-8859-2\", usecols=teacher)\n",
    "CD_NE = pd.read_csv(\"~/data/censo/2010/DADOS/DOCENTES_NORDESTE.CSV\", sep='|', encoding=\"iso-8859-2\", usecols=teacher)\n",
    "CD_N =  pd.read_csv(\"~/data/censo/2010/DADOS/DOCENTES_NORTE.CSV\", sep='|', encoding=\"iso-8859-2\", usecols=teacher)\n",
    "CD_SE = pd.read_csv(\"~/data/censo/2010/DADOS/DOCENTES_SUDESTE.CSV\", sep='|', encoding=\"iso-8859-2\", usecols=teacher)\n",
    "CD_S =  pd.read_csv(\"~/data/censo/2010/DADOS/DOCENTES_SUL.CSV\", sep='|', encoding=\"iso-8859-2\", usecols=teacher)\n",
    "\n",
    "#All teacher census data\n",
    "CT = pd.concat([CD_CO, CD_NE, CD_N, CD_SE, CD_S])"
   ]
  },
  {
   "cell_type": "code",
   "execution_count": 106,
   "metadata": {
    "ExecuteTime": {
     "end_time": "2021-11-09T18:39:04.800123Z",
     "start_time": "2021-11-09T18:39:01.847308Z"
    }
   },
   "outputs": [],
   "source": [
    "ENEM = E.copy()\n",
    "C_SCHOOL = CE.copy()\n",
    "C_CLASS = CM.copy()\n",
    "C_TEACHER = CT.copy()"
   ]
  },
  {
   "cell_type": "code",
   "execution_count": 107,
   "metadata": {
    "ExecuteTime": {
     "end_time": "2021-11-09T18:39:05.909710Z",
     "start_time": "2021-11-09T18:39:04.803630Z"
    }
   },
   "outputs": [
    {
     "name": "stdout",
     "output_type": "stream",
     "text": [
      "checking year [2010]\n",
      "checking key float64\n"
     ]
    }
   ],
   "source": [
    "#ordering\n",
    "ENEM = ENEM[enem]\n",
    "\n",
    "newNames = [\n",
    "'CO_ANO',\n",
    "'CO_ESCOLA',\n",
    "'TP_ENSINO',\n",
    "'NU_IDADE',\n",
    "'TP_SEXO',\n",
    "'TP_COR_RACA',\n",
    "'TP_ST_CONCLUSAO',\n",
    "'NU_NOTA_CN',\n",
    "'NU_NOTA_CH',\n",
    "'NU_NOTA_LC',\n",
    "'NU_NOTA_MT',\n",
    "'NU_NOTA_REDACAO',\n",
    "'EDU_PAI',\n",
    "'EDU_MAE',\n",
    "'QT_PESSOAS_CASA',\n",
    "'RENDA_MENSAL'\n",
    "]\n",
    "\n",
    "#Rename\n",
    "ENEM.columns = newNames\n",
    "\n",
    "print('checking year',ENEM.CO_ANO.unique())\n",
    "print('checking key',ENEM.CO_ESCOLA.dtypes)"
   ]
  },
  {
   "cell_type": "code",
   "execution_count": 108,
   "metadata": {
    "ExecuteTime": {
     "end_time": "2021-11-09T18:39:06.003225Z",
     "start_time": "2021-11-09T18:39:05.916069Z"
    }
   },
   "outputs": [
    {
     "name": "stdout",
     "output_type": "stream",
     "text": [
      "Checking year of censo [2010]\n",
      "checking key int64\n"
     ]
    }
   ],
   "source": [
    "C_SCHOOL = C_SCHOOL[school]\n",
    "\n",
    "newNames = ['ANO_CENSO',\n",
    "'CO_ESCOLA',\n",
    " 'CO_MUNICIPIO',\n",
    " 'CO_UF',\n",
    " 'CO_DEPENDENCIA_ADM',\n",
    " 'IN_AGUA_INEXISTENTE',\n",
    " 'IN_ESGOTO_INEXISTENTE',\n",
    " 'IN_ENERGIA_INEXISTENTE',\n",
    " 'IN_LABORATORIO_INFORMATICA',\n",
    " 'IN_LABORATORIO_CIENCIAS',\n",
    " 'IN_SALA_ATENDIMENTO_ESPECIAL',\n",
    " 'IN_BIBLIOTECA',\n",
    " 'IN_SALA_LEITURA',\n",
    " 'IN_BANHEIRO',\n",
    " 'IN_BANHEIRO_PNE',\n",
    " 'QT_SALAS_UTILIZADAS',\n",
    " 'QT_EQUIP_TV',\n",
    " 'QT_EQUIP_DVD',\n",
    " 'QT_EQUIP_COPIADORA',\n",
    " 'QT_EQUIP_IMPRESSORA',\n",
    " 'QT_COMP_ALUNO',\n",
    " 'IN_INTERNET',\n",
    " 'IN_BANDA_LARGA',\n",
    " 'QT_FUNCIONARIOS',\n",
    " 'IN_ALIMENTACAO',\n",
    " 'IN_COMUM_MEDIO_MEDIO',\n",
    " 'IN_COMUM_MEDIO_INTEGRADO',\n",
    " 'IN_COMUM_MEDIO_NORMAL', \n",
    " 'IN_SALA_PROFESSOR', \n",
    " 'IN_QUADRA_ESPORTES',\n",
    " 'IN_COZINHA',\n",
    " 'IN_EQUIP_PARABOLICA',\n",
    " 'IN_ATIV_COMPLEMENTAR',\n",
    "]\n",
    "\n",
    "#Rename \n",
    "C_SCHOOL.columns =  newNames\n",
    "\n",
    "print('Checking year of censo',C_SCHOOL.ANO_CENSO.unique())\n",
    "C_SCHOOL.drop('ANO_CENSO', axis=1, inplace=True)\n",
    "print('checking key',C_SCHOOL.CO_ESCOLA.dtypes)"
   ]
  },
  {
   "cell_type": "code",
   "execution_count": 109,
   "metadata": {
    "ExecuteTime": {
     "end_time": "2021-11-09T18:39:45.497326Z",
     "start_time": "2021-11-09T18:39:06.008998Z"
    }
   },
   "outputs": [
    {
     "name": "stdout",
     "output_type": "stream",
     "text": [
      "Checking year of censo [2010]\n",
      "checking key int64\n"
     ]
    }
   ],
   "source": [
    "C_TEACHER = C_TEACHER[teacher]\n",
    "\n",
    "# New default column names for all Datasets\n",
    "newNames = [\n",
    "'ANO_CENSO',\n",
    "'CO_PROFESSOR',\n",
    "'CO_ESCOLA',  \n",
    "'CO_TURMA',\n",
    "'IN_ESPECIALIZACAO',\n",
    "'IN_MESTRADO',\n",
    "'IN_DOUTORADO',\n",
    "'ID_QUIMICA',\n",
    "'ID_FISICA',\n",
    "'ID_MATEMATICA',\n",
    "'ID_BIOLOGIA',\n",
    "'ID_SOCIOLOGIA',\n",
    "'ID_LINGUA_LITERAT_PORTUGUESA',\n",
    "'ID_LINGUA_LITERAT_INGLES',\n",
    "'ID_LINGUA_LITERAT_ESPANHOL',\n",
    "'ID_ARTES',\n",
    "'ID_EDUCACAO_FISICA',\n",
    "'ID_HISTORIA',\n",
    "'ID_GEOGRAFIA',\n",
    "'ID_FILOSOFIA',\n",
    "'CO_AREA_OCDE_1', \n",
    "'ID_LICENCIATURA_1', \n",
    "'CO_AREA_OCDE_2',\n",
    "'ID_LICENCIATURA_2',\n",
    "'CO_AREA_OCDE_3',\n",
    "'ID_LICENCIATURA_3'\n",
    "]\n",
    "\n",
    "C_TEACHER.columns = newNames\n",
    "print('Checking year of censo',C_TEACHER.ANO_CENSO.unique())\n",
    "C_TEACHER.drop('ANO_CENSO', axis=1, inplace=True)\n",
    "print('checking key',C_TEACHER.CO_ESCOLA.dtypes)"
   ]
  },
  {
   "cell_type": "code",
   "execution_count": 110,
   "metadata": {
    "ExecuteTime": {
     "end_time": "2021-11-09T18:39:45.650724Z",
     "start_time": "2021-11-09T18:39:45.501728Z"
    }
   },
   "outputs": [
    {
     "name": "stdout",
     "output_type": "stream",
     "text": [
      "Checking year of censo [2010]\n",
      "checking key int64\n"
     ]
    }
   ],
   "source": [
    "C_CLASS = C_CLASS[classmate]\n",
    "\n",
    "newNames = [\n",
    "'ANO_CENSO',    \n",
    "'CO_ESCOLA',\n",
    "'CO_TURMA',  \n",
    "'CO_MOD_ENSINO',\n",
    "'IN_ETAPA_ENSINO',\n",
    "'QT_MATRICULAS'\n",
    "]\n",
    "\n",
    "#Rename \n",
    "C_CLASS.columns =  newNames\n",
    "\n",
    "print('Checking year of censo',C_CLASS.ANO_CENSO.unique())\n",
    "C_CLASS.drop('ANO_CENSO', axis=1, inplace=True)\n",
    "print('checking key',C_CLASS.CO_ESCOLA.dtypes)"
   ]
  },
  {
   "cell_type": "markdown",
   "metadata": {},
   "source": [
    "### Minimum Scope Definition"
   ]
  },
  {
   "cell_type": "markdown",
   "metadata": {
    "ExecuteTime": {
     "end_time": "2021-02-19T14:01:30.191903Z",
     "start_time": "2021-02-19T14:01:30.178841Z"
    }
   },
   "source": [
    "ENEM  - Taking off:\n",
    "* Without School Code\n",
    "* Is not attended in regular schools, \n",
    "*  With scores zero\n",
    "*  between 17 and 19 years old (in order to take only last secodary year students)\n",
    "* Attended in schools with at least 10 students"
   ]
  },
  {
   "cell_type": "code",
   "execution_count": 111,
   "metadata": {
    "ExecuteTime": {
     "end_time": "2021-11-09T18:39:46.331115Z",
     "start_time": "2021-11-09T18:39:45.655718Z"
    }
   },
   "outputs": [],
   "source": [
    "ENEM.dropna(inplace = True, axis=0, subset = ['CO_ESCOLA'])\n"
   ]
  },
  {
   "cell_type": "code",
   "execution_count": 112,
   "metadata": {
    "ExecuteTime": {
     "end_time": "2021-11-09T18:39:46.411237Z",
     "start_time": "2021-11-09T18:39:46.336354Z"
    }
   },
   "outputs": [
    {
     "name": "stdout",
     "output_type": "stream",
     "text": [
      "1.0    1189039\n",
      "2.0     132190\n",
      "3.0      54155\n",
      "4.0       4062\n",
      "Name: TP_ENSINO, dtype: int64\n",
      "1\n"
     ]
    }
   ],
   "source": [
    "#should care about the nulls into scope filter features?\n",
    "print(ENEM['TP_ENSINO'].value_counts())\n",
    "print(ENEM['TP_ENSINO'].isnull().sum())\n",
    "#NO, IT'S LOWER"
   ]
  },
  {
   "cell_type": "code",
   "execution_count": 113,
   "metadata": {
    "ExecuteTime": {
     "end_time": "2021-11-09T18:39:46.927381Z",
     "start_time": "2021-11-09T18:39:46.416061Z"
    }
   },
   "outputs": [
    {
     "name": "stdout",
     "output_type": "stream",
     "text": [
      "drop out 190408 who not attend regular and prof approachs schools\n"
     ]
    }
   ],
   "source": [
    "print('drop out',(ENEM.TP_ENSINO!= 1).sum(), 'who not attend regular and prof approachs schools')\n",
    "ENEM = ENEM.loc[(ENEM.TP_ENSINO== 1)]\n",
    "ENEM.drop('TP_ENSINO', inplace = True, axis =1)"
   ]
  },
  {
   "cell_type": "code",
   "execution_count": 114,
   "metadata": {
    "ExecuteTime": {
     "end_time": "2021-11-09T18:39:47.021396Z",
     "start_time": "2021-11-09T18:39:46.934322Z"
    }
   },
   "outputs": [
    {
     "name": "stdout",
     "output_type": "stream",
     "text": [
      "null: NU_NOTA_CN 174494\n",
      "zero: NU_NOTA_CN 0\n",
      "null: NU_NOTA_CH 174494\n",
      "zero: NU_NOTA_CH 0\n",
      "null: NU_NOTA_LC 199480\n",
      "zero: NU_NOTA_LC 0\n",
      "null: NU_NOTA_MT 199480\n",
      "zero: NU_NOTA_MT 0\n",
      "null: NU_NOTA_REDACAO 1\n",
      "zero: NU_NOTA_REDACAO 240471\n"
     ]
    }
   ],
   "source": [
    "fields = (['NU_NOTA_CN', 'NU_NOTA_CH','NU_NOTA_LC','NU_NOTA_MT', 'NU_NOTA_REDACAO'])\n",
    "for i in fields:\n",
    "    print ('null:', i, ENEM[i].isnull().sum())\n",
    "    print ('zero:', i, (ENEM[i]== 0).sum())\n",
    "    \n",
    "    #, \"and\", ENEM.I==0)"
   ]
  },
  {
   "cell_type": "code",
   "execution_count": 115,
   "metadata": {
    "ExecuteTime": {
     "end_time": "2021-11-09T18:39:47.563336Z",
     "start_time": "2021-11-09T18:39:47.027638Z"
    }
   },
   "outputs": [],
   "source": [
    "ENEM.dropna(inplace = True, axis=0, subset=fields)\n",
    "ENEM = ENEM.loc[~(ENEM[fields] == 0).any(axis=1)]"
   ]
  },
  {
   "cell_type": "code",
   "execution_count": 116,
   "metadata": {
    "ExecuteTime": {
     "end_time": "2021-11-09T18:40:16.435008Z",
     "start_time": "2021-11-09T18:39:47.567712Z"
    }
   },
   "outputs": [
    {
     "name": "stdout",
     "output_type": "stream",
     "text": [
      "null 138\n",
      "taking off 130037\n"
     ]
    },
    {
     "data": {
      "text/plain": [
       "17.0    481219\n",
       "18.0    259996\n",
       "19.0     74409\n",
       "Name: NU_IDADE, dtype: int64"
      ]
     },
     "execution_count": 116,
     "metadata": {},
     "output_type": "execute_result"
    }
   ],
   "source": [
    "#ONLY STUDENTS AT  17 -19 YEAR OLD. WE WANT TO GET ONLY REGULAR STUDENTS THAT ARE IN LAST YEAR OF SECONDARY SCHOOL. \n",
    "#THE MICRODADOS HAVE A FIELD TO CONTROL IT. BUT IT IS NOT CONFIDENCE,DUE A TURN OUT TEAACHERS THAT EXTEND ACADEMIC YEAR\n",
    "print('null', ENEM.NU_IDADE.isnull().sum())\n",
    "#firts, fill NA with the mean of student school\n",
    "ENEM.NU_IDADE = ENEM.groupby(ENEM['CO_ESCOLA'])['NU_IDADE'].apply(lambda x: x.fillna(round(x.mean())))\n",
    "print('taking off',((ENEM.NU_IDADE <17)|(ENEM.NU_IDADE>19)).sum())\n",
    "ENEM = ENEM.loc[(ENEM.NU_IDADE >16) &  (ENEM.NU_IDADE<20)]\n",
    "ENEM.NU_IDADE.value_counts()"
   ]
  },
  {
   "cell_type": "code",
   "execution_count": 117,
   "metadata": {
    "ExecuteTime": {
     "end_time": "2021-11-09T18:40:16.900095Z",
     "start_time": "2021-11-09T18:40:16.439675Z"
    }
   },
   "outputs": [
    {
     "data": {
      "text/html": [
       "<div>\n",
       "<style scoped>\n",
       "    .dataframe tbody tr th:only-of-type {\n",
       "        vertical-align: middle;\n",
       "    }\n",
       "\n",
       "    .dataframe tbody tr th {\n",
       "        vertical-align: top;\n",
       "    }\n",
       "\n",
       "    .dataframe thead th {\n",
       "        text-align: right;\n",
       "    }\n",
       "</style>\n",
       "<table border=\"1\" class=\"dataframe\">\n",
       "  <thead>\n",
       "    <tr style=\"text-align: right;\">\n",
       "      <th></th>\n",
       "      <th>NU_NOTA_CN</th>\n",
       "      <th>NU_NOTA_CH</th>\n",
       "      <th>NU_NOTA_LC</th>\n",
       "      <th>NU_NOTA_MT</th>\n",
       "      <th>NU_NOTA_REDACAO</th>\n",
       "    </tr>\n",
       "  </thead>\n",
       "  <tbody>\n",
       "    <tr>\n",
       "      <th>count</th>\n",
       "      <td>815624.000000</td>\n",
       "      <td>815624.000000</td>\n",
       "      <td>815624.000000</td>\n",
       "      <td>815624.000000</td>\n",
       "      <td>815624.000000</td>\n",
       "    </tr>\n",
       "    <tr>\n",
       "      <th>mean</th>\n",
       "      <td>491.498913</td>\n",
       "      <td>544.844042</td>\n",
       "      <td>517.780314</td>\n",
       "      <td>518.427469</td>\n",
       "      <td>600.909917</td>\n",
       "    </tr>\n",
       "    <tr>\n",
       "      <th>std</th>\n",
       "      <td>81.377821</td>\n",
       "      <td>90.286587</td>\n",
       "      <td>76.947687</td>\n",
       "      <td>115.396425</td>\n",
       "      <td>129.206120</td>\n",
       "    </tr>\n",
       "    <tr>\n",
       "      <th>min</th>\n",
       "      <td>297.300000</td>\n",
       "      <td>269.100000</td>\n",
       "      <td>284.700000</td>\n",
       "      <td>313.400000</td>\n",
       "      <td>250.000000</td>\n",
       "    </tr>\n",
       "    <tr>\n",
       "      <th>25%</th>\n",
       "      <td>431.600000</td>\n",
       "      <td>482.100000</td>\n",
       "      <td>468.400000</td>\n",
       "      <td>426.800000</td>\n",
       "      <td>500.000000</td>\n",
       "    </tr>\n",
       "    <tr>\n",
       "      <th>50%</th>\n",
       "      <td>488.700000</td>\n",
       "      <td>546.300000</td>\n",
       "      <td>522.800000</td>\n",
       "      <td>511.000000</td>\n",
       "      <td>600.000000</td>\n",
       "    </tr>\n",
       "    <tr>\n",
       "      <th>75%</th>\n",
       "      <td>547.800000</td>\n",
       "      <td>606.500000</td>\n",
       "      <td>570.900000</td>\n",
       "      <td>596.100000</td>\n",
       "      <td>700.000000</td>\n",
       "    </tr>\n",
       "    <tr>\n",
       "      <th>max</th>\n",
       "      <td>837.600000</td>\n",
       "      <td>883.700000</td>\n",
       "      <td>795.200000</td>\n",
       "      <td>973.200000</td>\n",
       "      <td>1000.000000</td>\n",
       "    </tr>\n",
       "  </tbody>\n",
       "</table>\n",
       "</div>"
      ],
      "text/plain": [
       "          NU_NOTA_CN     NU_NOTA_CH     NU_NOTA_LC     NU_NOTA_MT  \\\n",
       "count  815624.000000  815624.000000  815624.000000  815624.000000   \n",
       "mean      491.498913     544.844042     517.780314     518.427469   \n",
       "std        81.377821      90.286587      76.947687     115.396425   \n",
       "min       297.300000     269.100000     284.700000     313.400000   \n",
       "25%       431.600000     482.100000     468.400000     426.800000   \n",
       "50%       488.700000     546.300000     522.800000     511.000000   \n",
       "75%       547.800000     606.500000     570.900000     596.100000   \n",
       "max       837.600000     883.700000     795.200000     973.200000   \n",
       "\n",
       "       NU_NOTA_REDACAO  \n",
       "count    815624.000000  \n",
       "mean        600.909917  \n",
       "std         129.206120  \n",
       "min         250.000000  \n",
       "25%         500.000000  \n",
       "50%         600.000000  \n",
       "75%         700.000000  \n",
       "max        1000.000000  "
      ]
     },
     "execution_count": 117,
     "metadata": {},
     "output_type": "execute_result"
    }
   ],
   "source": [
    "ENEM[fields].describe()"
   ]
  },
  {
   "cell_type": "code",
   "execution_count": 118,
   "metadata": {
    "ExecuteTime": {
     "end_time": "2021-11-09T18:40:17.211484Z",
     "start_time": "2021-11-09T18:40:16.905442Z"
    }
   },
   "outputs": [
    {
     "name": "stdout",
     "output_type": "stream",
     "text": [
      "taking off 33860 students of 8048 schools\n"
     ]
    }
   ],
   "source": [
    "#Only schools with at least 10 students \n",
    "filter = ENEM.loc[ENEM.groupby('CO_ESCOLA')['CO_ESCOLA'].transform('count')<=9]\n",
    "print('taking off',filter.shape[0], 'students of', filter.drop_duplicates('CO_ESCOLA').shape[0], 'schools')\n",
    "ENEM = ENEM.loc[~ENEM.CO_ESCOLA.isin(filter.CO_ESCOLA)]"
   ]
  },
  {
   "cell_type": "code",
   "execution_count": 119,
   "metadata": {
    "ExecuteTime": {
     "end_time": "2021-11-09T18:40:17.415794Z",
     "start_time": "2021-11-09T18:40:17.216772Z"
    }
   },
   "outputs": [
    {
     "data": {
      "text/plain": [
       "72595"
      ]
     },
     "execution_count": 119,
     "metadata": {},
     "output_type": "execute_result"
    }
   ],
   "source": [
    "#Classes on Census \n",
    "#Only regular classes\n",
    "C_CLASS = C_CLASS.loc[C_CLASS['CO_MOD_ENSINO']==1]\n",
    "#Only third year of secondary school\n",
    "step_class = [27,28,32,33,37,38] # \n",
    "# take missing as regular secondary education, since these schools will be filtred by ENEM and Teacher database.\n",
    "C_CLASS.IN_ETAPA_ENSINO.fillna(27, inplace=True )\n",
    "\n",
    "C_CLASS = C_CLASS.loc[C_CLASS['IN_ETAPA_ENSINO'].isin(step_class )]\n",
    "C_CLASS.shape[0]"
   ]
  },
  {
   "cell_type": "markdown",
   "metadata": {},
   "source": [
    "#### Classes - Applying the same filter of ENEM (regular class, last year), since is impossible merge these datasets on student grain. This way, I'm trying to take only classes informations from the same students at ENEM"
   ]
  },
  {
   "cell_type": "markdown",
   "metadata": {
    "ExecuteTime": {
     "end_time": "2021-02-19T14:56:41.738938Z",
     "start_time": "2021-02-19T14:56:41.706901Z"
    }
   },
   "source": [
    "### Treatment "
   ]
  },
  {
   "cell_type": "markdown",
   "metadata": {},
   "source": [
    "ENEM"
   ]
  },
  {
   "cell_type": "code",
   "execution_count": 120,
   "metadata": {
    "ExecuteTime": {
     "end_time": "2021-11-09T18:40:17.975287Z",
     "start_time": "2021-11-09T18:40:17.421641Z"
    }
   },
   "outputs": [
    {
     "data": {
      "text/plain": [
       "TP_SEXO            0\n",
       "TP_COR_RACA        0\n",
       "EDU_PAI            0\n",
       "EDU_MAE            0\n",
       "QT_PESSOAS_CASA    0\n",
       "RENDA_MENSAL       0\n",
       "dtype: int64"
      ]
     },
     "execution_count": 120,
     "metadata": {},
     "output_type": "execute_result"
    }
   ],
   "source": [
    "fields = ['TP_SEXO', 'TP_COR_RACA', 'EDU_PAI', 'EDU_MAE','QT_PESSOAS_CASA', 'RENDA_MENSAL']\n",
    "ENEM[fields].isnull().sum()"
   ]
  },
  {
   "cell_type": "code",
   "execution_count": 121,
   "metadata": {
    "ExecuteTime": {
     "end_time": "2021-11-09T18:40:18.909314Z",
     "start_time": "2021-11-09T18:40:17.988979Z"
    }
   },
   "outputs": [
    {
     "name": "stdout",
     "output_type": "stream",
     "text": [
      "TP_SEXO Index(['F', 'M'], dtype='object')\n",
      "TP_COR_RACA Float64Index([1.0, 3.0, 2.0, 0.0, 4.0, 5.0], dtype='float64')\n",
      "EDU_PAI Index(['C', 'A', 'B', 'D', 'I', 'E', 'H', 'F', 'G'], dtype='object')\n",
      "EDU_MAE Index(['C', 'B', 'A', 'D', 'E', 'I', 'H', 'F', 'G'], dtype='object')\n",
      "QT_PESSOAS_CASA Index(['B', 'A', 'C', 'D', 'E'], dtype='object')\n",
      "RENDA_MENSAL Index(['B', 'A', 'C', 'D', 'G', 'E', 'F', 'H'], dtype='object')\n"
     ]
    }
   ],
   "source": [
    "#Stranger patterns?\n",
    "for i in fields:\n",
    "    print(i,ENEM[i].value_counts().index)"
   ]
  },
  {
   "cell_type": "code",
   "execution_count": 122,
   "metadata": {
    "ExecuteTime": {
     "end_time": "2021-11-09T18:40:19.699258Z",
     "start_time": "2021-11-09T18:40:18.919201Z"
    }
   },
   "outputs": [],
   "source": [
    "#Order relation, is better for numeric categories.\n",
    "categorical = ['TP_SEXO', 'EDU_PAI', 'EDU_MAE','QT_PESSOAS_CASA', 'RENDA_MENSAL']\n",
    "for i in categorical:\n",
    "    codes, uniques = pd.factorize(ENEM[i], sort=True)\n",
    "    ENEM[i] = codes\n",
    "    "
   ]
  },
  {
   "cell_type": "code",
   "execution_count": 123,
   "metadata": {
    "ExecuteTime": {
     "end_time": "2021-11-09T18:40:20.278437Z",
     "start_time": "2021-11-09T18:40:19.704363Z"
    }
   },
   "outputs": [],
   "source": [
    "# Paring with default categories\n",
    "\n",
    "ENEM.loc[ENEM['EDU_PAI']==0, 'EDU_PAI_TEMP']=1\n",
    "ENEM.loc[ENEM['EDU_PAI']==1, 'EDU_PAI_TEMP']=2\n",
    "ENEM.loc[ENEM['EDU_PAI']==2, 'EDU_PAI_TEMP']=3\n",
    "ENEM.loc[ENEM['EDU_PAI']==3, 'EDU_PAI_TEMP']=4\n",
    "ENEM.loc[ENEM['EDU_PAI']==4, 'EDU_PAI_TEMP']=5\n",
    "ENEM.loc[ENEM['EDU_PAI']==5, 'EDU_PAI_TEMP']=5\n",
    "ENEM.loc[ENEM['EDU_PAI']==6, 'EDU_PAI_TEMP']=5\n",
    "ENEM.loc[ENEM['EDU_PAI']==7, 'EDU_PAI_TEMP']=0\n",
    "ENEM.loc[ENEM['EDU_PAI']==8, 'EDU_PAI_TEMP']=0\n",
    "\n",
    "\n",
    "ENEM.loc[ENEM['EDU_MAE']==0, 'EDU_MAE_TEMP']=1\n",
    "ENEM.loc[ENEM['EDU_MAE']==1, 'EDU_MAE_TEMP']=2\n",
    "ENEM.loc[ENEM['EDU_MAE']==2, 'EDU_MAE_TEMP']=3\n",
    "ENEM.loc[ENEM['EDU_MAE']==3, 'EDU_MAE_TEMP']=4\n",
    "ENEM.loc[ENEM['EDU_MAE']==4, 'EDU_MAE_TEMP']=5\n",
    "ENEM.loc[ENEM['EDU_MAE']==5, 'EDU_MAE_TEMP']=5\n",
    "ENEM.loc[ENEM['EDU_MAE']==6, 'EDU_MAE_TEMP']=5\n",
    "ENEM.loc[ENEM['EDU_MAE']==7, 'EDU_MAE_TEMP']=0\n",
    "ENEM.loc[ENEM['EDU_MAE']==8, 'EDU_MAE_TEMP']=0\n",
    "\n",
    "\n",
    "ENEM.loc[ENEM['QT_PESSOAS_CASA']==0, 'QT_PESSOAS_CASA_TEMP']=1\n",
    "ENEM.loc[ENEM['QT_PESSOAS_CASA']==1, 'QT_PESSOAS_CASA_TEMP']=2\n",
    "ENEM.loc[ENEM['QT_PESSOAS_CASA']==2, 'QT_PESSOAS_CASA_TEMP']=3\n",
    "ENEM.loc[ENEM['QT_PESSOAS_CASA']==3, 'QT_PESSOAS_CASA_TEMP']=3\n",
    "ENEM.loc[ENEM['QT_PESSOAS_CASA']==4, 'QT_PESSOAS_CASA_TEMP']=0\n",
    "\n",
    "\n",
    "ENEM.loc[ENEM['RENDA_MENSAL']==0, 'RENDA_MENSAL_TEMP']=1\n",
    "ENEM.loc[ENEM['RENDA_MENSAL']==1, 'RENDA_MENSAL_TEMP']=2\n",
    "ENEM.loc[ENEM['RENDA_MENSAL']==2, 'RENDA_MENSAL_TEMP']=3\n",
    "ENEM.loc[ENEM['RENDA_MENSAL']==3, 'RENDA_MENSAL_TEMP']=4\n",
    "ENEM.loc[ENEM['RENDA_MENSAL']==4, 'RENDA_MENSAL_TEMP']=5\n",
    "ENEM.loc[ENEM['RENDA_MENSAL']==5, 'RENDA_MENSAL_TEMP']=5\n",
    "ENEM.loc[ENEM['RENDA_MENSAL']==6, 'RENDA_MENSAL_TEMP']=5\n",
    "ENEM.loc[ENEM['RENDA_MENSAL']==7, 'RENDA_MENSAL_TEMP']=0\n",
    "\n",
    "\n"
   ]
  },
  {
   "cell_type": "code",
   "execution_count": 124,
   "metadata": {
    "ExecuteTime": {
     "end_time": "2021-11-09T18:40:20.306981Z",
     "start_time": "2021-11-09T18:40:20.283571Z"
    }
   },
   "outputs": [],
   "source": [
    "#back to original columns\n",
    "ENEM['EDU_PAI'] = ENEM['EDU_PAI_TEMP']\n",
    "ENEM['EDU_MAE'] = ENEM['EDU_MAE_TEMP']\n",
    "ENEM['QT_PESSOAS_CASA'] = ENEM['QT_PESSOAS_CASA_TEMP']\n",
    "ENEM['RENDA_MENSAL'] = ENEM['RENDA_MENSAL_TEMP']\n"
   ]
  },
  {
   "cell_type": "code",
   "execution_count": 125,
   "metadata": {
    "ExecuteTime": {
     "end_time": "2021-11-09T18:40:20.502029Z",
     "start_time": "2021-11-09T18:40:20.312398Z"
    }
   },
   "outputs": [],
   "source": [
    "#drop temps\n",
    "\n",
    "ENEM.drop(['EDU_PAI_TEMP', 'EDU_MAE_TEMP', 'QT_PESSOAS_CASA_TEMP','RENDA_MENSAL_TEMP'], axis=1, inplace=True)"
   ]
  },
  {
   "cell_type": "code",
   "execution_count": 126,
   "metadata": {
    "ExecuteTime": {
     "end_time": "2021-11-09T18:40:20.516525Z",
     "start_time": "2021-11-09T18:40:20.507508Z"
    }
   },
   "outputs": [
    {
     "name": "stdout",
     "output_type": "stream",
     "text": [
      "total students considered: 781764\n"
     ]
    }
   ],
   "source": [
    "print('total students considered:',ENEM.shape[0])\n",
    "     "
   ]
  },
  {
   "cell_type": "markdown",
   "metadata": {},
   "source": [
    "CENSUS - SCHOOL"
   ]
  },
  {
   "cell_type": "code",
   "execution_count": 127,
   "metadata": {
    "ExecuteTime": {
     "end_time": "2021-11-09T18:40:21.098473Z",
     "start_time": "2021-11-09T18:40:20.523363Z"
    }
   },
   "outputs": [
    {
     "data": {
      "text/html": [
       "<div>\n",
       "<style scoped>\n",
       "    .dataframe tbody tr th:only-of-type {\n",
       "        vertical-align: middle;\n",
       "    }\n",
       "\n",
       "    .dataframe tbody tr th {\n",
       "        vertical-align: top;\n",
       "    }\n",
       "\n",
       "    .dataframe thead th {\n",
       "        text-align: right;\n",
       "    }\n",
       "</style>\n",
       "<table border=\"1\" class=\"dataframe\">\n",
       "  <thead>\n",
       "    <tr style=\"text-align: right;\">\n",
       "      <th></th>\n",
       "      <th>CO_ESCOLA</th>\n",
       "      <th>CO_MUNICIPIO</th>\n",
       "      <th>CO_UF</th>\n",
       "      <th>CO_DEPENDENCIA_ADM</th>\n",
       "      <th>IN_AGUA_INEXISTENTE</th>\n",
       "      <th>IN_ESGOTO_INEXISTENTE</th>\n",
       "      <th>IN_ENERGIA_INEXISTENTE</th>\n",
       "      <th>IN_LABORATORIO_INFORMATICA</th>\n",
       "      <th>IN_LABORATORIO_CIENCIAS</th>\n",
       "      <th>IN_SALA_ATENDIMENTO_ESPECIAL</th>\n",
       "      <th>IN_BIBLIOTECA</th>\n",
       "      <th>IN_SALA_LEITURA</th>\n",
       "      <th>IN_BANHEIRO</th>\n",
       "      <th>IN_BANHEIRO_PNE</th>\n",
       "      <th>QT_SALAS_UTILIZADAS</th>\n",
       "      <th>QT_EQUIP_TV</th>\n",
       "      <th>QT_EQUIP_DVD</th>\n",
       "      <th>QT_EQUIP_COPIADORA</th>\n",
       "      <th>QT_EQUIP_IMPRESSORA</th>\n",
       "      <th>QT_COMP_ALUNO</th>\n",
       "      <th>IN_INTERNET</th>\n",
       "      <th>IN_BANDA_LARGA</th>\n",
       "      <th>QT_FUNCIONARIOS</th>\n",
       "      <th>IN_ALIMENTACAO</th>\n",
       "      <th>IN_COMUM_MEDIO_MEDIO</th>\n",
       "      <th>IN_COMUM_MEDIO_INTEGRADO</th>\n",
       "      <th>IN_COMUM_MEDIO_NORMAL</th>\n",
       "      <th>IN_SALA_PROFESSOR</th>\n",
       "      <th>IN_QUADRA_ESPORTES</th>\n",
       "      <th>IN_COZINHA</th>\n",
       "      <th>IN_EQUIP_PARABOLICA</th>\n",
       "      <th>IN_ATIV_COMPLEMENTAR</th>\n",
       "    </tr>\n",
       "  </thead>\n",
       "  <tbody>\n",
       "    <tr>\n",
       "      <th>0</th>\n",
       "      <td>0</td>\n",
       "      <td>0</td>\n",
       "      <td>0</td>\n",
       "      <td>0</td>\n",
       "      <td>0</td>\n",
       "      <td>0</td>\n",
       "      <td>0</td>\n",
       "      <td>0</td>\n",
       "      <td>0</td>\n",
       "      <td>0</td>\n",
       "      <td>0</td>\n",
       "      <td>0</td>\n",
       "      <td>0</td>\n",
       "      <td>0</td>\n",
       "      <td>0</td>\n",
       "      <td>0</td>\n",
       "      <td>0</td>\n",
       "      <td>0</td>\n",
       "      <td>0</td>\n",
       "      <td>991</td>\n",
       "      <td>0</td>\n",
       "      <td>0</td>\n",
       "      <td>0</td>\n",
       "      <td>0</td>\n",
       "      <td>0</td>\n",
       "      <td>0</td>\n",
       "      <td>0</td>\n",
       "      <td>0</td>\n",
       "      <td>0</td>\n",
       "      <td>0</td>\n",
       "      <td>0</td>\n",
       "      <td>0</td>\n",
       "    </tr>\n",
       "  </tbody>\n",
       "</table>\n",
       "</div>"
      ],
      "text/plain": [
       "   CO_ESCOLA  CO_MUNICIPIO  CO_UF  CO_DEPENDENCIA_ADM  IN_AGUA_INEXISTENTE  \\\n",
       "0          0             0      0                   0                    0   \n",
       "\n",
       "   IN_ESGOTO_INEXISTENTE  IN_ENERGIA_INEXISTENTE  IN_LABORATORIO_INFORMATICA  \\\n",
       "0                      0                       0                           0   \n",
       "\n",
       "   IN_LABORATORIO_CIENCIAS  IN_SALA_ATENDIMENTO_ESPECIAL  IN_BIBLIOTECA  \\\n",
       "0                        0                             0              0   \n",
       "\n",
       "   IN_SALA_LEITURA  IN_BANHEIRO  IN_BANHEIRO_PNE  QT_SALAS_UTILIZADAS  \\\n",
       "0                0            0                0                    0   \n",
       "\n",
       "   QT_EQUIP_TV  QT_EQUIP_DVD  QT_EQUIP_COPIADORA  QT_EQUIP_IMPRESSORA  \\\n",
       "0            0             0                   0                    0   \n",
       "\n",
       "   QT_COMP_ALUNO  IN_INTERNET  IN_BANDA_LARGA  QT_FUNCIONARIOS  \\\n",
       "0            991            0               0                0   \n",
       "\n",
       "   IN_ALIMENTACAO  IN_COMUM_MEDIO_MEDIO  IN_COMUM_MEDIO_INTEGRADO  \\\n",
       "0               0                     0                         0   \n",
       "\n",
       "   IN_COMUM_MEDIO_NORMAL  IN_SALA_PROFESSOR  IN_QUADRA_ESPORTES  IN_COZINHA  \\\n",
       "0                      0                  0                   0           0   \n",
       "\n",
       "   IN_EQUIP_PARABOLICA  IN_ATIV_COMPLEMENTAR  \n",
       "0                    0                     0  "
      ]
     },
     "execution_count": 127,
     "metadata": {},
     "output_type": "execute_result"
    }
   ],
   "source": [
    "#Taking only schools present at ALL DATABASES\n",
    "C_SCHOOL = C_SCHOOL.loc[(C_SCHOOL.CO_ESCOLA.isin(ENEM.CO_ESCOLA)) & (C_SCHOOL.CO_ESCOLA.isin(C_CLASS.CO_ESCOLA)) &\n",
    "                                                        (C_SCHOOL.CO_ESCOLA.isin(C_TEACHER.CO_ESCOLA))]\n",
    "C_SCHOOL.isnull().sum().to_frame().T"
   ]
  },
  {
   "cell_type": "code",
   "execution_count": 128,
   "metadata": {
    "ExecuteTime": {
     "end_time": "2021-11-09T18:40:21.284850Z",
     "start_time": "2021-11-09T18:40:21.104424Z"
    }
   },
   "outputs": [],
   "source": [
    "# IN = Mode\n",
    "# QT - Mean\n",
    "QT = C_SCHOOL.filter(regex=(\"^QT_*\")).columns\n",
    "IN = C_SCHOOL.filter(regex=(\"^IN_*\")).columns\n",
    "\n",
    "for i in IN:\n",
    "    C_SCHOOL[i].fillna(C_SCHOOL[i].mean(), inplace = True)\n",
    "for i in QT:\n",
    "    C_SCHOOL[i].fillna(Counter(C_SCHOOL[i]).most_common()[0][0], inplace = True)"
   ]
  },
  {
   "cell_type": "code",
   "execution_count": 129,
   "metadata": {
    "ExecuteTime": {
     "end_time": "2021-11-09T18:40:21.300867Z",
     "start_time": "2021-11-09T18:40:21.290485Z"
    }
   },
   "outputs": [
    {
     "name": "stdout",
     "output_type": "stream",
     "text": [
      "total schools considered: 17964\n"
     ]
    }
   ],
   "source": [
    "print('total schools considered:',C_SCHOOL.shape[0])"
   ]
  },
  {
   "cell_type": "markdown",
   "metadata": {
    "ExecuteTime": {
     "end_time": "2021-02-19T16:32:02.898901Z",
     "start_time": "2021-02-19T16:32:02.882867Z"
    }
   },
   "source": [
    "CENSUS - CLASS"
   ]
  },
  {
   "cell_type": "code",
   "execution_count": 130,
   "metadata": {
    "ExecuteTime": {
     "end_time": "2021-11-09T18:40:21.376697Z",
     "start_time": "2021-11-09T18:40:21.306914Z"
    }
   },
   "outputs": [
    {
     "data": {
      "text/html": [
       "<div>\n",
       "<style scoped>\n",
       "    .dataframe tbody tr th:only-of-type {\n",
       "        vertical-align: middle;\n",
       "    }\n",
       "\n",
       "    .dataframe tbody tr th {\n",
       "        vertical-align: top;\n",
       "    }\n",
       "\n",
       "    .dataframe thead th {\n",
       "        text-align: right;\n",
       "    }\n",
       "</style>\n",
       "<table border=\"1\" class=\"dataframe\">\n",
       "  <thead>\n",
       "    <tr style=\"text-align: right;\">\n",
       "      <th></th>\n",
       "      <th>CO_ESCOLA</th>\n",
       "      <th>CO_MUNICIPIO</th>\n",
       "      <th>CO_UF</th>\n",
       "      <th>CO_DEPENDENCIA_ADM</th>\n",
       "      <th>IN_AGUA_INEXISTENTE</th>\n",
       "      <th>IN_ESGOTO_INEXISTENTE</th>\n",
       "      <th>IN_ENERGIA_INEXISTENTE</th>\n",
       "      <th>IN_LABORATORIO_INFORMATICA</th>\n",
       "      <th>IN_LABORATORIO_CIENCIAS</th>\n",
       "      <th>IN_SALA_ATENDIMENTO_ESPECIAL</th>\n",
       "      <th>IN_BIBLIOTECA</th>\n",
       "      <th>IN_SALA_LEITURA</th>\n",
       "      <th>IN_BANHEIRO</th>\n",
       "      <th>IN_BANHEIRO_PNE</th>\n",
       "      <th>QT_SALAS_UTILIZADAS</th>\n",
       "      <th>QT_EQUIP_TV</th>\n",
       "      <th>QT_EQUIP_DVD</th>\n",
       "      <th>QT_EQUIP_COPIADORA</th>\n",
       "      <th>QT_EQUIP_IMPRESSORA</th>\n",
       "      <th>QT_COMP_ALUNO</th>\n",
       "      <th>IN_INTERNET</th>\n",
       "      <th>IN_BANDA_LARGA</th>\n",
       "      <th>QT_FUNCIONARIOS</th>\n",
       "      <th>IN_ALIMENTACAO</th>\n",
       "      <th>IN_COMUM_MEDIO_MEDIO</th>\n",
       "      <th>IN_COMUM_MEDIO_INTEGRADO</th>\n",
       "      <th>IN_COMUM_MEDIO_NORMAL</th>\n",
       "      <th>IN_SALA_PROFESSOR</th>\n",
       "      <th>IN_QUADRA_ESPORTES</th>\n",
       "      <th>IN_COZINHA</th>\n",
       "      <th>IN_EQUIP_PARABOLICA</th>\n",
       "      <th>IN_ATIV_COMPLEMENTAR</th>\n",
       "    </tr>\n",
       "  </thead>\n",
       "  <tbody>\n",
       "    <tr>\n",
       "      <th>0</th>\n",
       "      <td>0</td>\n",
       "      <td>0</td>\n",
       "      <td>0</td>\n",
       "      <td>0</td>\n",
       "      <td>0</td>\n",
       "      <td>0</td>\n",
       "      <td>0</td>\n",
       "      <td>0</td>\n",
       "      <td>0</td>\n",
       "      <td>0</td>\n",
       "      <td>0</td>\n",
       "      <td>0</td>\n",
       "      <td>0</td>\n",
       "      <td>0</td>\n",
       "      <td>0</td>\n",
       "      <td>0</td>\n",
       "      <td>0</td>\n",
       "      <td>0</td>\n",
       "      <td>0</td>\n",
       "      <td>0</td>\n",
       "      <td>0</td>\n",
       "      <td>0</td>\n",
       "      <td>0</td>\n",
       "      <td>0</td>\n",
       "      <td>0</td>\n",
       "      <td>0</td>\n",
       "      <td>0</td>\n",
       "      <td>0</td>\n",
       "      <td>0</td>\n",
       "      <td>0</td>\n",
       "      <td>0</td>\n",
       "      <td>0</td>\n",
       "    </tr>\n",
       "  </tbody>\n",
       "</table>\n",
       "</div>"
      ],
      "text/plain": [
       "   CO_ESCOLA  CO_MUNICIPIO  CO_UF  CO_DEPENDENCIA_ADM  IN_AGUA_INEXISTENTE  \\\n",
       "0          0             0      0                   0                    0   \n",
       "\n",
       "   IN_ESGOTO_INEXISTENTE  IN_ENERGIA_INEXISTENTE  IN_LABORATORIO_INFORMATICA  \\\n",
       "0                      0                       0                           0   \n",
       "\n",
       "   IN_LABORATORIO_CIENCIAS  IN_SALA_ATENDIMENTO_ESPECIAL  IN_BIBLIOTECA  \\\n",
       "0                        0                             0              0   \n",
       "\n",
       "   IN_SALA_LEITURA  IN_BANHEIRO  IN_BANHEIRO_PNE  QT_SALAS_UTILIZADAS  \\\n",
       "0                0            0                0                    0   \n",
       "\n",
       "   QT_EQUIP_TV  QT_EQUIP_DVD  QT_EQUIP_COPIADORA  QT_EQUIP_IMPRESSORA  \\\n",
       "0            0             0                   0                    0   \n",
       "\n",
       "   QT_COMP_ALUNO  IN_INTERNET  IN_BANDA_LARGA  QT_FUNCIONARIOS  \\\n",
       "0              0            0               0                0   \n",
       "\n",
       "   IN_ALIMENTACAO  IN_COMUM_MEDIO_MEDIO  IN_COMUM_MEDIO_INTEGRADO  \\\n",
       "0               0                     0                         0   \n",
       "\n",
       "   IN_COMUM_MEDIO_NORMAL  IN_SALA_PROFESSOR  IN_QUADRA_ESPORTES  IN_COZINHA  \\\n",
       "0                      0                  0                   0           0   \n",
       "\n",
       "   IN_EQUIP_PARABOLICA  IN_ATIV_COMPLEMENTAR  \n",
       "0                    0                     0  "
      ]
     },
     "execution_count": 130,
     "metadata": {},
     "output_type": "execute_result"
    }
   ],
   "source": [
    "C_CLASS = C_CLASS.loc[(C_CLASS.CO_ESCOLA.isin(C_SCHOOL.CO_ESCOLA))]\n",
    "C_SCHOOL.isnull().sum().to_frame().T"
   ]
  },
  {
   "cell_type": "markdown",
   "metadata": {},
   "source": [
    "CENSUS -TEACHER"
   ]
  },
  {
   "cell_type": "code",
   "execution_count": 131,
   "metadata": {
    "ExecuteTime": {
     "end_time": "2021-11-09T18:40:26.698183Z",
     "start_time": "2021-11-09T18:40:21.381804Z"
    }
   },
   "outputs": [
    {
     "data": {
      "text/html": [
       "<div>\n",
       "<style scoped>\n",
       "    .dataframe tbody tr th:only-of-type {\n",
       "        vertical-align: middle;\n",
       "    }\n",
       "\n",
       "    .dataframe tbody tr th {\n",
       "        vertical-align: top;\n",
       "    }\n",
       "\n",
       "    .dataframe thead th {\n",
       "        text-align: right;\n",
       "    }\n",
       "</style>\n",
       "<table border=\"1\" class=\"dataframe\">\n",
       "  <thead>\n",
       "    <tr style=\"text-align: right;\">\n",
       "      <th></th>\n",
       "      <th>CO_PROFESSOR</th>\n",
       "      <th>CO_ESCOLA</th>\n",
       "      <th>CO_TURMA</th>\n",
       "      <th>IN_ESPECIALIZACAO</th>\n",
       "      <th>IN_MESTRADO</th>\n",
       "      <th>IN_DOUTORADO</th>\n",
       "      <th>ID_QUIMICA</th>\n",
       "      <th>ID_FISICA</th>\n",
       "      <th>ID_MATEMATICA</th>\n",
       "      <th>ID_BIOLOGIA</th>\n",
       "      <th>ID_SOCIOLOGIA</th>\n",
       "      <th>ID_LINGUA_LITERAT_PORTUGUESA</th>\n",
       "      <th>ID_LINGUA_LITERAT_INGLES</th>\n",
       "      <th>ID_LINGUA_LITERAT_ESPANHOL</th>\n",
       "      <th>ID_ARTES</th>\n",
       "      <th>ID_EDUCACAO_FISICA</th>\n",
       "      <th>ID_HISTORIA</th>\n",
       "      <th>ID_GEOGRAFIA</th>\n",
       "      <th>ID_FILOSOFIA</th>\n",
       "      <th>CO_AREA_OCDE_1</th>\n",
       "      <th>ID_LICENCIATURA_1</th>\n",
       "      <th>CO_AREA_OCDE_2</th>\n",
       "      <th>ID_LICENCIATURA_2</th>\n",
       "      <th>CO_AREA_OCDE_3</th>\n",
       "      <th>ID_LICENCIATURA_3</th>\n",
       "    </tr>\n",
       "  </thead>\n",
       "  <tbody>\n",
       "    <tr>\n",
       "      <th>0</th>\n",
       "      <td>0</td>\n",
       "      <td>0</td>\n",
       "      <td>0</td>\n",
       "      <td>76180</td>\n",
       "      <td>76180</td>\n",
       "      <td>76180</td>\n",
       "      <td>0</td>\n",
       "      <td>0</td>\n",
       "      <td>0</td>\n",
       "      <td>0</td>\n",
       "      <td>0</td>\n",
       "      <td>0</td>\n",
       "      <td>0</td>\n",
       "      <td>0</td>\n",
       "      <td>0</td>\n",
       "      <td>0</td>\n",
       "      <td>0</td>\n",
       "      <td>0</td>\n",
       "      <td>0</td>\n",
       "      <td>76180</td>\n",
       "      <td>76180</td>\n",
       "      <td>680099</td>\n",
       "      <td>680099</td>\n",
       "      <td>733783</td>\n",
       "      <td>733783</td>\n",
       "    </tr>\n",
       "  </tbody>\n",
       "</table>\n",
       "</div>"
      ],
      "text/plain": [
       "   CO_PROFESSOR  CO_ESCOLA  CO_TURMA  IN_ESPECIALIZACAO  IN_MESTRADO  \\\n",
       "0             0          0         0              76180        76180   \n",
       "\n",
       "   IN_DOUTORADO  ID_QUIMICA  ID_FISICA  ID_MATEMATICA  ID_BIOLOGIA  \\\n",
       "0         76180           0          0              0            0   \n",
       "\n",
       "   ID_SOCIOLOGIA  ID_LINGUA_LITERAT_PORTUGUESA  ID_LINGUA_LITERAT_INGLES  \\\n",
       "0              0                             0                         0   \n",
       "\n",
       "   ID_LINGUA_LITERAT_ESPANHOL  ID_ARTES  ID_EDUCACAO_FISICA  ID_HISTORIA  \\\n",
       "0                           0         0                   0            0   \n",
       "\n",
       "   ID_GEOGRAFIA  ID_FILOSOFIA  CO_AREA_OCDE_1  ID_LICENCIATURA_1  \\\n",
       "0             0             0           76180              76180   \n",
       "\n",
       "   CO_AREA_OCDE_2  ID_LICENCIATURA_2  CO_AREA_OCDE_3  ID_LICENCIATURA_3  \n",
       "0          680099             680099          733783             733783  "
      ]
     },
     "execution_count": 131,
     "metadata": {},
     "output_type": "execute_result"
    }
   ],
   "source": [
    "C_TEACHER = C_TEACHER.drop_duplicates(['CO_PROFESSOR', 'CO_ESCOLA']) # We have multiple teachers for school due classes. It is importante just one record\n",
    "C_TEACHER = C_TEACHER.loc[(C_TEACHER.CO_ESCOLA.isin(C_SCHOOL.CO_ESCOLA))]\n",
    "C_TEACHER.isnull().sum().to_frame().T"
   ]
  },
  {
   "cell_type": "code",
   "execution_count": 132,
   "metadata": {
    "ExecuteTime": {
     "end_time": "2021-11-09T18:40:26.731793Z",
     "start_time": "2021-11-09T18:40:26.703453Z"
    }
   },
   "outputs": [
    {
     "name": "stdout",
     "output_type": "stream",
     "text": [
      "total teachers considered: 738344\n"
     ]
    }
   ],
   "source": [
    "C_TEACHER.fillna({'IN_ESPECIALIZACAO':0, 'IN_MESTRADO':0, 'IN_DOUTORADO':0}, inplace =True)\n",
    "print('total teachers considered:',C_TEACHER.shape[0])"
   ]
  },
  {
   "cell_type": "markdown",
   "metadata": {},
   "source": [
    "### New Features"
   ]
  },
  {
   "cell_type": "markdown",
   "metadata": {},
   "source": [
    "ENEM"
   ]
  },
  {
   "cell_type": "code",
   "execution_count": 133,
   "metadata": {
    "ExecuteTime": {
     "end_time": "2021-11-09T18:40:26.775940Z",
     "start_time": "2021-11-09T18:40:26.737035Z"
    }
   },
   "outputs": [],
   "source": [
    "#Final Media, Target\n",
    "ENEM['NU_NOTA_GERAL'] = (ENEM.NU_NOTA_CN + ENEM.NU_NOTA_CH + ENEM.NU_NOTA_LC + ENEM.NU_NOTA_MT + ENEM.NU_NOTA_REDACAO)/5"
   ]
  },
  {
   "cell_type": "markdown",
   "metadata": {},
   "source": [
    "TEACHER CENSUS"
   ]
  },
  {
   "cell_type": "code",
   "execution_count": 134,
   "metadata": {
    "ExecuteTime": {
     "end_time": "2021-11-09T18:40:27.348103Z",
     "start_time": "2021-11-09T18:40:26.783185Z"
    }
   },
   "outputs": [],
   "source": [
    "C_TEACHER['TITULACAO'] = 0\n",
    "\n",
    "C_TEACHER.loc[(C_TEACHER.IN_ESPECIALIZACAO==0.0) & (C_TEACHER.IN_MESTRADO==0.0)& \n",
    "             (C_TEACHER.IN_DOUTORADO ==0.0), 'TITULACAO'] = 0\n",
    "\n",
    "C_TEACHER.loc[(C_TEACHER.IN_ESPECIALIZACAO==1.0) & (C_TEACHER.IN_MESTRADO==0.0)& \n",
    "             (C_TEACHER.IN_DOUTORADO ==0.0), 'TITULACAO'] = 1\n",
    "\n",
    "C_TEACHER.loc[(C_TEACHER.IN_ESPECIALIZACAO==1.0) & (C_TEACHER.IN_MESTRADO==1.0)& \n",
    "             (C_TEACHER.IN_DOUTORADO ==0.0), 'TITULACAO'] = 2\n",
    "\n",
    "C_TEACHER.loc[(C_TEACHER.IN_ESPECIALIZACAO==0.0) & (C_TEACHER.IN_MESTRADO==1.0)& \n",
    "             (C_TEACHER.IN_DOUTORADO ==0.0), 'TITULACAO'] = 2\n",
    "\n",
    "C_TEACHER.loc[(C_TEACHER.IN_DOUTORADO ==1.0), 'TITULACAO'] = 3\n",
    "\n",
    "#Rebuild level education information as indicator of unique level.\n",
    "C_TEACHER['NU_GRADUACAO'] = 0\n",
    "C_TEACHER['NU_ESPECIALIZACAO'] = 0\n",
    "C_TEACHER['NU_MESTRADO'] = 0\n",
    "C_TEACHER['NU_DOUTORADO'] = 0\n",
    "\n",
    "C_TEACHER.loc[C_TEACHER.TITULACAO == 0, 'NU_GRADUACAO']= 1\n",
    "C_TEACHER.loc[C_TEACHER.TITULACAO == 1, 'NU_ESPECIALIZACAO']= 1\n",
    "C_TEACHER.loc[C_TEACHER.TITULACAO == 2, 'NU_MESTRADO']= 1\n",
    "C_TEACHER.loc[C_TEACHER.TITULACAO == 3, 'NU_DOUTORADO']= 1\n",
    "\n",
    "\n",
    "C_TEACHER['NU_GRADUACAO'] = C_TEACHER.groupby('CO_ESCOLA')['NU_GRADUACAO'].transform(sum)\n",
    "C_TEACHER['NU_ESPECIALIZACAO'] = C_TEACHER.groupby('CO_ESCOLA')['NU_ESPECIALIZACAO'].transform(sum)\n",
    "C_TEACHER['NU_MESTRADO'] = C_TEACHER.groupby('CO_ESCOLA')['NU_MESTRADO'].transform(sum)\n",
    "C_TEACHER['NU_DOUTORADO'] = C_TEACHER.groupby('CO_ESCOLA')['NU_DOUTORADO'].transform(sum)\n",
    "\n",
    "\n",
    "\n",
    "#Calculating weighted indice of teacher education\n",
    "SUM= C_TEACHER.groupby('CO_ESCOLA')['TITULACAO'].transform(sum)\n",
    "COUNT =  C_TEACHER.groupby('CO_ESCOLA')['TITULACAO'].transform('count')\n",
    "C_TEACHER['TITULACAO'] = (SUM)/(COUNT*3)  \n"
   ]
  },
  {
   "cell_type": "code",
   "execution_count": 135,
   "metadata": {
    "ExecuteTime": {
     "end_time": "2021-11-09T18:40:27.967356Z",
     "start_time": "2021-11-09T18:40:27.353500Z"
    }
   },
   "outputs": [],
   "source": [
    "#In order to avoid count duplicates teacher who teachs in both subjects. Since the required training is the same\n",
    "C_TEACHER['ID_LINGUA_ESTRANGEIRA']=0\n",
    "C_TEACHER.loc[((C_TEACHER.ID_LINGUA_LITERAT_ESPANHOL==1)|\n",
    "               (C_TEACHER.ID_LINGUA_LITERAT_INGLES==1)),'ID_LINGUA_ESTRANGEIRA']=1  \n",
    "\n",
    "#In order to avoid count duplicates teacher who teachs in both subjects. Since we consindering as the same subject\n",
    "C_TEACHER['ID_FISIO_SOCIO']=0\n",
    "C_TEACHER.loc[((C_TEACHER.ID_FILOSOFIA==1)|(C_TEACHER.ID_SOCIOLOGIA==1)),'ID_FISIO_SOCIO']=1\n",
    "\n",
    "C_TEACHER['OUTROS'] = 0\n",
    "curr_teaching = ['ID_MATEMATICA', 'ID_FISICA', 'ID_QUIMICA', 'ID_HISTORIA', 'ID_BIOLOGIA', 'ID_GEOGRAFIA', \n",
    "            'ID_LINGUA_LITERAT_PORTUGUESA', 'ID_LINGUA_ESTRANGEIRA','ID_FISIO_SOCIO', 'ID_ARTES', \n",
    "            'ID_EDUCACAO_FISICA', 'OUTROS']\n",
    "\n",
    "#C_TEACHER[curr_teaching].fillna(0, inplace=True)\n",
    "C_TEACHER.loc[(C_TEACHER[curr_teaching]==0).all(axis=1), 'OUTROS'] =1\n",
    "\n",
    "#Take out teacher who do not taught in subjects related of ENEM and secondary education\n",
    "C_TEACHER = C_TEACHER.loc[C_TEACHER.OUTROS==0]\n",
    "##\n"
   ]
  },
  {
   "cell_type": "code",
   "execution_count": 136,
   "metadata": {
    "ExecuteTime": {
     "end_time": "2021-11-09T18:40:32.399521Z",
     "start_time": "2021-11-09T18:40:27.973527Z"
    }
   },
   "outputs": [],
   "source": [
    "# How many teacher for each knowlodege area?\n",
    "\n",
    "ciencias_humanas = ['ID_HISTORIA', 'ID_GEOGRAFIA','ID_FILOSOFIA', 'ID_SOCIOLOGIA']\n",
    "linguagens_codigos = ['ID_LINGUA_LITERAT_PORTUGUESA', 'ID_LINGUA_LITERAT_ESPANHOL',\n",
    "                      'ID_LINGUA_LITERAT_INGLES', 'ID_ARTES', 'ID_EDUCACAO_FISICA']\n",
    "matematica = ['ID_MATEMATICA']\n",
    "ciencias_natureza = ['ID_FISICA', 'ID_QUIMICA', 'ID_BIOLOGIA']\n",
    "\n",
    "###\n",
    "values = np.sum(C_TEACHER[ciencias_natureza].values == 1,1)\n",
    "C_TEACHER['NU_CIENCIA_NATUREZA'] = [1 if x >= 1 else 0 for x in values]\n",
    "C_TEACHER['NU_CIENCIA_NATUREZA']= C_TEACHER.groupby('CO_ESCOLA')['NU_CIENCIA_NATUREZA'].transform(sum)\n",
    "\n",
    "values = np.sum(C_TEACHER[ciencias_humanas].values == 1,1)\n",
    "C_TEACHER['NU_CIENCIAS_HUMANAS'] = [1 if x >= 1 else 0 for x in values]\n",
    "C_TEACHER['NU_CIENCIAS_HUMANAS']= C_TEACHER.groupby('CO_ESCOLA')['NU_CIENCIAS_HUMANAS'].transform(sum)\n",
    "\n",
    "values = np.sum(C_TEACHER[linguagens_codigos].values == 1,1)\n",
    "C_TEACHER['NU_LINGUAGENS_CODIGOS'] = [1 if x >= 1 else 0 for x in values]\n",
    "C_TEACHER['NU_LINGUAGENS_CODIGOS']= C_TEACHER.groupby('CO_ESCOLA')['NU_LINGUAGENS_CODIGOS'].transform(sum)\n",
    "\n",
    "C_TEACHER['NU_MATEMATICA']= C_TEACHER.groupby('CO_ESCOLA')['ID_MATEMATICA'].transform(sum)\n",
    "\n",
    "#Sum all domain teacher's number\n",
    "C_TEACHER['NU_TEACHERS_DOMAIN'] = C_TEACHER['NU_MATEMATICA']+C_TEACHER['NU_LINGUAGENS_CODIGOS']+C_TEACHER[\n",
    "    'NU_CIENCIAS_HUMANAS']+C_TEACHER['NU_CIENCIA_NATUREZA']\n",
    "\n",
    "#update domain teacher's number normalized\n",
    "C_TEACHER['NU_MATEMATICA']=C_TEACHER['NU_MATEMATICA']/C_TEACHER['NU_TEACHERS_DOMAIN']\n",
    "C_TEACHER['NU_LINGUAGENS_CODIGOS'] = C_TEACHER['NU_LINGUAGENS_CODIGOS']/C_TEACHER['NU_TEACHERS_DOMAIN']\n",
    "C_TEACHER['NU_CIENCIAS_HUMANAS'] = C_TEACHER['NU_CIENCIAS_HUMANAS']/C_TEACHER['NU_TEACHERS_DOMAIN']\n",
    "C_TEACHER['NU_CIENCIA_NATUREZA'] = C_TEACHER['NU_CIENCIA_NATUREZA']/C_TEACHER['NU_TEACHERS_DOMAIN']\n"
   ]
  },
  {
   "cell_type": "code",
   "execution_count": 137,
   "metadata": {
    "ExecuteTime": {
     "end_time": "2021-11-09T18:40:32.997753Z",
     "start_time": "2021-11-09T18:40:32.405434Z"
    }
   },
   "outputs": [],
   "source": [
    "#Number of different schools that teachers work \n",
    "C_TEACHER['NU_ESCOLAS'] = C_TEACHER.groupby('CO_PROFESSOR')['CO_ESCOLA'].transform('count')\n",
    "C_TEACHER['NU_ESCOLAS'] = C_TEACHER.groupby('CO_ESCOLA')['NU_ESCOLAS'].transform('mean')\n",
    "#Number of licensed teachers\n",
    "C_TEACHER['NU_LICENCIADOS']=C_TEACHER.groupby('CO_ESCOLA')['ID_LICENCIATURA_1'].transform(sum)\n",
    "C_TEACHER['NU_TEACHERS']=C_TEACHER.groupby('CO_ESCOLA')['ID_LICENCIATURA_1'].transform('count')\n",
    "C_TEACHER['NU_LICENCIADOS']=C_TEACHER['NU_LICENCIADOS']/C_TEACHER['NU_TEACHERS']\n",
    "C_TEACHER['NU_LICENCIADOS'].fillna(0, inplace=True)"
   ]
  },
  {
   "cell_type": "code",
   "execution_count": 138,
   "metadata": {
    "ExecuteTime": {
     "end_time": "2021-11-09T18:40:35.121800Z",
     "start_time": "2021-11-09T18:40:33.001372Z"
    }
   },
   "outputs": [],
   "source": [
    "# How about the adequate background rate of teachers\n",
    "FOR_HISTORIA = ['145F11', '225H01']\n",
    "FOR_GEOGRAFIA = ['145F10', '443G04']\n",
    "FOR_FISIO_SOCIO = ['226999','145F08', '312999', '145F24']\n",
    "FOR_ARTES = ['210A01', '146D01']\n",
    "#FOR_CIENCIAS_HUMANAS = [FOR_HISTORIA, FOR_GEOGRAFIA, FOR_FILOS_SOCIO]\n",
    "##\n",
    "FOR_LING_PORTUGUES = ['145F15','145F16', '220P01', '220L03', '220L01']\n",
    "FOR_LING_ESTRANGEIRA = ['145F16','220E01', '220L03', '145F13']\n",
    "FOR_EDUCACAO_FISICA = ['720E01']\n",
    "##\n",
    "FOR_MATEMATICA = ['461M01','145F18']\n",
    "##\n",
    "FOR_BIOLOGIA = ['145F01', '421B02']\n",
    "FOR_QUIMICA = ['442Q01','421B09', '524999', '145F21']\n",
    "FOR_FISICA = ['145F09', '421B01','441F01']\n",
    "#FOR_CIENCIAS_NATUREZA = [biologia, quimica, fisica]\n",
    "###\n",
    "C_TEACHER['FOR_MATEMATICA']=0\n",
    "C_TEACHER['FOR_FISICA']=0\n",
    "C_TEACHER['FOR_QUIMICA']=0\n",
    "C_TEACHER['FOR_HISTORIA']=0\n",
    "C_TEACHER['FOR_BIOLOGIA']=0\n",
    "C_TEACHER['FOR_GEOGRAFIA']=0\n",
    "C_TEACHER['FOR_LING_PORTUGUES']=0\n",
    "C_TEACHER['FOR_LING_ESTRANGEIRA']=0\n",
    "C_TEACHER['FOR_FISIO_SOCIO']=0\n",
    "C_TEACHER['FOR_ARTES']=0\n",
    "C_TEACHER['FOR_EDUCACAO_FISICA']=0\n",
    "\n",
    "### Set 1 for those who teaches and have adequate training for that\n",
    "C_TEACHER.loc[(C_TEACHER.ID_MATEMATICA==1) & ((C_TEACHER.CO_AREA_OCDE_1.isin(FOR_MATEMATICA))|\n",
    "              (C_TEACHER.CO_AREA_OCDE_2.isin(FOR_MATEMATICA))|\n",
    "             (C_TEACHER.CO_AREA_OCDE_3.isin(FOR_MATEMATICA))), 'FOR_MATEMATICA'] = 1\n",
    "\n",
    "C_TEACHER.loc[(C_TEACHER.ID_FISICA==1) & ((C_TEACHER.CO_AREA_OCDE_1.isin(FOR_FISICA))|\n",
    "              (C_TEACHER.CO_AREA_OCDE_2.isin(FOR_FISICA))|\n",
    "             (C_TEACHER.CO_AREA_OCDE_3.isin(FOR_FISICA))), 'FOR_FISICA'] = 1\n",
    "\n",
    "C_TEACHER.loc[(C_TEACHER.ID_QUIMICA==1) & ((C_TEACHER.CO_AREA_OCDE_1.isin(FOR_QUIMICA))|\n",
    "              (C_TEACHER.CO_AREA_OCDE_2.isin(FOR_QUIMICA))|\n",
    "             (C_TEACHER.CO_AREA_OCDE_3.isin(FOR_HISTORIA))), 'FOR_QUIMICA'] = 1\n",
    "\n",
    "C_TEACHER.loc[(C_TEACHER.ID_HISTORIA==1) & ((C_TEACHER.CO_AREA_OCDE_1.isin(FOR_HISTORIA))|\n",
    "              (C_TEACHER.CO_AREA_OCDE_2.isin(FOR_HISTORIA))|\n",
    "             (C_TEACHER.CO_AREA_OCDE_3.isin(FOR_HISTORIA))), 'FOR_HISTORIA'] = 1\n",
    "\n",
    "C_TEACHER.loc[(C_TEACHER.ID_BIOLOGIA==1) & ((C_TEACHER.CO_AREA_OCDE_1.isin(FOR_BIOLOGIA))|\n",
    "              (C_TEACHER.CO_AREA_OCDE_2.isin(FOR_BIOLOGIA))|\n",
    "             (C_TEACHER.CO_AREA_OCDE_3.isin(FOR_BIOLOGIA))), 'FOR_BIOLOGIA'] = 1\n",
    "\n",
    "C_TEACHER.loc[(C_TEACHER.ID_GEOGRAFIA==1) & ((C_TEACHER.CO_AREA_OCDE_1.isin(FOR_GEOGRAFIA))|\n",
    "              (C_TEACHER.CO_AREA_OCDE_2.isin(FOR_GEOGRAFIA))|\n",
    "             (C_TEACHER.CO_AREA_OCDE_3.isin(FOR_GEOGRAFIA))), 'FOR_GEOGRAFIA'] = 1\n",
    "\n",
    "C_TEACHER.loc[(C_TEACHER.ID_LINGUA_LITERAT_PORTUGUESA==1) & ((C_TEACHER.CO_AREA_OCDE_1.isin(FOR_LING_PORTUGUES))|\n",
    "              (C_TEACHER.CO_AREA_OCDE_2.isin(FOR_LING_PORTUGUES))|\n",
    "             (C_TEACHER.CO_AREA_OCDE_3.isin(FOR_LING_PORTUGUES))), 'FOR_LING_PORTUGUES'] = 1\n",
    "\n",
    "C_TEACHER.loc[(C_TEACHER.ID_LINGUA_ESTRANGEIRA==1) & ((C_TEACHER.CO_AREA_OCDE_1.isin(FOR_LING_ESTRANGEIRA))|\n",
    "              (C_TEACHER.CO_AREA_OCDE_2.isin(FOR_LING_ESTRANGEIRA))|\n",
    "             (C_TEACHER.CO_AREA_OCDE_3.isin(FOR_LING_ESTRANGEIRA))), 'FOR_LING_ESTRANGEIRA'] = 1   \n",
    "\n",
    "               \n",
    "C_TEACHER.loc[((C_TEACHER.ID_FILOSOFIA==1)|(C_TEACHER.ID_SOCIOLOGIA==1)) & ((C_TEACHER.CO_AREA_OCDE_1.isin(FOR_FISIO_SOCIO))|\n",
    "              (C_TEACHER.CO_AREA_OCDE_2.isin(FOR_FISIO_SOCIO))|\n",
    "             (C_TEACHER.CO_AREA_OCDE_3.isin(FOR_FISIO_SOCIO))), 'FOR_FISIO_SOCIO'] = 1   \n",
    "                                                   \n",
    "C_TEACHER.loc[(C_TEACHER.ID_ARTES==1) & ((C_TEACHER.CO_AREA_OCDE_1.isin(FOR_ARTES))|\n",
    "              (C_TEACHER.CO_AREA_OCDE_2.isin(FOR_ARTES))|\n",
    "             (C_TEACHER.CO_AREA_OCDE_3.isin(FOR_ARTES))), 'FOR_ARTES'] = 1  \n",
    "\n",
    "C_TEACHER.loc[(C_TEACHER.ID_EDUCACAO_FISICA==1) & ((C_TEACHER.CO_AREA_OCDE_1.isin(FOR_EDUCACAO_FISICA))|\n",
    "              (C_TEACHER.CO_AREA_OCDE_2.isin(FOR_EDUCACAO_FISICA))|\n",
    "             (C_TEACHER.CO_AREA_OCDE_3.isin(FOR_EDUCACAO_FISICA))), 'FOR_EDUCACAO_FISICA'] = 1  "
   ]
  },
  {
   "cell_type": "code",
   "execution_count": 139,
   "metadata": {
    "ExecuteTime": {
     "end_time": "2021-11-09T18:40:36.708204Z",
     "start_time": "2021-11-09T18:40:35.127286Z"
    }
   },
   "outputs": [],
   "source": [
    "#Computing sum of teachers with adequate training for each school\n",
    "adequate_training = ['FOR_MATEMATICA','FOR_FISICA','FOR_QUIMICA','FOR_HISTORIA','FOR_BIOLOGIA','FOR_GEOGRAFIA',\n",
    " 'FOR_LING_PORTUGUES','FOR_LING_ESTRANGEIRA','FOR_FISIO_SOCIO','FOR_ARTES', 'FOR_EDUCACAO_FISICA']\n",
    "\n",
    "for i in adequate_training:\n",
    "    C_TEACHER[i] = C_TEACHER.groupby('CO_ESCOLA')[i].transform(sum)\n",
    "    \n",
    "#Computing sum of current classes taught, whatever if they have training\n",
    "for i in curr_teaching: #defined earlier\n",
    "    C_TEACHER[i] =  C_TEACHER.groupby('CO_ESCOLA')[i].transform(sum) \n",
    "    \n",
    "#School Grain\n",
    "C_TEACHER.drop_duplicates('CO_ESCOLA', inplace = True)"
   ]
  },
  {
   "cell_type": "code",
   "execution_count": 140,
   "metadata": {
    "ExecuteTime": {
     "end_time": "2021-11-09T18:40:36.795149Z",
     "start_time": "2021-11-09T18:40:36.713290Z"
    }
   },
   "outputs": [],
   "source": [
    "# Computing the rate of adequate training ((number of current with adequate training + Number those w/o traininig*0.5)/total) for each area)\n",
    "\n",
    "C_TEACHER['IN_FOR_MAT'] = (C_TEACHER['FOR_MATEMATICA']+ (\n",
    "    (C_TEACHER['ID_MATEMATICA'] - C_TEACHER['FOR_MATEMATICA'])*0.5))/C_TEACHER['ID_MATEMATICA']\n",
    "\n",
    "C_TEACHER['IN_FOR_FIS'] = (C_TEACHER['FOR_FISICA']+ (\n",
    "    (C_TEACHER['ID_FISICA'] - C_TEACHER['FOR_FISICA'])*0.5))/C_TEACHER['ID_FISICA']\n",
    "\n",
    "C_TEACHER['IN_FOR_QUI'] = (C_TEACHER['FOR_QUIMICA']+ (\n",
    "    (C_TEACHER['ID_QUIMICA'] - C_TEACHER['FOR_QUIMICA'])*0.5))/C_TEACHER['ID_QUIMICA']\n",
    "\n",
    "C_TEACHER['IN_FOR_HIST'] = (C_TEACHER['FOR_HISTORIA']+ (\n",
    "    (C_TEACHER['ID_HISTORIA'] - C_TEACHER['FOR_HISTORIA'])*0.5))/C_TEACHER['ID_HISTORIA']\n",
    "\n",
    "C_TEACHER['IN_FOR_BIO'] = (C_TEACHER['FOR_BIOLOGIA']+ (\n",
    "    (C_TEACHER['ID_BIOLOGIA'] - C_TEACHER['FOR_BIOLOGIA'])*0.5))/C_TEACHER['ID_BIOLOGIA']\n",
    "\n",
    "C_TEACHER['IN_FOR_GEO'] = (C_TEACHER['FOR_GEOGRAFIA']+ (\n",
    "    (C_TEACHER['ID_GEOGRAFIA'] - C_TEACHER['FOR_GEOGRAFIA'])*0.5))/C_TEACHER['ID_GEOGRAFIA']\n",
    "\n",
    "C_TEACHER['IN_FOR_PORT'] = (C_TEACHER['FOR_LING_PORTUGUES']+ (\n",
    "    (C_TEACHER['ID_LINGUA_LITERAT_PORTUGUESA'] - C_TEACHER['FOR_LING_PORTUGUES'])*0.5))/C_TEACHER['ID_LINGUA_LITERAT_PORTUGUESA']\n",
    "\n",
    "C_TEACHER['IN_FOR_EST'] = (C_TEACHER['FOR_LING_ESTRANGEIRA']+ (\n",
    "    (C_TEACHER['ID_LINGUA_ESTRANGEIRA'] - C_TEACHER['FOR_LING_ESTRANGEIRA'])*0.5))/C_TEACHER['ID_LINGUA_ESTRANGEIRA']\n",
    "\n",
    "C_TEACHER['IN_FOR_FISIO_SOCIO'] = (C_TEACHER['FOR_FISIO_SOCIO']+ (\n",
    "    (C_TEACHER['ID_FISIO_SOCIO'] - C_TEACHER['FOR_FISIO_SOCIO'])*0.5))/C_TEACHER['ID_FISIO_SOCIO']\n",
    "\n",
    "C_TEACHER['IN_FOR_ARTES'] = (C_TEACHER['FOR_ARTES']+ (\n",
    "    (C_TEACHER['ID_ARTES'] - C_TEACHER['FOR_ARTES'])*0.5))/C_TEACHER['ID_ARTES']\n",
    "\n",
    "C_TEACHER['IN_FOR_ED_FISICA'] = (C_TEACHER['FOR_EDUCACAO_FISICA']+ (\n",
    "    (C_TEACHER['ID_EDUCACAO_FISICA'] - C_TEACHER['FOR_EDUCACAO_FISICA'])*0.5))/C_TEACHER['ID_EDUCACAO_FISICA']\n"
   ]
  },
  {
   "cell_type": "code",
   "execution_count": 141,
   "metadata": {
    "ExecuteTime": {
     "end_time": "2021-11-09T18:40:36.835752Z",
     "start_time": "2021-11-09T18:40:36.800583Z"
    }
   },
   "outputs": [],
   "source": [
    "#Computing a new index for each school = Teacher Adequate Training\n",
    "COLUMNS = C_TEACHER.filter(regex=(\"^IN_FOR_*\")).columns\n",
    "C_TEACHER.fillna({x:0 for x in COLUMNS}, inplace=True)\n",
    "C_TEACHER['IN_FORM_DOCENTE']=C_TEACHER.filter(regex=(\"^IN_FOR_*\")).sum(axis=1)/11\n",
    "\n",
    "#Drop indices from each subject\n",
    "#C_TEACHER.drop(COLUMNS, axis=1, inplace = True)"
   ]
  },
  {
   "cell_type": "code",
   "execution_count": 142,
   "metadata": {
    "ExecuteTime": {
     "end_time": "2021-11-09T18:40:36.866809Z",
     "start_time": "2021-11-09T18:40:36.840648Z"
    }
   },
   "outputs": [
    {
     "data": {
      "text/plain": [
       "Index(['CO_ESCOLA', 'ID_QUIMICA', 'ID_FISICA', 'ID_MATEMATICA', 'ID_BIOLOGIA',\n",
       "       'ID_SOCIOLOGIA', 'ID_LINGUA_LITERAT_PORTUGUESA',\n",
       "       'ID_LINGUA_LITERAT_INGLES', 'ID_LINGUA_LITERAT_ESPANHOL', 'ID_ARTES',\n",
       "       'ID_EDUCACAO_FISICA', 'ID_HISTORIA', 'ID_GEOGRAFIA', 'ID_FILOSOFIA',\n",
       "       'ID_LICENCIATURA_1', 'ID_LICENCIATURA_2', 'ID_LICENCIATURA_3',\n",
       "       'TITULACAO', 'NU_GRADUACAO', 'NU_ESPECIALIZACAO', 'NU_MESTRADO',\n",
       "       'NU_DOUTORADO', 'ID_LINGUA_ESTRANGEIRA', 'ID_FISIO_SOCIO',\n",
       "       'NU_CIENCIA_NATUREZA', 'NU_CIENCIAS_HUMANAS', 'NU_LINGUAGENS_CODIGOS',\n",
       "       'NU_MATEMATICA', 'NU_TEACHERS_DOMAIN', 'NU_ESCOLAS', 'NU_LICENCIADOS',\n",
       "       'NU_TEACHERS', 'FOR_MATEMATICA', 'FOR_FISICA', 'FOR_QUIMICA',\n",
       "       'FOR_HISTORIA', 'FOR_BIOLOGIA', 'FOR_GEOGRAFIA', 'FOR_LING_PORTUGUES',\n",
       "       'FOR_LING_ESTRANGEIRA', 'FOR_FISIO_SOCIO', 'FOR_ARTES',\n",
       "       'FOR_EDUCACAO_FISICA', 'IN_FOR_MAT', 'IN_FOR_FIS', 'IN_FOR_QUI',\n",
       "       'IN_FOR_HIST', 'IN_FOR_BIO', 'IN_FOR_GEO', 'IN_FOR_PORT', 'IN_FOR_EST',\n",
       "       'IN_FOR_FISIO_SOCIO', 'IN_FOR_ARTES', 'IN_FOR_ED_FISICA',\n",
       "       'IN_FORM_DOCENTE'],\n",
       "      dtype='object')"
      ]
     },
     "execution_count": 142,
     "metadata": {},
     "output_type": "execute_result"
    }
   ],
   "source": [
    "#drop all subjects and others that are no longer needed\n",
    "#C_TEACHER.drop(C_TEACHER.filter(regex=('^ID_*')).columns, axis=1, inplace = True)\n",
    "others = ['CO_PROFESSOR','CO_TURMA', 'CO_AREA_OCDE_1','CO_AREA_OCDE_2', 'CO_AREA_OCDE_3','OUTROS',\n",
    "          'IN_ESPECIALIZACAO', 'IN_MESTRADO', 'IN_DOUTORADO']\n",
    "C_TEACHER.drop(others, axis=1, inplace = True)\n",
    "C_TEACHER.columns"
   ]
  },
  {
   "cell_type": "code",
   "execution_count": 143,
   "metadata": {
    "ExecuteTime": {
     "end_time": "2021-11-09T18:40:36.886329Z",
     "start_time": "2021-11-09T18:40:36.872614Z"
    }
   },
   "outputs": [
    {
     "data": {
      "text/plain": [
       "(17957, 55)"
      ]
     },
     "execution_count": 143,
     "metadata": {},
     "output_type": "execute_result"
    }
   ],
   "source": [
    "C_TEACHER.shape"
   ]
  },
  {
   "cell_type": "code",
   "execution_count": 144,
   "metadata": {
    "ExecuteTime": {
     "end_time": "2021-11-09T18:40:36.937625Z",
     "start_time": "2021-11-09T18:40:36.893126Z"
    }
   },
   "outputs": [],
   "source": [
    "#JUSTS NUMBER OF ENROLLMENTS OF SCHOOLS\n",
    "C_CLASS = C_CLASS[['CO_ESCOLA', 'QT_MATRICULAS']]\n",
    "C_CLASS['QT_MATRICULAS'] = C_CLASS.groupby('CO_ESCOLA').transform('mean')\n",
    "C_CLASS.drop_duplicates('CO_ESCOLA', inplace = True)"
   ]
  },
  {
   "cell_type": "markdown",
   "metadata": {},
   "source": [
    "## ENEM STUDENT GRAIN"
   ]
  },
  {
   "cell_type": "code",
   "execution_count": 145,
   "metadata": {
    "ExecuteTime": {
     "end_time": "2021-11-09T18:40:37.279800Z",
     "start_time": "2021-11-09T18:40:36.942883Z"
    }
   },
   "outputs": [
    {
     "name": "stdout",
     "output_type": "stream",
     "text": [
      "School (17964, 32)\n",
      "Class + School: 17964\n",
      "School + Class + Teacher(taked off subject teachers out of context) (17957, 87)\n"
     ]
    }
   ],
   "source": [
    "# Merging Class and School\n",
    "print('School',C_SCHOOL.shape)\n",
    "CENSO = pd.merge(C_SCHOOL, C_CLASS, on = 'CO_ESCOLA', how = 'inner')\n",
    "print('Class + School:', CENSO.shape[0])\n",
    "# Next, merging with Teacher\n",
    "CENSO = pd.merge(CENSO, C_TEACHER, on = 'CO_ESCOLA', how = 'inner')\n",
    "print('School + Class + Teacher(taked off subject teachers out of context)',CENSO.shape)"
   ]
  },
  {
   "cell_type": "code",
   "execution_count": 146,
   "metadata": {
    "ExecuteTime": {
     "end_time": "2021-11-09T18:42:33.491580Z",
     "start_time": "2021-11-09T18:40:37.285582Z"
    }
   },
   "outputs": [
    {
     "name": "stdout",
     "output_type": "stream",
     "text": [
      "ENEM (781764, 16)\n",
      "FINAL (taked off schools with subject teachers out of context)) (774937, 102)\n"
     ]
    }
   ],
   "source": [
    "#Now, all to Student Grain\n",
    "print('ENEM',ENEM.shape)\n",
    "ENEM_CENSO = pd.merge(ENEM, CENSO, on = 'CO_ESCOLA', how = 'inner')\n",
    "print('FINAL (taked off schools with subject teachers out of context))',ENEM_CENSO.shape)\n",
    "\n",
    "ENEM_CENSO.to_csv('STUDENT.csv')"
   ]
  },
  {
   "cell_type": "code",
   "execution_count": 147,
   "metadata": {
    "ExecuteTime": {
     "end_time": "2021-11-09T18:42:33.820810Z",
     "start_time": "2021-11-09T18:42:33.498142Z"
    }
   },
   "outputs": [
    {
     "data": {
      "text/plain": [
       "CO_ANO                0\n",
       "CO_ESCOLA             0\n",
       "NU_IDADE              0\n",
       "TP_SEXO               0\n",
       "TP_COR_RACA           0\n",
       "                     ..\n",
       "IN_FOR_EST            0\n",
       "IN_FOR_FISIO_SOCIO    0\n",
       "IN_FOR_ARTES          0\n",
       "IN_FOR_ED_FISICA      0\n",
       "IN_FORM_DOCENTE       0\n",
       "Length: 102, dtype: int64"
      ]
     },
     "execution_count": 147,
     "metadata": {},
     "output_type": "execute_result"
    }
   ],
   "source": [
    "ENEM_CENSO.isnull().sum()"
   ]
  },
  {
   "cell_type": "code",
   "execution_count": null,
   "metadata": {},
   "outputs": [],
   "source": []
  }
 ],
 "metadata": {
  "kernelspec": {
   "display_name": "Python 3",
   "language": "python",
   "name": "python3"
  },
  "language_info": {
   "codemirror_mode": {
    "name": "ipython",
    "version": 3
   },
   "file_extension": ".py",
   "mimetype": "text/x-python",
   "name": "python",
   "nbconvert_exporter": "python",
   "pygments_lexer": "ipython3",
   "version": "3.7.6"
  }
 },
 "nbformat": 4,
 "nbformat_minor": 4
}
