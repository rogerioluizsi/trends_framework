{
 "cells": [
  {
   "cell_type": "code",
   "execution_count": 1,
   "metadata": {
    "ExecuteTime": {
     "end_time": "2021-11-09T19:06:01.311944Z",
     "start_time": "2021-11-09T19:05:58.776391Z"
    }
   },
   "outputs": [],
   "source": [
    "import time\n",
    "import pandas as pd\n",
    "import numpy as np\n",
    "import warnings\n",
    "from collections import Counter\n",
    "warnings.filterwarnings('ignore')\n",
    "from pandas.api.types import is_string_dtype\n",
    "from pandas.api.types import is_numeric_dtype\n",
    "pd.set_option('display.max_columns', None)"
   ]
  },
  {
   "cell_type": "markdown",
   "metadata": {},
   "source": [
    "There are many insignificant features to our work, like codes, PK, FK and out of context. \n",
    "Based on prior works and experience of especialists, will be taken off nonsense features. \n",
    "A study was carried out on the evolution and correspondence of these resources in the ENEM and Census\n",
    "data for the period 2009-2018. See (featuresOrganisaton.xls)"
   ]
  },
  {
   "cell_type": "code",
   "execution_count": 2,
   "metadata": {
    "ExecuteTime": {
     "end_time": "2021-11-09T19:06:01.342656Z",
     "start_time": "2021-11-09T19:06:01.317354Z"
    }
   },
   "outputs": [],
   "source": [
    "classmate = ['ANO_CENSO','PK_COD_ENTIDADE','PK_COD_TURMA', 'FK_COD_MOD_ENSINO', 'FK_COD_ETAPA_ENSINO', 'NUM_MATRICULAS']\n",
    "\n",
    "teacher = ['ANO_CENSO','FK_COD_DOCENTE', 'PK_COD_ENTIDADE','PK_COD_TURMA','ID_ESPECIALIZACAO','ID_MESTRADO','ID_DOUTORADO',\n",
    "          'ID_QUIMICA', 'ID_FISICA', 'ID_MATEMATICA', 'ID_BIOLOGIA', 'ID_ESTUDOS_SOCIAIS', 'ID_LINGUA_LITERAT_PORTUGUESA',\n",
    "           'ID_LINGUA_LITERAT_INGLES', 'ID_LINGUA_LITERAT_ESPANHOL', 'ID_ARTES', 'ID_EDUCACAO_FISICA', 'ID_HISTORIA',\n",
    "          'ID_GEOGRAFIA','ID_FILOSOFIA','FK_COD_AREA_OCDE_1', 'ID_LICENCIATURA_1', 'FK_COD_AREA_OCDE_2',\n",
    "           'ID_LICENCIATURA_2','FK_COD_AREA_OCDE_3', 'ID_LICENCIATURA_3']\n",
    "\n",
    "school = ['ANO_CENSO','PK_COD_ENTIDADE', 'FK_COD_MUNICIPIO','FK_COD_ESTADO','ID_DEPENDENCIA_ADM','ID_AGUA_INEXISTENTE',\n",
    "                  'ID_ESGOTO_INEXISTENTE','ID_ENERGIA_INEXISTENTE',\n",
    "                   'ID_LABORATORIO_INFORMATICA','ID_LABORATORIO_CIENCIAS','ID_SALA_ATENDIMENTO_ESPECIAL',\n",
    "                   'ID_BIBLIOTECA','ID_SALA_LEITURA','ID_SANITARIO_DENTRO_PREDIO',\n",
    "                   'ID_SANITARIO_PNE','NUM_SALAS_UTILIZADAS','ID_EQUIP_TV',\n",
    "                   'ID_EQUIP_DVD','ID_EQUIP_COPIADORA','ID_EQUIP_IMPRESSORA',\n",
    "                   'NUM_COMP_ALUNOS','ID_INTERNET','ID_BANDA_LARGA','NUM_FUNCIONARIOS','ID_ALIMENTACAO', \n",
    "                   'ID_REG_MEDIO_MEDIO','ID_REG_MEDIO_INTEGRADO','ID_REG_MEDIO_NORMAL', 'ID_SALA_PROFESSOR', \n",
    "                   'ID_QUADRA_ESPORTES_COBERTA','ID_QUADRA_ESPORTES_DESCOBERTA','ID_COZINHA','ID_EQUIP_PARABOLICA', 'ID_MOD_ATIV_COMPLEMENTAR']\n",
    "enem1 = ['NU_INSCRICAO','NU_ANO','PK_COD_ENTIDADE','IN_TP_ENSINO','IDADE','TP_SEXO','TP_COR_RACA','ST_CONCLUSAO','NU_NT_CN',\n",
    "        'NU_NT_CH','NU_NT_LC','NU_NT_MT','NU_NOTA_REDACAO','ID_DEPENDENCIA_ADM'\n",
    "]\n",
    "\n",
    "enem2 = ['NU_INSCRICAO','Q01','Q02','Q04','Q03']\n",
    "\n",
    "enem = ['NU_ANO','PK_COD_ENTIDADE','IN_TP_ENSINO','IDADE','TP_SEXO','TP_COR_RACA','ST_CONCLUSAO','NU_NT_CN',\n",
    "        'NU_NT_CH','NU_NT_LC','NU_NT_MT','NU_NOTA_REDACAO','Q01','Q02','Q04','Q03'\n",
    "]\n"
   ]
  },
  {
   "cell_type": "code",
   "execution_count": 3,
   "metadata": {
    "ExecuteTime": {
     "end_time": "2021-11-09T19:09:50.620065Z",
     "start_time": "2021-11-09T19:06:01.352421Z"
    }
   },
   "outputs": [
    {
     "name": "stdout",
     "output_type": "stream",
     "text": [
      "(5791065, 18)\n"
     ]
    },
    {
     "data": {
      "text/plain": [
       "Index(['NU_INSCRICAO', 'NU_ANO', 'IDADE', 'TP_SEXO', 'ST_CONCLUSAO',\n",
       "       'IN_TP_ENSINO', 'TP_COR_RACA', 'PK_COD_ENTIDADE', 'ID_DEPENDENCIA_ADM',\n",
       "       'NU_NT_CN', 'NU_NT_CH', 'NU_NT_LC', 'NU_NT_MT', 'NU_NOTA_REDACAO',\n",
       "       'Q01', 'Q02', 'Q03', 'Q04'],\n",
       "      dtype='object')"
      ]
     },
     "execution_count": 3,
     "metadata": {},
     "output_type": "execute_result"
    }
   ],
   "source": [
    "#Students of ENEM\n",
    "E1 = pd.read_csv('~/data/enem/2012/DADOS/DADOS_ENEM_2012.csv', sep=',', encoding=\"iso-8859-2\", usecols = enem1)\n",
    "E2 = pd.read_csv('~/data/enem/2012/DADOS/QUESTIONARIO_ENEM_2012.csv', sep=',', usecols = enem2)\n",
    "E = pd.merge(E1, E2, on = 'NU_INSCRICAO', how= \"outer\")\n",
    "print(E.shape)\n",
    "E.drop_duplicates('PK_COD_ENTIDADE').shape\n",
    "E.columns"
   ]
  },
  {
   "cell_type": "code",
   "execution_count": 4,
   "metadata": {
    "ExecuteTime": {
     "end_time": "2021-11-09T19:09:57.413721Z",
     "start_time": "2021-11-09T19:09:50.626095Z"
    }
   },
   "outputs": [
    {
     "name": "stdout",
     "output_type": "stream",
     "text": [
      "students at public schools: 1201036\n",
      "public schools: 22240\n"
     ]
    }
   ],
   "source": [
    "#How many public schools (not included federal) are in the databases?\n",
    "mun_est = (E.ID_DEPENDENCIA_ADM=='2') |(E.ID_DEPENDENCIA_ADM=='3')\n",
    "print('students at public schools:',(mun_est).sum())\n",
    "print('public schools:',(E.drop_duplicates('PK_COD_ENTIDADE')[mun_est]['PK_COD_ENTIDADE'].count()))\n",
    "E.drop('ID_DEPENDENCIA_ADM', axis=1,inplace=True)\n",
    "enem1.remove('ID_DEPENDENCIA_ADM')"
   ]
  },
  {
   "cell_type": "code",
   "execution_count": 5,
   "metadata": {
    "ExecuteTime": {
     "end_time": "2021-11-09T19:10:02.571962Z",
     "start_time": "2021-11-09T19:09:57.419681Z"
    }
   },
   "outputs": [],
   "source": [
    "#School census data\n",
    "CE =    pd.read_csv(\"~/data/censo/2012/DADOS/ESCOLAS.CSV\", sep='|', encoding=\"iso-8859-2\", usecols = school)"
   ]
  },
  {
   "cell_type": "code",
   "execution_count": 6,
   "metadata": {
    "ExecuteTime": {
     "end_time": "2021-11-09T19:13:09.567164Z",
     "start_time": "2021-11-09T19:10:02.576739Z"
    }
   },
   "outputs": [],
   "source": [
    "#Teacher census data by Braazilian mesoregion\n",
    "CD_CO = pd.read_csv(\"~/data/censo/2012/DADOS/DOCENTES_CO.CSV\", sep='|', encoding=\"iso-8859-2\", usecols = teacher)\n",
    "CD_NE = pd.read_csv(\"~/data/censo/2012/DADOS/DOCENTES_NORDESTE.CSV\", sep='|', encoding=\"iso-8859-2\",usecols = teacher)\n",
    "CD_N =  pd.read_csv(\"~/data/censo/2012/DADOS/DOCENTES_NORTE.CSV\", sep='|', encoding=\"iso-8859-2\",  usecols = teacher)\n",
    "CD_SE = pd.read_csv(\"~/data/censo/2012/DADOS/DOCENTES_SUDESTE.CSV\", sep='|', encoding=\"iso-8859-2\",  usecols = teacher)\n",
    "CD_S =  pd.read_csv(\"~/data/censo/2012/DADOS/DOCENTES_SUL.CSV\", sep='|', encoding=\"iso-8859-2\", usecols = teacher)\n",
    "\n",
    "#All teacher census data\n",
    "CT = pd.concat([CD_CO, CD_NE, CD_N, CD_SE, CD_S])"
   ]
  },
  {
   "cell_type": "code",
   "execution_count": 7,
   "metadata": {
    "ExecuteTime": {
     "end_time": "2021-11-09T19:13:31.290735Z",
     "start_time": "2021-11-09T19:13:09.574414Z"
    }
   },
   "outputs": [],
   "source": [
    "#ClassMate census data\n",
    "CM =  pd.read_csv(\"~/data/censo/2012/DADOS/TURMAS.CSV\", sep='|', encoding=\"iso-8859-2\", usecols = classmate)"
   ]
  },
  {
   "cell_type": "code",
   "execution_count": 8,
   "metadata": {
    "ExecuteTime": {
     "end_time": "2021-11-09T19:13:35.810885Z",
     "start_time": "2021-11-09T19:13:31.299524Z"
    }
   },
   "outputs": [],
   "source": [
    "ENEM = E.copy()\n",
    "C_SCHOOL = CE.copy()\n",
    "C_TEACHER = CT.copy()\n",
    "C_CLASS = CM.copy()"
   ]
  },
  {
   "cell_type": "code",
   "execution_count": 9,
   "metadata": {
    "ExecuteTime": {
     "end_time": "2021-11-09T19:13:37.705212Z",
     "start_time": "2021-11-09T19:13:35.817515Z"
    }
   },
   "outputs": [
    {
     "name": "stdout",
     "output_type": "stream",
     "text": [
      "checking year [2012]\n",
      "checking key object\n"
     ]
    }
   ],
   "source": [
    "#ordering\n",
    "ENEM = ENEM[enem]\n",
    "\n",
    "newNames = [\n",
    "'CO_ANO',\n",
    "'CO_ESCOLA',\n",
    "'TP_ENSINO',\n",
    "'NU_IDADE',\n",
    "'TP_SEXO',\n",
    "'TP_COR_RACA',\n",
    "'TP_ST_CONCLUSAO',\n",
    "'NU_NOTA_CN',\n",
    "'NU_NOTA_CH',\n",
    "'NU_NOTA_LC',\n",
    "'NU_NOTA_MT',\n",
    "'NU_NOTA_REDACAO',\n",
    "'EDU_PAI',\n",
    "'EDU_MAE',\n",
    "'QT_PESSOAS_CASA',\n",
    "'RENDA_MENSAL'\n",
    "]\n",
    "\n",
    "#Rename\n",
    "ENEM.columns = newNames\n",
    "\n",
    "print('checking year',ENEM.CO_ANO.unique())\n",
    "print('checking key',ENEM.CO_ESCOLA.dtypes)"
   ]
  },
  {
   "cell_type": "code",
   "execution_count": 10,
   "metadata": {
    "ExecuteTime": {
     "end_time": "2021-11-09T19:13:37.953953Z",
     "start_time": "2021-11-09T19:13:37.711114Z"
    }
   },
   "outputs": [
    {
     "name": "stdout",
     "output_type": "stream",
     "text": [
      "Checking year of censo [2012]\n",
      "checking key int64\n"
     ]
    }
   ],
   "source": [
    "C_SCHOOL = C_SCHOOL[school]\n",
    "\n",
    "newNames = ['ANO_CENSO',\n",
    "'CO_ESCOLA',\n",
    " 'CO_MUNICIPIO',\n",
    " 'CO_UF',\n",
    " 'CO_DEPENDENCIA_ADM',\n",
    " 'IN_AGUA_INEXISTENTE',\n",
    " 'IN_ESGOTO_INEXISTENTE',\n",
    " 'IN_ENERGIA_INEXISTENTE',\n",
    " 'IN_LABORATORIO_INFORMATICA',\n",
    " 'IN_LABORATORIO_CIENCIAS',\n",
    " 'IN_SALA_ATENDIMENTO_ESPECIAL',\n",
    " 'IN_BIBLIOTECA',\n",
    " 'IN_SALA_LEITURA',\n",
    " 'IN_BANHEIRO',\n",
    " 'IN_BANHEIRO_PNE',\n",
    " 'QT_SALAS_UTILIZADAS',\n",
    " 'QT_EQUIP_TV',\n",
    " 'QT_EQUIP_DVD',\n",
    " 'QT_EQUIP_COPIADORA',\n",
    " 'QT_EQUIP_IMPRESSORA',\n",
    " 'QT_COMP_ALUNO',\n",
    " 'IN_INTERNET',\n",
    " 'IN_BANDA_LARGA',\n",
    " 'QT_FUNCIONARIOS',\n",
    " 'IN_ALIMENTACAO',\n",
    " 'IN_COMUM_MEDIO_MEDIO',\n",
    " 'IN_COMUM_MEDIO_INTEGRADO',\n",
    " 'IN_COMUM_MEDIO_NORMAL', \n",
    " 'IN_SALA_PROFESSOR', \n",
    " 'IN_QUADRA_ESPORTES_COBERTA',\n",
    " 'IN_QUADRA_ESPORTES_DESCOBERTA',           \n",
    " 'IN_COZINHA',\n",
    " 'IN_EQUIP_PARABOLICA',\n",
    " 'IN_ATIV_COMPLEMENTAR',\n",
    "]\n",
    "\n",
    "#Rename \n",
    "C_SCHOOL.columns =  newNames\n",
    "\n",
    "#Adapting for all years\n",
    "C_SCHOOL.loc[((C_SCHOOL.IN_QUADRA_ESPORTES_COBERTA ==1) | (C_SCHOOL.IN_QUADRA_ESPORTES_DESCOBERTA ==1)), 'IN_QUADRA_ESPORTES'] = 1 \n",
    "C_SCHOOL.drop(['IN_QUADRA_ESPORTES_COBERTA', 'IN_QUADRA_ESPORTES_DESCOBERTA'], inplace= True, axis=1)\n",
    "\n",
    "print('Checking year of censo',C_SCHOOL.ANO_CENSO.unique())\n",
    "C_SCHOOL.drop('ANO_CENSO', axis=1, inplace=True)\n",
    "print('checking key',C_SCHOOL.CO_ESCOLA.dtypes)"
   ]
  },
  {
   "cell_type": "code",
   "execution_count": 11,
   "metadata": {
    "ExecuteTime": {
     "end_time": "2021-11-09T19:13:48.853222Z",
     "start_time": "2021-11-09T19:13:37.960818Z"
    }
   },
   "outputs": [
    {
     "name": "stdout",
     "output_type": "stream",
     "text": [
      "Checking year of censo [2012]\n",
      "checking key int64\n"
     ]
    }
   ],
   "source": [
    "C_TEACHER = C_TEACHER[teacher]\n",
    "\n",
    "# New default column names for all Datasets\n",
    "newNames = [\n",
    "'ANO_CENSO',\n",
    "'CO_PROFESSOR',\n",
    "'CO_ESCOLA',  \n",
    "'CO_TURMA',\n",
    "'IN_ESPECIALIZACAO',\n",
    "'IN_MESTRADO',\n",
    "'IN_DOUTORADO',\n",
    "'ID_QUIMICA',\n",
    "'ID_FISICA',\n",
    "'ID_MATEMATICA',\n",
    "'ID_BIOLOGIA',\n",
    "'ID_SOCIOLOGIA',\n",
    "'ID_LINGUA_LITERAT_PORTUGUESA',\n",
    "'ID_LINGUA_LITERAT_INGLES',\n",
    "'ID_LINGUA_LITERAT_ESPANHOL',\n",
    "'ID_ARTES',\n",
    "'ID_EDUCACAO_FISICA',\n",
    "'ID_HISTORIA',\n",
    "'ID_GEOGRAFIA',\n",
    "'ID_FILOSOFIA',\n",
    "'CO_AREA_OCDE_1', \n",
    "'ID_LICENCIATURA_1', \n",
    "'CO_AREA_OCDE_2',\n",
    "'ID_LICENCIATURA_2',\n",
    "'CO_AREA_OCDE_3',\n",
    "'ID_LICENCIATURA_3'\n",
    "]\n",
    "\n",
    "C_TEACHER.columns = newNames\n",
    "print('Checking year of censo',C_TEACHER.ANO_CENSO.unique())\n",
    "C_TEACHER.drop('ANO_CENSO', axis=1, inplace=True)\n",
    "print('checking key',C_TEACHER.CO_ESCOLA.dtypes)"
   ]
  },
  {
   "cell_type": "code",
   "execution_count": 12,
   "metadata": {
    "ExecuteTime": {
     "end_time": "2021-11-09T19:13:49.074893Z",
     "start_time": "2021-11-09T19:13:48.859104Z"
    }
   },
   "outputs": [
    {
     "name": "stdout",
     "output_type": "stream",
     "text": [
      "Checking year of censo [2012]\n",
      "checking key int64\n"
     ]
    }
   ],
   "source": [
    "C_CLASS = C_CLASS[classmate]\n",
    "\n",
    "newNames = [\n",
    "'ANO_CENSO',    \n",
    "'CO_ESCOLA',\n",
    "'CO_TURMA',  \n",
    "'CO_MOD_ENSINO',\n",
    "'IN_ETAPA_ENSINO',\n",
    "'QT_MATRICULAS'\n",
    "]\n",
    "\n",
    "#Rename \n",
    "C_CLASS.columns =  newNames\n",
    "\n",
    "print('Checking year of censo',C_CLASS.ANO_CENSO.unique())\n",
    "C_CLASS.drop('ANO_CENSO', axis=1, inplace=True)\n",
    "print('checking key',C_CLASS.CO_ESCOLA.dtypes)"
   ]
  },
  {
   "cell_type": "markdown",
   "metadata": {},
   "source": [
    "### Minimum Scope Definition"
   ]
  },
  {
   "cell_type": "markdown",
   "metadata": {
    "ExecuteTime": {
     "end_time": "2021-02-19T17:30:54.051905Z",
     "start_time": "2021-02-19T17:30:54.040368Z"
    }
   },
   "source": [
    "ENEM  - Taking off:\n",
    "* Without School Code\n",
    "* Is not attended in regular schools, \n",
    "*  With scores zero\n",
    "*  between 17 and 19 years old (in order to take only last secodary year students)\n",
    "* Attended in schools with at least 10 students"
   ]
  },
  {
   "cell_type": "code",
   "execution_count": 13,
   "metadata": {
    "ExecuteTime": {
     "end_time": "2021-11-09T19:13:49.973382Z",
     "start_time": "2021-11-09T19:13:49.080697Z"
    }
   },
   "outputs": [
    {
     "data": {
      "text/plain": [
       "0.7365111598643773"
      ]
     },
     "execution_count": 13,
     "metadata": {},
     "output_type": "execute_result"
    }
   ],
   "source": [
    "#CO_ESCOLA as \".\". It will taked off of the scope filter\n",
    "(ENEM.CO_ESCOLA=='.').sum()/ENEM.CO_ESCOLA.shape[0]"
   ]
  },
  {
   "cell_type": "code",
   "execution_count": 14,
   "metadata": {
    "ExecuteTime": {
     "end_time": "2021-11-09T19:13:56.020626Z",
     "start_time": "2021-11-09T19:13:49.978271Z"
    }
   },
   "outputs": [],
   "source": [
    "ENEM.dropna(inplace = True, axis=0, subset = ['CO_ESCOLA'])\n",
    "ENEM = ENEM.loc[~(ENEM.CO_ESCOLA=='.')]\n",
    "ENEM.CO_ESCOLA = ENEM.CO_ESCOLA.astype('float')\n"
   ]
  },
  {
   "cell_type": "code",
   "execution_count": 15,
   "metadata": {
    "ExecuteTime": {
     "end_time": "2021-11-09T19:13:58.164671Z",
     "start_time": "2021-11-09T19:13:56.027240Z"
    }
   },
   "outputs": [
    {
     "data": {
      "text/plain": [
       "TP_ST_CONCLUSAO    0\n",
       "TP_ENSINO          0\n",
       "dtype: int64"
      ]
     },
     "execution_count": 15,
     "metadata": {},
     "output_type": "execute_result"
    }
   ],
   "source": [
    "#should care about the nulls into scope filter features?\n",
    "filters = (['TP_ST_CONCLUSAO', 'TP_ENSINO'])\n",
    "ENEM = ENEM.loc[~(ENEM.TP_ENSINO=='.')] # because are \".\" in the column. \n",
    "ENEM[filters] = ENEM[filters].astype('int')\n",
    "ENEM[filters].isnull().sum()\n",
    "#NO, IT'S LOWER"
   ]
  },
  {
   "cell_type": "code",
   "execution_count": 16,
   "metadata": {
    "ExecuteTime": {
     "end_time": "2021-11-09T19:13:59.286810Z",
     "start_time": "2021-11-09T19:13:58.170977Z"
    }
   },
   "outputs": [
    {
     "name": "stdout",
     "output_type": "stream",
     "text": [
      "drop out 151558 who not attend regular and prof approachs schools\n"
     ]
    }
   ],
   "source": [
    "print('drop out',(ENEM.TP_ENSINO!= 1).sum(), 'who not attend regular and prof approachs schools')\n",
    "ENEM = ENEM.loc[(ENEM.TP_ENSINO== 1)]\n",
    "ENEM.drop('TP_ENSINO', inplace = True, axis =1)"
   ]
  },
  {
   "cell_type": "code",
   "execution_count": 17,
   "metadata": {
    "ExecuteTime": {
     "end_time": "2021-11-09T19:14:04.371132Z",
     "start_time": "2021-11-09T19:13:59.293727Z"
    }
   },
   "outputs": [
    {
     "name": "stdout",
     "output_type": "stream",
     "text": [
      "null: NU_NOTA_CN 0\n",
      "zero: NU_NOTA_CN 0\n",
      "stranger \".\" NU_NOTA_CN 187377\n",
      "stranger \"*\" NU_NOTA_CN 0\n",
      "null: NU_NOTA_CH 0\n",
      "zero: NU_NOTA_CH 0\n",
      "stranger \".\" NU_NOTA_CH 187377\n",
      "stranger \"*\" NU_NOTA_CH 0\n",
      "null: NU_NOTA_LC 0\n",
      "zero: NU_NOTA_LC 0\n",
      "stranger \".\" NU_NOTA_LC 207205\n",
      "stranger \"*\" NU_NOTA_LC 0\n",
      "null: NU_NOTA_MT 0\n",
      "zero: NU_NOTA_MT 0\n",
      "stranger \".\" NU_NOTA_MT 207205\n",
      "stranger \"*\" NU_NOTA_MT 0\n",
      "null: NU_NOTA_REDACAO 0\n",
      "zero: NU_NOTA_REDACAO 0\n",
      "stranger \".\" NU_NOTA_REDACAO 245265\n",
      "stranger \"*\" NU_NOTA_REDACAO 0\n"
     ]
    }
   ],
   "source": [
    "fields = (['NU_NOTA_CN', 'NU_NOTA_CH','NU_NOTA_LC','NU_NOTA_MT', 'NU_NOTA_REDACAO'])\n",
    "for i in fields:\n",
    "    print ('null:', i, ENEM[i].isnull().sum())\n",
    "    print ('zero:', i, (ENEM[i]== 0).sum())\n",
    "    print( 'stranger \".\"', i , (ENEM[i]== '.').sum())\n",
    "    print( 'stranger \"*\"', i , (ENEM[i]== '*').sum())\n",
    "    \n",
    "    #, \"and\", ENEM.I==0)\n"
   ]
  },
  {
   "cell_type": "code",
   "execution_count": 18,
   "metadata": {
    "ExecuteTime": {
     "end_time": "2021-11-09T19:14:05.856718Z",
     "start_time": "2021-11-09T19:14:04.376277Z"
    }
   },
   "outputs": [],
   "source": [
    "ENEM = ENEM.loc[~(ENEM[fields] == '.').any(axis=1)]"
   ]
  },
  {
   "cell_type": "code",
   "execution_count": 19,
   "metadata": {
    "ExecuteTime": {
     "end_time": "2021-11-09T19:14:08.614562Z",
     "start_time": "2021-11-09T19:14:05.861683Z"
    }
   },
   "outputs": [],
   "source": [
    "ENEM[fields] = ENEM[fields].astype('float')"
   ]
  },
  {
   "cell_type": "code",
   "execution_count": 20,
   "metadata": {
    "ExecuteTime": {
     "end_time": "2021-11-09T19:14:08.784700Z",
     "start_time": "2021-11-09T19:14:08.619471Z"
    }
   },
   "outputs": [
    {
     "data": {
      "text/plain": [
       "NU_NOTA_CN         float64\n",
       "NU_NOTA_CH         float64\n",
       "NU_NOTA_LC         float64\n",
       "NU_NOTA_MT         float64\n",
       "NU_NOTA_REDACAO    float64\n",
       "dtype: object"
      ]
     },
     "execution_count": 20,
     "metadata": {},
     "output_type": "execute_result"
    }
   ],
   "source": [
    "ENEM[fields].dtypes"
   ]
  },
  {
   "cell_type": "code",
   "execution_count": 21,
   "metadata": {
    "ExecuteTime": {
     "end_time": "2021-11-09T19:14:37.508065Z",
     "start_time": "2021-11-09T19:14:08.790249Z"
    }
   },
   "outputs": [
    {
     "name": "stdout",
     "output_type": "stream",
     "text": [
      "null 0\n",
      "taking off 127853\n"
     ]
    },
    {
     "data": {
      "text/plain": [
       "17    586414\n",
       "18    317975\n",
       "19     89065\n",
       "Name: NU_IDADE, dtype: int64"
      ]
     },
     "execution_count": 21,
     "metadata": {},
     "output_type": "execute_result"
    }
   ],
   "source": [
    "#ONLY STUDENTS AT  17 -19 YEAR OLD. WE WANT TO GET ONLY REGULAR STUDENTS THAT ARE IN LAST YEAR OF SECONDARY SCHOOL. \n",
    "#THE MICRODADOS HAVE A FIELD TO CONTROL IT. BUT IT IS NOT CONFIDENCE,DUE A TURN OUT TEAACHERS THAT EXTEND ACADEMIC YEAR\n",
    "print('null', ENEM.NU_IDADE.isnull().sum())\n",
    "ENEM.NU_IDADE = ENEM.NU_IDADE.astype('int32')\n",
    "#firts, fill NA with the mean of student school\n",
    "ENEM.NU_IDADE = ENEM.groupby(ENEM['CO_ESCOLA'])['NU_IDADE'].apply(lambda x: x.fillna(round(x.mean())))\n",
    "print('taking off',((ENEM.NU_IDADE <17)|(ENEM.NU_IDADE>19)).sum())\n",
    "ENEM = ENEM.loc[(ENEM.NU_IDADE >16) &  (ENEM.NU_IDADE<20)]\n",
    "ENEM.NU_IDADE.value_counts()"
   ]
  },
  {
   "cell_type": "code",
   "execution_count": 22,
   "metadata": {
    "ExecuteTime": {
     "end_time": "2021-11-09T19:14:38.161769Z",
     "start_time": "2021-11-09T19:14:37.513439Z"
    }
   },
   "outputs": [
    {
     "data": {
      "text/html": [
       "<div>\n",
       "<style scoped>\n",
       "    .dataframe tbody tr th:only-of-type {\n",
       "        vertical-align: middle;\n",
       "    }\n",
       "\n",
       "    .dataframe tbody tr th {\n",
       "        vertical-align: top;\n",
       "    }\n",
       "\n",
       "    .dataframe thead th {\n",
       "        text-align: right;\n",
       "    }\n",
       "</style>\n",
       "<table border=\"1\" class=\"dataframe\">\n",
       "  <thead>\n",
       "    <tr style=\"text-align: right;\">\n",
       "      <th></th>\n",
       "      <th>NU_NOTA_CN</th>\n",
       "      <th>NU_NOTA_CH</th>\n",
       "      <th>NU_NOTA_LC</th>\n",
       "      <th>NU_NOTA_MT</th>\n",
       "      <th>NU_NOTA_REDACAO</th>\n",
       "    </tr>\n",
       "  </thead>\n",
       "  <tbody>\n",
       "    <tr>\n",
       "      <th>count</th>\n",
       "      <td>993454.000000</td>\n",
       "      <td>993454.000000</td>\n",
       "      <td>993454.000000</td>\n",
       "      <td>993454.000000</td>\n",
       "      <td>993454.000000</td>\n",
       "    </tr>\n",
       "    <tr>\n",
       "      <th>mean</th>\n",
       "      <td>478.216389</td>\n",
       "      <td>526.680258</td>\n",
       "      <td>497.570456</td>\n",
       "      <td>522.438977</td>\n",
       "      <td>519.746712</td>\n",
       "    </tr>\n",
       "    <tr>\n",
       "      <th>std</th>\n",
       "      <td>81.028030</td>\n",
       "      <td>83.262026</td>\n",
       "      <td>71.422728</td>\n",
       "      <td>122.168725</td>\n",
       "      <td>147.158486</td>\n",
       "    </tr>\n",
       "    <tr>\n",
       "      <th>min</th>\n",
       "      <td>319.300000</td>\n",
       "      <td>302.600000</td>\n",
       "      <td>295.400000</td>\n",
       "      <td>277.200000</td>\n",
       "      <td>0.000000</td>\n",
       "    </tr>\n",
       "    <tr>\n",
       "      <th>25%</th>\n",
       "      <td>415.600000</td>\n",
       "      <td>468.900000</td>\n",
       "      <td>450.200000</td>\n",
       "      <td>426.000000</td>\n",
       "      <td>420.000000</td>\n",
       "    </tr>\n",
       "    <tr>\n",
       "      <th>50%</th>\n",
       "      <td>469.800000</td>\n",
       "      <td>527.000000</td>\n",
       "      <td>499.400000</td>\n",
       "      <td>516.300000</td>\n",
       "      <td>500.000000</td>\n",
       "    </tr>\n",
       "    <tr>\n",
       "      <th>75%</th>\n",
       "      <td>532.000000</td>\n",
       "      <td>583.000000</td>\n",
       "      <td>545.700000</td>\n",
       "      <td>607.700000</td>\n",
       "      <td>620.000000</td>\n",
       "    </tr>\n",
       "    <tr>\n",
       "      <th>max</th>\n",
       "      <td>847.600000</td>\n",
       "      <td>874.900000</td>\n",
       "      <td>814.300000</td>\n",
       "      <td>955.200000</td>\n",
       "      <td>1000.000000</td>\n",
       "    </tr>\n",
       "  </tbody>\n",
       "</table>\n",
       "</div>"
      ],
      "text/plain": [
       "          NU_NOTA_CN     NU_NOTA_CH     NU_NOTA_LC     NU_NOTA_MT  \\\n",
       "count  993454.000000  993454.000000  993454.000000  993454.000000   \n",
       "mean      478.216389     526.680258     497.570456     522.438977   \n",
       "std        81.028030      83.262026      71.422728     122.168725   \n",
       "min       319.300000     302.600000     295.400000     277.200000   \n",
       "25%       415.600000     468.900000     450.200000     426.000000   \n",
       "50%       469.800000     527.000000     499.400000     516.300000   \n",
       "75%       532.000000     583.000000     545.700000     607.700000   \n",
       "max       847.600000     874.900000     814.300000     955.200000   \n",
       "\n",
       "       NU_NOTA_REDACAO  \n",
       "count    993454.000000  \n",
       "mean        519.746712  \n",
       "std         147.158486  \n",
       "min           0.000000  \n",
       "25%         420.000000  \n",
       "50%         500.000000  \n",
       "75%         620.000000  \n",
       "max        1000.000000  "
      ]
     },
     "execution_count": 22,
     "metadata": {},
     "output_type": "execute_result"
    }
   ],
   "source": [
    "ENEM[fields].describe()"
   ]
  },
  {
   "cell_type": "code",
   "execution_count": 23,
   "metadata": {
    "ExecuteTime": {
     "end_time": "2021-11-09T19:14:38.605289Z",
     "start_time": "2021-11-09T19:14:38.176057Z"
    }
   },
   "outputs": [
    {
     "name": "stdout",
     "output_type": "stream",
     "text": [
      "taking off 28957 students of 6588 schools\n"
     ]
    }
   ],
   "source": [
    "#Only schools with at least 10 students \n",
    "filter = ENEM.loc[ENEM.groupby('CO_ESCOLA')['CO_ESCOLA'].transform('count')<=9]\n",
    "print('taking off',filter.shape[0], 'students of', filter.drop_duplicates('CO_ESCOLA').shape[0], 'schools')\n",
    "ENEM = ENEM.loc[~ENEM.CO_ESCOLA.isin(filter.CO_ESCOLA)]"
   ]
  },
  {
   "cell_type": "code",
   "execution_count": 24,
   "metadata": {
    "ExecuteTime": {
     "end_time": "2021-11-09T19:14:38.807803Z",
     "start_time": "2021-11-09T19:14:38.613020Z"
    }
   },
   "outputs": [
    {
     "data": {
      "text/plain": [
       "76235"
      ]
     },
     "execution_count": 24,
     "metadata": {},
     "output_type": "execute_result"
    }
   ],
   "source": [
    "#Classes on Census \n",
    "#Only regular classes\n",
    "C_CLASS = C_CLASS.loc[C_CLASS['CO_MOD_ENSINO']==1]\n",
    "#Only third year of secondary school\n",
    "step_class = [27,28,32,33,37,38] # \n",
    "C_CLASS = C_CLASS.loc[C_CLASS['IN_ETAPA_ENSINO'].isin(step_class)]\n",
    "C_CLASS.shape[0]"
   ]
  },
  {
   "cell_type": "markdown",
   "metadata": {
    "ExecuteTime": {
     "end_time": "2020-05-04T20:03:56.821842Z",
     "start_time": "2020-05-04T20:03:56.778621Z"
    }
   },
   "source": [
    "### Treatment"
   ]
  },
  {
   "cell_type": "markdown",
   "metadata": {},
   "source": [
    "ENEM"
   ]
  },
  {
   "cell_type": "code",
   "execution_count": 25,
   "metadata": {
    "ExecuteTime": {
     "end_time": "2021-11-09T19:14:39.235574Z",
     "start_time": "2021-11-09T19:14:38.813087Z"
    }
   },
   "outputs": [
    {
     "data": {
      "text/plain": [
       "TP_SEXO            0\n",
       "TP_COR_RACA        0\n",
       "EDU_PAI            0\n",
       "EDU_MAE            0\n",
       "QT_PESSOAS_CASA    0\n",
       "RENDA_MENSAL       0\n",
       "dtype: int64"
      ]
     },
     "execution_count": 25,
     "metadata": {},
     "output_type": "execute_result"
    }
   ],
   "source": [
    "fields = ['TP_SEXO', 'TP_COR_RACA', 'EDU_PAI', 'EDU_MAE','QT_PESSOAS_CASA', 'RENDA_MENSAL']\n",
    "ENEM[fields].isnull().sum()"
   ]
  },
  {
   "cell_type": "code",
   "execution_count": 26,
   "metadata": {
    "ExecuteTime": {
     "end_time": "2021-11-09T19:14:39.967784Z",
     "start_time": "2021-11-09T19:14:39.240393Z"
    }
   },
   "outputs": [
    {
     "name": "stdout",
     "output_type": "stream",
     "text": [
      "TP_SEXO Int64Index([1, 0], dtype='int64')\n",
      "TP_COR_RACA Int64Index([1, 3, 2, 4, 0, 5], dtype='int64')\n",
      "EDU_PAI Index(['E', 'B', 'C', 'G', 'I', 'D', 'F', 'H', 'A'], dtype='object')\n",
      "EDU_MAE Index(['E', 'C', 'B', 'G', 'D', 'H', 'F', 'I', 'A'], dtype='object')\n",
      "QT_PESSOAS_CASA Int64Index([4, 3, 5, 6, 2, 7, 8, 9, 1, 10, 11, 12, 13, 20, 14, 15, 16, 17, 18,\n",
      "            19],\n",
      "           dtype='int64')\n",
      "RENDA_MENSAL Index(['B', 'D', 'C', 'E', 'G', 'F', 'H', 'I', 'J', 'Q', 'L', 'M', 'K', 'N',\n",
      "       'O', 'A', 'P'],\n",
      "      dtype='object')\n"
     ]
    }
   ],
   "source": [
    "for i in fields:\n",
    "    print(i,ENEM[i].value_counts().index)"
   ]
  },
  {
   "cell_type": "code",
   "execution_count": 27,
   "metadata": {
    "ExecuteTime": {
     "end_time": "2021-11-09T19:14:40.531982Z",
     "start_time": "2021-11-09T19:14:39.973460Z"
    }
   },
   "outputs": [],
   "source": [
    "#Order relation, is better for numeric categories.\n",
    "categorical = ['EDU_PAI', 'EDU_MAE', 'RENDA_MENSAL']\n",
    "for i in categorical:\n",
    "    codes, uniques = pd.factorize(ENEM[i], sort=True)\n",
    "    ENEM[i] = codes\n",
    "    "
   ]
  },
  {
   "cell_type": "code",
   "execution_count": 28,
   "metadata": {
    "ExecuteTime": {
     "end_time": "2021-11-09T19:14:41.355762Z",
     "start_time": "2021-11-09T19:14:40.538983Z"
    }
   },
   "outputs": [],
   "source": [
    "# Paring with default categories\n",
    "\n",
    "ENEM.loc[ENEM['EDU_PAI']==0, 'EDU_PAI_TEMP']=0\n",
    "ENEM.loc[ENEM['EDU_PAI']==1, 'EDU_PAI_TEMP']=1\n",
    "ENEM.loc[ENEM['EDU_PAI']==2, 'EDU_PAI_TEMP']=2\n",
    "ENEM.loc[ENEM['EDU_PAI']==3, 'EDU_PAI_TEMP']=2\n",
    "ENEM.loc[ENEM['EDU_PAI']==4, 'EDU_PAI_TEMP']=3\n",
    "ENEM.loc[ENEM['EDU_PAI']==5, 'EDU_PAI_TEMP']=3\n",
    "ENEM.loc[ENEM['EDU_PAI']==6, 'EDU_PAI_TEMP']=4\n",
    "ENEM.loc[ENEM['EDU_PAI']==7, 'EDU_PAI_TEMP']=5\n",
    "ENEM.loc[ENEM['EDU_PAI']==8, 'EDU_PAI_TEMP']=0\n",
    "\n",
    "\n",
    "ENEM.loc[ENEM['EDU_MAE']==0, 'EDU_MAE_TEMP']=0\n",
    "ENEM.loc[ENEM['EDU_MAE']==1, 'EDU_MAE_TEMP']=1\n",
    "ENEM.loc[ENEM['EDU_MAE']==2, 'EDU_MAE_TEMP']=2\n",
    "ENEM.loc[ENEM['EDU_MAE']==3, 'EDU_MAE_TEMP']=2\n",
    "ENEM.loc[ENEM['EDU_MAE']==4, 'EDU_MAE_TEMP']=3\n",
    "ENEM.loc[ENEM['EDU_MAE']==5, 'EDU_MAE_TEMP']=3\n",
    "ENEM.loc[ENEM['EDU_MAE']==6, 'EDU_MAE_TEMP']=4\n",
    "ENEM.loc[ENEM['EDU_MAE']==7, 'EDU_MAE_TEMP']=5\n",
    "ENEM.loc[ENEM['EDU_MAE']==8, 'EDU_MAE_TEMP']=0\n",
    "\n",
    "\n",
    "ENEM.loc[ENEM['QT_PESSOAS_CASA']==1, 'QT_PESSOAS_CASA_TEMP']=0\n",
    "ENEM.loc[ENEM['QT_PESSOAS_CASA']==2, 'QT_PESSOAS_CASA_TEMP']=1\n",
    "ENEM.loc[ENEM['QT_PESSOAS_CASA']==3, 'QT_PESSOAS_CASA_TEMP']=1\n",
    "ENEM.loc[ENEM['QT_PESSOAS_CASA']==4, 'QT_PESSOAS_CASA_TEMP']=2\n",
    "ENEM.loc[ENEM['QT_PESSOAS_CASA']==5, 'QT_PESSOAS_CASA_TEMP']=2\n",
    "ENEM.loc[ENEM['QT_PESSOAS_CASA']==6, 'QT_PESSOAS_CASA_TEMP']=2\n",
    "ENEM.loc[ENEM['QT_PESSOAS_CASA']==7, 'QT_PESSOAS_CASA_TEMP']=2\n",
    "ENEM.loc[ENEM['QT_PESSOAS_CASA']>7, 'QT_PESSOAS_CASA_TEMP']=3\n",
    "\n",
    "ENEM.loc[ENEM['RENDA_MENSAL']==0, 'RENDA_MENSAL_TEMP']=0\n",
    "ENEM.loc[ENEM['RENDA_MENSAL']==1, 'RENDA_MENSAL_TEMP']=1\n",
    "ENEM.loc[ENEM['RENDA_MENSAL']==2, 'RENDA_MENSAL_TEMP']=2\n",
    "ENEM.loc[ENEM['RENDA_MENSAL']==3, 'RENDA_MENSAL_TEMP']=2\n",
    "ENEM.loc[(ENEM['RENDA_MENSAL']>3) & (ENEM['RENDA_MENSAL']<8), 'RENDA_MENSAL_TEMP']=3\n",
    "ENEM.loc[(ENEM['RENDA_MENSAL']>7) & (ENEM['RENDA_MENSAL']<13), 'RENDA_MENSAL_TEMP']=4\n",
    "ENEM.loc[ENEM['RENDA_MENSAL']>12, 'RENDA_MENSAL_TEMP']=5\n",
    "\n",
    "ENEM.loc[ENEM['TP_SEXO']==1, 'TP_SEXO_TEMP']=0\n",
    "ENEM.loc[ENEM['TP_SEXO']==0, 'TP_SEXO_TEMP']=1"
   ]
  },
  {
   "cell_type": "code",
   "execution_count": 29,
   "metadata": {
    "ExecuteTime": {
     "end_time": "2021-11-09T19:14:41.417006Z",
     "start_time": "2021-11-09T19:14:41.361056Z"
    }
   },
   "outputs": [],
   "source": [
    "#back to original columns\n",
    "ENEM['EDU_PAI'] = ENEM['EDU_PAI_TEMP']\n",
    "ENEM['EDU_MAE'] = ENEM['EDU_MAE_TEMP']\n",
    "ENEM['QT_PESSOAS_CASA'] = ENEM['QT_PESSOAS_CASA_TEMP']\n",
    "ENEM['RENDA_MENSAL'] = ENEM['RENDA_MENSAL_TEMP']\n",
    "ENEM['TP_SEXO'] = ENEM['TP_SEXO_TEMP']\n"
   ]
  },
  {
   "cell_type": "code",
   "execution_count": 30,
   "metadata": {
    "ExecuteTime": {
     "end_time": "2021-11-09T19:14:41.692981Z",
     "start_time": "2021-11-09T19:14:41.422722Z"
    }
   },
   "outputs": [],
   "source": [
    "#drop temps\n",
    "\n",
    "ENEM.drop(['EDU_PAI_TEMP', 'EDU_MAE_TEMP', 'QT_PESSOAS_CASA_TEMP','RENDA_MENSAL_TEMP', 'TP_SEXO_TEMP'], axis=1, inplace=True)"
   ]
  },
  {
   "cell_type": "code",
   "execution_count": 31,
   "metadata": {
    "ExecuteTime": {
     "end_time": "2021-11-09T19:14:41.708731Z",
     "start_time": "2021-11-09T19:14:41.698009Z"
    }
   },
   "outputs": [
    {
     "name": "stdout",
     "output_type": "stream",
     "text": [
      "total students considered: 964497\n"
     ]
    }
   ],
   "source": [
    "print('total students considered:',ENEM.shape[0])\n"
   ]
  },
  {
   "cell_type": "markdown",
   "metadata": {},
   "source": [
    "CENSUS - SCHOOL"
   ]
  },
  {
   "cell_type": "code",
   "execution_count": 32,
   "metadata": {
    "ExecuteTime": {
     "end_time": "2021-11-09T19:14:42.300344Z",
     "start_time": "2021-11-09T19:14:41.714352Z"
    }
   },
   "outputs": [
    {
     "data": {
      "text/html": [
       "<div>\n",
       "<style scoped>\n",
       "    .dataframe tbody tr th:only-of-type {\n",
       "        vertical-align: middle;\n",
       "    }\n",
       "\n",
       "    .dataframe tbody tr th {\n",
       "        vertical-align: top;\n",
       "    }\n",
       "\n",
       "    .dataframe thead th {\n",
       "        text-align: right;\n",
       "    }\n",
       "</style>\n",
       "<table border=\"1\" class=\"dataframe\">\n",
       "  <thead>\n",
       "    <tr style=\"text-align: right;\">\n",
       "      <th></th>\n",
       "      <th>CO_ESCOLA</th>\n",
       "      <th>CO_MUNICIPIO</th>\n",
       "      <th>CO_UF</th>\n",
       "      <th>CO_DEPENDENCIA_ADM</th>\n",
       "      <th>IN_AGUA_INEXISTENTE</th>\n",
       "      <th>IN_ESGOTO_INEXISTENTE</th>\n",
       "      <th>IN_ENERGIA_INEXISTENTE</th>\n",
       "      <th>IN_LABORATORIO_INFORMATICA</th>\n",
       "      <th>IN_LABORATORIO_CIENCIAS</th>\n",
       "      <th>IN_SALA_ATENDIMENTO_ESPECIAL</th>\n",
       "      <th>IN_BIBLIOTECA</th>\n",
       "      <th>IN_SALA_LEITURA</th>\n",
       "      <th>IN_BANHEIRO</th>\n",
       "      <th>IN_BANHEIRO_PNE</th>\n",
       "      <th>QT_SALAS_UTILIZADAS</th>\n",
       "      <th>QT_EQUIP_TV</th>\n",
       "      <th>QT_EQUIP_DVD</th>\n",
       "      <th>QT_EQUIP_COPIADORA</th>\n",
       "      <th>QT_EQUIP_IMPRESSORA</th>\n",
       "      <th>QT_COMP_ALUNO</th>\n",
       "      <th>IN_INTERNET</th>\n",
       "      <th>IN_BANDA_LARGA</th>\n",
       "      <th>QT_FUNCIONARIOS</th>\n",
       "      <th>IN_ALIMENTACAO</th>\n",
       "      <th>IN_COMUM_MEDIO_MEDIO</th>\n",
       "      <th>IN_COMUM_MEDIO_INTEGRADO</th>\n",
       "      <th>IN_COMUM_MEDIO_NORMAL</th>\n",
       "      <th>IN_SALA_PROFESSOR</th>\n",
       "      <th>IN_COZINHA</th>\n",
       "      <th>IN_EQUIP_PARABOLICA</th>\n",
       "      <th>IN_ATIV_COMPLEMENTAR</th>\n",
       "      <th>IN_QUADRA_ESPORTES</th>\n",
       "    </tr>\n",
       "  </thead>\n",
       "  <tbody>\n",
       "    <tr>\n",
       "      <th>0</th>\n",
       "      <td>0</td>\n",
       "      <td>0</td>\n",
       "      <td>0</td>\n",
       "      <td>0</td>\n",
       "      <td>0</td>\n",
       "      <td>0</td>\n",
       "      <td>0</td>\n",
       "      <td>0</td>\n",
       "      <td>0</td>\n",
       "      <td>0</td>\n",
       "      <td>0</td>\n",
       "      <td>0</td>\n",
       "      <td>0</td>\n",
       "      <td>0</td>\n",
       "      <td>0</td>\n",
       "      <td>0</td>\n",
       "      <td>0</td>\n",
       "      <td>0</td>\n",
       "      <td>0</td>\n",
       "      <td>1022</td>\n",
       "      <td>114</td>\n",
       "      <td>434</td>\n",
       "      <td>0</td>\n",
       "      <td>0</td>\n",
       "      <td>0</td>\n",
       "      <td>0</td>\n",
       "      <td>0</td>\n",
       "      <td>0</td>\n",
       "      <td>0</td>\n",
       "      <td>0</td>\n",
       "      <td>0</td>\n",
       "      <td>3709</td>\n",
       "    </tr>\n",
       "  </tbody>\n",
       "</table>\n",
       "</div>"
      ],
      "text/plain": [
       "   CO_ESCOLA  CO_MUNICIPIO  CO_UF  CO_DEPENDENCIA_ADM  IN_AGUA_INEXISTENTE  \\\n",
       "0          0             0      0                   0                    0   \n",
       "\n",
       "   IN_ESGOTO_INEXISTENTE  IN_ENERGIA_INEXISTENTE  IN_LABORATORIO_INFORMATICA  \\\n",
       "0                      0                       0                           0   \n",
       "\n",
       "   IN_LABORATORIO_CIENCIAS  IN_SALA_ATENDIMENTO_ESPECIAL  IN_BIBLIOTECA  \\\n",
       "0                        0                             0              0   \n",
       "\n",
       "   IN_SALA_LEITURA  IN_BANHEIRO  IN_BANHEIRO_PNE  QT_SALAS_UTILIZADAS  \\\n",
       "0                0            0                0                    0   \n",
       "\n",
       "   QT_EQUIP_TV  QT_EQUIP_DVD  QT_EQUIP_COPIADORA  QT_EQUIP_IMPRESSORA  \\\n",
       "0            0             0                   0                    0   \n",
       "\n",
       "   QT_COMP_ALUNO  IN_INTERNET  IN_BANDA_LARGA  QT_FUNCIONARIOS  \\\n",
       "0           1022          114             434                0   \n",
       "\n",
       "   IN_ALIMENTACAO  IN_COMUM_MEDIO_MEDIO  IN_COMUM_MEDIO_INTEGRADO  \\\n",
       "0               0                     0                         0   \n",
       "\n",
       "   IN_COMUM_MEDIO_NORMAL  IN_SALA_PROFESSOR  IN_COZINHA  IN_EQUIP_PARABOLICA  \\\n",
       "0                      0                  0           0                    0   \n",
       "\n",
       "   IN_ATIV_COMPLEMENTAR  IN_QUADRA_ESPORTES  \n",
       "0                     0                3709  "
      ]
     },
     "execution_count": 32,
     "metadata": {},
     "output_type": "execute_result"
    }
   ],
   "source": [
    "#Taking only schools present at ALL DATABASES\n",
    "C_SCHOOL = C_SCHOOL.loc[(C_SCHOOL.CO_ESCOLA.isin(ENEM.CO_ESCOLA)) & (C_SCHOOL.CO_ESCOLA.isin(C_CLASS.CO_ESCOLA)) &\n",
    "                                                        (C_SCHOOL.CO_ESCOLA.isin(C_TEACHER.CO_ESCOLA))]\n",
    "C_SCHOOL.isnull().sum().to_frame().T"
   ]
  },
  {
   "cell_type": "code",
   "execution_count": 33,
   "metadata": {
    "ExecuteTime": {
     "end_time": "2021-11-09T19:14:42.490687Z",
     "start_time": "2021-11-09T19:14:42.305672Z"
    }
   },
   "outputs": [],
   "source": [
    "# IN = Mode\n",
    "# QT - Mean\n",
    "QT = C_SCHOOL.filter(regex=(\"^QT_*\")).columns\n",
    "IN = C_SCHOOL.filter(regex=(\"^IN_*\")).columns\n",
    "\n",
    "for i in IN:\n",
    "    C_SCHOOL[i].fillna(C_SCHOOL[i].mean(), inplace = True)\n",
    "for i in QT:\n",
    "    C_SCHOOL[i].fillna(Counter(C_SCHOOL[i]).most_common()[0][0], inplace = True)\n"
   ]
  },
  {
   "cell_type": "code",
   "execution_count": 34,
   "metadata": {
    "ExecuteTime": {
     "end_time": "2021-11-09T19:14:42.504736Z",
     "start_time": "2021-11-09T19:14:42.495505Z"
    }
   },
   "outputs": [
    {
     "name": "stdout",
     "output_type": "stream",
     "text": [
      "total schools considered: 20130\n"
     ]
    }
   ],
   "source": [
    "print('total schools considered:',C_SCHOOL.shape[0])"
   ]
  },
  {
   "cell_type": "markdown",
   "metadata": {},
   "source": [
    "CENSUS - CLASS"
   ]
  },
  {
   "cell_type": "code",
   "execution_count": 35,
   "metadata": {
    "ExecuteTime": {
     "end_time": "2021-11-09T19:14:42.546745Z",
     "start_time": "2021-11-09T19:14:42.509288Z"
    }
   },
   "outputs": [
    {
     "data": {
      "text/html": [
       "<div>\n",
       "<style scoped>\n",
       "    .dataframe tbody tr th:only-of-type {\n",
       "        vertical-align: middle;\n",
       "    }\n",
       "\n",
       "    .dataframe tbody tr th {\n",
       "        vertical-align: top;\n",
       "    }\n",
       "\n",
       "    .dataframe thead th {\n",
       "        text-align: right;\n",
       "    }\n",
       "</style>\n",
       "<table border=\"1\" class=\"dataframe\">\n",
       "  <thead>\n",
       "    <tr style=\"text-align: right;\">\n",
       "      <th></th>\n",
       "      <th>CO_ESCOLA</th>\n",
       "      <th>CO_TURMA</th>\n",
       "      <th>CO_MOD_ENSINO</th>\n",
       "      <th>IN_ETAPA_ENSINO</th>\n",
       "      <th>QT_MATRICULAS</th>\n",
       "    </tr>\n",
       "  </thead>\n",
       "  <tbody>\n",
       "    <tr>\n",
       "      <th>0</th>\n",
       "      <td>0</td>\n",
       "      <td>0</td>\n",
       "      <td>0</td>\n",
       "      <td>0</td>\n",
       "      <td>0</td>\n",
       "    </tr>\n",
       "  </tbody>\n",
       "</table>\n",
       "</div>"
      ],
      "text/plain": [
       "   CO_ESCOLA  CO_TURMA  CO_MOD_ENSINO  IN_ETAPA_ENSINO  QT_MATRICULAS\n",
       "0          0         0              0                0              0"
      ]
     },
     "execution_count": 35,
     "metadata": {},
     "output_type": "execute_result"
    }
   ],
   "source": [
    "C_CLASS = C_CLASS.loc[(C_CLASS.CO_ESCOLA.isin(C_SCHOOL.CO_ESCOLA))]\n",
    "C_CLASS.isnull().sum().to_frame().T"
   ]
  },
  {
   "cell_type": "markdown",
   "metadata": {
    "ExecuteTime": {
     "end_time": "2021-02-19T18:07:19.296946Z",
     "start_time": "2021-02-19T18:07:19.049130Z"
    }
   },
   "source": [
    "CENSUS - TEACHER"
   ]
  },
  {
   "cell_type": "code",
   "execution_count": 36,
   "metadata": {
    "ExecuteTime": {
     "end_time": "2021-11-09T19:14:49.205119Z",
     "start_time": "2021-11-09T19:14:42.551439Z"
    }
   },
   "outputs": [
    {
     "data": {
      "text/html": [
       "<div>\n",
       "<style scoped>\n",
       "    .dataframe tbody tr th:only-of-type {\n",
       "        vertical-align: middle;\n",
       "    }\n",
       "\n",
       "    .dataframe tbody tr th {\n",
       "        vertical-align: top;\n",
       "    }\n",
       "\n",
       "    .dataframe thead th {\n",
       "        text-align: right;\n",
       "    }\n",
       "</style>\n",
       "<table border=\"1\" class=\"dataframe\">\n",
       "  <thead>\n",
       "    <tr style=\"text-align: right;\">\n",
       "      <th></th>\n",
       "      <th>CO_PROFESSOR</th>\n",
       "      <th>CO_ESCOLA</th>\n",
       "      <th>CO_TURMA</th>\n",
       "      <th>IN_ESPECIALIZACAO</th>\n",
       "      <th>IN_MESTRADO</th>\n",
       "      <th>IN_DOUTORADO</th>\n",
       "      <th>ID_QUIMICA</th>\n",
       "      <th>ID_FISICA</th>\n",
       "      <th>ID_MATEMATICA</th>\n",
       "      <th>ID_BIOLOGIA</th>\n",
       "      <th>ID_SOCIOLOGIA</th>\n",
       "      <th>ID_LINGUA_LITERAT_PORTUGUESA</th>\n",
       "      <th>ID_LINGUA_LITERAT_INGLES</th>\n",
       "      <th>ID_LINGUA_LITERAT_ESPANHOL</th>\n",
       "      <th>ID_ARTES</th>\n",
       "      <th>ID_EDUCACAO_FISICA</th>\n",
       "      <th>ID_HISTORIA</th>\n",
       "      <th>ID_GEOGRAFIA</th>\n",
       "      <th>ID_FILOSOFIA</th>\n",
       "      <th>CO_AREA_OCDE_1</th>\n",
       "      <th>ID_LICENCIATURA_1</th>\n",
       "      <th>CO_AREA_OCDE_2</th>\n",
       "      <th>ID_LICENCIATURA_2</th>\n",
       "      <th>CO_AREA_OCDE_3</th>\n",
       "      <th>ID_LICENCIATURA_3</th>\n",
       "    </tr>\n",
       "  </thead>\n",
       "  <tbody>\n",
       "    <tr>\n",
       "      <th>0</th>\n",
       "      <td>0</td>\n",
       "      <td>0</td>\n",
       "      <td>0</td>\n",
       "      <td>0</td>\n",
       "      <td>0</td>\n",
       "      <td>0</td>\n",
       "      <td>0</td>\n",
       "      <td>0</td>\n",
       "      <td>0</td>\n",
       "      <td>0</td>\n",
       "      <td>0</td>\n",
       "      <td>0</td>\n",
       "      <td>0</td>\n",
       "      <td>0</td>\n",
       "      <td>0</td>\n",
       "      <td>0</td>\n",
       "      <td>0</td>\n",
       "      <td>0</td>\n",
       "      <td>0</td>\n",
       "      <td>58606</td>\n",
       "      <td>58606</td>\n",
       "      <td>765890</td>\n",
       "      <td>765890</td>\n",
       "      <td>808890</td>\n",
       "      <td>808890</td>\n",
       "    </tr>\n",
       "  </tbody>\n",
       "</table>\n",
       "</div>"
      ],
      "text/plain": [
       "   CO_PROFESSOR  CO_ESCOLA  CO_TURMA  IN_ESPECIALIZACAO  IN_MESTRADO  \\\n",
       "0             0          0         0                  0            0   \n",
       "\n",
       "   IN_DOUTORADO  ID_QUIMICA  ID_FISICA  ID_MATEMATICA  ID_BIOLOGIA  \\\n",
       "0             0           0          0              0            0   \n",
       "\n",
       "   ID_SOCIOLOGIA  ID_LINGUA_LITERAT_PORTUGUESA  ID_LINGUA_LITERAT_INGLES  \\\n",
       "0              0                             0                         0   \n",
       "\n",
       "   ID_LINGUA_LITERAT_ESPANHOL  ID_ARTES  ID_EDUCACAO_FISICA  ID_HISTORIA  \\\n",
       "0                           0         0                   0            0   \n",
       "\n",
       "   ID_GEOGRAFIA  ID_FILOSOFIA  CO_AREA_OCDE_1  ID_LICENCIATURA_1  \\\n",
       "0             0             0           58606              58606   \n",
       "\n",
       "   CO_AREA_OCDE_2  ID_LICENCIATURA_2  CO_AREA_OCDE_3  ID_LICENCIATURA_3  \n",
       "0          765890             765890          808890             808890  "
      ]
     },
     "execution_count": 36,
     "metadata": {},
     "output_type": "execute_result"
    }
   ],
   "source": [
    "C_TEACHER = C_TEACHER.drop_duplicates(['CO_PROFESSOR', 'CO_ESCOLA']) # We have multiple teachers for school due classes. It is importante just one record\n",
    "C_TEACHER = C_TEACHER.loc[(C_TEACHER.CO_ESCOLA.isin(C_SCHOOL.CO_ESCOLA))]\n",
    "C_TEACHER.isnull().sum().to_frame().T"
   ]
  },
  {
   "cell_type": "code",
   "execution_count": 37,
   "metadata": {
    "ExecuteTime": {
     "end_time": "2021-11-09T19:14:49.224100Z",
     "start_time": "2021-11-09T19:14:49.209700Z"
    }
   },
   "outputs": [
    {
     "name": "stdout",
     "output_type": "stream",
     "text": [
      "total teachers considered: 812851\n"
     ]
    }
   ],
   "source": [
    "C_TEACHER.fillna({'IN_ESPECIALIZACAO':0, 'IN_MESTRADO':0, 'IN_DOUTORADO':0}, inplace =True)\n",
    "print('total teachers considered:',C_TEACHER.shape[0])"
   ]
  },
  {
   "cell_type": "markdown",
   "metadata": {
    "ExecuteTime": {
     "end_time": "2020-04-23T20:08:38.321927Z",
     "start_time": "2020-04-23T20:08:38.157014Z"
    }
   },
   "source": [
    "### New Features"
   ]
  },
  {
   "cell_type": "markdown",
   "metadata": {},
   "source": [
    "ENEM"
   ]
  },
  {
   "cell_type": "code",
   "execution_count": 38,
   "metadata": {
    "ExecuteTime": {
     "end_time": "2021-11-09T19:14:49.273773Z",
     "start_time": "2021-11-09T19:14:49.230305Z"
    }
   },
   "outputs": [],
   "source": [
    "#Final Media\n",
    "ENEM['NU_NOTA_GERAL'] = (ENEM.NU_NOTA_CN + ENEM.NU_NOTA_CH + ENEM.NU_NOTA_LC + ENEM.NU_NOTA_MT + ENEM.NU_NOTA_REDACAO)/5"
   ]
  },
  {
   "cell_type": "markdown",
   "metadata": {},
   "source": [
    "TEACHER CENSUS \n"
   ]
  },
  {
   "cell_type": "code",
   "execution_count": 39,
   "metadata": {
    "ExecuteTime": {
     "end_time": "2021-11-09T19:14:49.930371Z",
     "start_time": "2021-11-09T19:14:49.279599Z"
    }
   },
   "outputs": [],
   "source": [
    "C_TEACHER['TITULACAO'] = 0\n",
    "\n",
    "C_TEACHER.loc[(C_TEACHER.IN_ESPECIALIZACAO==0.0) & (C_TEACHER.IN_MESTRADO==0.0)& \n",
    "             (C_TEACHER.IN_DOUTORADO ==0.0), 'TITULACAO'] = 0\n",
    "\n",
    "C_TEACHER.loc[(C_TEACHER.IN_ESPECIALIZACAO==1.0) & (C_TEACHER.IN_MESTRADO==0.0)& \n",
    "             (C_TEACHER.IN_DOUTORADO ==0.0), 'TITULACAO'] = 1\n",
    "\n",
    "C_TEACHER.loc[(C_TEACHER.IN_ESPECIALIZACAO==1.0) & (C_TEACHER.IN_MESTRADO==1.0)& \n",
    "             (C_TEACHER.IN_DOUTORADO ==0.0), 'TITULACAO'] = 2\n",
    "\n",
    "C_TEACHER.loc[(C_TEACHER.IN_ESPECIALIZACAO==0.0) & (C_TEACHER.IN_MESTRADO==1.0)& \n",
    "             (C_TEACHER.IN_DOUTORADO ==0.0), 'TITULACAO'] = 2\n",
    "\n",
    "C_TEACHER.loc[(C_TEACHER.IN_DOUTORADO ==1.0), 'TITULACAO'] = 3\n",
    "\n",
    "#Rebuild level education information as indicator of unique level.\n",
    "C_TEACHER['NU_GRADUACAO'] = 0\n",
    "C_TEACHER['NU_ESPECIALIZACAO'] = 0\n",
    "C_TEACHER['NU_MESTRADO'] = 0\n",
    "C_TEACHER['NU_DOUTORADO'] = 0\n",
    "\n",
    "C_TEACHER.loc[C_TEACHER.TITULACAO == 0, 'NU_GRADUACAO']= 1\n",
    "C_TEACHER.loc[C_TEACHER.TITULACAO == 1, 'NU_ESPECIALIZACAO']= 1\n",
    "C_TEACHER.loc[C_TEACHER.TITULACAO == 2, 'NU_MESTRADO']= 1\n",
    "C_TEACHER.loc[C_TEACHER.TITULACAO == 3, 'NU_DOUTORADO']= 1\n",
    "\n",
    "\n",
    "C_TEACHER['NU_GRADUACAO'] = C_TEACHER.groupby('CO_ESCOLA')['NU_GRADUACAO'].transform(sum)\n",
    "C_TEACHER['NU_ESPECIALIZACAO'] = C_TEACHER.groupby('CO_ESCOLA')['NU_ESPECIALIZACAO'].transform(sum)\n",
    "C_TEACHER['NU_MESTRADO'] = C_TEACHER.groupby('CO_ESCOLA')['NU_MESTRADO'].transform(sum)\n",
    "C_TEACHER['NU_DOUTORADO'] = C_TEACHER.groupby('CO_ESCOLA')['NU_DOUTORADO'].transform(sum)\n",
    "\n",
    "\n",
    "\n",
    "#Calculating weighted indice of teacher education\n",
    "SUM= C_TEACHER.groupby('CO_ESCOLA')['TITULACAO'].transform(sum)\n",
    "COUNT =  C_TEACHER.groupby('CO_ESCOLA')['TITULACAO'].transform('count')\n",
    "C_TEACHER['TITULACAO'] = (SUM)/(COUNT*3)  \n"
   ]
  },
  {
   "cell_type": "code",
   "execution_count": 40,
   "metadata": {
    "ExecuteTime": {
     "end_time": "2021-11-09T19:14:50.648091Z",
     "start_time": "2021-11-09T19:14:49.935438Z"
    }
   },
   "outputs": [],
   "source": [
    "#In order to avoid count duplicates teacher who teachs in both subjects. Since the required training is the same\n",
    "C_TEACHER['ID_LINGUA_ESTRANGEIRA']=0\n",
    "C_TEACHER.loc[((C_TEACHER.ID_LINGUA_LITERAT_ESPANHOL==1)|\n",
    "               (C_TEACHER.ID_LINGUA_LITERAT_INGLES==1)),'ID_LINGUA_ESTRANGEIRA']=1  \n",
    "\n",
    "#In order to avoid count duplicates teacher who teachs in both subjects. Since we consindering as the same subject\n",
    "C_TEACHER['ID_FISIO_SOCIO']=0\n",
    "C_TEACHER.loc[((C_TEACHER.ID_FILOSOFIA==1)|(C_TEACHER.ID_SOCIOLOGIA==1)),'ID_FISIO_SOCIO']=1\n",
    "\n",
    "C_TEACHER['OUTROS'] = 0\n",
    "curr_teaching = ['ID_MATEMATICA', 'ID_FISICA', 'ID_QUIMICA', 'ID_HISTORIA', 'ID_BIOLOGIA', 'ID_GEOGRAFIA', \n",
    "            'ID_LINGUA_LITERAT_PORTUGUESA', 'ID_LINGUA_ESTRANGEIRA','ID_FISIO_SOCIO', 'ID_ARTES', \n",
    "            'ID_EDUCACAO_FISICA', 'OUTROS']\n",
    "\n",
    "#C_TEACHER[curr_teaching].fillna(0, inplace=True)\n",
    "C_TEACHER.loc[(C_TEACHER[curr_teaching]==0).all(axis=1), 'OUTROS'] =1\n",
    "\n",
    "#Take out teacher who do not taught in subjects related of ENEM and secondary education\n",
    "C_TEACHER = C_TEACHER.loc[C_TEACHER.OUTROS==0]\n",
    "##"
   ]
  },
  {
   "cell_type": "code",
   "execution_count": 41,
   "metadata": {
    "ExecuteTime": {
     "end_time": "2021-11-09T19:14:54.955552Z",
     "start_time": "2021-11-09T19:14:50.653323Z"
    }
   },
   "outputs": [],
   "source": [
    "# How many teacher for each knowlodege area?\n",
    "\n",
    "ciencias_humanas = ['ID_HISTORIA', 'ID_GEOGRAFIA','ID_FILOSOFIA', 'ID_SOCIOLOGIA']\n",
    "linguagens_codigos = ['ID_LINGUA_LITERAT_PORTUGUESA', 'ID_LINGUA_LITERAT_ESPANHOL',\n",
    "                      'ID_LINGUA_LITERAT_INGLES', 'ID_ARTES', 'ID_EDUCACAO_FISICA']\n",
    "matematica = ['ID_MATEMATICA']\n",
    "ciencias_natureza = ['ID_FISICA', 'ID_QUIMICA', 'ID_BIOLOGIA']\n",
    "\n",
    "###\n",
    "values = np.sum(C_TEACHER[ciencias_natureza].values == 1,1)\n",
    "C_TEACHER['NU_CIENCIA_NATUREZA'] = [1 if x >= 1 else 0 for x in values]\n",
    "C_TEACHER['NU_CIENCIA_NATUREZA']= C_TEACHER.groupby('CO_ESCOLA')['NU_CIENCIA_NATUREZA'].transform(sum)\n",
    "\n",
    "values = np.sum(C_TEACHER[ciencias_humanas].values == 1,1)\n",
    "C_TEACHER['NU_CIENCIAS_HUMANAS'] = [1 if x >= 1 else 0 for x in values]\n",
    "C_TEACHER['NU_CIENCIAS_HUMANAS']= C_TEACHER.groupby('CO_ESCOLA')['NU_CIENCIAS_HUMANAS'].transform(sum)\n",
    "\n",
    "values = np.sum(C_TEACHER[linguagens_codigos].values == 1,1)\n",
    "C_TEACHER['NU_LINGUAGENS_CODIGOS'] = [1 if x >= 1 else 0 for x in values]\n",
    "C_TEACHER['NU_LINGUAGENS_CODIGOS']= C_TEACHER.groupby('CO_ESCOLA')['NU_LINGUAGENS_CODIGOS'].transform(sum)\n",
    "\n",
    "C_TEACHER['NU_MATEMATICA']= C_TEACHER.groupby('CO_ESCOLA')['ID_MATEMATICA'].transform(sum)\n",
    "\n",
    "#Sum all domain teacher's number\n",
    "C_TEACHER['NU_TEACHERS_DOMAIN'] = C_TEACHER['NU_MATEMATICA']+C_TEACHER['NU_LINGUAGENS_CODIGOS']+C_TEACHER[\n",
    "    'NU_CIENCIAS_HUMANAS']+C_TEACHER['NU_CIENCIA_NATUREZA']\n",
    "\n",
    "#update domain teacher's number normalized\n",
    "C_TEACHER['NU_MATEMATICA']=C_TEACHER['NU_MATEMATICA']/C_TEACHER['NU_TEACHERS_DOMAIN']\n",
    "C_TEACHER['NU_LINGUAGENS_CODIGOS'] = C_TEACHER['NU_LINGUAGENS_CODIGOS']/C_TEACHER['NU_TEACHERS_DOMAIN']\n",
    "C_TEACHER['NU_CIENCIAS_HUMANAS'] = C_TEACHER['NU_CIENCIAS_HUMANAS']/C_TEACHER['NU_TEACHERS_DOMAIN']\n",
    "C_TEACHER['NU_CIENCIA_NATUREZA'] = C_TEACHER['NU_CIENCIA_NATUREZA']/C_TEACHER['NU_TEACHERS_DOMAIN']"
   ]
  },
  {
   "cell_type": "code",
   "execution_count": 42,
   "metadata": {
    "ExecuteTime": {
     "end_time": "2021-11-09T19:14:55.682125Z",
     "start_time": "2021-11-09T19:14:54.961214Z"
    }
   },
   "outputs": [],
   "source": [
    "#Number of different schools that teachers work \n",
    "C_TEACHER['NU_ESCOLAS'] = C_TEACHER.groupby('CO_PROFESSOR')['CO_ESCOLA'].transform('count')\n",
    "C_TEACHER['NU_ESCOLAS'] = C_TEACHER.groupby('CO_ESCOLA')['NU_ESCOLAS'].transform('mean')\n",
    "#Number of licensed teachers\n",
    "C_TEACHER['NU_LICENCIADOS']=C_TEACHER.groupby('CO_ESCOLA')['ID_LICENCIATURA_1'].transform(sum)\n",
    "C_TEACHER['NU_TEACHERS']=C_TEACHER.groupby('CO_ESCOLA')['ID_LICENCIATURA_1'].transform('count')\n",
    "C_TEACHER['NU_LICENCIADOS']=C_TEACHER['NU_LICENCIADOS']/C_TEACHER['NU_TEACHERS']\n",
    "C_TEACHER['NU_LICENCIADOS'].fillna(0, inplace=True)"
   ]
  },
  {
   "cell_type": "code",
   "execution_count": 43,
   "metadata": {
    "ExecuteTime": {
     "end_time": "2021-11-09T19:14:58.345832Z",
     "start_time": "2021-11-09T19:14:55.687399Z"
    }
   },
   "outputs": [],
   "source": [
    "# How about the adequate background rate of teachers\n",
    "FOR_HISTORIA = ['145F11', '225H01']\n",
    "FOR_GEOGRAFIA = ['145F10', '443G04']\n",
    "FOR_FISIO_SOCIO = ['226999','145F08', '312999', '145F24']\n",
    "FOR_ARTES = ['210A01', '146D01']\n",
    "#FOR_CIENCIAS_HUMANAS = [FOR_HISTORIA, FOR_GEOGRAFIA, FOR_FILOS_SOCIO]\n",
    "##\n",
    "FOR_LING_PORTUGUES = ['145F15','145F16', '220P01', '220L03', '220L01']\n",
    "FOR_LING_ESTRANGEIRA = ['145F16','220E01', '220L03', '145F13']\n",
    "FOR_EDUCACAO_FISICA = ['720E01']\n",
    "##\n",
    "FOR_MATEMATICA = ['461M01','145F18']\n",
    "##\n",
    "FOR_BIOLOGIA = ['145F01', '421B02']\n",
    "FOR_QUIMICA = ['442Q01','421B09', '524999', '145F21']\n",
    "FOR_FISICA = ['145F09', '421B01','441F01']\n",
    "#FOR_CIENCIAS_NATUREZA = [biologia, quimica, fisica]\n",
    "###\n",
    "C_TEACHER['FOR_MATEMATICA']=0\n",
    "C_TEACHER['FOR_FISICA']=0\n",
    "C_TEACHER['FOR_QUIMICA']=0\n",
    "C_TEACHER['FOR_HISTORIA']=0\n",
    "C_TEACHER['FOR_BIOLOGIA']=0\n",
    "C_TEACHER['FOR_GEOGRAFIA']=0\n",
    "C_TEACHER['FOR_LING_PORTUGUES']=0\n",
    "C_TEACHER['FOR_LING_ESTRANGEIRA']=0\n",
    "C_TEACHER['FOR_FISIO_SOCIO']=0\n",
    "C_TEACHER['FOR_ARTES']=0\n",
    "C_TEACHER['FOR_EDUCACAO_FISICA']=0\n",
    "\n",
    "### Set 1 for those who teaches and have adequate training for that\n",
    "C_TEACHER.loc[(C_TEACHER.ID_MATEMATICA==1) & ((C_TEACHER.CO_AREA_OCDE_1.isin(FOR_MATEMATICA))|\n",
    "              (C_TEACHER.CO_AREA_OCDE_2.isin(FOR_MATEMATICA))|\n",
    "             (C_TEACHER.CO_AREA_OCDE_3.isin(FOR_MATEMATICA))), 'FOR_MATEMATICA'] = 1\n",
    "\n",
    "C_TEACHER.loc[(C_TEACHER.ID_FISICA==1) & ((C_TEACHER.CO_AREA_OCDE_1.isin(FOR_FISICA))|\n",
    "              (C_TEACHER.CO_AREA_OCDE_2.isin(FOR_FISICA))|\n",
    "             (C_TEACHER.CO_AREA_OCDE_3.isin(FOR_FISICA))), 'FOR_FISICA'] = 1\n",
    "\n",
    "C_TEACHER.loc[(C_TEACHER.ID_QUIMICA==1) & ((C_TEACHER.CO_AREA_OCDE_1.isin(FOR_QUIMICA))|\n",
    "              (C_TEACHER.CO_AREA_OCDE_2.isin(FOR_QUIMICA))|\n",
    "             (C_TEACHER.CO_AREA_OCDE_3.isin(FOR_HISTORIA))), 'FOR_QUIMICA'] = 1\n",
    "\n",
    "C_TEACHER.loc[(C_TEACHER.ID_HISTORIA==1) & ((C_TEACHER.CO_AREA_OCDE_1.isin(FOR_HISTORIA))|\n",
    "              (C_TEACHER.CO_AREA_OCDE_2.isin(FOR_HISTORIA))|\n",
    "             (C_TEACHER.CO_AREA_OCDE_3.isin(FOR_HISTORIA))), 'FOR_HISTORIA'] = 1\n",
    "\n",
    "C_TEACHER.loc[(C_TEACHER.ID_BIOLOGIA==1) & ((C_TEACHER.CO_AREA_OCDE_1.isin(FOR_BIOLOGIA))|\n",
    "              (C_TEACHER.CO_AREA_OCDE_2.isin(FOR_BIOLOGIA))|\n",
    "             (C_TEACHER.CO_AREA_OCDE_3.isin(FOR_BIOLOGIA))), 'FOR_BIOLOGIA'] = 1\n",
    "\n",
    "C_TEACHER.loc[(C_TEACHER.ID_GEOGRAFIA==1) & ((C_TEACHER.CO_AREA_OCDE_1.isin(FOR_GEOGRAFIA))|\n",
    "              (C_TEACHER.CO_AREA_OCDE_2.isin(FOR_GEOGRAFIA))|\n",
    "             (C_TEACHER.CO_AREA_OCDE_3.isin(FOR_GEOGRAFIA))), 'FOR_GEOGRAFIA'] = 1\n",
    "\n",
    "C_TEACHER.loc[(C_TEACHER.ID_LINGUA_LITERAT_PORTUGUESA==1) & ((C_TEACHER.CO_AREA_OCDE_1.isin(FOR_LING_PORTUGUES))|\n",
    "              (C_TEACHER.CO_AREA_OCDE_2.isin(FOR_LING_PORTUGUES))|\n",
    "             (C_TEACHER.CO_AREA_OCDE_3.isin(FOR_LING_PORTUGUES))), 'FOR_LING_PORTUGUES'] = 1\n",
    "\n",
    "C_TEACHER.loc[(C_TEACHER.ID_LINGUA_ESTRANGEIRA==1) & ((C_TEACHER.CO_AREA_OCDE_1.isin(FOR_LING_ESTRANGEIRA))|\n",
    "              (C_TEACHER.CO_AREA_OCDE_2.isin(FOR_LING_ESTRANGEIRA))|\n",
    "             (C_TEACHER.CO_AREA_OCDE_3.isin(FOR_LING_ESTRANGEIRA))), 'FOR_LING_ESTRANGEIRA'] = 1   \n",
    "\n",
    "               \n",
    "C_TEACHER.loc[((C_TEACHER.ID_FILOSOFIA==1)|(C_TEACHER.ID_SOCIOLOGIA==1)) & ((C_TEACHER.CO_AREA_OCDE_1.isin(FOR_FISIO_SOCIO))|\n",
    "              (C_TEACHER.CO_AREA_OCDE_2.isin(FOR_FISIO_SOCIO))|\n",
    "             (C_TEACHER.CO_AREA_OCDE_3.isin(FOR_FISIO_SOCIO))), 'FOR_FISIO_SOCIO'] = 1   \n",
    "                                                   \n",
    "C_TEACHER.loc[(C_TEACHER.ID_ARTES==1) & ((C_TEACHER.CO_AREA_OCDE_1.isin(FOR_ARTES))|\n",
    "              (C_TEACHER.CO_AREA_OCDE_2.isin(FOR_ARTES))|\n",
    "             (C_TEACHER.CO_AREA_OCDE_3.isin(FOR_ARTES))), 'FOR_ARTES'] = 1  \n",
    "\n",
    "C_TEACHER.loc[(C_TEACHER.ID_EDUCACAO_FISICA==1) & ((C_TEACHER.CO_AREA_OCDE_1.isin(FOR_EDUCACAO_FISICA))|\n",
    "              (C_TEACHER.CO_AREA_OCDE_2.isin(FOR_EDUCACAO_FISICA))|\n",
    "             (C_TEACHER.CO_AREA_OCDE_3.isin(FOR_EDUCACAO_FISICA))), 'FOR_EDUCACAO_FISICA'] = 1  "
   ]
  },
  {
   "cell_type": "code",
   "execution_count": 44,
   "metadata": {
    "ExecuteTime": {
     "end_time": "2021-11-09T19:15:00.107092Z",
     "start_time": "2021-11-09T19:14:58.350855Z"
    }
   },
   "outputs": [],
   "source": [
    "#Computing sum of teachers with adequate training for each school\n",
    "adequate_training = ['FOR_MATEMATICA','FOR_FISICA','FOR_QUIMICA','FOR_HISTORIA','FOR_BIOLOGIA','FOR_GEOGRAFIA',\n",
    " 'FOR_LING_PORTUGUES','FOR_LING_ESTRANGEIRA','FOR_FISIO_SOCIO','FOR_ARTES', 'FOR_EDUCACAO_FISICA']\n",
    "\n",
    "for i in adequate_training:\n",
    "    C_TEACHER[i] = C_TEACHER.groupby('CO_ESCOLA')[i].transform(sum)\n",
    "    \n",
    "#Computing sum of current classes taught, whatever if they have training\n",
    "for i in curr_teaching: #defined earlier\n",
    "    C_TEACHER[i] =  C_TEACHER.groupby('CO_ESCOLA')[i].transform(sum) \n",
    "    \n",
    "#School Grain\n",
    "C_TEACHER.drop_duplicates('CO_ESCOLA', inplace = True)"
   ]
  },
  {
   "cell_type": "code",
   "execution_count": 45,
   "metadata": {
    "ExecuteTime": {
     "end_time": "2021-11-09T19:15:00.192525Z",
     "start_time": "2021-11-09T19:15:00.113259Z"
    }
   },
   "outputs": [],
   "source": [
    "# Computing the rate of adequate training ((number of current with adequate training + Number those w/o traininig*0.5)/total) for each area)\n",
    "\n",
    "C_TEACHER['IN_FOR_MAT'] = (C_TEACHER['FOR_MATEMATICA']+ (\n",
    "    (C_TEACHER['ID_MATEMATICA'] - C_TEACHER['FOR_MATEMATICA'])*0.5))/C_TEACHER['ID_MATEMATICA']\n",
    "\n",
    "C_TEACHER['IN_FOR_FIS'] = (C_TEACHER['FOR_FISICA']+ (\n",
    "    (C_TEACHER['ID_FISICA'] - C_TEACHER['FOR_FISICA'])*0.5))/C_TEACHER['ID_FISICA']\n",
    "\n",
    "C_TEACHER['IN_FOR_QUI'] = (C_TEACHER['FOR_QUIMICA']+ (\n",
    "    (C_TEACHER['ID_QUIMICA'] - C_TEACHER['FOR_QUIMICA'])*0.5))/C_TEACHER['ID_QUIMICA']\n",
    "\n",
    "C_TEACHER['IN_FOR_HIST'] = (C_TEACHER['FOR_HISTORIA']+ (\n",
    "    (C_TEACHER['ID_HISTORIA'] - C_TEACHER['FOR_HISTORIA'])*0.5))/C_TEACHER['ID_HISTORIA']\n",
    "\n",
    "C_TEACHER['IN_FOR_BIO'] = (C_TEACHER['FOR_BIOLOGIA']+ (\n",
    "    (C_TEACHER['ID_BIOLOGIA'] - C_TEACHER['FOR_BIOLOGIA'])*0.5))/C_TEACHER['ID_BIOLOGIA']\n",
    "\n",
    "C_TEACHER['IN_FOR_GEO'] = (C_TEACHER['FOR_GEOGRAFIA']+ (\n",
    "    (C_TEACHER['ID_GEOGRAFIA'] - C_TEACHER['FOR_GEOGRAFIA'])*0.5))/C_TEACHER['ID_GEOGRAFIA']\n",
    "\n",
    "C_TEACHER['IN_FOR_PORT'] = (C_TEACHER['FOR_LING_PORTUGUES']+ (\n",
    "    (C_TEACHER['ID_LINGUA_LITERAT_PORTUGUESA'] - C_TEACHER['FOR_LING_PORTUGUES'])*0.5))/C_TEACHER['ID_LINGUA_LITERAT_PORTUGUESA']\n",
    "\n",
    "C_TEACHER['IN_FOR_EST'] = (C_TEACHER['FOR_LING_ESTRANGEIRA']+ (\n",
    "    (C_TEACHER['ID_LINGUA_ESTRANGEIRA'] - C_TEACHER['FOR_LING_ESTRANGEIRA'])*0.5))/C_TEACHER['ID_LINGUA_ESTRANGEIRA']\n",
    "\n",
    "C_TEACHER['IN_FOR_FISIO_SOCIO'] = (C_TEACHER['FOR_FISIO_SOCIO']+ (\n",
    "    (C_TEACHER['ID_FISIO_SOCIO'] - C_TEACHER['FOR_FISIO_SOCIO'])*0.5))/C_TEACHER['ID_FISIO_SOCIO']\n",
    "\n",
    "C_TEACHER['IN_FOR_ARTES'] = (C_TEACHER['FOR_ARTES']+ (\n",
    "    (C_TEACHER['ID_ARTES'] - C_TEACHER['FOR_ARTES'])*0.5))/C_TEACHER['ID_ARTES']\n",
    "\n",
    "C_TEACHER['IN_FOR_ED_FISICA'] = (C_TEACHER['FOR_EDUCACAO_FISICA']+ (\n",
    "    (C_TEACHER['ID_EDUCACAO_FISICA'] - C_TEACHER['FOR_EDUCACAO_FISICA'])*0.5))/C_TEACHER['ID_EDUCACAO_FISICA']"
   ]
  },
  {
   "cell_type": "code",
   "execution_count": 46,
   "metadata": {
    "ExecuteTime": {
     "end_time": "2021-11-09T19:15:00.232609Z",
     "start_time": "2021-11-09T19:15:00.198056Z"
    }
   },
   "outputs": [],
   "source": [
    "#Computing a new index for each school = Teacher Adequate Training\n",
    "COLUMNS = C_TEACHER.filter(regex=(\"^IN_FOR_*\")).columns\n",
    "C_TEACHER.fillna({x:0 for x in COLUMNS}, inplace=True)\n",
    "C_TEACHER['IN_FORM_DOCENTE']=C_TEACHER.filter(regex=(\"^IN_FOR_*\")).sum(axis=1)/11\n",
    "\n",
    "#Drop indices from each subject\n",
    "#C_TEACHER.drop(COLUMNS, axis=1, inplace = True)"
   ]
  },
  {
   "cell_type": "code",
   "execution_count": 47,
   "metadata": {
    "ExecuteTime": {
     "end_time": "2021-11-09T19:15:00.269732Z",
     "start_time": "2021-11-09T19:15:00.237381Z"
    }
   },
   "outputs": [
    {
     "data": {
      "text/plain": [
       "Index(['CO_PROFESSOR', 'CO_ESCOLA', 'CO_TURMA', 'IN_ESPECIALIZACAO',\n",
       "       'IN_MESTRADO', 'IN_DOUTORADO', 'CO_AREA_OCDE_1', 'CO_AREA_OCDE_2',\n",
       "       'CO_AREA_OCDE_3', 'TITULACAO', 'NU_GRADUACAO', 'NU_ESPECIALIZACAO',\n",
       "       'NU_MESTRADO', 'NU_DOUTORADO', 'OUTROS', 'NU_CIENCIA_NATUREZA',\n",
       "       'NU_CIENCIAS_HUMANAS', 'NU_LINGUAGENS_CODIGOS', 'NU_MATEMATICA',\n",
       "       'NU_TEACHERS_DOMAIN', 'NU_ESCOLAS', 'NU_LICENCIADOS', 'NU_TEACHERS',\n",
       "       'FOR_MATEMATICA', 'FOR_FISICA', 'FOR_QUIMICA', 'FOR_HISTORIA',\n",
       "       'FOR_BIOLOGIA', 'FOR_GEOGRAFIA', 'FOR_LING_PORTUGUES',\n",
       "       'FOR_LING_ESTRANGEIRA', 'FOR_FISIO_SOCIO', 'FOR_ARTES',\n",
       "       'FOR_EDUCACAO_FISICA', 'IN_FOR_MAT', 'IN_FOR_FIS', 'IN_FOR_QUI',\n",
       "       'IN_FOR_HIST', 'IN_FOR_BIO', 'IN_FOR_GEO', 'IN_FOR_PORT', 'IN_FOR_EST',\n",
       "       'IN_FOR_FISIO_SOCIO', 'IN_FOR_ARTES', 'IN_FOR_ED_FISICA',\n",
       "       'IN_FORM_DOCENTE'],\n",
       "      dtype='object')"
      ]
     },
     "execution_count": 47,
     "metadata": {},
     "output_type": "execute_result"
    }
   ],
   "source": [
    "#drop all subjects and others that are no longer needed\n",
    "C_TEACHER.drop(C_TEACHER.filter(regex=('^ID_*')).columns, axis=1, inplace = True)\n",
    "others = ['CO_PROFESSOR','CO_TURMA', 'CO_AREA_OCDE_1','CO_AREA_OCDE_2', 'CO_AREA_OCDE_3','OUTROS',\n",
    "          'IN_ESPECIALIZACAO', 'IN_MESTRADO', 'IN_DOUTORADO']\n",
    "#C_TEACHER.drop(others, axis=1, inplace = True)\n",
    "C_TEACHER.columns"
   ]
  },
  {
   "cell_type": "code",
   "execution_count": 48,
   "metadata": {
    "ExecuteTime": {
     "end_time": "2021-11-09T19:15:00.285926Z",
     "start_time": "2021-11-09T19:15:00.275153Z"
    }
   },
   "outputs": [
    {
     "data": {
      "text/plain": [
       "(20120, 46)"
      ]
     },
     "execution_count": 48,
     "metadata": {},
     "output_type": "execute_result"
    }
   ],
   "source": [
    "C_TEACHER.shape"
   ]
  },
  {
   "cell_type": "code",
   "execution_count": 49,
   "metadata": {
    "ExecuteTime": {
     "end_time": "2021-11-09T19:15:00.342693Z",
     "start_time": "2021-11-09T19:15:00.290559Z"
    }
   },
   "outputs": [],
   "source": [
    "#JUSTS NUMBER OF ENROLLMENTS OF SCHOOLS\n",
    "C_CLASS = C_CLASS[['CO_ESCOLA', 'QT_MATRICULAS']]\n",
    "C_CLASS['QT_MATRICULAS'] = C_CLASS.groupby('CO_ESCOLA').transform('mean')\n",
    "C_CLASS.drop_duplicates('CO_ESCOLA', inplace = True)"
   ]
  },
  {
   "cell_type": "markdown",
   "metadata": {},
   "source": [
    "## ENEM STUDENT GRAIN "
   ]
  },
  {
   "cell_type": "code",
   "execution_count": 50,
   "metadata": {
    "ExecuteTime": {
     "end_time": "2021-11-09T19:15:00.478303Z",
     "start_time": "2021-11-09T19:15:00.348324Z"
    }
   },
   "outputs": [
    {
     "name": "stdout",
     "output_type": "stream",
     "text": [
      "School (20130, 32)\n",
      "Class + School: 20130\n",
      "School + Class + Teacher(taked off subject teachers out of context) (20120, 78)\n"
     ]
    }
   ],
   "source": [
    "# Merging Class and School\n",
    "print('School',C_SCHOOL.shape)\n",
    "CENSO = pd.merge(C_SCHOOL, C_CLASS, on = 'CO_ESCOLA', how = 'inner')\n",
    "print('Class + School:', CENSO.shape[0])\n",
    "# Next, merging with Teacher\n",
    "CENSO = pd.merge(CENSO, C_TEACHER, on = 'CO_ESCOLA', how = 'inner')\n",
    "print('School + Class + Teacher(taked off subject teachers out of context)',CENSO.shape)"
   ]
  },
  {
   "cell_type": "code",
   "execution_count": 51,
   "metadata": {
    "ExecuteTime": {
     "end_time": "2021-11-09T19:17:10.886183Z",
     "start_time": "2021-11-09T19:15:00.483691Z"
    }
   },
   "outputs": [
    {
     "name": "stdout",
     "output_type": "stream",
     "text": [
      "ENEM (964497, 16)\n",
      "FINAL (taked off schools with subject teachers out of context)) (954009, 93)\n"
     ]
    }
   ],
   "source": [
    "#Now, all to Student Grain\n",
    "print('ENEM',ENEM.shape)\n",
    "ENEM_CENSO = pd.merge(ENEM, CENSO, on = 'CO_ESCOLA', how = 'inner')\n",
    "print('FINAL (taked off schools with subject teachers out of context))',ENEM_CENSO.shape)\n",
    "\n",
    "ENEM_CENSO.to_csv('STUDENT.csv')"
   ]
  },
  {
   "cell_type": "code",
   "execution_count": 52,
   "metadata": {
    "ExecuteTime": {
     "end_time": "2021-11-09T19:17:11.136321Z",
     "start_time": "2021-11-09T19:17:10.891405Z"
    }
   },
   "outputs": [
    {
     "data": {
      "text/html": [
       "<div>\n",
       "<style scoped>\n",
       "    .dataframe tbody tr th:only-of-type {\n",
       "        vertical-align: middle;\n",
       "    }\n",
       "\n",
       "    .dataframe tbody tr th {\n",
       "        vertical-align: top;\n",
       "    }\n",
       "\n",
       "    .dataframe thead th {\n",
       "        text-align: right;\n",
       "    }\n",
       "</style>\n",
       "<table border=\"1\" class=\"dataframe\">\n",
       "  <thead>\n",
       "    <tr style=\"text-align: right;\">\n",
       "      <th></th>\n",
       "      <th>CO_ANO</th>\n",
       "      <th>CO_ESCOLA</th>\n",
       "      <th>NU_IDADE</th>\n",
       "      <th>TP_SEXO</th>\n",
       "      <th>TP_COR_RACA</th>\n",
       "      <th>TP_ST_CONCLUSAO</th>\n",
       "      <th>NU_NOTA_CN</th>\n",
       "      <th>NU_NOTA_CH</th>\n",
       "      <th>NU_NOTA_LC</th>\n",
       "      <th>NU_NOTA_MT</th>\n",
       "      <th>NU_NOTA_REDACAO</th>\n",
       "      <th>EDU_PAI</th>\n",
       "      <th>EDU_MAE</th>\n",
       "      <th>QT_PESSOAS_CASA</th>\n",
       "      <th>RENDA_MENSAL</th>\n",
       "      <th>NU_NOTA_GERAL</th>\n",
       "      <th>CO_MUNICIPIO</th>\n",
       "      <th>CO_UF</th>\n",
       "      <th>CO_DEPENDENCIA_ADM</th>\n",
       "      <th>IN_AGUA_INEXISTENTE</th>\n",
       "      <th>IN_ESGOTO_INEXISTENTE</th>\n",
       "      <th>IN_ENERGIA_INEXISTENTE</th>\n",
       "      <th>IN_LABORATORIO_INFORMATICA</th>\n",
       "      <th>IN_LABORATORIO_CIENCIAS</th>\n",
       "      <th>IN_SALA_ATENDIMENTO_ESPECIAL</th>\n",
       "      <th>IN_BIBLIOTECA</th>\n",
       "      <th>IN_SALA_LEITURA</th>\n",
       "      <th>IN_BANHEIRO</th>\n",
       "      <th>IN_BANHEIRO_PNE</th>\n",
       "      <th>QT_SALAS_UTILIZADAS</th>\n",
       "      <th>QT_EQUIP_TV</th>\n",
       "      <th>QT_EQUIP_DVD</th>\n",
       "      <th>QT_EQUIP_COPIADORA</th>\n",
       "      <th>QT_EQUIP_IMPRESSORA</th>\n",
       "      <th>QT_COMP_ALUNO</th>\n",
       "      <th>IN_INTERNET</th>\n",
       "      <th>IN_BANDA_LARGA</th>\n",
       "      <th>QT_FUNCIONARIOS</th>\n",
       "      <th>IN_ALIMENTACAO</th>\n",
       "      <th>IN_COMUM_MEDIO_MEDIO</th>\n",
       "      <th>IN_COMUM_MEDIO_INTEGRADO</th>\n",
       "      <th>IN_COMUM_MEDIO_NORMAL</th>\n",
       "      <th>IN_SALA_PROFESSOR</th>\n",
       "      <th>IN_COZINHA</th>\n",
       "      <th>IN_EQUIP_PARABOLICA</th>\n",
       "      <th>IN_ATIV_COMPLEMENTAR</th>\n",
       "      <th>IN_QUADRA_ESPORTES</th>\n",
       "      <th>QT_MATRICULAS</th>\n",
       "      <th>CO_PROFESSOR</th>\n",
       "      <th>CO_TURMA</th>\n",
       "      <th>IN_ESPECIALIZACAO</th>\n",
       "      <th>IN_MESTRADO</th>\n",
       "      <th>IN_DOUTORADO</th>\n",
       "      <th>CO_AREA_OCDE_1</th>\n",
       "      <th>CO_AREA_OCDE_2</th>\n",
       "      <th>CO_AREA_OCDE_3</th>\n",
       "      <th>TITULACAO</th>\n",
       "      <th>NU_GRADUACAO</th>\n",
       "      <th>NU_ESPECIALIZACAO</th>\n",
       "      <th>NU_MESTRADO</th>\n",
       "      <th>NU_DOUTORADO</th>\n",
       "      <th>OUTROS</th>\n",
       "      <th>NU_CIENCIA_NATUREZA</th>\n",
       "      <th>NU_CIENCIAS_HUMANAS</th>\n",
       "      <th>NU_LINGUAGENS_CODIGOS</th>\n",
       "      <th>NU_MATEMATICA</th>\n",
       "      <th>NU_TEACHERS_DOMAIN</th>\n",
       "      <th>NU_ESCOLAS</th>\n",
       "      <th>NU_LICENCIADOS</th>\n",
       "      <th>NU_TEACHERS</th>\n",
       "      <th>FOR_MATEMATICA</th>\n",
       "      <th>FOR_FISICA</th>\n",
       "      <th>FOR_QUIMICA</th>\n",
       "      <th>FOR_HISTORIA</th>\n",
       "      <th>FOR_BIOLOGIA</th>\n",
       "      <th>FOR_GEOGRAFIA</th>\n",
       "      <th>FOR_LING_PORTUGUES</th>\n",
       "      <th>FOR_LING_ESTRANGEIRA</th>\n",
       "      <th>FOR_FISIO_SOCIO</th>\n",
       "      <th>FOR_ARTES</th>\n",
       "      <th>FOR_EDUCACAO_FISICA</th>\n",
       "      <th>IN_FOR_MAT</th>\n",
       "      <th>IN_FOR_FIS</th>\n",
       "      <th>IN_FOR_QUI</th>\n",
       "      <th>IN_FOR_HIST</th>\n",
       "      <th>IN_FOR_BIO</th>\n",
       "      <th>IN_FOR_GEO</th>\n",
       "      <th>IN_FOR_PORT</th>\n",
       "      <th>IN_FOR_EST</th>\n",
       "      <th>IN_FOR_FISIO_SOCIO</th>\n",
       "      <th>IN_FOR_ARTES</th>\n",
       "      <th>IN_FOR_ED_FISICA</th>\n",
       "      <th>IN_FORM_DOCENTE</th>\n",
       "    </tr>\n",
       "  </thead>\n",
       "  <tbody>\n",
       "    <tr>\n",
       "      <th>0</th>\n",
       "      <td>2012</td>\n",
       "      <td>21161321.0</td>\n",
       "      <td>17</td>\n",
       "      <td>1.0</td>\n",
       "      <td>3</td>\n",
       "      <td>2</td>\n",
       "      <td>371.1</td>\n",
       "      <td>372.3</td>\n",
       "      <td>321.6</td>\n",
       "      <td>318.9</td>\n",
       "      <td>400.0</td>\n",
       "      <td>1.0</td>\n",
       "      <td>1.0</td>\n",
       "      <td>2.0</td>\n",
       "      <td>2.0</td>\n",
       "      <td>356.78</td>\n",
       "      <td>2106607</td>\n",
       "      <td>21</td>\n",
       "      <td>2</td>\n",
       "      <td>0.0</td>\n",
       "      <td>0.0</td>\n",
       "      <td>0.0</td>\n",
       "      <td>1</td>\n",
       "      <td>0</td>\n",
       "      <td>0</td>\n",
       "      <td>1</td>\n",
       "      <td>0</td>\n",
       "      <td>1</td>\n",
       "      <td>0</td>\n",
       "      <td>9.0</td>\n",
       "      <td>1</td>\n",
       "      <td>1</td>\n",
       "      <td>1</td>\n",
       "      <td>1</td>\n",
       "      <td>20.0</td>\n",
       "      <td>1.0</td>\n",
       "      <td>1.0</td>\n",
       "      <td>72.0</td>\n",
       "      <td>1.0</td>\n",
       "      <td>1.0</td>\n",
       "      <td>0.0</td>\n",
       "      <td>0.0</td>\n",
       "      <td>1</td>\n",
       "      <td>1</td>\n",
       "      <td>1</td>\n",
       "      <td>0.0</td>\n",
       "      <td>1.0</td>\n",
       "      <td>32.833333</td>\n",
       "      <td>115014754103</td>\n",
       "      <td>904542</td>\n",
       "      <td>0</td>\n",
       "      <td>0</td>\n",
       "      <td>0</td>\n",
       "      <td>146F15</td>\n",
       "      <td>NaN</td>\n",
       "      <td>NaN</td>\n",
       "      <td>0.037037</td>\n",
       "      <td>32</td>\n",
       "      <td>4</td>\n",
       "      <td>0</td>\n",
       "      <td>0</td>\n",
       "      <td>0</td>\n",
       "      <td>0.235294</td>\n",
       "      <td>0.264706</td>\n",
       "      <td>0.382353</td>\n",
       "      <td>0.117647</td>\n",
       "      <td>34</td>\n",
       "      <td>1.264706</td>\n",
       "      <td>0.925926</td>\n",
       "      <td>27</td>\n",
       "      <td>4</td>\n",
       "      <td>1</td>\n",
       "      <td>1</td>\n",
       "      <td>2</td>\n",
       "      <td>2</td>\n",
       "      <td>1</td>\n",
       "      <td>0</td>\n",
       "      <td>0</td>\n",
       "      <td>0</td>\n",
       "      <td>1</td>\n",
       "      <td>0</td>\n",
       "      <td>1.0</td>\n",
       "      <td>0.75</td>\n",
       "      <td>0.625</td>\n",
       "      <td>0.833333</td>\n",
       "      <td>0.833333</td>\n",
       "      <td>0.666667</td>\n",
       "      <td>0.5</td>\n",
       "      <td>0.5</td>\n",
       "      <td>0.5</td>\n",
       "      <td>0.75</td>\n",
       "      <td>0.5</td>\n",
       "      <td>0.67803</td>\n",
       "    </tr>\n",
       "    <tr>\n",
       "      <th>1</th>\n",
       "      <td>2012</td>\n",
       "      <td>21161321.0</td>\n",
       "      <td>18</td>\n",
       "      <td>0.0</td>\n",
       "      <td>3</td>\n",
       "      <td>2</td>\n",
       "      <td>470.5</td>\n",
       "      <td>405.7</td>\n",
       "      <td>337.7</td>\n",
       "      <td>349.9</td>\n",
       "      <td>300.0</td>\n",
       "      <td>2.0</td>\n",
       "      <td>1.0</td>\n",
       "      <td>2.0</td>\n",
       "      <td>1.0</td>\n",
       "      <td>372.76</td>\n",
       "      <td>2106607</td>\n",
       "      <td>21</td>\n",
       "      <td>2</td>\n",
       "      <td>0.0</td>\n",
       "      <td>0.0</td>\n",
       "      <td>0.0</td>\n",
       "      <td>1</td>\n",
       "      <td>0</td>\n",
       "      <td>0</td>\n",
       "      <td>1</td>\n",
       "      <td>0</td>\n",
       "      <td>1</td>\n",
       "      <td>0</td>\n",
       "      <td>9.0</td>\n",
       "      <td>1</td>\n",
       "      <td>1</td>\n",
       "      <td>1</td>\n",
       "      <td>1</td>\n",
       "      <td>20.0</td>\n",
       "      <td>1.0</td>\n",
       "      <td>1.0</td>\n",
       "      <td>72.0</td>\n",
       "      <td>1.0</td>\n",
       "      <td>1.0</td>\n",
       "      <td>0.0</td>\n",
       "      <td>0.0</td>\n",
       "      <td>1</td>\n",
       "      <td>1</td>\n",
       "      <td>1</td>\n",
       "      <td>0.0</td>\n",
       "      <td>1.0</td>\n",
       "      <td>32.833333</td>\n",
       "      <td>115014754103</td>\n",
       "      <td>904542</td>\n",
       "      <td>0</td>\n",
       "      <td>0</td>\n",
       "      <td>0</td>\n",
       "      <td>146F15</td>\n",
       "      <td>NaN</td>\n",
       "      <td>NaN</td>\n",
       "      <td>0.037037</td>\n",
       "      <td>32</td>\n",
       "      <td>4</td>\n",
       "      <td>0</td>\n",
       "      <td>0</td>\n",
       "      <td>0</td>\n",
       "      <td>0.235294</td>\n",
       "      <td>0.264706</td>\n",
       "      <td>0.382353</td>\n",
       "      <td>0.117647</td>\n",
       "      <td>34</td>\n",
       "      <td>1.264706</td>\n",
       "      <td>0.925926</td>\n",
       "      <td>27</td>\n",
       "      <td>4</td>\n",
       "      <td>1</td>\n",
       "      <td>1</td>\n",
       "      <td>2</td>\n",
       "      <td>2</td>\n",
       "      <td>1</td>\n",
       "      <td>0</td>\n",
       "      <td>0</td>\n",
       "      <td>0</td>\n",
       "      <td>1</td>\n",
       "      <td>0</td>\n",
       "      <td>1.0</td>\n",
       "      <td>0.75</td>\n",
       "      <td>0.625</td>\n",
       "      <td>0.833333</td>\n",
       "      <td>0.833333</td>\n",
       "      <td>0.666667</td>\n",
       "      <td>0.5</td>\n",
       "      <td>0.5</td>\n",
       "      <td>0.5</td>\n",
       "      <td>0.75</td>\n",
       "      <td>0.5</td>\n",
       "      <td>0.67803</td>\n",
       "    </tr>\n",
       "    <tr>\n",
       "      <th>2</th>\n",
       "      <td>2012</td>\n",
       "      <td>21161321.0</td>\n",
       "      <td>18</td>\n",
       "      <td>1.0</td>\n",
       "      <td>3</td>\n",
       "      <td>2</td>\n",
       "      <td>403.8</td>\n",
       "      <td>360.5</td>\n",
       "      <td>460.2</td>\n",
       "      <td>503.1</td>\n",
       "      <td>480.0</td>\n",
       "      <td>3.0</td>\n",
       "      <td>3.0</td>\n",
       "      <td>2.0</td>\n",
       "      <td>2.0</td>\n",
       "      <td>441.52</td>\n",
       "      <td>2106607</td>\n",
       "      <td>21</td>\n",
       "      <td>2</td>\n",
       "      <td>0.0</td>\n",
       "      <td>0.0</td>\n",
       "      <td>0.0</td>\n",
       "      <td>1</td>\n",
       "      <td>0</td>\n",
       "      <td>0</td>\n",
       "      <td>1</td>\n",
       "      <td>0</td>\n",
       "      <td>1</td>\n",
       "      <td>0</td>\n",
       "      <td>9.0</td>\n",
       "      <td>1</td>\n",
       "      <td>1</td>\n",
       "      <td>1</td>\n",
       "      <td>1</td>\n",
       "      <td>20.0</td>\n",
       "      <td>1.0</td>\n",
       "      <td>1.0</td>\n",
       "      <td>72.0</td>\n",
       "      <td>1.0</td>\n",
       "      <td>1.0</td>\n",
       "      <td>0.0</td>\n",
       "      <td>0.0</td>\n",
       "      <td>1</td>\n",
       "      <td>1</td>\n",
       "      <td>1</td>\n",
       "      <td>0.0</td>\n",
       "      <td>1.0</td>\n",
       "      <td>32.833333</td>\n",
       "      <td>115014754103</td>\n",
       "      <td>904542</td>\n",
       "      <td>0</td>\n",
       "      <td>0</td>\n",
       "      <td>0</td>\n",
       "      <td>146F15</td>\n",
       "      <td>NaN</td>\n",
       "      <td>NaN</td>\n",
       "      <td>0.037037</td>\n",
       "      <td>32</td>\n",
       "      <td>4</td>\n",
       "      <td>0</td>\n",
       "      <td>0</td>\n",
       "      <td>0</td>\n",
       "      <td>0.235294</td>\n",
       "      <td>0.264706</td>\n",
       "      <td>0.382353</td>\n",
       "      <td>0.117647</td>\n",
       "      <td>34</td>\n",
       "      <td>1.264706</td>\n",
       "      <td>0.925926</td>\n",
       "      <td>27</td>\n",
       "      <td>4</td>\n",
       "      <td>1</td>\n",
       "      <td>1</td>\n",
       "      <td>2</td>\n",
       "      <td>2</td>\n",
       "      <td>1</td>\n",
       "      <td>0</td>\n",
       "      <td>0</td>\n",
       "      <td>0</td>\n",
       "      <td>1</td>\n",
       "      <td>0</td>\n",
       "      <td>1.0</td>\n",
       "      <td>0.75</td>\n",
       "      <td>0.625</td>\n",
       "      <td>0.833333</td>\n",
       "      <td>0.833333</td>\n",
       "      <td>0.666667</td>\n",
       "      <td>0.5</td>\n",
       "      <td>0.5</td>\n",
       "      <td>0.5</td>\n",
       "      <td>0.75</td>\n",
       "      <td>0.5</td>\n",
       "      <td>0.67803</td>\n",
       "    </tr>\n",
       "    <tr>\n",
       "      <th>3</th>\n",
       "      <td>2012</td>\n",
       "      <td>21161321.0</td>\n",
       "      <td>19</td>\n",
       "      <td>0.0</td>\n",
       "      <td>3</td>\n",
       "      <td>2</td>\n",
       "      <td>404.7</td>\n",
       "      <td>351.3</td>\n",
       "      <td>384.4</td>\n",
       "      <td>318.8</td>\n",
       "      <td>220.0</td>\n",
       "      <td>1.0</td>\n",
       "      <td>1.0</td>\n",
       "      <td>2.0</td>\n",
       "      <td>1.0</td>\n",
       "      <td>335.84</td>\n",
       "      <td>2106607</td>\n",
       "      <td>21</td>\n",
       "      <td>2</td>\n",
       "      <td>0.0</td>\n",
       "      <td>0.0</td>\n",
       "      <td>0.0</td>\n",
       "      <td>1</td>\n",
       "      <td>0</td>\n",
       "      <td>0</td>\n",
       "      <td>1</td>\n",
       "      <td>0</td>\n",
       "      <td>1</td>\n",
       "      <td>0</td>\n",
       "      <td>9.0</td>\n",
       "      <td>1</td>\n",
       "      <td>1</td>\n",
       "      <td>1</td>\n",
       "      <td>1</td>\n",
       "      <td>20.0</td>\n",
       "      <td>1.0</td>\n",
       "      <td>1.0</td>\n",
       "      <td>72.0</td>\n",
       "      <td>1.0</td>\n",
       "      <td>1.0</td>\n",
       "      <td>0.0</td>\n",
       "      <td>0.0</td>\n",
       "      <td>1</td>\n",
       "      <td>1</td>\n",
       "      <td>1</td>\n",
       "      <td>0.0</td>\n",
       "      <td>1.0</td>\n",
       "      <td>32.833333</td>\n",
       "      <td>115014754103</td>\n",
       "      <td>904542</td>\n",
       "      <td>0</td>\n",
       "      <td>0</td>\n",
       "      <td>0</td>\n",
       "      <td>146F15</td>\n",
       "      <td>NaN</td>\n",
       "      <td>NaN</td>\n",
       "      <td>0.037037</td>\n",
       "      <td>32</td>\n",
       "      <td>4</td>\n",
       "      <td>0</td>\n",
       "      <td>0</td>\n",
       "      <td>0</td>\n",
       "      <td>0.235294</td>\n",
       "      <td>0.264706</td>\n",
       "      <td>0.382353</td>\n",
       "      <td>0.117647</td>\n",
       "      <td>34</td>\n",
       "      <td>1.264706</td>\n",
       "      <td>0.925926</td>\n",
       "      <td>27</td>\n",
       "      <td>4</td>\n",
       "      <td>1</td>\n",
       "      <td>1</td>\n",
       "      <td>2</td>\n",
       "      <td>2</td>\n",
       "      <td>1</td>\n",
       "      <td>0</td>\n",
       "      <td>0</td>\n",
       "      <td>0</td>\n",
       "      <td>1</td>\n",
       "      <td>0</td>\n",
       "      <td>1.0</td>\n",
       "      <td>0.75</td>\n",
       "      <td>0.625</td>\n",
       "      <td>0.833333</td>\n",
       "      <td>0.833333</td>\n",
       "      <td>0.666667</td>\n",
       "      <td>0.5</td>\n",
       "      <td>0.5</td>\n",
       "      <td>0.5</td>\n",
       "      <td>0.75</td>\n",
       "      <td>0.5</td>\n",
       "      <td>0.67803</td>\n",
       "    </tr>\n",
       "    <tr>\n",
       "      <th>4</th>\n",
       "      <td>2012</td>\n",
       "      <td>21161321.0</td>\n",
       "      <td>19</td>\n",
       "      <td>1.0</td>\n",
       "      <td>3</td>\n",
       "      <td>2</td>\n",
       "      <td>468.6</td>\n",
       "      <td>372.4</td>\n",
       "      <td>338.8</td>\n",
       "      <td>332.0</td>\n",
       "      <td>360.0</td>\n",
       "      <td>2.0</td>\n",
       "      <td>0.0</td>\n",
       "      <td>2.0</td>\n",
       "      <td>2.0</td>\n",
       "      <td>374.36</td>\n",
       "      <td>2106607</td>\n",
       "      <td>21</td>\n",
       "      <td>2</td>\n",
       "      <td>0.0</td>\n",
       "      <td>0.0</td>\n",
       "      <td>0.0</td>\n",
       "      <td>1</td>\n",
       "      <td>0</td>\n",
       "      <td>0</td>\n",
       "      <td>1</td>\n",
       "      <td>0</td>\n",
       "      <td>1</td>\n",
       "      <td>0</td>\n",
       "      <td>9.0</td>\n",
       "      <td>1</td>\n",
       "      <td>1</td>\n",
       "      <td>1</td>\n",
       "      <td>1</td>\n",
       "      <td>20.0</td>\n",
       "      <td>1.0</td>\n",
       "      <td>1.0</td>\n",
       "      <td>72.0</td>\n",
       "      <td>1.0</td>\n",
       "      <td>1.0</td>\n",
       "      <td>0.0</td>\n",
       "      <td>0.0</td>\n",
       "      <td>1</td>\n",
       "      <td>1</td>\n",
       "      <td>1</td>\n",
       "      <td>0.0</td>\n",
       "      <td>1.0</td>\n",
       "      <td>32.833333</td>\n",
       "      <td>115014754103</td>\n",
       "      <td>904542</td>\n",
       "      <td>0</td>\n",
       "      <td>0</td>\n",
       "      <td>0</td>\n",
       "      <td>146F15</td>\n",
       "      <td>NaN</td>\n",
       "      <td>NaN</td>\n",
       "      <td>0.037037</td>\n",
       "      <td>32</td>\n",
       "      <td>4</td>\n",
       "      <td>0</td>\n",
       "      <td>0</td>\n",
       "      <td>0</td>\n",
       "      <td>0.235294</td>\n",
       "      <td>0.264706</td>\n",
       "      <td>0.382353</td>\n",
       "      <td>0.117647</td>\n",
       "      <td>34</td>\n",
       "      <td>1.264706</td>\n",
       "      <td>0.925926</td>\n",
       "      <td>27</td>\n",
       "      <td>4</td>\n",
       "      <td>1</td>\n",
       "      <td>1</td>\n",
       "      <td>2</td>\n",
       "      <td>2</td>\n",
       "      <td>1</td>\n",
       "      <td>0</td>\n",
       "      <td>0</td>\n",
       "      <td>0</td>\n",
       "      <td>1</td>\n",
       "      <td>0</td>\n",
       "      <td>1.0</td>\n",
       "      <td>0.75</td>\n",
       "      <td>0.625</td>\n",
       "      <td>0.833333</td>\n",
       "      <td>0.833333</td>\n",
       "      <td>0.666667</td>\n",
       "      <td>0.5</td>\n",
       "      <td>0.5</td>\n",
       "      <td>0.5</td>\n",
       "      <td>0.75</td>\n",
       "      <td>0.5</td>\n",
       "      <td>0.67803</td>\n",
       "    </tr>\n",
       "  </tbody>\n",
       "</table>\n",
       "</div>"
      ],
      "text/plain": [
       "   CO_ANO   CO_ESCOLA  NU_IDADE  TP_SEXO  TP_COR_RACA  TP_ST_CONCLUSAO  \\\n",
       "0    2012  21161321.0        17      1.0            3                2   \n",
       "1    2012  21161321.0        18      0.0            3                2   \n",
       "2    2012  21161321.0        18      1.0            3                2   \n",
       "3    2012  21161321.0        19      0.0            3                2   \n",
       "4    2012  21161321.0        19      1.0            3                2   \n",
       "\n",
       "   NU_NOTA_CN  NU_NOTA_CH  NU_NOTA_LC  NU_NOTA_MT  NU_NOTA_REDACAO  EDU_PAI  \\\n",
       "0       371.1       372.3       321.6       318.9            400.0      1.0   \n",
       "1       470.5       405.7       337.7       349.9            300.0      2.0   \n",
       "2       403.8       360.5       460.2       503.1            480.0      3.0   \n",
       "3       404.7       351.3       384.4       318.8            220.0      1.0   \n",
       "4       468.6       372.4       338.8       332.0            360.0      2.0   \n",
       "\n",
       "   EDU_MAE  QT_PESSOAS_CASA  RENDA_MENSAL  NU_NOTA_GERAL  CO_MUNICIPIO  CO_UF  \\\n",
       "0      1.0              2.0           2.0         356.78       2106607     21   \n",
       "1      1.0              2.0           1.0         372.76       2106607     21   \n",
       "2      3.0              2.0           2.0         441.52       2106607     21   \n",
       "3      1.0              2.0           1.0         335.84       2106607     21   \n",
       "4      0.0              2.0           2.0         374.36       2106607     21   \n",
       "\n",
       "   CO_DEPENDENCIA_ADM  IN_AGUA_INEXISTENTE  IN_ESGOTO_INEXISTENTE  \\\n",
       "0                   2                  0.0                    0.0   \n",
       "1                   2                  0.0                    0.0   \n",
       "2                   2                  0.0                    0.0   \n",
       "3                   2                  0.0                    0.0   \n",
       "4                   2                  0.0                    0.0   \n",
       "\n",
       "   IN_ENERGIA_INEXISTENTE  IN_LABORATORIO_INFORMATICA  \\\n",
       "0                     0.0                           1   \n",
       "1                     0.0                           1   \n",
       "2                     0.0                           1   \n",
       "3                     0.0                           1   \n",
       "4                     0.0                           1   \n",
       "\n",
       "   IN_LABORATORIO_CIENCIAS  IN_SALA_ATENDIMENTO_ESPECIAL  IN_BIBLIOTECA  \\\n",
       "0                        0                             0              1   \n",
       "1                        0                             0              1   \n",
       "2                        0                             0              1   \n",
       "3                        0                             0              1   \n",
       "4                        0                             0              1   \n",
       "\n",
       "   IN_SALA_LEITURA  IN_BANHEIRO  IN_BANHEIRO_PNE  QT_SALAS_UTILIZADAS  \\\n",
       "0                0            1                0                  9.0   \n",
       "1                0            1                0                  9.0   \n",
       "2                0            1                0                  9.0   \n",
       "3                0            1                0                  9.0   \n",
       "4                0            1                0                  9.0   \n",
       "\n",
       "   QT_EQUIP_TV  QT_EQUIP_DVD  QT_EQUIP_COPIADORA  QT_EQUIP_IMPRESSORA  \\\n",
       "0            1             1                   1                    1   \n",
       "1            1             1                   1                    1   \n",
       "2            1             1                   1                    1   \n",
       "3            1             1                   1                    1   \n",
       "4            1             1                   1                    1   \n",
       "\n",
       "   QT_COMP_ALUNO  IN_INTERNET  IN_BANDA_LARGA  QT_FUNCIONARIOS  \\\n",
       "0           20.0          1.0             1.0             72.0   \n",
       "1           20.0          1.0             1.0             72.0   \n",
       "2           20.0          1.0             1.0             72.0   \n",
       "3           20.0          1.0             1.0             72.0   \n",
       "4           20.0          1.0             1.0             72.0   \n",
       "\n",
       "   IN_ALIMENTACAO  IN_COMUM_MEDIO_MEDIO  IN_COMUM_MEDIO_INTEGRADO  \\\n",
       "0             1.0                   1.0                       0.0   \n",
       "1             1.0                   1.0                       0.0   \n",
       "2             1.0                   1.0                       0.0   \n",
       "3             1.0                   1.0                       0.0   \n",
       "4             1.0                   1.0                       0.0   \n",
       "\n",
       "   IN_COMUM_MEDIO_NORMAL  IN_SALA_PROFESSOR  IN_COZINHA  IN_EQUIP_PARABOLICA  \\\n",
       "0                    0.0                  1           1                    1   \n",
       "1                    0.0                  1           1                    1   \n",
       "2                    0.0                  1           1                    1   \n",
       "3                    0.0                  1           1                    1   \n",
       "4                    0.0                  1           1                    1   \n",
       "\n",
       "   IN_ATIV_COMPLEMENTAR  IN_QUADRA_ESPORTES  QT_MATRICULAS  CO_PROFESSOR  \\\n",
       "0                   0.0                 1.0      32.833333  115014754103   \n",
       "1                   0.0                 1.0      32.833333  115014754103   \n",
       "2                   0.0                 1.0      32.833333  115014754103   \n",
       "3                   0.0                 1.0      32.833333  115014754103   \n",
       "4                   0.0                 1.0      32.833333  115014754103   \n",
       "\n",
       "   CO_TURMA  IN_ESPECIALIZACAO  IN_MESTRADO  IN_DOUTORADO CO_AREA_OCDE_1  \\\n",
       "0    904542                  0            0             0         146F15   \n",
       "1    904542                  0            0             0         146F15   \n",
       "2    904542                  0            0             0         146F15   \n",
       "3    904542                  0            0             0         146F15   \n",
       "4    904542                  0            0             0         146F15   \n",
       "\n",
       "  CO_AREA_OCDE_2 CO_AREA_OCDE_3  TITULACAO  NU_GRADUACAO  NU_ESPECIALIZACAO  \\\n",
       "0            NaN            NaN   0.037037            32                  4   \n",
       "1            NaN            NaN   0.037037            32                  4   \n",
       "2            NaN            NaN   0.037037            32                  4   \n",
       "3            NaN            NaN   0.037037            32                  4   \n",
       "4            NaN            NaN   0.037037            32                  4   \n",
       "\n",
       "   NU_MESTRADO  NU_DOUTORADO  OUTROS  NU_CIENCIA_NATUREZA  \\\n",
       "0            0             0       0             0.235294   \n",
       "1            0             0       0             0.235294   \n",
       "2            0             0       0             0.235294   \n",
       "3            0             0       0             0.235294   \n",
       "4            0             0       0             0.235294   \n",
       "\n",
       "   NU_CIENCIAS_HUMANAS  NU_LINGUAGENS_CODIGOS  NU_MATEMATICA  \\\n",
       "0             0.264706               0.382353       0.117647   \n",
       "1             0.264706               0.382353       0.117647   \n",
       "2             0.264706               0.382353       0.117647   \n",
       "3             0.264706               0.382353       0.117647   \n",
       "4             0.264706               0.382353       0.117647   \n",
       "\n",
       "   NU_TEACHERS_DOMAIN  NU_ESCOLAS  NU_LICENCIADOS  NU_TEACHERS  \\\n",
       "0                  34    1.264706        0.925926           27   \n",
       "1                  34    1.264706        0.925926           27   \n",
       "2                  34    1.264706        0.925926           27   \n",
       "3                  34    1.264706        0.925926           27   \n",
       "4                  34    1.264706        0.925926           27   \n",
       "\n",
       "   FOR_MATEMATICA  FOR_FISICA  FOR_QUIMICA  FOR_HISTORIA  FOR_BIOLOGIA  \\\n",
       "0               4           1            1             2             2   \n",
       "1               4           1            1             2             2   \n",
       "2               4           1            1             2             2   \n",
       "3               4           1            1             2             2   \n",
       "4               4           1            1             2             2   \n",
       "\n",
       "   FOR_GEOGRAFIA  FOR_LING_PORTUGUES  FOR_LING_ESTRANGEIRA  FOR_FISIO_SOCIO  \\\n",
       "0              1                   0                     0                0   \n",
       "1              1                   0                     0                0   \n",
       "2              1                   0                     0                0   \n",
       "3              1                   0                     0                0   \n",
       "4              1                   0                     0                0   \n",
       "\n",
       "   FOR_ARTES  FOR_EDUCACAO_FISICA  IN_FOR_MAT  IN_FOR_FIS  IN_FOR_QUI  \\\n",
       "0          1                    0         1.0        0.75       0.625   \n",
       "1          1                    0         1.0        0.75       0.625   \n",
       "2          1                    0         1.0        0.75       0.625   \n",
       "3          1                    0         1.0        0.75       0.625   \n",
       "4          1                    0         1.0        0.75       0.625   \n",
       "\n",
       "   IN_FOR_HIST  IN_FOR_BIO  IN_FOR_GEO  IN_FOR_PORT  IN_FOR_EST  \\\n",
       "0     0.833333    0.833333    0.666667          0.5         0.5   \n",
       "1     0.833333    0.833333    0.666667          0.5         0.5   \n",
       "2     0.833333    0.833333    0.666667          0.5         0.5   \n",
       "3     0.833333    0.833333    0.666667          0.5         0.5   \n",
       "4     0.833333    0.833333    0.666667          0.5         0.5   \n",
       "\n",
       "   IN_FOR_FISIO_SOCIO  IN_FOR_ARTES  IN_FOR_ED_FISICA  IN_FORM_DOCENTE  \n",
       "0                 0.5          0.75               0.5          0.67803  \n",
       "1                 0.5          0.75               0.5          0.67803  \n",
       "2                 0.5          0.75               0.5          0.67803  \n",
       "3                 0.5          0.75               0.5          0.67803  \n",
       "4                 0.5          0.75               0.5          0.67803  "
      ]
     },
     "execution_count": 52,
     "metadata": {},
     "output_type": "execute_result"
    }
   ],
   "source": [
    "ENEM_CENSO.head()"
   ]
  },
  {
   "cell_type": "code",
   "execution_count": null,
   "metadata": {},
   "outputs": [],
   "source": []
  },
  {
   "cell_type": "code",
   "execution_count": null,
   "metadata": {},
   "outputs": [],
   "source": []
  }
 ],
 "metadata": {
  "kernelspec": {
   "display_name": "Python 3",
   "language": "python",
   "name": "python3"
  },
  "language_info": {
   "codemirror_mode": {
    "name": "ipython",
    "version": 3
   },
   "file_extension": ".py",
   "mimetype": "text/x-python",
   "name": "python",
   "nbconvert_exporter": "python",
   "pygments_lexer": "ipython3",
   "version": "3.7.6"
  }
 },
 "nbformat": 4,
 "nbformat_minor": 4
}
