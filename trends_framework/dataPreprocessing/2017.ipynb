{
 "cells": [
  {
   "cell_type": "code",
   "execution_count": 1,
   "metadata": {
    "ExecuteTime": {
     "end_time": "2021-11-09T23:16:27.515893Z",
     "start_time": "2021-11-09T23:16:26.659304Z"
    }
   },
   "outputs": [],
   "source": [
    "import time\n",
    "import pandas as pd\n",
    "import numpy as np\n",
    "import warnings\n",
    "from collections import Counter\n",
    "warnings.filterwarnings('ignore')\n",
    "from pandas.api.types import is_string_dtype\n",
    "from pandas.api.types import is_numeric_dtype\n",
    "pd.set_option('display.max_columns', None)"
   ]
  },
  {
   "cell_type": "markdown",
   "metadata": {},
   "source": [
    "There are many insignificant features to our work, like codes, PK, FK and out of context. \n",
    "Based on prior works and experience of especialists, will be taken off nonsense features. \n",
    "A study was carried out on the evolution and correspondence of these resources in the ENEM and Census\n",
    "data for the period 2009-2018. See (featuresOrganisaton.xls)"
   ]
  },
  {
   "cell_type": "code",
   "execution_count": 2,
   "metadata": {
    "ExecuteTime": {
     "end_time": "2021-11-09T23:16:27.542567Z",
     "start_time": "2021-11-09T23:16:27.523782Z"
    }
   },
   "outputs": [],
   "source": [
    "classmate = ['NU_ANO_CENSO','CO_ENTIDADE','ID_TURMA', 'IN_REGULAR', 'TP_ETAPA_ENSINO', 'NU_MATRICULAS']\n",
    "\n",
    "teacher = ['NU_ANO_CENSO','CO_PESSOA_FISICA', 'CO_ENTIDADE','ID_TURMA','IN_ESPECIALIZACAO','IN_MESTRADO','IN_DOUTORADO',\n",
    "          'IN_DISC_QUIMICA', 'IN_DISC_FISICA', 'IN_DISC_MATEMATICA', 'IN_DISC_BIOLOGIA', 'IN_DISC_SOCIOLOGIA', \n",
    "           'IN_DISC_LINGUA_PORTUGUESA','IN_DISC_LINGUA_INGLES', 'IN_DISC_LINGUA_ESPANHOL', 'IN_DISC_ARTES', \n",
    "           'IN_DISC_EDUCACAO_FISICA', 'IN_DISC_HISTORIA','IN_DISC_GEOGRAFIA','IN_DISC_FILOSOFIA','CO_CURSO_1', \n",
    "           'IN_LICENCIATURA_1', 'CO_CURSO_2','IN_LICENCIATURA_2','CO_CURSO_3', 'IN_LICENCIATURA_3']\n",
    "school = ['NU_ANO_CENSO','CO_ENTIDADE', 'CO_MUNICIPIO','CO_UF','TP_DEPENDENCIA','IN_AGUA_INEXISTENTE',\n",
    "                  'IN_ESGOTO_INEXISTENTE','IN_ENERGIA_INEXISTENTE',\n",
    "                   'IN_LABORATORIO_INFORMATICA','IN_LABORATORIO_CIENCIAS','IN_SALA_ATENDIMENTO_ESPECIAL',\n",
    "                   'IN_BIBLIOTECA','IN_SALA_LEITURA','IN_BANHEIRO_DENTRO_PREDIO',\n",
    "                   'IN_BANHEIRO_PNE','NU_SALAS_UTILIZADAS','NU_EQUIP_TV',\n",
    "                   'NU_EQUIP_DVD','NU_EQUIP_COPIADORA','NU_EQUIP_IMPRESSORA',\n",
    "                   'NU_COMP_ALUNO','IN_INTERNET','IN_BANDA_LARGA','NU_FUNCIONARIOS','IN_ALIMENTACAO', \n",
    "                   'IN_COMUM_MEDIO_MEDIO','IN_COMUM_MEDIO_INTEGRADO','IN_COMUM_MEDIO_NORMAL', 'IN_SALA_PROFESSOR', \n",
    "                   'IN_COZINHA','NU_EQUIP_PARABOLICA','IN_QUADRA_ESPORTES','TP_ATIVIDADE_COMPLEMENTAR']\n",
    "enem = ['NU_ANO','CO_ESCOLA','TP_ENSINO','NU_IDADE','TP_SEXO','TP_COR_RACA','TP_ST_CONCLUSAO','NU_NOTA_CN',\n",
    "        'NU_NOTA_CH','NU_NOTA_LC','NU_NOTA_MT','NU_NOTA_REDACAO','Q001','Q002','Q005','Q006','TP_DEPENDENCIA_ADM_ESC'\n",
    "]\n"
   ]
  },
  {
   "cell_type": "code",
   "execution_count": 3,
   "metadata": {
    "ExecuteTime": {
     "end_time": "2021-11-09T23:19:50.260330Z",
     "start_time": "2021-11-09T23:16:27.552525Z"
    }
   },
   "outputs": [
    {
     "data": {
      "text/plain": [
       "(6731341, 17)"
      ]
     },
     "execution_count": 3,
     "metadata": {},
     "output_type": "execute_result"
    }
   ],
   "source": [
    "#Students of ENEM\n",
    "E = pd.read_csv('~/data/enem/2017/DADOS/MICRODADOS_ENEM_2017.csv', sep=';', encoding=\"iso-8859-2\", usecols = enem)\n",
    "E.shape"
   ]
  },
  {
   "cell_type": "code",
   "execution_count": 4,
   "metadata": {
    "ExecuteTime": {
     "end_time": "2021-11-09T23:19:52.334934Z",
     "start_time": "2021-11-09T23:19:50.267237Z"
    }
   },
   "outputs": [
    {
     "name": "stdout",
     "output_type": "stream",
     "text": [
      "students at public schools: 1443841\n",
      "public schools: 24102\n"
     ]
    }
   ],
   "source": [
    "#How many public schools (not included federal) are in the databases?\n",
    "mun_est = (E.TP_DEPENDENCIA_ADM_ESC==2) |(E.TP_DEPENDENCIA_ADM_ESC==3)\n",
    "print('students at public schools:',(mun_est).sum())\n",
    "print('public schools:',(E.drop_duplicates('CO_ESCOLA')[mun_est]['CO_ESCOLA'].count()))\n",
    "E.drop('TP_DEPENDENCIA_ADM_ESC', axis=1,inplace=True)\n",
    "enem.remove('TP_DEPENDENCIA_ADM_ESC')"
   ]
  },
  {
   "cell_type": "code",
   "execution_count": 5,
   "metadata": {
    "ExecuteTime": {
     "end_time": "2021-11-09T23:19:58.235851Z",
     "start_time": "2021-11-09T23:19:52.340429Z"
    }
   },
   "outputs": [],
   "source": [
    "#School census data\n",
    "CE =pd.read_csv(\"~/data/censo/2017/DADOS/ESCOLAS.CSV\", sep='|', encoding=\"iso-8859-2\", usecols = school)"
   ]
  },
  {
   "cell_type": "code",
   "execution_count": 6,
   "metadata": {
    "ExecuteTime": {
     "end_time": "2021-11-09T23:23:53.016207Z",
     "start_time": "2021-11-09T23:19:58.240855Z"
    }
   },
   "outputs": [],
   "source": [
    "#Teacher census data by Braazilian mesoregion\n",
    "CD_CO = pd.read_csv(\"~/data/censo/2017/DADOS/DOCENTES_CO.CSV\", sep='|', encoding=\"iso-8859-2\", usecols = teacher)\n",
    "CD_NE = pd.read_csv(\"~/data/censo/2017/DADOS/DOCENTES_NORDESTE.CSV\", sep='|', encoding=\"iso-8859-2\", usecols = teacher)\n",
    "CD_N =  pd.read_csv(\"~/data/censo/2017/DADOS/DOCENTES_NORTE.CSV\", sep='|', encoding=\"iso-8859-2\",usecols = teacher)\n",
    "CD_SE = pd.read_csv(\"~/data/censo/2017/DADOS/DOCENTES_SUDESTE.CSV\", sep='|', encoding=\"iso-8859-2\", usecols = teacher)\n",
    "CD_S =  pd.read_csv(\"~/data/censo/2017/DADOS/DOCENTES_SUL.CSV\", sep='|', encoding=\"iso-8859-2\", usecols = teacher)\n",
    "\n",
    "#All teacher census data\n",
    "CT = pd.concat([CD_CO, CD_NE, CD_N, CD_SE, CD_S])"
   ]
  },
  {
   "cell_type": "code",
   "execution_count": 7,
   "metadata": {
    "ExecuteTime": {
     "end_time": "2021-11-09T23:24:17.856379Z",
     "start_time": "2021-11-09T23:23:53.022998Z"
    }
   },
   "outputs": [],
   "source": [
    "#ClassMate census data\n",
    "CM =  pd.read_csv(\"~/data/censo/2017/DADOS/TURMAS.CSV\", sep='|', encoding=\"iso-8859-2\", usecols = classmate)"
   ]
  },
  {
   "cell_type": "code",
   "execution_count": 8,
   "metadata": {
    "ExecuteTime": {
     "end_time": "2021-11-09T23:24:35.243818Z",
     "start_time": "2021-11-09T23:24:17.862500Z"
    }
   },
   "outputs": [],
   "source": [
    "ENEM = E.copy()\n",
    "C_SCHOOL = CE.copy()\n",
    "C_TEACHER = CT.copy()\n",
    "C_CLASS = CM.copy()"
   ]
  },
  {
   "cell_type": "code",
   "execution_count": 9,
   "metadata": {
    "ExecuteTime": {
     "end_time": "2021-11-09T23:24:38.311853Z",
     "start_time": "2021-11-09T23:24:35.254583Z"
    }
   },
   "outputs": [
    {
     "name": "stdout",
     "output_type": "stream",
     "text": [
      "checking year [2017]\n",
      "checking key float64\n"
     ]
    }
   ],
   "source": [
    "#ordering\n",
    "ENEM = ENEM[enem]\n",
    "\n",
    "newNames = [\n",
    "'CO_ANO',\n",
    "'CO_ESCOLA',\n",
    "'TP_ENSINO',\n",
    "'NU_IDADE',\n",
    "'TP_SEXO',\n",
    "'TP_COR_RACA',\n",
    "'TP_ST_CONCLUSAO',\n",
    "'NU_NOTA_CN',\n",
    "'NU_NOTA_CH',\n",
    "'NU_NOTA_LC',\n",
    "'NU_NOTA_MT',\n",
    "'NU_NOTA_REDACAO',\n",
    "'EDU_PAI',\n",
    "'EDU_MAE',\n",
    "'QT_PESSOAS_CASA',\n",
    "'RENDA_MENSAL'\n",
    "]\n",
    "\n",
    "#Rename\n",
    "ENEM.columns = newNames\n",
    "\n",
    "print('checking year',ENEM.CO_ANO.unique())\n",
    "print('checking key',ENEM.CO_ESCOLA.dtypes)"
   ]
  },
  {
   "cell_type": "code",
   "execution_count": 10,
   "metadata": {
    "ExecuteTime": {
     "end_time": "2021-11-09T23:24:38.459807Z",
     "start_time": "2021-11-09T23:24:38.319626Z"
    }
   },
   "outputs": [
    {
     "name": "stdout",
     "output_type": "stream",
     "text": [
      "Checking year of censo [2017]\n",
      "checking key int64\n"
     ]
    }
   ],
   "source": [
    "C_SCHOOL = C_SCHOOL[school]\n",
    "\n",
    "newNames = [\n",
    "'ANO_CENSO',\n",
    "'CO_ESCOLA',\n",
    " 'CO_MUNICIPIO',\n",
    " 'CO_UF',\n",
    " 'CO_DEPENDENCIA_ADM',\n",
    " 'IN_AGUA_INEXISTENTE',\n",
    " 'IN_ESGOTO_INEXISTENTE',\n",
    " 'IN_ENERGIA_INEXISTENTE',\n",
    " 'IN_LABORATORIO_INFORMATICA',\n",
    " 'IN_LABORATORIO_CIENCIAS',\n",
    " 'IN_SALA_ATENDIMENTO_ESPECIAL',\n",
    " 'IN_BIBLIOTECA',\n",
    " 'IN_SALA_LEITURA',\n",
    " 'IN_BANHEIRO',\n",
    " 'IN_BANHEIRO_PNE',\n",
    " 'QT_SALAS_UTILIZADAS',\n",
    " 'QT_EQUIP_TV',\n",
    " 'QT_EQUIP_DVD',\n",
    " 'QT_EQUIP_COPIADORA',\n",
    " 'QT_EQUIP_IMPRESSORA',\n",
    " 'QT_COMP_ALUNO',\n",
    " 'IN_INTERNET',\n",
    " 'IN_BANDA_LARGA',\n",
    " 'QT_FUNCIONARIOS',\n",
    " 'IN_ALIMENTACAO',\n",
    " 'IN_COMUM_MEDIO_MEDIO',\n",
    " 'IN_COMUM_MEDIO_INTEGRADO',\n",
    " 'IN_COMUM_MEDIO_NORMAL', \n",
    " 'IN_SALA_PROFESSOR',       \n",
    " 'IN_COZINHA',\n",
    " 'IN_EQUIP_PARABOLICA',\n",
    " 'IN_QUADRA_ESPORTES' ,          \n",
    " 'IN_ATIV_COMPLEMENTAR'\n",
    "]\n",
    "\n",
    "#Rename \n",
    "C_SCHOOL.columns =  newNames\n",
    "\n",
    "print('Checking year of censo',C_SCHOOL.ANO_CENSO.unique())\n",
    "C_SCHOOL.drop('ANO_CENSO', axis=1, inplace=True)\n",
    "print('checking key',C_SCHOOL.CO_ESCOLA.dtypes)"
   ]
  },
  {
   "cell_type": "code",
   "execution_count": 11,
   "metadata": {
    "ExecuteTime": {
     "end_time": "2021-11-09T23:25:29.310289Z",
     "start_time": "2021-11-09T23:24:38.466521Z"
    }
   },
   "outputs": [
    {
     "name": "stdout",
     "output_type": "stream",
     "text": [
      "Checking year of censo [2017]\n",
      "checking key int64\n"
     ]
    }
   ],
   "source": [
    "C_TEACHER = C_TEACHER[teacher]\n",
    "\n",
    "# New default column names for all Datasets\n",
    "newNames = [\n",
    "'ANO_CENSO',\n",
    "'CO_PROFESSOR',\n",
    "'CO_ESCOLA',  \n",
    "'CO_TURMA',\n",
    "'IN_ESPECIALIZACAO',\n",
    "'IN_MESTRADO',\n",
    "'IN_DOUTORADO',\n",
    "'ID_QUIMICA',\n",
    "'ID_FISICA',\n",
    "'ID_MATEMATICA',\n",
    "'ID_BIOLOGIA',\n",
    "'ID_SOCIOLOGIA',\n",
    "'ID_LINGUA_LITERAT_PORTUGUESA',\n",
    "'ID_LINGUA_LITERAT_INGLES',\n",
    "'ID_LINGUA_LITERAT_ESPANHOL',\n",
    "'ID_ARTES',\n",
    "'ID_EDUCACAO_FISICA',\n",
    "'ID_HISTORIA',\n",
    "'ID_GEOGRAFIA',\n",
    "'ID_FILOSOFIA',\n",
    "'CO_AREA_OCDE_1', \n",
    "'ID_LICENCIATURA_1', \n",
    "'CO_AREA_OCDE_2',\n",
    "'ID_LICENCIATURA_2',\n",
    "'CO_AREA_OCDE_3',\n",
    "'ID_LICENCIATURA_3'\n",
    "]\n",
    "\n",
    "C_TEACHER.columns = newNames\n",
    "print('Checking year of censo',C_TEACHER.ANO_CENSO.unique())\n",
    "C_TEACHER.drop('ANO_CENSO', axis=1, inplace=True)\n",
    "print('checking key',C_TEACHER.CO_ESCOLA.dtypes)"
   ]
  },
  {
   "cell_type": "code",
   "execution_count": 12,
   "metadata": {
    "ExecuteTime": {
     "end_time": "2021-11-09T23:25:29.546447Z",
     "start_time": "2021-11-09T23:25:29.316158Z"
    }
   },
   "outputs": [
    {
     "name": "stdout",
     "output_type": "stream",
     "text": [
      "Checking year of censo [2017]\n",
      "checking key int64\n"
     ]
    }
   ],
   "source": [
    "C_CLASS = C_CLASS[classmate]\n",
    "\n",
    "newNames = [\n",
    "'ANO_CENSO',    \n",
    "'CO_ESCOLA',\n",
    "'CO_TURMA',  \n",
    "'CO_MOD_ENSINO',\n",
    "'IN_ETAPA_ENSINO',\n",
    "'QT_MATRICULAS'\n",
    "]\n",
    "\n",
    "#Rename \n",
    "C_CLASS.columns =  newNames\n",
    "\n",
    "print('Checking year of censo',C_CLASS.ANO_CENSO.unique())\n",
    "C_CLASS.drop('ANO_CENSO', axis=1, inplace=True)\n",
    "print('checking key',C_CLASS.CO_ESCOLA.dtypes)"
   ]
  },
  {
   "cell_type": "markdown",
   "metadata": {
    "ExecuteTime": {
     "end_time": "2020-04-24T01:55:56.204316Z",
     "start_time": "2020-04-24T01:55:55.856628Z"
    }
   },
   "source": [
    "### Minimum Scope Definition\n"
   ]
  },
  {
   "cell_type": "markdown",
   "metadata": {
    "ExecuteTime": {
     "end_time": "2021-02-20T21:55:35.593771Z",
     "start_time": "2021-02-20T21:55:35.587014Z"
    }
   },
   "source": [
    "ENEM - Taking off:\n",
    "\n",
    "    Without School Code\n",
    "    Is not attended in regular schools,\n",
    "    With scores zero\n",
    "    between 17 and 19 years old (in order to take only last secodary year students)\n",
    "    Attended in schools with at least 10 students\n"
   ]
  },
  {
   "cell_type": "code",
   "execution_count": 13,
   "metadata": {
    "ExecuteTime": {
     "end_time": "2021-11-09T23:25:30.444433Z",
     "start_time": "2021-11-09T23:25:29.552560Z"
    }
   },
   "outputs": [],
   "source": [
    "ENEM.dropna(inplace = True, axis=0, subset = ['CO_ESCOLA'])"
   ]
  },
  {
   "cell_type": "code",
   "execution_count": 14,
   "metadata": {
    "ExecuteTime": {
     "end_time": "2021-11-09T23:25:30.501037Z",
     "start_time": "2021-11-09T23:25:30.451113Z"
    }
   },
   "outputs": [
    {
     "data": {
      "text/plain": [
       "TP_ST_CONCLUSAO     0\n",
       "TP_ENSINO          16\n",
       "dtype: int64"
      ]
     },
     "execution_count": 14,
     "metadata": {},
     "output_type": "execute_result"
    }
   ],
   "source": [
    "#should care about the nulls into scope filter features?\n",
    "filters = (['TP_ST_CONCLUSAO', 'TP_ENSINO'])\n",
    "ENEM[filters].isnull().sum()\n",
    "#NO, IT'S LOWER"
   ]
  },
  {
   "cell_type": "code",
   "execution_count": 15,
   "metadata": {
    "ExecuteTime": {
     "end_time": "2021-11-09T23:25:31.145023Z",
     "start_time": "2021-11-09T23:25:30.506787Z"
    }
   },
   "outputs": [
    {
     "name": "stdout",
     "output_type": "stream",
     "text": [
      "drop out 202165 who not attend regular and prof approachs schools\n"
     ]
    }
   ],
   "source": [
    "print('drop out',((ENEM.TP_ENSINO!= 1)).sum(), 'who not attend regular and prof approachs schools')\n",
    "ENEM = ENEM.loc[((ENEM.TP_ENSINO== 1))]\n",
    "ENEM.drop('TP_ENSINO', inplace = True, axis =1)\n"
   ]
  },
  {
   "cell_type": "code",
   "execution_count": 16,
   "metadata": {
    "ExecuteTime": {
     "end_time": "2021-11-09T23:25:31.243956Z",
     "start_time": "2021-11-09T23:25:31.149763Z"
    }
   },
   "outputs": [
    {
     "name": "stdout",
     "output_type": "stream",
     "text": [
      "null: NU_NOTA_CN 297059\n",
      "zero: NU_NOTA_CN 108\n",
      "null: NU_NOTA_CH 239641\n",
      "zero: NU_NOTA_CH 1850\n",
      "null: NU_NOTA_LC 239641\n",
      "zero: NU_NOTA_LC 761\n",
      "null: NU_NOTA_MT 297059\n",
      "zero: NU_NOTA_MT 142\n",
      "null: NU_NOTA_REDACAO 239641\n",
      "zero: NU_NOTA_REDACAO 73575\n"
     ]
    }
   ],
   "source": [
    "fields = (['NU_NOTA_CN', 'NU_NOTA_CH','NU_NOTA_LC','NU_NOTA_MT', 'NU_NOTA_REDACAO'])\n",
    "for i in fields:\n",
    "    print ('null:', i, ENEM[i].isnull().sum())\n",
    "    print ('zero:', i, (ENEM[i]== 0).sum())\n",
    "\n",
    "    \n",
    "    #, \"and\", ENEM.I==0)"
   ]
  },
  {
   "cell_type": "code",
   "execution_count": 17,
   "metadata": {
    "ExecuteTime": {
     "end_time": "2021-11-09T23:25:31.997221Z",
     "start_time": "2021-11-09T23:25:31.249211Z"
    }
   },
   "outputs": [],
   "source": [
    "ENEM.dropna(inplace = True, axis=0, subset=fields)\n",
    "ENEM = ENEM.loc[~(ENEM[fields] == 0).any(axis=1)]"
   ]
  },
  {
   "cell_type": "code",
   "execution_count": 18,
   "metadata": {
    "ExecuteTime": {
     "end_time": "2021-11-09T23:26:02.877939Z",
     "start_time": "2021-11-09T23:25:32.002053Z"
    }
   },
   "outputs": [
    {
     "name": "stdout",
     "output_type": "stream",
     "text": [
      "null 28\n",
      "taking off 101608\n"
     ]
    },
    {
     "data": {
      "text/plain": [
       "17    628466\n",
       "18    395677\n",
       "19     94783\n",
       "Name: NU_IDADE, dtype: int64"
      ]
     },
     "execution_count": 18,
     "metadata": {},
     "output_type": "execute_result"
    }
   ],
   "source": [
    "#ONLY STUDENTS AT  17 -19 YEAR OLD. WE WANT TO GET ONLY REGULAR STUDENTS THAT ARE IN LAST YEAR OF SECONDARY SCHOOL. \n",
    "#THE MICRODADOS HAVE A FIELD TO CONTROL IT. BUT IT IS NOT CONFIDENCE,DUE A TURN OUT TEAACHERS THAT EXTEND ACADEMIC YEAR\n",
    "print('null', ENEM.NU_IDADE.isnull().sum())\n",
    "#firts, fill NA with the mean of student school\n",
    "ENEM.NU_IDADE = ENEM.groupby(ENEM['CO_ESCOLA'])['NU_IDADE'].apply(lambda x: x.fillna(round(x.mean())))\n",
    "ENEM.NU_IDADE = ENEM.NU_IDADE.astype('int32')\n",
    "print('taking off',((ENEM.NU_IDADE <17)|(ENEM.NU_IDADE>19)).sum())\n",
    "ENEM = ENEM.loc[(ENEM.NU_IDADE >16) &  (ENEM.NU_IDADE<20)]\n",
    "ENEM.NU_IDADE.value_counts()"
   ]
  },
  {
   "cell_type": "code",
   "execution_count": 19,
   "metadata": {
    "ExecuteTime": {
     "end_time": "2021-11-09T23:26:03.650591Z",
     "start_time": "2021-11-09T23:26:02.884644Z"
    }
   },
   "outputs": [
    {
     "data": {
      "text/html": [
       "<div>\n",
       "<style scoped>\n",
       "    .dataframe tbody tr th:only-of-type {\n",
       "        vertical-align: middle;\n",
       "    }\n",
       "\n",
       "    .dataframe tbody tr th {\n",
       "        vertical-align: top;\n",
       "    }\n",
       "\n",
       "    .dataframe thead th {\n",
       "        text-align: right;\n",
       "    }\n",
       "</style>\n",
       "<table border=\"1\" class=\"dataframe\">\n",
       "  <thead>\n",
       "    <tr style=\"text-align: right;\">\n",
       "      <th></th>\n",
       "      <th>NU_NOTA_CN</th>\n",
       "      <th>NU_NOTA_CH</th>\n",
       "      <th>NU_NOTA_LC</th>\n",
       "      <th>NU_NOTA_MT</th>\n",
       "      <th>NU_NOTA_REDACAO</th>\n",
       "    </tr>\n",
       "  </thead>\n",
       "  <tbody>\n",
       "    <tr>\n",
       "      <th>count</th>\n",
       "      <td>1.118926e+06</td>\n",
       "      <td>1.118926e+06</td>\n",
       "      <td>1.118926e+06</td>\n",
       "      <td>1.118926e+06</td>\n",
       "      <td>1.118926e+06</td>\n",
       "    </tr>\n",
       "    <tr>\n",
       "      <th>mean</th>\n",
       "      <td>5.121278e+02</td>\n",
       "      <td>5.246571e+02</td>\n",
       "      <td>5.132594e+02</td>\n",
       "      <td>5.282450e+02</td>\n",
       "      <td>5.737046e+02</td>\n",
       "    </tr>\n",
       "    <tr>\n",
       "      <th>std</th>\n",
       "      <td>7.260337e+01</td>\n",
       "      <td>8.021730e+01</td>\n",
       "      <td>6.413030e+01</td>\n",
       "      <td>1.065903e+02</td>\n",
       "      <td>1.323638e+02</td>\n",
       "    </tr>\n",
       "    <tr>\n",
       "      <th>min</th>\n",
       "      <td>3.000000e+02</td>\n",
       "      <td>3.172000e+02</td>\n",
       "      <td>2.996000e+02</td>\n",
       "      <td>3.204000e+02</td>\n",
       "      <td>4.000000e+01</td>\n",
       "    </tr>\n",
       "    <tr>\n",
       "      <th>25%</th>\n",
       "      <td>4.552000e+02</td>\n",
       "      <td>4.629000e+02</td>\n",
       "      <td>4.727000e+02</td>\n",
       "      <td>4.443000e+02</td>\n",
       "      <td>4.800000e+02</td>\n",
       "    </tr>\n",
       "    <tr>\n",
       "      <th>50%</th>\n",
       "      <td>5.073000e+02</td>\n",
       "      <td>5.275000e+02</td>\n",
       "      <td>5.167000e+02</td>\n",
       "      <td>5.136000e+02</td>\n",
       "      <td>5.600000e+02</td>\n",
       "    </tr>\n",
       "    <tr>\n",
       "      <th>75%</th>\n",
       "      <td>5.640000e+02</td>\n",
       "      <td>5.854000e+02</td>\n",
       "      <td>5.583000e+02</td>\n",
       "      <td>5.960000e+02</td>\n",
       "      <td>6.400000e+02</td>\n",
       "    </tr>\n",
       "    <tr>\n",
       "      <th>max</th>\n",
       "      <td>8.564000e+02</td>\n",
       "      <td>8.683000e+02</td>\n",
       "      <td>7.682000e+02</td>\n",
       "      <td>9.939000e+02</td>\n",
       "      <td>1.000000e+03</td>\n",
       "    </tr>\n",
       "  </tbody>\n",
       "</table>\n",
       "</div>"
      ],
      "text/plain": [
       "         NU_NOTA_CN    NU_NOTA_CH    NU_NOTA_LC    NU_NOTA_MT  NU_NOTA_REDACAO\n",
       "count  1.118926e+06  1.118926e+06  1.118926e+06  1.118926e+06     1.118926e+06\n",
       "mean   5.121278e+02  5.246571e+02  5.132594e+02  5.282450e+02     5.737046e+02\n",
       "std    7.260337e+01  8.021730e+01  6.413030e+01  1.065903e+02     1.323638e+02\n",
       "min    3.000000e+02  3.172000e+02  2.996000e+02  3.204000e+02     4.000000e+01\n",
       "25%    4.552000e+02  4.629000e+02  4.727000e+02  4.443000e+02     4.800000e+02\n",
       "50%    5.073000e+02  5.275000e+02  5.167000e+02  5.136000e+02     5.600000e+02\n",
       "75%    5.640000e+02  5.854000e+02  5.583000e+02  5.960000e+02     6.400000e+02\n",
       "max    8.564000e+02  8.683000e+02  7.682000e+02  9.939000e+02     1.000000e+03"
      ]
     },
     "execution_count": 19,
     "metadata": {},
     "output_type": "execute_result"
    }
   ],
   "source": [
    "ENEM[fields].describe()"
   ]
  },
  {
   "cell_type": "code",
   "execution_count": 20,
   "metadata": {
    "ExecuteTime": {
     "end_time": "2021-11-09T23:26:04.197959Z",
     "start_time": "2021-11-09T23:26:03.656502Z"
    }
   },
   "outputs": [
    {
     "name": "stdout",
     "output_type": "stream",
     "text": [
      "taking off 30165 students of 7318 schools\n"
     ]
    }
   ],
   "source": [
    "#Only schools with at least 10 students \n",
    "filter = ENEM.loc[ENEM.groupby('CO_ESCOLA')['CO_ESCOLA'].transform('count')<=9]\n",
    "print('taking off',filter.shape[0], 'students of', filter.drop_duplicates('CO_ESCOLA').shape[0], 'schools')\n",
    "ENEM = ENEM.loc[~ENEM.CO_ESCOLA.isin(filter.CO_ESCOLA)]"
   ]
  },
  {
   "cell_type": "code",
   "execution_count": 21,
   "metadata": {
    "ExecuteTime": {
     "end_time": "2021-11-09T23:26:04.396393Z",
     "start_time": "2021-11-09T23:26:04.206301Z"
    }
   },
   "outputs": [
    {
     "data": {
      "text/plain": [
       "77694"
      ]
     },
     "execution_count": 21,
     "metadata": {},
     "output_type": "execute_result"
    }
   ],
   "source": [
    "#Classes on Census \n",
    "#Only regular classes\n",
    "C_CLASS = C_CLASS.loc[C_CLASS['CO_MOD_ENSINO']==1]\n",
    "#Only third year of secondary school\n",
    "step_class = [27,28,32,33,37,38] # \n",
    "C_CLASS = C_CLASS.loc[C_CLASS['IN_ETAPA_ENSINO'].isin(step_class)]\n",
    "C_CLASS.shape[0]"
   ]
  },
  {
   "cell_type": "markdown",
   "metadata": {},
   "source": [
    "### Treatment"
   ]
  },
  {
   "cell_type": "markdown",
   "metadata": {},
   "source": [
    "ENEM"
   ]
  },
  {
   "cell_type": "code",
   "execution_count": 22,
   "metadata": {
    "ExecuteTime": {
     "end_time": "2021-11-09T23:26:05.049734Z",
     "start_time": "2021-11-09T23:26:04.401609Z"
    }
   },
   "outputs": [
    {
     "data": {
      "text/plain": [
       "TP_SEXO            0\n",
       "TP_COR_RACA        0\n",
       "EDU_PAI            0\n",
       "EDU_MAE            0\n",
       "QT_PESSOAS_CASA    1\n",
       "RENDA_MENSAL       1\n",
       "dtype: int64"
      ]
     },
     "execution_count": 22,
     "metadata": {},
     "output_type": "execute_result"
    }
   ],
   "source": [
    "fields = ['TP_SEXO', 'TP_COR_RACA', 'EDU_PAI', 'EDU_MAE','QT_PESSOAS_CASA', 'RENDA_MENSAL']\n",
    "ENEM[fields].isnull().sum()\n",
    "\n"
   ]
  },
  {
   "cell_type": "code",
   "execution_count": 23,
   "metadata": {
    "ExecuteTime": {
     "end_time": "2021-11-09T23:26:55.286328Z",
     "start_time": "2021-11-09T23:26:05.055765Z"
    }
   },
   "outputs": [],
   "source": [
    "# Have not a specific explain, lets fill w school mode. \n",
    "ENEM.QT_PESSOAS_CASA = ENEM.groupby('CO_ESCOLA')['QT_PESSOAS_CASA'].transform(\n",
    "    lambda x: x.fillna(Counter(x).most_common()[0][0]))\n",
    "ENEM.RENDA_MENSAL = ENEM.groupby('CO_ESCOLA')['RENDA_MENSAL'].transform(\n",
    "    lambda x: x.fillna(Counter(x).most_common()[0][0]))\n"
   ]
  },
  {
   "cell_type": "code",
   "execution_count": 24,
   "metadata": {
    "ExecuteTime": {
     "end_time": "2021-11-09T23:26:56.380435Z",
     "start_time": "2021-11-09T23:26:55.293074Z"
    }
   },
   "outputs": [
    {
     "name": "stdout",
     "output_type": "stream",
     "text": [
      "TP_SEXO Index(['F', 'M'], dtype='object')\n",
      "TP_COR_RACA Int64Index([3, 1, 2, 4, 0, 5], dtype='int64')\n",
      "EDU_PAI Index(['E', 'B', 'C', 'D', 'F', 'H', 'G', 'A'], dtype='object')\n",
      "EDU_MAE Index(['E', 'D', 'C', 'F', 'B', 'G', 'H', 'A'], dtype='object')\n",
      "QT_PESSOAS_CASA Float64Index([ 4.0,  3.0,  5.0,  2.0,  6.0,  7.0,  8.0,  9.0, 10.0,  1.0, 11.0,\n",
      "              12.0, 13.0, 20.0, 14.0, 15.0, 18.0, 16.0, 17.0, 19.0],\n",
      "             dtype='float64')\n",
      "RENDA_MENSAL Index(['B', 'C', 'D', 'E', 'G', 'F', 'H', 'I', 'A', 'J', 'Q', 'N', 'K', 'L',\n",
      "       'O', 'M', 'P'],\n",
      "      dtype='object')\n"
     ]
    }
   ],
   "source": [
    "for i in fields:\n",
    "    print(i,ENEM[i].value_counts().index)"
   ]
  },
  {
   "cell_type": "code",
   "execution_count": 25,
   "metadata": {
    "ExecuteTime": {
     "end_time": "2021-11-09T23:26:57.246314Z",
     "start_time": "2021-11-09T23:26:56.385924Z"
    }
   },
   "outputs": [],
   "source": [
    "#Order relation, is better for numeric categories.\n",
    "categorical = ['TP_SEXO','EDU_PAI', 'EDU_MAE', 'RENDA_MENSAL']\n",
    "for i in categorical:\n",
    "    codes, uniques = pd.factorize(ENEM[i], sort=True)\n",
    "    ENEM[i] = codes"
   ]
  },
  {
   "cell_type": "code",
   "execution_count": 26,
   "metadata": {
    "ExecuteTime": {
     "end_time": "2021-11-09T23:26:58.257880Z",
     "start_time": "2021-11-09T23:26:57.251978Z"
    }
   },
   "outputs": [],
   "source": [
    "# Paring with default categories\n",
    "\n",
    "ENEM.loc[ENEM['EDU_PAI']==0, 'EDU_PAI_TEMP']=0\n",
    "ENEM.loc[ENEM['EDU_PAI']==1, 'EDU_PAI_TEMP']=0\n",
    "ENEM.loc[ENEM['EDU_PAI']==2, 'EDU_PAI_TEMP']=1\n",
    "ENEM.loc[ENEM['EDU_PAI']==3, 'EDU_PAI_TEMP']=2\n",
    "ENEM.loc[ENEM['EDU_PAI']==4, 'EDU_PAI_TEMP']=3\n",
    "ENEM.loc[ENEM['EDU_PAI']==5, 'EDU_PAI_TEMP']=4\n",
    "ENEM.loc[ENEM['EDU_PAI']==6, 'EDU_PAI_TEMP']=5\n",
    "ENEM.loc[ENEM['EDU_PAI']==7, 'EDU_PAI_TEMP']=0\n",
    "\n",
    "ENEM.loc[ENEM['EDU_MAE']==0, 'EDU_MAE_TEMP']=0\n",
    "ENEM.loc[ENEM['EDU_MAE']==1, 'EDU_MAE_TEMP']=0\n",
    "ENEM.loc[ENEM['EDU_MAE']==2, 'EDU_MAE_TEMP']=1\n",
    "ENEM.loc[ENEM['EDU_MAE']==3, 'EDU_MAE_TEMP']=2\n",
    "ENEM.loc[ENEM['EDU_MAE']==4, 'EDU_MAE_TEMP']=3\n",
    "ENEM.loc[ENEM['EDU_MAE']==5, 'EDU_MAE_TEMP']=4\n",
    "ENEM.loc[ENEM['EDU_MAE']==6, 'EDU_MAE_TEMP']=5\n",
    "ENEM.loc[ENEM['EDU_MAE']==7, 'EDU_MAE_TEMP']=0\n",
    "\n",
    "\n",
    "\n",
    "ENEM.loc[ENEM['QT_PESSOAS_CASA']==1, 'QT_PESSOAS_CASA_TEMP']=0\n",
    "ENEM.loc[ENEM['QT_PESSOAS_CASA']==2, 'QT_PESSOAS_CASA_TEMP']=1\n",
    "ENEM.loc[ENEM['QT_PESSOAS_CASA']==3, 'QT_PESSOAS_CASA_TEMP']=1\n",
    "ENEM.loc[ENEM['QT_PESSOAS_CASA']==4, 'QT_PESSOAS_CASA_TEMP']=2\n",
    "ENEM.loc[ENEM['QT_PESSOAS_CASA']==5, 'QT_PESSOAS_CASA_TEMP']=2\n",
    "ENEM.loc[ENEM['QT_PESSOAS_CASA']==6, 'QT_PESSOAS_CASA_TEMP']=2\n",
    "ENEM.loc[ENEM['QT_PESSOAS_CASA']==7, 'QT_PESSOAS_CASA_TEMP']=2\n",
    "ENEM.loc[ENEM['QT_PESSOAS_CASA']>7, 'QT_PESSOAS_CASA_TEMP']=3\n",
    "\n",
    "ENEM.loc[ENEM['RENDA_MENSAL']==0, 'RENDA_MENSAL_TEMP']=0\n",
    "ENEM.loc[ENEM['RENDA_MENSAL']==1, 'RENDA_MENSAL_TEMP']=1\n",
    "ENEM.loc[ENEM['RENDA_MENSAL']==2, 'RENDA_MENSAL_TEMP']=2\n",
    "ENEM.loc[ENEM['RENDA_MENSAL']==3, 'RENDA_MENSAL_TEMP']=2\n",
    "ENEM.loc[(ENEM['RENDA_MENSAL']>3) & (ENEM['RENDA_MENSAL']<8), 'RENDA_MENSAL_TEMP']=3\n",
    "ENEM.loc[(ENEM['RENDA_MENSAL']>7) & (ENEM['RENDA_MENSAL']<13), 'RENDA_MENSAL_TEMP']=4\n",
    "ENEM.loc[ENEM['RENDA_MENSAL']>12, 'RENDA_MENSAL_TEMP']=5\n"
   ]
  },
  {
   "cell_type": "code",
   "execution_count": 27,
   "metadata": {
    "ExecuteTime": {
     "end_time": "2021-11-09T23:26:58.309231Z",
     "start_time": "2021-11-09T23:26:58.271588Z"
    }
   },
   "outputs": [],
   "source": [
    "#back to original columns\n",
    "ENEM['EDU_PAI'] = ENEM['EDU_PAI_TEMP']\n",
    "ENEM['EDU_MAE'] = ENEM['EDU_MAE_TEMP']\n",
    "ENEM['QT_PESSOAS_CASA'] = ENEM['QT_PESSOAS_CASA_TEMP']\n",
    "ENEM['RENDA_MENSAL'] = ENEM['RENDA_MENSAL_TEMP']\n"
   ]
  },
  {
   "cell_type": "code",
   "execution_count": 28,
   "metadata": {
    "ExecuteTime": {
     "end_time": "2021-11-09T23:26:58.694662Z",
     "start_time": "2021-11-09T23:26:58.315993Z"
    }
   },
   "outputs": [],
   "source": [
    "#drop temps\n",
    "\n",
    "ENEM.drop(['EDU_PAI_TEMP', 'EDU_MAE_TEMP', 'QT_PESSOAS_CASA_TEMP','RENDA_MENSAL_TEMP'], axis=1, inplace=True)"
   ]
  },
  {
   "cell_type": "code",
   "execution_count": 29,
   "metadata": {
    "ExecuteTime": {
     "end_time": "2021-11-09T23:26:58.710116Z",
     "start_time": "2021-11-09T23:26:58.700111Z"
    }
   },
   "outputs": [
    {
     "name": "stdout",
     "output_type": "stream",
     "text": [
      "total students considered: 1088761\n"
     ]
    }
   ],
   "source": [
    "print('total students considered:',ENEM.shape[0])"
   ]
  },
  {
   "cell_type": "markdown",
   "metadata": {},
   "source": [
    "CENSUS - SCHOOL"
   ]
  },
  {
   "cell_type": "code",
   "execution_count": 30,
   "metadata": {
    "ExecuteTime": {
     "end_time": "2021-11-09T23:26:59.466726Z",
     "start_time": "2021-11-09T23:26:58.715558Z"
    }
   },
   "outputs": [
    {
     "data": {
      "text/html": [
       "<div>\n",
       "<style scoped>\n",
       "    .dataframe tbody tr th:only-of-type {\n",
       "        vertical-align: middle;\n",
       "    }\n",
       "\n",
       "    .dataframe tbody tr th {\n",
       "        vertical-align: top;\n",
       "    }\n",
       "\n",
       "    .dataframe thead th {\n",
       "        text-align: right;\n",
       "    }\n",
       "</style>\n",
       "<table border=\"1\" class=\"dataframe\">\n",
       "  <thead>\n",
       "    <tr style=\"text-align: right;\">\n",
       "      <th></th>\n",
       "      <th>CO_ESCOLA</th>\n",
       "      <th>CO_MUNICIPIO</th>\n",
       "      <th>CO_UF</th>\n",
       "      <th>CO_DEPENDENCIA_ADM</th>\n",
       "      <th>IN_AGUA_INEXISTENTE</th>\n",
       "      <th>IN_ESGOTO_INEXISTENTE</th>\n",
       "      <th>IN_ENERGIA_INEXISTENTE</th>\n",
       "      <th>IN_LABORATORIO_INFORMATICA</th>\n",
       "      <th>IN_LABORATORIO_CIENCIAS</th>\n",
       "      <th>IN_SALA_ATENDIMENTO_ESPECIAL</th>\n",
       "      <th>IN_BIBLIOTECA</th>\n",
       "      <th>IN_SALA_LEITURA</th>\n",
       "      <th>IN_BANHEIRO</th>\n",
       "      <th>IN_BANHEIRO_PNE</th>\n",
       "      <th>QT_SALAS_UTILIZADAS</th>\n",
       "      <th>QT_EQUIP_TV</th>\n",
       "      <th>QT_EQUIP_DVD</th>\n",
       "      <th>QT_EQUIP_COPIADORA</th>\n",
       "      <th>QT_EQUIP_IMPRESSORA</th>\n",
       "      <th>QT_COMP_ALUNO</th>\n",
       "      <th>IN_INTERNET</th>\n",
       "      <th>IN_BANDA_LARGA</th>\n",
       "      <th>QT_FUNCIONARIOS</th>\n",
       "      <th>IN_ALIMENTACAO</th>\n",
       "      <th>IN_COMUM_MEDIO_MEDIO</th>\n",
       "      <th>IN_COMUM_MEDIO_INTEGRADO</th>\n",
       "      <th>IN_COMUM_MEDIO_NORMAL</th>\n",
       "      <th>IN_SALA_PROFESSOR</th>\n",
       "      <th>IN_COZINHA</th>\n",
       "      <th>IN_EQUIP_PARABOLICA</th>\n",
       "      <th>IN_QUADRA_ESPORTES</th>\n",
       "      <th>IN_ATIV_COMPLEMENTAR</th>\n",
       "    </tr>\n",
       "  </thead>\n",
       "  <tbody>\n",
       "    <tr>\n",
       "      <th>0</th>\n",
       "      <td>0</td>\n",
       "      <td>0</td>\n",
       "      <td>0</td>\n",
       "      <td>0</td>\n",
       "      <td>0</td>\n",
       "      <td>0</td>\n",
       "      <td>0</td>\n",
       "      <td>0</td>\n",
       "      <td>0</td>\n",
       "      <td>0</td>\n",
       "      <td>0</td>\n",
       "      <td>0</td>\n",
       "      <td>0</td>\n",
       "      <td>0</td>\n",
       "      <td>0</td>\n",
       "      <td>0</td>\n",
       "      <td>0</td>\n",
       "      <td>0</td>\n",
       "      <td>0</td>\n",
       "      <td>0</td>\n",
       "      <td>0</td>\n",
       "      <td>0</td>\n",
       "      <td>0</td>\n",
       "      <td>0</td>\n",
       "      <td>0</td>\n",
       "      <td>0</td>\n",
       "      <td>0</td>\n",
       "      <td>0</td>\n",
       "      <td>0</td>\n",
       "      <td>0</td>\n",
       "      <td>0</td>\n",
       "      <td>0</td>\n",
       "    </tr>\n",
       "  </tbody>\n",
       "</table>\n",
       "</div>"
      ],
      "text/plain": [
       "   CO_ESCOLA  CO_MUNICIPIO  CO_UF  CO_DEPENDENCIA_ADM  IN_AGUA_INEXISTENTE  \\\n",
       "0          0             0      0                   0                    0   \n",
       "\n",
       "   IN_ESGOTO_INEXISTENTE  IN_ENERGIA_INEXISTENTE  IN_LABORATORIO_INFORMATICA  \\\n",
       "0                      0                       0                           0   \n",
       "\n",
       "   IN_LABORATORIO_CIENCIAS  IN_SALA_ATENDIMENTO_ESPECIAL  IN_BIBLIOTECA  \\\n",
       "0                        0                             0              0   \n",
       "\n",
       "   IN_SALA_LEITURA  IN_BANHEIRO  IN_BANHEIRO_PNE  QT_SALAS_UTILIZADAS  \\\n",
       "0                0            0                0                    0   \n",
       "\n",
       "   QT_EQUIP_TV  QT_EQUIP_DVD  QT_EQUIP_COPIADORA  QT_EQUIP_IMPRESSORA  \\\n",
       "0            0             0                   0                    0   \n",
       "\n",
       "   QT_COMP_ALUNO  IN_INTERNET  IN_BANDA_LARGA  QT_FUNCIONARIOS  \\\n",
       "0              0            0               0                0   \n",
       "\n",
       "   IN_ALIMENTACAO  IN_COMUM_MEDIO_MEDIO  IN_COMUM_MEDIO_INTEGRADO  \\\n",
       "0               0                     0                         0   \n",
       "\n",
       "   IN_COMUM_MEDIO_NORMAL  IN_SALA_PROFESSOR  IN_COZINHA  IN_EQUIP_PARABOLICA  \\\n",
       "0                      0                  0           0                    0   \n",
       "\n",
       "   IN_QUADRA_ESPORTES  IN_ATIV_COMPLEMENTAR  \n",
       "0                   0                     0  "
      ]
     },
     "execution_count": 30,
     "metadata": {},
     "output_type": "execute_result"
    }
   ],
   "source": [
    "#Taking only schools present at ALL DATABASES\n",
    "C_SCHOOL = C_SCHOOL.loc[(C_SCHOOL.CO_ESCOLA.isin(ENEM.CO_ESCOLA)) & (C_SCHOOL.CO_ESCOLA.isin(C_CLASS.CO_ESCOLA)) &\n",
    "                                                        (C_SCHOOL.CO_ESCOLA.isin(C_TEACHER.CO_ESCOLA))]\n",
    "C_SCHOOL.isnull().sum().to_frame().T"
   ]
  },
  {
   "cell_type": "markdown",
   "metadata": {},
   "source": [
    "CENSUS - CLASS"
   ]
  },
  {
   "cell_type": "code",
   "execution_count": 31,
   "metadata": {
    "ExecuteTime": {
     "end_time": "2021-11-09T23:26:59.515773Z",
     "start_time": "2021-11-09T23:26:59.471355Z"
    }
   },
   "outputs": [
    {
     "data": {
      "text/html": [
       "<div>\n",
       "<style scoped>\n",
       "    .dataframe tbody tr th:only-of-type {\n",
       "        vertical-align: middle;\n",
       "    }\n",
       "\n",
       "    .dataframe tbody tr th {\n",
       "        vertical-align: top;\n",
       "    }\n",
       "\n",
       "    .dataframe thead th {\n",
       "        text-align: right;\n",
       "    }\n",
       "</style>\n",
       "<table border=\"1\" class=\"dataframe\">\n",
       "  <thead>\n",
       "    <tr style=\"text-align: right;\">\n",
       "      <th></th>\n",
       "      <th>CO_ESCOLA</th>\n",
       "      <th>CO_TURMA</th>\n",
       "      <th>CO_MOD_ENSINO</th>\n",
       "      <th>IN_ETAPA_ENSINO</th>\n",
       "      <th>QT_MATRICULAS</th>\n",
       "    </tr>\n",
       "  </thead>\n",
       "  <tbody>\n",
       "    <tr>\n",
       "      <th>0</th>\n",
       "      <td>0</td>\n",
       "      <td>0</td>\n",
       "      <td>0</td>\n",
       "      <td>0</td>\n",
       "      <td>0</td>\n",
       "    </tr>\n",
       "  </tbody>\n",
       "</table>\n",
       "</div>"
      ],
      "text/plain": [
       "   CO_ESCOLA  CO_TURMA  CO_MOD_ENSINO  IN_ETAPA_ENSINO  QT_MATRICULAS\n",
       "0          0         0              0                0              0"
      ]
     },
     "execution_count": 31,
     "metadata": {},
     "output_type": "execute_result"
    }
   ],
   "source": [
    "C_CLASS = C_CLASS.loc[(C_CLASS.CO_ESCOLA.isin(C_SCHOOL.CO_ESCOLA))]\n",
    "C_CLASS.isnull().sum().to_frame().T"
   ]
  },
  {
   "cell_type": "markdown",
   "metadata": {},
   "source": [
    "CENSUS - TEACHER"
   ]
  },
  {
   "cell_type": "code",
   "execution_count": 32,
   "metadata": {
    "ExecuteTime": {
     "end_time": "2021-11-09T23:27:07.334097Z",
     "start_time": "2021-11-09T23:26:59.521323Z"
    }
   },
   "outputs": [
    {
     "data": {
      "text/html": [
       "<div>\n",
       "<style scoped>\n",
       "    .dataframe tbody tr th:only-of-type {\n",
       "        vertical-align: middle;\n",
       "    }\n",
       "\n",
       "    .dataframe tbody tr th {\n",
       "        vertical-align: top;\n",
       "    }\n",
       "\n",
       "    .dataframe thead th {\n",
       "        text-align: right;\n",
       "    }\n",
       "</style>\n",
       "<table border=\"1\" class=\"dataframe\">\n",
       "  <thead>\n",
       "    <tr style=\"text-align: right;\">\n",
       "      <th></th>\n",
       "      <th>CO_PROFESSOR</th>\n",
       "      <th>CO_ESCOLA</th>\n",
       "      <th>CO_TURMA</th>\n",
       "      <th>IN_ESPECIALIZACAO</th>\n",
       "      <th>IN_MESTRADO</th>\n",
       "      <th>IN_DOUTORADO</th>\n",
       "      <th>ID_QUIMICA</th>\n",
       "      <th>ID_FISICA</th>\n",
       "      <th>ID_MATEMATICA</th>\n",
       "      <th>ID_BIOLOGIA</th>\n",
       "      <th>ID_SOCIOLOGIA</th>\n",
       "      <th>ID_LINGUA_LITERAT_PORTUGUESA</th>\n",
       "      <th>ID_LINGUA_LITERAT_INGLES</th>\n",
       "      <th>ID_LINGUA_LITERAT_ESPANHOL</th>\n",
       "      <th>ID_ARTES</th>\n",
       "      <th>ID_EDUCACAO_FISICA</th>\n",
       "      <th>ID_HISTORIA</th>\n",
       "      <th>ID_GEOGRAFIA</th>\n",
       "      <th>ID_FILOSOFIA</th>\n",
       "      <th>CO_AREA_OCDE_1</th>\n",
       "      <th>ID_LICENCIATURA_1</th>\n",
       "      <th>CO_AREA_OCDE_2</th>\n",
       "      <th>ID_LICENCIATURA_2</th>\n",
       "      <th>CO_AREA_OCDE_3</th>\n",
       "      <th>ID_LICENCIATURA_3</th>\n",
       "    </tr>\n",
       "  </thead>\n",
       "  <tbody>\n",
       "    <tr>\n",
       "      <th>0</th>\n",
       "      <td>0</td>\n",
       "      <td>0</td>\n",
       "      <td>0</td>\n",
       "      <td>79595</td>\n",
       "      <td>79595</td>\n",
       "      <td>79595</td>\n",
       "      <td>177297</td>\n",
       "      <td>177297</td>\n",
       "      <td>95275</td>\n",
       "      <td>177297</td>\n",
       "      <td>177297</td>\n",
       "      <td>95275</td>\n",
       "      <td>95275</td>\n",
       "      <td>95275</td>\n",
       "      <td>95275</td>\n",
       "      <td>95275</td>\n",
       "      <td>95275</td>\n",
       "      <td>95275</td>\n",
       "      <td>95275</td>\n",
       "      <td>41844</td>\n",
       "      <td>41844</td>\n",
       "      <td>790147</td>\n",
       "      <td>790147</td>\n",
       "      <td>842604</td>\n",
       "      <td>842604</td>\n",
       "    </tr>\n",
       "  </tbody>\n",
       "</table>\n",
       "</div>"
      ],
      "text/plain": [
       "   CO_PROFESSOR  CO_ESCOLA  CO_TURMA  IN_ESPECIALIZACAO  IN_MESTRADO  \\\n",
       "0             0          0         0              79595        79595   \n",
       "\n",
       "   IN_DOUTORADO  ID_QUIMICA  ID_FISICA  ID_MATEMATICA  ID_BIOLOGIA  \\\n",
       "0         79595      177297     177297          95275       177297   \n",
       "\n",
       "   ID_SOCIOLOGIA  ID_LINGUA_LITERAT_PORTUGUESA  ID_LINGUA_LITERAT_INGLES  \\\n",
       "0         177297                         95275                     95275   \n",
       "\n",
       "   ID_LINGUA_LITERAT_ESPANHOL  ID_ARTES  ID_EDUCACAO_FISICA  ID_HISTORIA  \\\n",
       "0                       95275     95275               95275        95275   \n",
       "\n",
       "   ID_GEOGRAFIA  ID_FILOSOFIA  CO_AREA_OCDE_1  ID_LICENCIATURA_1  \\\n",
       "0         95275         95275           41844              41844   \n",
       "\n",
       "   CO_AREA_OCDE_2  ID_LICENCIATURA_2  CO_AREA_OCDE_3  ID_LICENCIATURA_3  \n",
       "0          790147             790147          842604             842604  "
      ]
     },
     "execution_count": 32,
     "metadata": {},
     "output_type": "execute_result"
    }
   ],
   "source": [
    "C_TEACHER = C_TEACHER.drop_duplicates(['CO_PROFESSOR', 'CO_ESCOLA']) # We have multiple teachers for school due classes. It is importante just one record\n",
    "C_TEACHER = C_TEACHER.loc[(C_TEACHER.CO_ESCOLA.isin(C_SCHOOL.CO_ESCOLA))]\n",
    "C_TEACHER.isnull().sum().to_frame().T"
   ]
  },
  {
   "cell_type": "code",
   "execution_count": 33,
   "metadata": {
    "ExecuteTime": {
     "end_time": "2021-11-09T23:27:07.814038Z",
     "start_time": "2021-11-09T23:27:07.339255Z"
    }
   },
   "outputs": [
    {
     "name": "stdout",
     "output_type": "stream",
     "text": [
      "total teachers considered: 848726\n"
     ]
    }
   ],
   "source": [
    "C_TEACHER.fillna(0, inplace = True)\n",
    "print('total teachers considered:',C_TEACHER.shape[0])"
   ]
  },
  {
   "cell_type": "markdown",
   "metadata": {},
   "source": [
    "### New Features"
   ]
  },
  {
   "cell_type": "markdown",
   "metadata": {
    "ExecuteTime": {
     "end_time": "2020-04-24T01:56:13.834541Z",
     "start_time": "2020-04-24T01:56:13.638347Z"
    }
   },
   "source": [
    "ENEM"
   ]
  },
  {
   "cell_type": "code",
   "execution_count": 34,
   "metadata": {
    "ExecuteTime": {
     "end_time": "2021-11-09T23:27:07.870119Z",
     "start_time": "2021-11-09T23:27:07.820168Z"
    }
   },
   "outputs": [],
   "source": [
    "#Final Media, Target\n",
    "ENEM['NU_NOTA_GERAL'] = (ENEM.NU_NOTA_CN + ENEM.NU_NOTA_CH + ENEM.NU_NOTA_LC + ENEM.NU_NOTA_MT + ENEM.NU_NOTA_REDACAO)/5"
   ]
  },
  {
   "cell_type": "markdown",
   "metadata": {},
   "source": [
    "TEACHER CENSUS"
   ]
  },
  {
   "cell_type": "code",
   "execution_count": 35,
   "metadata": {
    "ExecuteTime": {
     "end_time": "2021-11-09T23:27:08.660431Z",
     "start_time": "2021-11-09T23:27:07.876094Z"
    }
   },
   "outputs": [],
   "source": [
    "C_TEACHER['TITULACAO'] = 0\n",
    "\n",
    "C_TEACHER.loc[(C_TEACHER.IN_ESPECIALIZACAO==0.0) & (C_TEACHER.IN_MESTRADO==0.0)& \n",
    "             (C_TEACHER.IN_DOUTORADO ==0.0), 'TITULACAO'] = 0\n",
    "\n",
    "C_TEACHER.loc[(C_TEACHER.IN_ESPECIALIZACAO==1.0) & (C_TEACHER.IN_MESTRADO==0.0)& \n",
    "             (C_TEACHER.IN_DOUTORADO ==0.0), 'TITULACAO'] = 1\n",
    "\n",
    "C_TEACHER.loc[(C_TEACHER.IN_ESPECIALIZACAO==1.0) & (C_TEACHER.IN_MESTRADO==1.0)& \n",
    "             (C_TEACHER.IN_DOUTORADO ==0.0), 'TITULACAO'] = 2\n",
    "\n",
    "C_TEACHER.loc[(C_TEACHER.IN_ESPECIALIZACAO==0.0) & (C_TEACHER.IN_MESTRADO==1.0)& \n",
    "             (C_TEACHER.IN_DOUTORADO ==0.0), 'TITULACAO'] = 2\n",
    "\n",
    "C_TEACHER.loc[(C_TEACHER.IN_DOUTORADO ==1.0), 'TITULACAO'] = 3\n",
    "\n",
    "#Rebuild level education information as indicator of unique level.\n",
    "C_TEACHER['NU_GRADUACAO'] = 0\n",
    "C_TEACHER['NU_ESPECIALIZACAO'] = 0\n",
    "C_TEACHER['NU_MESTRADO'] = 0\n",
    "C_TEACHER['NU_DOUTORADO'] = 0\n",
    "\n",
    "C_TEACHER.loc[C_TEACHER.TITULACAO == 0, 'NU_GRADUACAO']= 1\n",
    "C_TEACHER.loc[C_TEACHER.TITULACAO == 1, 'NU_ESPECIALIZACAO']= 1\n",
    "C_TEACHER.loc[C_TEACHER.TITULACAO == 2, 'NU_MESTRADO']= 1\n",
    "C_TEACHER.loc[C_TEACHER.TITULACAO == 3, 'NU_DOUTORADO']= 1\n",
    "\n",
    "\n",
    "C_TEACHER['NU_GRADUACAO'] = C_TEACHER.groupby('CO_ESCOLA')['NU_GRADUACAO'].transform(sum)\n",
    "C_TEACHER['NU_ESPECIALIZACAO'] = C_TEACHER.groupby('CO_ESCOLA')['NU_ESPECIALIZACAO'].transform(sum)\n",
    "C_TEACHER['NU_MESTRADO'] = C_TEACHER.groupby('CO_ESCOLA')['NU_MESTRADO'].transform(sum)\n",
    "C_TEACHER['NU_DOUTORADO'] = C_TEACHER.groupby('CO_ESCOLA')['NU_DOUTORADO'].transform(sum)\n",
    "\n",
    "\n",
    "\n",
    "#Calculating weighted indice of teacher education\n",
    "SUM= C_TEACHER.groupby('CO_ESCOLA')['TITULACAO'].transform(sum)\n",
    "COUNT =  C_TEACHER.groupby('CO_ESCOLA')['TITULACAO'].transform('count')\n",
    "C_TEACHER['TITULACAO'] = (SUM)/(COUNT*3)  \n"
   ]
  },
  {
   "cell_type": "code",
   "execution_count": 36,
   "metadata": {
    "ExecuteTime": {
     "end_time": "2021-11-09T23:27:09.458708Z",
     "start_time": "2021-11-09T23:27:08.666131Z"
    }
   },
   "outputs": [],
   "source": [
    "#In order to avoid count duplicates teacher who teachs in both subjects. Since the required training is the same\n",
    "C_TEACHER['ID_LINGUA_ESTRANGEIRA']=0\n",
    "C_TEACHER.loc[((C_TEACHER.ID_LINGUA_LITERAT_ESPANHOL==1)|\n",
    "               (C_TEACHER.ID_LINGUA_LITERAT_INGLES==1)),'ID_LINGUA_ESTRANGEIRA']=1  \n",
    "\n",
    "#In order to avoid count duplicates teacher who teachs in both subjects. Since we consindering as the same subject\n",
    "C_TEACHER['ID_FISIO_SOCIO']=0\n",
    "C_TEACHER.loc[((C_TEACHER.ID_FILOSOFIA==1)|(C_TEACHER.ID_SOCIOLOGIA==1)),'ID_FISIO_SOCIO']=1\n",
    "\n",
    "C_TEACHER['OUTROS'] = 0\n",
    "curr_teaching = ['ID_MATEMATICA', 'ID_FISICA', 'ID_QUIMICA', 'ID_HISTORIA', 'ID_BIOLOGIA', 'ID_GEOGRAFIA', \n",
    "            'ID_LINGUA_LITERAT_PORTUGUESA', 'ID_LINGUA_ESTRANGEIRA','ID_FISIO_SOCIO', 'ID_ARTES', \n",
    "            'ID_EDUCACAO_FISICA', 'OUTROS']\n",
    "\n",
    "#C_TEACHER[curr_teaching].fillna(0, inplace=True)\n",
    "C_TEACHER.loc[(C_TEACHER[curr_teaching]==0).all(axis=1), 'OUTROS'] =1\n",
    "\n",
    "#Take out teacher who do not taught in subjects related of ENEM and secondary education\n",
    "C_TEACHER = C_TEACHER.loc[C_TEACHER.OUTROS==0]\n",
    "##"
   ]
  },
  {
   "cell_type": "code",
   "execution_count": 37,
   "metadata": {
    "ExecuteTime": {
     "end_time": "2021-11-09T23:27:13.577172Z",
     "start_time": "2021-11-09T23:27:09.463700Z"
    }
   },
   "outputs": [],
   "source": [
    "# How many teacher for each knowlodege area?\n",
    "\n",
    "ciencias_humanas = ['ID_HISTORIA', 'ID_GEOGRAFIA','ID_FILOSOFIA', 'ID_SOCIOLOGIA']\n",
    "linguagens_codigos = ['ID_LINGUA_LITERAT_PORTUGUESA', 'ID_LINGUA_LITERAT_ESPANHOL',\n",
    "                      'ID_LINGUA_LITERAT_INGLES', 'ID_ARTES', 'ID_EDUCACAO_FISICA']\n",
    "matematica = ['ID_MATEMATICA']\n",
    "ciencias_natureza = ['ID_FISICA', 'ID_QUIMICA', 'ID_BIOLOGIA']\n",
    "\n",
    "###\n",
    "values = np.sum(C_TEACHER[ciencias_natureza].values == 1,1)\n",
    "C_TEACHER['NU_CIENCIA_NATUREZA'] = [1 if x >= 1 else 0 for x in values]\n",
    "C_TEACHER['NU_CIENCIA_NATUREZA']= C_TEACHER.groupby('CO_ESCOLA')['NU_CIENCIA_NATUREZA'].transform(sum)\n",
    "\n",
    "values = np.sum(C_TEACHER[ciencias_humanas].values == 1,1)\n",
    "C_TEACHER['NU_CIENCIAS_HUMANAS'] = [1 if x >= 1 else 0 for x in values]\n",
    "C_TEACHER['NU_CIENCIAS_HUMANAS']= C_TEACHER.groupby('CO_ESCOLA')['NU_CIENCIAS_HUMANAS'].transform(sum)\n",
    "\n",
    "values = np.sum(C_TEACHER[linguagens_codigos].values == 1,1)\n",
    "C_TEACHER['NU_LINGUAGENS_CODIGOS'] = [1 if x >= 1 else 0 for x in values]\n",
    "C_TEACHER['NU_LINGUAGENS_CODIGOS']= C_TEACHER.groupby('CO_ESCOLA')['NU_LINGUAGENS_CODIGOS'].transform(sum)\n",
    "\n",
    "C_TEACHER['NU_MATEMATICA']= C_TEACHER.groupby('CO_ESCOLA')['ID_MATEMATICA'].transform(sum)\n",
    "\n",
    "#Sum all domain teacher's number\n",
    "C_TEACHER['NU_TEACHERS_DOMAIN'] = C_TEACHER['NU_MATEMATICA']+C_TEACHER['NU_LINGUAGENS_CODIGOS']+C_TEACHER[\n",
    "    'NU_CIENCIAS_HUMANAS']+C_TEACHER['NU_CIENCIA_NATUREZA']\n",
    "\n",
    "#update domain teacher's number normalized\n",
    "C_TEACHER['NU_MATEMATICA']=C_TEACHER['NU_MATEMATICA']/C_TEACHER['NU_TEACHERS_DOMAIN']\n",
    "C_TEACHER['NU_LINGUAGENS_CODIGOS'] = C_TEACHER['NU_LINGUAGENS_CODIGOS']/C_TEACHER['NU_TEACHERS_DOMAIN']\n",
    "C_TEACHER['NU_CIENCIAS_HUMANAS'] = C_TEACHER['NU_CIENCIAS_HUMANAS']/C_TEACHER['NU_TEACHERS_DOMAIN']\n",
    "C_TEACHER['NU_CIENCIA_NATUREZA'] = C_TEACHER['NU_CIENCIA_NATUREZA']/C_TEACHER['NU_TEACHERS_DOMAIN']"
   ]
  },
  {
   "cell_type": "code",
   "execution_count": 38,
   "metadata": {
    "ExecuteTime": {
     "end_time": "2021-11-09T23:27:14.336491Z",
     "start_time": "2021-11-09T23:27:13.582371Z"
    }
   },
   "outputs": [],
   "source": [
    "#Number of different schools that teachers work \n",
    "C_TEACHER['NU_ESCOLAS'] = C_TEACHER.groupby('CO_PROFESSOR')['CO_ESCOLA'].transform('count')\n",
    "C_TEACHER['NU_ESCOLAS'] = C_TEACHER.groupby('CO_ESCOLA')['NU_ESCOLAS'].transform('mean')\n",
    "#Number of licensed teachers\n",
    "C_TEACHER['NU_LICENCIADOS']=C_TEACHER.groupby('CO_ESCOLA')['ID_LICENCIATURA_1'].transform(sum)\n",
    "C_TEACHER['NU_TEACHERS']=C_TEACHER.groupby('CO_ESCOLA')['ID_LICENCIATURA_1'].transform('count')\n",
    "C_TEACHER['NU_LICENCIADOS']=C_TEACHER['NU_LICENCIADOS']/C_TEACHER['NU_TEACHERS']\n"
   ]
  },
  {
   "cell_type": "code",
   "execution_count": 39,
   "metadata": {
    "ExecuteTime": {
     "end_time": "2021-11-09T23:27:16.920462Z",
     "start_time": "2021-11-09T23:27:14.341805Z"
    }
   },
   "outputs": [],
   "source": [
    "# How about the adequate background rate of teachers\n",
    "FOR_HISTORIA = ['145F11', '225H01']\n",
    "FOR_GEOGRAFIA = ['145F10', '443G04']\n",
    "FOR_FISIO_SOCIO = ['226999','145F08', '312999', '145F24']\n",
    "FOR_ARTES = ['210A01', '146D01']\n",
    "#FOR_CIENCIAS_HUMANAS = [FOR_HISTORIA, FOR_GEOGRAFIA, FOR_FILOS_SOCIO]\n",
    "##\n",
    "FOR_LING_PORTUGUES = ['145F15','145F16', '220P01', '220L03', '220L01']\n",
    "FOR_LING_ESTRANGEIRA = ['145F16','220E01', '220L03', '145F13']\n",
    "FOR_EDUCACAO_FISICA = ['720E01']\n",
    "##\n",
    "FOR_MATEMATICA = ['461M01','145F18']\n",
    "##\n",
    "FOR_BIOLOGIA = ['145F01', '421B02']\n",
    "FOR_QUIMICA = ['442Q01','421B09', '524999', '145F21']\n",
    "FOR_FISICA = ['145F09', '421B01','441F01']\n",
    "#FOR_CIENCIAS_NATUREZA = [biologia, quimica, fisica]\n",
    "###\n",
    "C_TEACHER['FOR_MATEMATICA']=0\n",
    "C_TEACHER['FOR_FISICA']=0\n",
    "C_TEACHER['FOR_QUIMICA']=0\n",
    "C_TEACHER['FOR_HISTORIA']=0\n",
    "C_TEACHER['FOR_BIOLOGIA']=0\n",
    "C_TEACHER['FOR_GEOGRAFIA']=0\n",
    "C_TEACHER['FOR_LING_PORTUGUES']=0\n",
    "C_TEACHER['FOR_LING_ESTRANGEIRA']=0\n",
    "C_TEACHER['FOR_FISIO_SOCIO']=0\n",
    "C_TEACHER['FOR_ARTES']=0\n",
    "C_TEACHER['FOR_EDUCACAO_FISICA']=0\n",
    "\n",
    "### Set 1 for those who teaches and have adequate training for that\n",
    "C_TEACHER.loc[(C_TEACHER.ID_MATEMATICA==1) & ((C_TEACHER.CO_AREA_OCDE_1.isin(FOR_MATEMATICA))|\n",
    "              (C_TEACHER.CO_AREA_OCDE_2.isin(FOR_MATEMATICA))|\n",
    "             (C_TEACHER.CO_AREA_OCDE_3.isin(FOR_MATEMATICA))), 'FOR_MATEMATICA'] = 1\n",
    "\n",
    "C_TEACHER.loc[(C_TEACHER.ID_FISICA==1) & ((C_TEACHER.CO_AREA_OCDE_1.isin(FOR_FISICA))|\n",
    "              (C_TEACHER.CO_AREA_OCDE_2.isin(FOR_FISICA))|\n",
    "             (C_TEACHER.CO_AREA_OCDE_3.isin(FOR_FISICA))), 'FOR_FISICA'] = 1\n",
    "\n",
    "C_TEACHER.loc[(C_TEACHER.ID_QUIMICA==1) & ((C_TEACHER.CO_AREA_OCDE_1.isin(FOR_QUIMICA))|\n",
    "              (C_TEACHER.CO_AREA_OCDE_2.isin(FOR_QUIMICA))|\n",
    "             (C_TEACHER.CO_AREA_OCDE_3.isin(FOR_HISTORIA))), 'FOR_QUIMICA'] = 1\n",
    "\n",
    "C_TEACHER.loc[(C_TEACHER.ID_HISTORIA==1) & ((C_TEACHER.CO_AREA_OCDE_1.isin(FOR_HISTORIA))|\n",
    "              (C_TEACHER.CO_AREA_OCDE_2.isin(FOR_HISTORIA))|\n",
    "             (C_TEACHER.CO_AREA_OCDE_3.isin(FOR_HISTORIA))), 'FOR_HISTORIA'] = 1\n",
    "\n",
    "C_TEACHER.loc[(C_TEACHER.ID_BIOLOGIA==1) & ((C_TEACHER.CO_AREA_OCDE_1.isin(FOR_BIOLOGIA))|\n",
    "              (C_TEACHER.CO_AREA_OCDE_2.isin(FOR_BIOLOGIA))|\n",
    "             (C_TEACHER.CO_AREA_OCDE_3.isin(FOR_BIOLOGIA))), 'FOR_BIOLOGIA'] = 1\n",
    "\n",
    "C_TEACHER.loc[(C_TEACHER.ID_GEOGRAFIA==1) & ((C_TEACHER.CO_AREA_OCDE_1.isin(FOR_GEOGRAFIA))|\n",
    "              (C_TEACHER.CO_AREA_OCDE_2.isin(FOR_GEOGRAFIA))|\n",
    "             (C_TEACHER.CO_AREA_OCDE_3.isin(FOR_GEOGRAFIA))), 'FOR_GEOGRAFIA'] = 1\n",
    "\n",
    "C_TEACHER.loc[(C_TEACHER.ID_LINGUA_LITERAT_PORTUGUESA==1) & ((C_TEACHER.CO_AREA_OCDE_1.isin(FOR_LING_PORTUGUES))|\n",
    "              (C_TEACHER.CO_AREA_OCDE_2.isin(FOR_LING_PORTUGUES))|\n",
    "             (C_TEACHER.CO_AREA_OCDE_3.isin(FOR_LING_PORTUGUES))), 'FOR_LING_PORTUGUES'] = 1\n",
    "\n",
    "C_TEACHER.loc[(C_TEACHER.ID_LINGUA_ESTRANGEIRA==1) & ((C_TEACHER.CO_AREA_OCDE_1.isin(FOR_LING_ESTRANGEIRA))|\n",
    "              (C_TEACHER.CO_AREA_OCDE_2.isin(FOR_LING_ESTRANGEIRA))|\n",
    "             (C_TEACHER.CO_AREA_OCDE_3.isin(FOR_LING_ESTRANGEIRA))), 'FOR_LING_ESTRANGEIRA'] = 1   \n",
    "\n",
    "               \n",
    "C_TEACHER.loc[((C_TEACHER.ID_FILOSOFIA==1)|(C_TEACHER.ID_SOCIOLOGIA==1)) & ((C_TEACHER.CO_AREA_OCDE_1.isin(FOR_FISIO_SOCIO))|\n",
    "              (C_TEACHER.CO_AREA_OCDE_2.isin(FOR_FISIO_SOCIO))|\n",
    "             (C_TEACHER.CO_AREA_OCDE_3.isin(FOR_FISIO_SOCIO))), 'FOR_FISIO_SOCIO'] = 1   \n",
    "                                                   \n",
    "C_TEACHER.loc[(C_TEACHER.ID_ARTES==1) & ((C_TEACHER.CO_AREA_OCDE_1.isin(FOR_ARTES))|\n",
    "              (C_TEACHER.CO_AREA_OCDE_2.isin(FOR_ARTES))|\n",
    "             (C_TEACHER.CO_AREA_OCDE_3.isin(FOR_ARTES))), 'FOR_ARTES'] = 1  \n",
    "\n",
    "C_TEACHER.loc[(C_TEACHER.ID_EDUCACAO_FISICA==1) & ((C_TEACHER.CO_AREA_OCDE_1.isin(FOR_EDUCACAO_FISICA))|\n",
    "              (C_TEACHER.CO_AREA_OCDE_2.isin(FOR_EDUCACAO_FISICA))|\n",
    "             (C_TEACHER.CO_AREA_OCDE_3.isin(FOR_EDUCACAO_FISICA))), 'FOR_EDUCACAO_FISICA'] = 1  "
   ]
  },
  {
   "cell_type": "code",
   "execution_count": 40,
   "metadata": {
    "ExecuteTime": {
     "end_time": "2021-11-09T23:27:18.969369Z",
     "start_time": "2021-11-09T23:27:16.926792Z"
    }
   },
   "outputs": [],
   "source": [
    "#Computing sum of teachers with adequate training for each school\n",
    "adequate_training = ['FOR_MATEMATICA','FOR_FISICA','FOR_QUIMICA','FOR_HISTORIA','FOR_BIOLOGIA','FOR_GEOGRAFIA',\n",
    " 'FOR_LING_PORTUGUES','FOR_LING_ESTRANGEIRA','FOR_FISIO_SOCIO','FOR_ARTES', 'FOR_EDUCACAO_FISICA']\n",
    "\n",
    "for i in adequate_training:\n",
    "    C_TEACHER[i] = C_TEACHER.groupby('CO_ESCOLA')[i].transform(sum)\n",
    "    \n",
    "#Computing sum of current classes taught, whatever if they have training\n",
    "for i in curr_teaching: #defined earlier\n",
    "    C_TEACHER[i] =  C_TEACHER.groupby('CO_ESCOLA')[i].transform(sum) \n",
    "    \n",
    "#School Grain\n",
    "C_TEACHER.drop_duplicates('CO_ESCOLA', inplace = True)"
   ]
  },
  {
   "cell_type": "code",
   "execution_count": 41,
   "metadata": {
    "ExecuteTime": {
     "end_time": "2021-11-09T23:27:19.052914Z",
     "start_time": "2021-11-09T23:27:18.974680Z"
    }
   },
   "outputs": [],
   "source": [
    "# Computing the rate of adequate training ((number of current with adequate training + Number those w/o traininig*0.5)/total) for each area)\n",
    "\n",
    "C_TEACHER['IN_FOR_MAT'] = (C_TEACHER['FOR_MATEMATICA']+ (\n",
    "    (C_TEACHER['ID_MATEMATICA'] - C_TEACHER['FOR_MATEMATICA'])*0.5))/C_TEACHER['ID_MATEMATICA']\n",
    "\n",
    "C_TEACHER['IN_FOR_FIS'] = (C_TEACHER['FOR_FISICA']+ (\n",
    "    (C_TEACHER['ID_FISICA'] - C_TEACHER['FOR_FISICA'])*0.5))/C_TEACHER['ID_FISICA']\n",
    "\n",
    "C_TEACHER['IN_FOR_QUI'] = (C_TEACHER['FOR_QUIMICA']+ (\n",
    "    (C_TEACHER['ID_QUIMICA'] - C_TEACHER['FOR_QUIMICA'])*0.5))/C_TEACHER['ID_QUIMICA']\n",
    "\n",
    "C_TEACHER['IN_FOR_HIST'] = (C_TEACHER['FOR_HISTORIA']+ (\n",
    "    (C_TEACHER['ID_HISTORIA'] - C_TEACHER['FOR_HISTORIA'])*0.5))/C_TEACHER['ID_HISTORIA']\n",
    "\n",
    "C_TEACHER['IN_FOR_BIO'] = (C_TEACHER['FOR_BIOLOGIA']+ (\n",
    "    (C_TEACHER['ID_BIOLOGIA'] - C_TEACHER['FOR_BIOLOGIA'])*0.5))/C_TEACHER['ID_BIOLOGIA']\n",
    "\n",
    "C_TEACHER['IN_FOR_GEO'] = (C_TEACHER['FOR_GEOGRAFIA']+ (\n",
    "    (C_TEACHER['ID_GEOGRAFIA'] - C_TEACHER['FOR_GEOGRAFIA'])*0.5))/C_TEACHER['ID_GEOGRAFIA']\n",
    "\n",
    "C_TEACHER['IN_FOR_PORT'] = (C_TEACHER['FOR_LING_PORTUGUES']+ (\n",
    "    (C_TEACHER['ID_LINGUA_LITERAT_PORTUGUESA'] - C_TEACHER['FOR_LING_PORTUGUES'])*0.5))/C_TEACHER['ID_LINGUA_LITERAT_PORTUGUESA']\n",
    "\n",
    "C_TEACHER['IN_FOR_EST'] = (C_TEACHER['FOR_LING_ESTRANGEIRA']+ (\n",
    "    (C_TEACHER['ID_LINGUA_ESTRANGEIRA'] - C_TEACHER['FOR_LING_ESTRANGEIRA'])*0.5))/C_TEACHER['ID_LINGUA_ESTRANGEIRA']\n",
    "\n",
    "C_TEACHER['IN_FOR_FISIO_SOCIO'] = (C_TEACHER['FOR_FISIO_SOCIO']+ (\n",
    "    (C_TEACHER['ID_FISIO_SOCIO'] - C_TEACHER['FOR_FISIO_SOCIO'])*0.5))/C_TEACHER['ID_FISIO_SOCIO']\n",
    "\n",
    "C_TEACHER['IN_FOR_ARTES'] = (C_TEACHER['FOR_ARTES']+ (\n",
    "    (C_TEACHER['ID_ARTES'] - C_TEACHER['FOR_ARTES'])*0.5))/C_TEACHER['ID_ARTES']\n",
    "\n",
    "C_TEACHER['IN_FOR_ED_FISICA'] = (C_TEACHER['FOR_EDUCACAO_FISICA']+ (\n",
    "    (C_TEACHER['ID_EDUCACAO_FISICA'] - C_TEACHER['FOR_EDUCACAO_FISICA'])*0.5))/C_TEACHER['ID_EDUCACAO_FISICA']"
   ]
  },
  {
   "cell_type": "code",
   "execution_count": 42,
   "metadata": {
    "ExecuteTime": {
     "end_time": "2021-11-09T23:27:19.096346Z",
     "start_time": "2021-11-09T23:27:19.058909Z"
    }
   },
   "outputs": [],
   "source": [
    "#Computing a new index for each school = Teacher Adequate Training\n",
    "COLUMNS = C_TEACHER.filter(regex=(\"^IN_FOR_*\")).columns\n",
    "C_TEACHER.fillna({x:0 for x in COLUMNS}, inplace=True)\n",
    "C_TEACHER['IN_FORM_DOCENTE']=C_TEACHER.filter(regex=(\"^IN_FOR_*\")).sum(axis=1)/11\n",
    "\n",
    "#Drop indices from each subject\n",
    "#C_TEACHER.drop(COLUMNS, axis=1, inplace = True)"
   ]
  },
  {
   "cell_type": "code",
   "execution_count": 43,
   "metadata": {
    "ExecuteTime": {
     "end_time": "2021-11-09T23:27:19.148959Z",
     "start_time": "2021-11-09T23:27:19.102939Z"
    }
   },
   "outputs": [
    {
     "data": {
      "text/plain": [
       "Index(['CO_PROFESSOR', 'CO_ESCOLA', 'CO_TURMA', 'IN_ESPECIALIZACAO',\n",
       "       'IN_MESTRADO', 'IN_DOUTORADO', 'CO_AREA_OCDE_1', 'CO_AREA_OCDE_2',\n",
       "       'CO_AREA_OCDE_3', 'TITULACAO', 'NU_GRADUACAO', 'NU_ESPECIALIZACAO',\n",
       "       'NU_MESTRADO', 'NU_DOUTORADO', 'OUTROS', 'NU_CIENCIA_NATUREZA',\n",
       "       'NU_CIENCIAS_HUMANAS', 'NU_LINGUAGENS_CODIGOS', 'NU_MATEMATICA',\n",
       "       'NU_TEACHERS_DOMAIN', 'NU_ESCOLAS', 'NU_LICENCIADOS', 'NU_TEACHERS',\n",
       "       'FOR_MATEMATICA', 'FOR_FISICA', 'FOR_QUIMICA', 'FOR_HISTORIA',\n",
       "       'FOR_BIOLOGIA', 'FOR_GEOGRAFIA', 'FOR_LING_PORTUGUES',\n",
       "       'FOR_LING_ESTRANGEIRA', 'FOR_FISIO_SOCIO', 'FOR_ARTES',\n",
       "       'FOR_EDUCACAO_FISICA', 'IN_FOR_MAT', 'IN_FOR_FIS', 'IN_FOR_QUI',\n",
       "       'IN_FOR_HIST', 'IN_FOR_BIO', 'IN_FOR_GEO', 'IN_FOR_PORT', 'IN_FOR_EST',\n",
       "       'IN_FOR_FISIO_SOCIO', 'IN_FOR_ARTES', 'IN_FOR_ED_FISICA',\n",
       "       'IN_FORM_DOCENTE'],\n",
       "      dtype='object')"
      ]
     },
     "execution_count": 43,
     "metadata": {},
     "output_type": "execute_result"
    }
   ],
   "source": [
    "#drop all subjects and others that are no longer needed\n",
    "C_TEACHER.drop(C_TEACHER.filter(regex=('^ID_*')).columns, axis=1, inplace = True)\n",
    "others = ['CO_PROFESSOR','CO_TURMA', 'CO_AREA_OCDE_1','CO_AREA_OCDE_2', 'CO_AREA_OCDE_3','OUTROS',\n",
    "          'IN_ESPECIALIZACAO', 'IN_MESTRADO', 'IN_DOUTORADO']\n",
    "#C_TEACHER.drop(others, axis=1, inplace = True)\n",
    "C_TEACHER.columns"
   ]
  },
  {
   "cell_type": "code",
   "execution_count": 44,
   "metadata": {
    "ExecuteTime": {
     "end_time": "2021-11-09T23:27:19.167494Z",
     "start_time": "2021-11-09T23:27:19.154457Z"
    }
   },
   "outputs": [
    {
     "data": {
      "text/plain": [
       "(21692, 46)"
      ]
     },
     "execution_count": 44,
     "metadata": {},
     "output_type": "execute_result"
    }
   ],
   "source": [
    "C_TEACHER.shape"
   ]
  },
  {
   "cell_type": "code",
   "execution_count": 45,
   "metadata": {
    "ExecuteTime": {
     "end_time": "2021-11-09T23:27:19.227798Z",
     "start_time": "2021-11-09T23:27:19.174545Z"
    }
   },
   "outputs": [],
   "source": [
    "#JUSTS NUMBER OF ENROLLMENTS OF SCHOOLS\n",
    "C_CLASS = C_CLASS[['CO_ESCOLA', 'QT_MATRICULAS']]\n",
    "C_CLASS['QT_MATRICULAS'] = C_CLASS.groupby('CO_ESCOLA').transform('mean')\n",
    "C_CLASS.drop_duplicates('CO_ESCOLA', inplace = True)"
   ]
  },
  {
   "cell_type": "markdown",
   "metadata": {
    "ExecuteTime": {
     "end_time": "2020-04-24T01:57:54.620465Z",
     "start_time": "2020-04-24T01:57:54.535290Z"
    }
   },
   "source": [
    "## STUDENT GRAIN "
   ]
  },
  {
   "cell_type": "code",
   "execution_count": 46,
   "metadata": {
    "ExecuteTime": {
     "end_time": "2021-11-09T23:27:19.348514Z",
     "start_time": "2021-11-09T23:27:19.232900Z"
    }
   },
   "outputs": [
    {
     "name": "stdout",
     "output_type": "stream",
     "text": [
      "School (21700, 32)\n",
      "Class + School: 21700\n",
      "School + Class + Teacher(taked off subject teachers out of context) (21692, 78)\n"
     ]
    }
   ],
   "source": [
    "# Merging Class and School\n",
    "print('School',C_SCHOOL.shape)\n",
    "CENSO = pd.merge(C_SCHOOL, C_CLASS, on = 'CO_ESCOLA', how = 'inner')\n",
    "print('Class + School:', CENSO.shape[0])\n",
    "# Next, merging with Teacher\n",
    "CENSO = pd.merge(CENSO, C_TEACHER, on = 'CO_ESCOLA', how = 'inner')\n",
    "print('School + Class + Teacher(taked off subject teachers out of context)',CENSO.shape)\n"
   ]
  },
  {
   "cell_type": "code",
   "execution_count": 47,
   "metadata": {
    "ExecuteTime": {
     "end_time": "2021-11-09T23:30:06.933173Z",
     "start_time": "2021-11-09T23:27:19.354292Z"
    }
   },
   "outputs": [
    {
     "name": "stdout",
     "output_type": "stream",
     "text": [
      "ENEM (1088761, 16)\n",
      "FINAL (taked off schools with subject teachers out of context)) (1078598, 93)\n"
     ]
    }
   ],
   "source": [
    "#Now, all to Student Grain\n",
    "print('ENEM',ENEM.shape)\n",
    "ENEM_CENSO = pd.merge(ENEM, CENSO, on = 'CO_ESCOLA', how = 'inner')\n",
    "print('FINAL (taked off schools with subject teachers out of context))',ENEM_CENSO.shape)\n",
    "\n",
    "ENEM_CENSO.to_csv('STUDENT.csv')"
   ]
  },
  {
   "cell_type": "code",
   "execution_count": null,
   "metadata": {},
   "outputs": [],
   "source": []
  }
 ],
 "metadata": {
  "kernelspec": {
   "display_name": "Python 3",
   "language": "python",
   "name": "python3"
  },
  "language_info": {
   "codemirror_mode": {
    "name": "ipython",
    "version": 3
   },
   "file_extension": ".py",
   "mimetype": "text/x-python",
   "name": "python",
   "nbconvert_exporter": "python",
   "pygments_lexer": "ipython3",
   "version": "3.7.6"
  }
 },
 "nbformat": 4,
 "nbformat_minor": 4
}
