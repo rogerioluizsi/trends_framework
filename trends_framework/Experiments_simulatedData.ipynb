{
 "cells": [
  {
   "cell_type": "code",
   "execution_count": 1,
   "id": "coordinated-weekend",
   "metadata": {
    "ExecuteTime": {
     "end_time": "2023-02-12T01:04:47.123437Z",
     "start_time": "2023-02-12T01:04:45.278554Z"
    }
   },
   "outputs": [],
   "source": [
    "import seaborn as sns\n",
    "import matplotlib.pyplot as plt\n",
    "import pandas as pd\n",
    "from alibi.explainers import ALE, plot_ale\n",
    "import matplotlib.pyplot as plt\n",
    "import shap\n",
    "#df1 =pd.read_csv(\"~/data/Feature_importance_comparison.csv\")\n",
    "#df2 = pd.read_csv(\"~/data/Feature_importance_comparison2.csv\")\n"
   ]
  },
  {
   "cell_type": "code",
   "execution_count": null,
   "id": "suburban-throw",
   "metadata": {},
   "outputs": [],
   "source": [
    "def gen_data1():\n",
    "  n = 1000\n",
    "\n",
    "  # Mean of the variables\n",
    "  mean = [0, 0, 0, 0]\n",
    "\n",
    "  c01 = c10 =0.9\n",
    "  c12 = c21 = 0.7\n",
    "  c13= c31 = 0.5\n",
    "  c23= c32 = 0.5\n",
    "  c03 = c30 = 0.5\n",
    "  c02 = c20 = 0.5\n",
    "  # Variance-covariance matrix of the variables\n",
    "  cov = [[1, c10, c20, c30],\n",
    "        [c01, 1, c21, c31],\n",
    "        [c02,c12, 1, c32],\n",
    "        [c03, c13, c23, 1]]\n",
    "\n",
    "  # Generate correlated synthetic data\n",
    "  data = np.random.multivariate_normal(mean, cov, size=n)\n",
    "  var_0, var_1, var_2, var_3 = data.T\n",
    "\n",
    "  X = pd.DataFrame({'var_0': var_0, 'var_1': var_1, 'var_2': var_2, 'var_3': var_3})\n",
    "  #y = X[\"var_0\"] + np.random.normal(scale=0.1, size=(1000,))\n",
    "  y = (X[\"var_0\"] + np.random.normal(scale=0.1, size=(1000,))>0).astype(int)\n",
    "  return (X, y)"
   ]
  },
  {
   "cell_type": "code",
   "execution_count": null,
   "id": "standard-bridal",
   "metadata": {},
   "outputs": [],
   "source": [
    "def gen_data2():\n",
    "  np.random.seed(int(time.time()))\n",
    "  X = np.random.normal(size=(10000, 5))\n",
    "  X[:, 0] = X[:, 1] + np.random.normal(scale=0.1, size=(10000,))\n",
    "  X[:, 2] = X[:, 1] + np.random.normal(scale=0.1, size=(10000,))\n",
    "  X[:, 3] =   X[:, 0] + np.random.normal(scale=0.5, size=(10000,))\n",
    "  y = ( X[:, 0] > 0).astype(int)\n",
    "  X = pd.DataFrame(X)\n",
    "  return (X,y)"
   ]
  },
  {
   "cell_type": "code",
   "execution_count": null,
   "id": "legitimate-silver",
   "metadata": {},
   "outputs": [],
   "source": [
    "def get_shap(model, X):\n",
    "  explainerShap = shap.Explainer(model.predict, X)\n",
    "  shap_values = explainerShap(X)\n",
    "  vector = []\n",
    "  for i in range(X.shape[1]):\n",
    "    value = abs(shap_values.values[:, i]).mean()\n",
    "    vector.append(value)\n",
    "  #print(shap.summary_plot(shap_values, X, plot_type=\"bar\"))\n",
    "  return vector\n",
    "\n",
    "def get_shapTreeRegressor(model, X):\n",
    "  explainerTree = shap.TreeExplainer(model).shap_values(X)\n",
    "  vector = []\n",
    "  for i in range(X.shape[1]):\n",
    "    value = abs(explainerTree[:, i]).mean()\n",
    "    vector.append(value)\n",
    "  #print(shap.summary_plot(explainerTree, X, plot_type=\"bar\"))\n",
    "  return vector\n",
    "\n",
    "def get_shapTree(model, X):\n",
    "  explainerTree = shap.TreeExplainer(model).shap_values(X)\n",
    "  )\n",
    "  vector = np.mean(np.abs(explainerTree[0]), axis=0)\n",
    "  print(shap.summary_plot(explainerTree, X, plot_type=\"bar\"))\n",
    "  return  vector\n",
    "\n",
    "def get_FeatImport(model, X):\n",
    "  vector = model.feature_importances_\n",
    "  #print(plt.bar(range(X.shape[1]),model.feature_importances_))\n",
    "  return vector\n",
    "\n",
    "def get_ALE_max(model, X, names):\n",
    "  proba_fun = model.predict_proba\n",
    "  proba_ale = ALE(proba_fun, feature_names=names, target_names=[\"y\"])\n",
    "  proba_exp = proba_ale.explain(X.values)\n",
    "  vector = []\n",
    "  for i in range(X.shape[1]):\n",
    "    value = abs(proba_exp.ale_values[i][:,0]).max()\n",
    "    vector.append(value)\n",
    "  #print(plot_ale(proba_exp))\n",
    "  return vector"
   ]
  },
  {
   "cell_type": "code",
   "execution_count": null,
   "id": "analyzed-keeping",
   "metadata": {},
   "outputs": [],
   "source": [
    "# Number of iterations\n",
    "n_iter = 20\n",
    "\n",
    "# Create an empty list to store the feature importances of each iteration\n",
    "feature_imp_list = []\n",
    "models=[RandomForestClassifier(n_estimators=100, random_state=0)]\n",
    "#feature_imp_list = []\n",
    "# Create an empty dataframe to store the results\n",
    "feature_imp_df = pd.DataFrame(columns=[\"Iteration\", \"Algorithm\", \"Metric\", \"A\", \"B\", \"C\", \"D\"])\n",
    "\n",
    "# Loop through each model and iteration\n",
    "for model in models:\n",
    "  for i in range(n_iter):\n",
    "      name_classifier = type(model).__name__\n",
    "      # Generate a sample dataframe\n",
    "      X,y = gen_data2()\n",
    "      names = X.columns.tolist()\n",
    "      #model = model\n",
    "      model =model.fit(X, y)\n",
    "      \n",
    "      # Compute feature importance for each variable using algorithm 1\n",
    "      feature_imp_1 = get_shapTree(model, X)\n",
    "      \n",
    "      # Compute feature importance for each variable using algorithm 2\n",
    "      feature_imp_2 = get_ALE_max(model, X, names)\n",
    "      \n",
    "      # Compute feature importance for each variable using algorithm 3\n",
    "      feature_imp_3 = get_FeatImport(model, X)\n",
    "      \n",
    "      # Store the results for algorithm 1 in a dataframe\n",
    "      temp_df1 = pd.DataFrame({\"Iteration\": [i], \"Algorithm\": [name_classifier], \"Metric\": [\"TreeShap\"], \n",
    "                              \"A\": [feature_imp_1[0]], \"B\": [feature_imp_1[1]], \n",
    "                              \"C\": [feature_imp_1[2]], \"D\": [feature_imp_1[3]], \n",
    "                               \"RelVar1\": [(((sum(feature_imp_1) - feature_imp_1[0])/feature_imp_1[0])-1)*-1]})\n",
    "      feature_imp_df = pd.concat([feature_imp_df, temp_df1])\n",
    "      \n",
    "      # Store the results for algorithm 2 in a dataframe\n",
    "      temp_df2 = pd.DataFrame({\"Iteration\": [i], \"Algorithm\": [name_classifier], \"Metric\": [\"ALE-based\"], \n",
    "                              \"A\": [feature_imp_2[0]], \"B\": [feature_imp_2[1]], \n",
    "                              \"C\": [feature_imp_2[2]], \"D\": [feature_imp_2[3]],\n",
    "                               \"RelVar1\": [(((sum(feature_imp_2) - feature_imp_2[0])/feature_imp_2[0])-1)*-1]})\n",
    "      feature_imp_df = pd.concat([feature_imp_df, temp_df2])\n",
    "      \n",
    "      # Store the results for algorithm 3 in a dataframe\n",
    "      temp_df3 = pd.DataFrame({\"Iteration\": [i], \"Algorithm\": [name_classifier], \"Metric\": [\"Feat_Imp.\"], \n",
    "                              \"A\": [feature_imp_3[0]], \"B\": [feature_imp_3[1]], \n",
    "                              \"C\": [feature_imp_3[2]], \"D\": [feature_imp_3[3]],\n",
    "                               \"RelVar1\": [(((sum(feature_imp_3) - feature_imp_3[0])/feature_imp_3[0])-1)*-1]})\n",
    "      feature_imp_df = pd.concat([feature_imp_df, temp_df3])"
   ]
  },
  {
   "cell_type": "code",
   "execution_count": 11,
   "id": "included-intranet",
   "metadata": {
    "ExecuteTime": {
     "end_time": "2023-02-12T01:11:47.739619Z",
     "start_time": "2023-02-12T01:11:46.187045Z"
    }
   },
   "outputs": [
    {
     "data": {
      "image/png": "[encoded data removed]",
      "text/plain": [
       "<Figure size 720x288 with 1 Axes>"
      ]
     },
     "metadata": {
      "needs_background": "light"
     },
     "output_type": "display_data"
    }
   ],
   "source": [
    "fig = plt.figure(figsize=(10, 4))\n",
    "df1.Iteration = df1.Iteration.astype(str)\n",
    "sns.lineplot(x=\"Iteration\", y=\"RelVar1\", hue=\"Metric\", data=df1.reset_index(drop=True))\n",
    "plt.xlabel(\"Iteractions\", fontsize=14)\n",
    "plt.ylabel(\"PropTrueVar\", fontsize=14)\n",
    "\n",
    "#plt.xticks(np.arange(1, 20, 1))\n",
    "# Improve image quality\n",
    "#plt.legend()\n",
    "plt.legend(loc=\"center right\", bbox_to_anchor=(1.11, 0.5), labels=['SV', 'AUA', 'PFI'])\n",
    "plt.tight_layout()\n",
    "plt.savefig('Prop_true_var.png', dpi=400)  \n",
    "plt.show()\n",
    "#plt.savefig(\"/content/drive/My Drive/PropTrueVar.png\", dpi=400)"
   ]
  },
  {
   "cell_type": "code",
   "execution_count": 13,
   "id": "marine-breath",
   "metadata": {
    "ExecuteTime": {
     "end_time": "2023-02-12T01:15:42.277050Z",
     "start_time": "2023-02-12T01:15:40.855267Z"
    }
   },
   "outputs": [
    {
     "data": {
      "image/png": "[encoded data removed]",
      "text/plain": [
       "<Figure size 720x288 with 1 Axes>"
      ]
     },
     "metadata": {
      "needs_background": "light"
     },
     "output_type": "display_data"
    }
   ],
   "source": [
    "fig = plt.figure(figsize=(10, 4))\n",
    "df2.Correlation = df2.Correlation.astype(str)\n",
    "sns.lineplot(x=\"Correlation\", y=\"RelVar1\", hue=\"Metric\", data=df2.reset_index(drop=True))\n",
    "plt.xlabel(\"Pearson correlation (x1,x2)\", fontsize=14)\n",
    "plt.ylabel(\"PropTrueVar\", fontsize=14)\n",
    "plt.legend(loc=\"center right\", bbox_to_anchor=(1.11, 0.5), labels=['SV', 'AUA', 'PFI'])\n",
    "#plt.xticks(np.arange(1, 20, 1))\n",
    "# Improve image quality\n",
    "plt.tight_layout()\n",
    "\n",
    "plt.savefig(\"PropTrueVarDiffCorr.png\", dpi=400)\n",
    "plt.show()"
   ]
  },
  {
   "cell_type": "code",
   "execution_count": null,
   "id": "administrative-instrument",
   "metadata": {},
   "outputs": [],
   "source": [
    "from sklearn.ensemble import RandomForestRegressor, GradientBoostingRegressor\n",
    "import xgboost as xgb\n",
    "\n",
    "\n",
    "X = [[1, 1]]*4500 + [[0, 0]]*4500 + [[1, 0]]*500 + [[0, 1]]*500\n",
    "X = pd.DataFrame(X, columns = [\"f0\", \"f1\"])\n",
    "y = X.sum(axis = 1)\n",
    "\n",
    "#xgb_model = xgb.XGBRegressor(objective=\"reg:squarederror\" ,random_state=42,max_depth=2)\n",
    "#xgb_model = GradientBoostingRegressor(random_state=42,max_depth=3)\n",
    "xgb_model = RandomForestRegressor(random_state=42,max_depth=3)\n",
    "xgb_model.fit(X, y)\n",
    "y_pred = xgb_model.predict(X)\n",
    "\n",
    "\n",
    "explainer = shap.TreeExplainer(xgb_model, X,  feature_perturbation=\"tree_path_dependent\")\n",
    "shap_values = explainer.shap_values(X)\n",
    "\n",
    "shap.summary_plot(shap_values, X, plot_type=\"bar\")\n",
    "\n",
    "\n",
    "#Plot\n",
    "proba_fun_rf = xgb_model.predict\n",
    "proba_ale_rf = ALE(proba_fun_rf, feature_names=[\"f1\",\"f2\"], target_names=[\"y\"])\n",
    "proba_exp_rf = proba_ale_rf.explain(X.values)\n",
    "plot_ale(proba_exp_rf)\n",
    "\n",
    "#xgb.plot_importance(xgb_model)\n",
    "\n",
    "\n",
    "print(\"ratio for SHAP:\", shap_values[0][0]/ shap_values[0][1])\n",
    "importance_dict = xgb_model.get_booster().get_fscore()\n",
    "importance_vector = [importance_dict.get(f, 0) for f in xgb_model.get_booster().feature_names]\n",
    "print(\"ration feature importance\",importance_vector[0]/importance_vector[1])\n",
    "print(\"ratio ALE value:\", proba_exp_rf.ale_values[0][1]/proba_exp_rf.ale_values[1][1])\n",
    "#print(\"ratio feature importance\", xgb_model.feature_importances_[0] /xgb_model.feature_importances_[1])"
   ]
  }
 ],
 "metadata": {
  "kernelspec": {
   "display_name": "local_effects",
   "language": "python",
   "name": "local_effects"
  },
  "language_info": {
   "codemirror_mode": {
    "name": "ipython",
    "version": 3
   },
   "file_extension": ".py",
   "mimetype": "text/x-python",
   "name": "python",
   "nbconvert_exporter": "python",
   "pygments_lexer": "ipython3",
   "version": "3.7.10"
  }
 },
 "nbformat": 4,
 "nbformat_minor": 5
}
